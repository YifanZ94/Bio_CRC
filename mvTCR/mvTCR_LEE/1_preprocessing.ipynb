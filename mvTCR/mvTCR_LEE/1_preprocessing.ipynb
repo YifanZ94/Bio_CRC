{
 "cells": [
  {
   "cell_type": "code",
   "execution_count": 1,
   "metadata": {},
   "outputs": [],
   "source": [
    "%matplotlib inline\n",
    "\n",
    "import warnings\n",
    "warnings.simplefilter(action='ignore', category=FutureWarning)\n",
    "\n",
    "import os \n",
    "import numpy as np\n",
    "import scipy as sci\n",
    "import pandas as pd\n",
    "import seaborn as sb\n",
    "import matplotlib.pyplot as pl\n",
    "\n",
    "import scanpy as sc\n",
    "import scirpy as ir\n",
    "import anndata as ann\n",
    "\n",
    "from scipy.sparse import csr_matrix\n",
    "from matplotlib import rcParams\n",
    "from matplotlib import colors\n",
    "\n",
    "sc.settings.verbosity = 3\n"
   ]
  },
  {
   "cell_type": "code",
   "execution_count": 2,
   "metadata": {},
   "outputs": [],
   "source": [
    "sc.settings.set_figure_params(dpi=70)\n",
    "sc.settings.verbosity = 3\n",
    "sc.settings.n_jobs = 3\n",
    "sc.set_figure_params(vector_friendly=True,color_map='viridis',dpi_save=600,transparent=True)"
   ]
  },
  {
   "cell_type": "markdown",
   "metadata": {},
   "source": [
    "Paths to preprocessed data at different stages."
   ]
  },
  {
   "cell_type": "code",
   "execution_count": 3,
   "metadata": {},
   "outputs": [],
   "source": [
    "path_base = '/ix1/ylee/Yifan_Zhang/CellRanger_tests'\n",
    "path_merged = path_base + 'merged_tcr_10x.h5ad'\n",
    "path_filtered = path_base + 'filtered_tcr_10x.h5ad'\n",
    "path_logged = path_base + 'logged_10x.h5ad'\n",
    "path_highlyvar = path_base + 'highly_var_5000.h5ad'\n",
    "path_clean_split = path_base + 'v5_train_val_test.h5ad'\n",
    "path_supervised = path_base + 'v6_supervised.h5ad'\n",
    "path_avidity = path_base + 'v7_avidity.h5ad'"
   ]
  },
  {
   "cell_type": "markdown",
   "metadata": {},
   "source": [
    "## Merge Files"
   ]
  },
  {
   "cell_type": "markdown",
   "metadata": {},
   "source": [
    "The 10x VDJ dataset consists of CD8+ T cells from for donor. First, transcriptome data is merged with tcr information. In a second step, the data is fused over all donors. In the third step, the measured binding affinity is merged."
   ]
  },
  {
   "cell_type": "code",
   "execution_count": 14,
   "metadata": {
    "scrolled": true
   },
   "outputs": [],
   "source": [
    "import muon as mu\n",
    "mdata = mu.read(\"/ihome/ylee/yiz133/Code/Data processing/all_Common_DEtop2500.h5mu\")\n",
    "\n",
    "adata = mdata['gex']"
   ]
  },
  {
   "cell_type": "code",
   "execution_count": 15,
   "metadata": {
    "tags": []
   },
   "outputs": [
    {
     "data": {
      "text/plain": [
       "AnnData object with n_obs × n_vars = 77502 × 2500\n",
       "    obs: 'mouse_id', 'date', 'tissue', 'sample', 'mouse_BC', 'n_genes_by_counts', 'log1p_n_genes_by_counts', 'total_counts', 'log1p_total_counts', 'pct_counts_in_top_50_genes', 'pct_counts_in_top_100_genes', 'pct_counts_in_top_200_genes', 'pct_counts_in_top_500_genes', 'total_counts_mt', 'log1p_total_counts_mt', 'pct_counts_mt', 'total_counts_ribo', 'log1p_total_counts_ribo', 'pct_counts_ribo', 'total_counts_hb', 'log1p_total_counts_hb', 'pct_counts_hb', 'n_genes', 'n_counts', 'leiden', 'modified_cell_type', 'IFN_stim', 'Activation', 'Exhaust', 'Mem', 'state', 'is_2D2'\n",
       "    var: 'mt', 'ribo', 'hb', 'n_cells_by_counts', 'mean_counts', 'log1p_mean_counts', 'pct_dropout_by_counts', 'total_counts', 'log1p_total_counts', 'n_cells', 'highly_variable', 'means', 'dispersions', 'dispersions_norm', 'highly_variable_nbatches', 'highly_variable_intersection'\n",
       "    uns: 'hvg', 'is_2D2_colors', 'leiden', 'leiden_colors', 'log1p', 'modified_cell_type_colors', 'mouse_id_colors', 'neighbors', 'pca', 'state_colors', 'tissue_colors', 'umap'\n",
       "    obsm: 'X_pca', 'X_umap'\n",
       "    varm: 'PCs'\n",
       "    obsp: 'connectivities', 'distances'"
      ]
     },
     "execution_count": 15,
     "metadata": {},
     "output_type": "execute_result"
    }
   ],
   "source": [
    "adata"
   ]
  },
  {
   "cell_type": "code",
   "execution_count": 16,
   "metadata": {},
   "outputs": [
    {
     "ename": "KeyError",
     "evalue": "'has_ir'",
     "output_type": "error",
     "traceback": [
      "\u001b[0;31m---------------------------------------------------------------------------\u001b[0m",
      "\u001b[0;31mKeyError\u001b[0m                                  Traceback (most recent call last)",
      "File \u001b[0;32m~/.local/lib/python3.11/site-packages/pandas/core/indexes/base.py:3812\u001b[0m, in \u001b[0;36mIndex.get_loc\u001b[0;34m(self, key)\u001b[0m\n\u001b[1;32m   3811\u001b[0m \u001b[38;5;28;01mtry\u001b[39;00m:\n\u001b[0;32m-> 3812\u001b[0m     \u001b[38;5;28;01mreturn\u001b[39;00m \u001b[38;5;28mself\u001b[39m\u001b[38;5;241m.\u001b[39m_engine\u001b[38;5;241m.\u001b[39mget_loc(casted_key)\n\u001b[1;32m   3813\u001b[0m \u001b[38;5;28;01mexcept\u001b[39;00m \u001b[38;5;167;01mKeyError\u001b[39;00m \u001b[38;5;28;01mas\u001b[39;00m err:\n",
      "File \u001b[0;32m/software/rhel9/manual/install/python/ondemand-jupyter-python3.11-2023.09/lib/python3.11/site-packages/pandas/_libs/index.pyx:167\u001b[0m, in \u001b[0;36mpandas._libs.index.IndexEngine.get_loc\u001b[0;34m()\u001b[0m\n",
      "File \u001b[0;32m/software/rhel9/manual/install/python/ondemand-jupyter-python3.11-2023.09/lib/python3.11/site-packages/pandas/_libs/index.pyx:196\u001b[0m, in \u001b[0;36mpandas._libs.index.IndexEngine.get_loc\u001b[0;34m()\u001b[0m\n",
      "File \u001b[0;32mpandas/_libs/hashtable_class_helper.pxi:7088\u001b[0m, in \u001b[0;36mpandas._libs.hashtable.PyObjectHashTable.get_item\u001b[0;34m()\u001b[0m\n",
      "File \u001b[0;32mpandas/_libs/hashtable_class_helper.pxi:7096\u001b[0m, in \u001b[0;36mpandas._libs.hashtable.PyObjectHashTable.get_item\u001b[0;34m()\u001b[0m\n",
      "\u001b[0;31mKeyError\u001b[0m: 'has_ir'",
      "\nThe above exception was the direct cause of the following exception:\n",
      "\u001b[0;31mKeyError\u001b[0m                                  Traceback (most recent call last)",
      "Cell \u001b[0;32mIn[16], line 1\u001b[0m\n\u001b[0;32m----> 1\u001b[0m count_irs \u001b[38;5;241m=\u001b[39m \u001b[38;5;28msum\u001b[39m([\u001b[38;5;241m1\u001b[39m \u001b[38;5;28;01mfor\u001b[39;00m x \u001b[38;5;129;01min\u001b[39;00m adata\u001b[38;5;241m.\u001b[39mobs[\u001b[38;5;124m'\u001b[39m\u001b[38;5;124mhas_ir\u001b[39m\u001b[38;5;124m'\u001b[39m] \u001b[38;5;28;01mif\u001b[39;00m x\u001b[38;5;241m==\u001b[39m\u001b[38;5;124m'\u001b[39m\u001b[38;5;124mTrue\u001b[39m\u001b[38;5;124m'\u001b[39m])\n\u001b[1;32m      2\u001b[0m \u001b[38;5;28mprint\u001b[39m(\u001b[38;5;124mf\u001b[39m\u001b[38;5;124m'\u001b[39m\u001b[38;5;124mTotal Count: \u001b[39m\u001b[38;5;132;01m{\u001b[39;00m\u001b[38;5;28mlen\u001b[39m(adata\u001b[38;5;241m.\u001b[39mobs)\u001b[38;5;132;01m}\u001b[39;00m\u001b[38;5;124m'\u001b[39m)\n\u001b[1;32m      3\u001b[0m \u001b[38;5;28mprint\u001b[39m(\u001b[38;5;124mf\u001b[39m\u001b[38;5;124m'\u001b[39m\u001b[38;5;124mWith IR-Info: \u001b[39m\u001b[38;5;132;01m{\u001b[39;00mcount_irs\u001b[38;5;132;01m}\u001b[39;00m\u001b[38;5;124m'\u001b[39m)\n",
      "File \u001b[0;32m~/.local/lib/python3.11/site-packages/pandas/core/frame.py:4107\u001b[0m, in \u001b[0;36mDataFrame.__getitem__\u001b[0;34m(self, key)\u001b[0m\n\u001b[1;32m   4105\u001b[0m \u001b[38;5;28;01mif\u001b[39;00m \u001b[38;5;28mself\u001b[39m\u001b[38;5;241m.\u001b[39mcolumns\u001b[38;5;241m.\u001b[39mnlevels \u001b[38;5;241m>\u001b[39m \u001b[38;5;241m1\u001b[39m:\n\u001b[1;32m   4106\u001b[0m     \u001b[38;5;28;01mreturn\u001b[39;00m \u001b[38;5;28mself\u001b[39m\u001b[38;5;241m.\u001b[39m_getitem_multilevel(key)\n\u001b[0;32m-> 4107\u001b[0m indexer \u001b[38;5;241m=\u001b[39m \u001b[38;5;28mself\u001b[39m\u001b[38;5;241m.\u001b[39mcolumns\u001b[38;5;241m.\u001b[39mget_loc(key)\n\u001b[1;32m   4108\u001b[0m \u001b[38;5;28;01mif\u001b[39;00m is_integer(indexer):\n\u001b[1;32m   4109\u001b[0m     indexer \u001b[38;5;241m=\u001b[39m [indexer]\n",
      "File \u001b[0;32m~/.local/lib/python3.11/site-packages/pandas/core/indexes/base.py:3819\u001b[0m, in \u001b[0;36mIndex.get_loc\u001b[0;34m(self, key)\u001b[0m\n\u001b[1;32m   3814\u001b[0m     \u001b[38;5;28;01mif\u001b[39;00m \u001b[38;5;28misinstance\u001b[39m(casted_key, \u001b[38;5;28mslice\u001b[39m) \u001b[38;5;129;01mor\u001b[39;00m (\n\u001b[1;32m   3815\u001b[0m         \u001b[38;5;28misinstance\u001b[39m(casted_key, abc\u001b[38;5;241m.\u001b[39mIterable)\n\u001b[1;32m   3816\u001b[0m         \u001b[38;5;129;01mand\u001b[39;00m \u001b[38;5;28many\u001b[39m(\u001b[38;5;28misinstance\u001b[39m(x, \u001b[38;5;28mslice\u001b[39m) \u001b[38;5;28;01mfor\u001b[39;00m x \u001b[38;5;129;01min\u001b[39;00m casted_key)\n\u001b[1;32m   3817\u001b[0m     ):\n\u001b[1;32m   3818\u001b[0m         \u001b[38;5;28;01mraise\u001b[39;00m InvalidIndexError(key)\n\u001b[0;32m-> 3819\u001b[0m     \u001b[38;5;28;01mraise\u001b[39;00m \u001b[38;5;167;01mKeyError\u001b[39;00m(key) \u001b[38;5;28;01mfrom\u001b[39;00m \u001b[38;5;21;01merr\u001b[39;00m\n\u001b[1;32m   3820\u001b[0m \u001b[38;5;28;01mexcept\u001b[39;00m \u001b[38;5;167;01mTypeError\u001b[39;00m:\n\u001b[1;32m   3821\u001b[0m     \u001b[38;5;66;03m# If we have a listlike key, _check_indexing_error will raise\u001b[39;00m\n\u001b[1;32m   3822\u001b[0m     \u001b[38;5;66;03m#  InvalidIndexError. Otherwise we fall through and re-raise\u001b[39;00m\n\u001b[1;32m   3823\u001b[0m     \u001b[38;5;66;03m#  the TypeError.\u001b[39;00m\n\u001b[1;32m   3824\u001b[0m     \u001b[38;5;28mself\u001b[39m\u001b[38;5;241m.\u001b[39m_check_indexing_error(key)\n",
      "\u001b[0;31mKeyError\u001b[0m: 'has_ir'"
     ]
    }
   ],
   "source": [
    "count_irs = sum([1 for x in adata.obs['has_ir'] if x=='True'])\n",
    "print(f'Total Count: {len(adata.obs)}')\n",
    "print(f'With IR-Info: {count_irs}')"
   ]
  },
  {
   "cell_type": "code",
   "execution_count": null,
   "metadata": {
    "scrolled": true
   },
   "outputs": [],
   "source": [
    "# 237883\n",
    "adata.obs['donor'].value_counts()"
   ]
  },
  {
   "cell_type": "markdown",
   "metadata": {},
   "source": [
    "# Qualitiy control"
   ]
  },
  {
   "cell_type": "markdown",
   "metadata": {},
   "source": [
    "Load data and calculate the amount of counts, genes and fraction of mitochondrial genes."
   ]
  },
  {
   "cell_type": "code",
   "execution_count": null,
   "metadata": {},
   "outputs": [],
   "source": [
    "adata = sc.read(path_merged)\n",
    "adata.obs['n_counts'] = adata.X.sum(1)\n",
    "adata.obs['log_counts'] = np.log10(adata.obs['n_counts'])\n",
    "\n",
    "adata.obs['n_genes'] = (adata.X > 0).sum(1)\n",
    "\n",
    "mt_gene_mask = [gene.startswith('MT-') for gene in adata.var_names]\n",
    "mt_gene_index = np.where(mt_gene_mask)[0]\n",
    "adata.obs['mt_fraction'] = adata.X[:, mt_gene_index].sum(1) / adata.X.sum(1)"
   ]
  },
  {
   "cell_type": "code",
   "execution_count": null,
   "metadata": {
    "scrolled": true
   },
   "outputs": [],
   "source": [
    "rcParams['figure.figsize'] = (15, 5)\n",
    "sc.pl.violin(adata, ['log_counts'], groupby='donor', size=1, log=False, rotation=90)\n",
    "sc.pl.violin(adata, ['n_genes'], groupby='donor', size=1, log=False, rotation=90)\n",
    "sc.pl.violin(adata, ['mt_fraction'], groupby='donor', size=1, log=False, rotation=90)"
   ]
  },
  {
   "cell_type": "code",
   "execution_count": null,
   "metadata": {},
   "outputs": [],
   "source": [
    "rcParams['figure.figsize'] = (8, 8)\n",
    "sc.pl.scatter(adata, y='n_genes', x='n_counts', color='mt_fraction', size=10, show=False)"
   ]
  },
  {
   "cell_type": "code",
   "execution_count": null,
   "metadata": {},
   "outputs": [],
   "source": [
    "sc.pl.scatter(adata[np.logical_and(adata.obs['n_genes']<2000, adata.obs['n_counts']<10000)],\n",
    "             y='n_genes', x='n_counts', color='mt_fraction', size=10, show=False)\n",
    "sc.pl.scatter(adata[np.logical_and(adata.obs['n_genes']<1000, adata.obs['n_counts']<10000)],\n",
    "             y='n_genes', x='n_counts', color='donor', size=10, show=False)"
   ]
  },
  {
   "cell_type": "markdown",
   "metadata": {},
   "source": [
    "## Cell Filtering"
   ]
  },
  {
   "cell_type": "markdown",
   "metadata": {},
   "source": [
    "Filter cells by the following indicators:\n",
    "- fraction of mitochondrial genes (max)\n",
    "- gene count (min, max)\n",
    "- gene count (max)\n",
    "\n",
    "Filter genes by:\n",
    "- amount of cells representing this gene (min)\n"
   ]
  },
  {
   "cell_type": "markdown",
   "metadata": {},
   "source": [
    "Mitochondrial filter: The fraction of mt genes to all genes is high for cell with membrane leakage."
   ]
  },
  {
   "cell_type": "code",
   "execution_count": null,
   "metadata": {},
   "outputs": [],
   "source": [
    "adata_tmp = adata.copy()\n",
    "print(f'Total number of cells: {adata_tmp.n_obs}')\n",
    "high_mt = adata_tmp.obs['mt_fraction'] < 0.2  #todo why this value\n",
    "adata_tmp = adata_tmp[high_mt]\n",
    "print(f'Number of cells after MT filter: {adata_tmp.n_obs}')"
   ]
  },
  {
   "cell_type": "markdown",
   "metadata": {},
   "source": [
    "Gene-Count Filter between 1000 and 10.000"
   ]
  },
  {
   "cell_type": "code",
   "execution_count": null,
   "metadata": {
    "scrolled": true
   },
   "outputs": [],
   "source": [
    "low_count = adata_tmp.obs['n_counts'] > 1000\n",
    "adata_tmp = adata_tmp[low_count]\n",
    "print(f'Number of cells after minimum count filter: {adata_tmp.n_obs}')\n",
    "\n",
    "sc.pp.filter_cells(adata_tmp, max_counts=10000)\n",
    "print(f'Number of cells after maximum filter: {adata_tmp.n_obs}')"
   ]
  },
  {
   "cell_type": "markdown",
   "metadata": {},
   "source": [
    "Gene-Count Filter: filter out cells with low gene count < 500"
   ]
  },
  {
   "cell_type": "code",
   "execution_count": null,
   "metadata": {},
   "outputs": [],
   "source": [
    "low_genes = adata_tmp.obs['n_genes'] > 500\n",
    "adata_tmp = adata_tmp[low_genes]\n",
    "print(f'Number of cells after minimum gene filter: {adata_tmp.n_obs}')"
   ]
  },
  {
   "cell_type": "markdown",
   "metadata": {},
   "source": [
    "Gene-Filter: filter out genes that are represented in less than 10 cells"
   ]
  },
  {
   "cell_type": "code",
   "execution_count": null,
   "metadata": {},
   "outputs": [],
   "source": [
    "sc.pp.filter_genes(adata_tmp, min_cells=10)\n",
    "print(f'Number of cells after gene filter: {adata_tmp.n_vars}')"
   ]
  },
  {
   "cell_type": "markdown",
   "metadata": {},
   "source": [
    "## Doublet detection"
   ]
  },
  {
   "cell_type": "markdown",
   "metadata": {},
   "source": [
    "In droplet based methods multiple cells might be present in a drop. The droplet score is evaluated by Scrublet."
   ]
  },
  {
   "cell_type": "code",
   "execution_count": null,
   "metadata": {},
   "outputs": [],
   "source": [
    "import scrublet as scr\n",
    "import scipy.io\n",
    "import time"
   ]
  },
  {
   "cell_type": "code",
   "execution_count": null,
   "metadata": {},
   "outputs": [],
   "source": [
    "adata_tmp.obs['doublet_score'] = np.zeros(adata_tmp.shape[0])\n",
    "adata_tmp.obs['doublet'] = np.zeros(adata_tmp.shape[0])"
   ]
  },
  {
   "cell_type": "code",
   "execution_count": null,
   "metadata": {},
   "outputs": [],
   "source": [
    "# filtering / preprocessing parameters:\n",
    "min_counts = 2\n",
    "min_cells = 3\n",
    "vscore_percentile = 85\n",
    "n_pc = 50\n",
    "\n",
    "# doublet detector parameters\n",
    "expected_doublet_rate = 0.02\n",
    "sim_doublet_ratio = 3\n",
    "n_neighbors = 15\n",
    "\n",
    "for batch in enumerate(adata_tmp.obs['donor'].cat.categories):\n",
    "    print(batch)\n",
    "    t0 = time.time()\n",
    "    idx = np.flatnonzero(adata_tmp.obs['donor']==batch[1])\n",
    "    scrub = scr.Scrublet(counts_matrix = adata_tmp[idx, :].X,\n",
    "                        n_neighbors = n_neighbors,\n",
    "                        sim_doublet_ratio = sim_doublet_ratio,\n",
    "                        expected_doublet_rate = expected_doublet_rate)\n",
    "    doublet_scores, predicted_doublets = scrub.scrub_doublets(min_counts = min_counts,\n",
    "                                                              min_cells = min_cells,\n",
    "                                                              n_prin_comps = n_pc,\n",
    "                                                              use_approx_neighbors = True,\n",
    "                                                              get_doublet_neighbor_parents = False)\n",
    "    adata_tmp.obs['doublet_score'].iloc[idx] = doublet_scores\n",
    "    adata_tmp.obs['doublet'].iloc[idx] = predicted_doublets\n",
    "    t1 = time.time()\n",
    "    print('Elapsed time: {:.1f} seconds'.format(t1-t0))"
   ]
  },
  {
   "cell_type": "code",
   "execution_count": null,
   "metadata": {},
   "outputs": [],
   "source": [
    "rcParams['figure.figsize'] = (6, 6)\n",
    "sb.distplot(adata_tmp.obs['doublet_score'], bins=100, kde=False)"
   ]
  },
  {
   "cell_type": "code",
   "execution_count": null,
   "metadata": {},
   "outputs": [],
   "source": [
    "sc.pl.violin(adata_tmp, ['doublet_score'], groupby='donor', size=1, log=False, rotation=90)"
   ]
  },
  {
   "cell_type": "code",
   "execution_count": null,
   "metadata": {},
   "outputs": [],
   "source": [
    "thr = 0.05\n",
    "idx_filter = adata_tmp.obs['doublet_score'] <= thr\n",
    "\n",
    "adata_tmp = adata_tmp[idx_filter].copy()\n",
    "print(f'Number of cells after double filter: {adata_tmp.n_obs}')"
   ]
  },
  {
   "cell_type": "markdown",
   "metadata": {},
   "source": [
    "## QC after filtering"
   ]
  },
  {
   "cell_type": "code",
   "execution_count": null,
   "metadata": {},
   "outputs": [],
   "source": [
    "rcParams['figure.figsize'] = (15, 5)\n",
    "sc.pl.violin(adata_tmp, ['log_counts'], groupby='donor', size=1, log=False, rotation=90)\n",
    "sc.pl.violin(adata_tmp, ['n_genes'], groupby='donor', size=1, log=False, rotation=90)\n",
    "sc.pl.violin(adata_tmp, ['mt_fraction'], groupby='donor', size=1, log=False, rotation=90)"
   ]
  },
  {
   "cell_type": "code",
   "execution_count": null,
   "metadata": {},
   "outputs": [],
   "source": [
    "df = adata_tmp.obs[['n_genes', 'n_counts', 'donor']]\n",
    "df_all = pd.DataFrame(df.groupby(by='donor')['n_genes'].apply(np.mean).values, \n",
    "                      index=df.groupby(by='donor')['n_genes'].apply(np.mean).index, \n",
    "                      columns=['mean_genes'])\n",
    "\n",
    "df_all['median_genes'] = df.groupby(by='donor')['n_genes'].apply(np.median).values\n",
    "df_all['mean_counts'] = df.groupby(by='donor')['n_counts'].apply(np.mean).values\n",
    "df_all['median_counts'] = df.groupby(by='donor')['n_counts'].apply(np.median).values\n",
    "df_all"
   ]
  },
  {
   "cell_type": "code",
   "execution_count": null,
   "metadata": {},
   "outputs": [],
   "source": [
    "adata_tmp.obs['doublet'] = adata_tmp.obs['doublet'].astype(str)"
   ]
  },
  {
   "cell_type": "code",
   "execution_count": null,
   "metadata": {},
   "outputs": [],
   "source": [
    "sc.write(adata=adata_tmp, filename=path_filtered)"
   ]
  },
  {
   "cell_type": "markdown",
   "metadata": {},
   "source": [
    "## Simple normalization\n"
   ]
  },
  {
   "cell_type": "code",
   "execution_count": null,
   "metadata": {},
   "outputs": [],
   "source": [
    "adata_tmp = sc.read(path_filtered)"
   ]
  },
  {
   "cell_type": "code",
   "execution_count": null,
   "metadata": {},
   "outputs": [],
   "source": [
    "sc.pp.normalize_total(adata_tmp, target_sum=1e4)  # target sum? \n",
    "sc.pp.log1p(adata_tmp)"
   ]
  },
  {
   "cell_type": "code",
   "execution_count": null,
   "metadata": {},
   "outputs": [],
   "source": [
    "sc.write(adata=adata_tmp, filename=path_logged)"
   ]
  },
  {
   "cell_type": "markdown",
   "metadata": {},
   "source": [
    "## Highly variable Gens"
   ]
  },
  {
   "cell_type": "code",
   "execution_count": null,
   "metadata": {},
   "outputs": [],
   "source": [
    "adata_tmp = sc.read(path_logged)"
   ]
  },
  {
   "cell_type": "code",
   "execution_count": null,
   "metadata": {},
   "outputs": [],
   "source": [
    "adata_tmp.uns['log1p'] = {'base': None}\n",
    "sc.pp.highly_variable_genes(adata_tmp, n_top_genes=5000, batch_key='donor')\n",
    "print('Shape before: ', adata_tmp.shape)\n",
    "adata_tmp = adata_tmp[:, adata_tmp.var['highly_variable']]\n",
    "print('Shape after: ', adata_tmp.shape)"
   ]
  },
  {
   "cell_type": "code",
   "execution_count": null,
   "metadata": {},
   "outputs": [],
   "source": [
    "sc.write(adata=adata_tmp, filename=path_highlyvar)"
   ]
  },
  {
   "cell_type": "markdown",
   "metadata": {},
   "source": [
    "## Model Specific Preproccessing\n"
   ]
  },
  {
   "cell_type": "markdown",
   "metadata": {},
   "source": [
    "### Further TC cleaning"
   ]
  },
  {
   "cell_type": "markdown",
   "metadata": {},
   "source": [
    "Clean cells without or multiple IR information. Filter out chains without paired TRA and TRB (None)."
   ]
  },
  {
   "cell_type": "code",
   "execution_count": null,
   "metadata": {},
   "outputs": [],
   "source": [
    "adata = sc.read_h5ad(path_highlyvar)"
   ]
  },
  {
   "cell_type": "code",
   "execution_count": null,
   "metadata": {},
   "outputs": [],
   "source": [
    "print('All cells: ', adata.shape)\n",
    "adata = adata[adata.obs['has_ir'] == 'True']\n",
    "print('With IRs: ', adata.shape)\n",
    "adata = adata[adata.obs['multi_chain'] == 'False']\n",
    "print('With 1 IR set: ', adata.shape)\n",
    "adata = adata[(adata.obs['IR_VJ_1_junction_aa'] != 'None') & (~adata.obs['IR_VJ_1_junction_aa'].isna()) & \n",
    "              (adata.obs['IR_VDJ_1_junction_aa'] != 'None') & (~adata.obs['IR_VDJ_1_junction_aa'].isna())]\n",
    "print('With full IR:', adata.shape)"
   ]
  },
  {
   "cell_type": "markdown",
   "metadata": {},
   "source": [
    "### Clonotype annotation"
   ]
  },
  {
   "cell_type": "markdown",
   "metadata": {},
   "source": [
    "The clonotype annotation from 10x defines clonotypes not accross all donors. Therefor, public TCRs might leak between training and testing data. Further, cells with the same TCR but multiple IRs are classified as different clonotypes. We therefor assign own clonotype labels based on complete correspondence based on alpha and beta chain."
   ]
  },
  {
   "cell_type": "code",
   "execution_count": null,
   "metadata": {},
   "outputs": [],
   "source": [
    "adata.obs['TRA+TRB'] = adata.obs['IR_VJ_1_junction_aa'].astype(str) + '+' + adata.obs['IR_VDJ_1_junction_aa'].astype(str)\n",
    "clono_dict = {clone: idx for idx, clone in enumerate(adata.obs['TRA+TRB'].unique())}\n",
    "adata.obs['clonotype'] = adata.obs['TRA+TRB'].map(clono_dict)\n",
    "print(len(adata.obs['clonotype'].unique()))\n",
    "adata.obs['clonotype'].head()"
   ]
  },
  {
   "cell_type": "markdown",
   "metadata": {},
   "source": [
    "### Embed Proteins"
   ]
  },
  {
   "cell_type": "markdown",
   "metadata": {},
   "source": [
    "Append both chains, add start ('<'), stop ('>') and seperator ('+') token. For training purpose IR data might be needed as one hot vector."
   ]
  },
  {
   "cell_type": "code",
   "execution_count": null,
   "metadata": {},
   "outputs": [],
   "source": [
    "import sys\n",
    "sys.path.append('../mvTCR')\n",
    "import tcr_embedding.utils_preprocessing as utils"
   ]
  },
  {
   "cell_type": "code",
   "execution_count": null,
   "metadata": {},
   "outputs": [],
   "source": [
    "adata.obs['TRA+TRB'] = adata.obs['IR_VJ_1_junction_aa'].astype(str) + '+' + adata.obs['IR_VDJ_1_junction_aa'].astype(str)\n",
    "pad = adata.obs['TRA+TRB'].str.len().max()\n",
    "pad = int(pad)\n",
    "pad"
   ]
  },
  {
   "cell_type": "code",
   "execution_count": null,
   "metadata": {},
   "outputs": [],
   "source": [
    "aa_to_id = {'_': 0, 'A': 1, 'C': 2, 'D': 3, 'E': 4, 'F': 5, 'G': 6, 'H': 7, 'I': 8, 'K': 9, 'L': 10, 'M': 11, 'N': 12, 'P': 13,\n",
    "            'Q': 14, 'R': 15, 'S': 16, 'T': 17, 'V': 18, 'W': 19, 'Y': 20, '+': 21, '<': 22, '>': 23}\n",
    "utils.aa_encoding(adata, read_col='TRA+TRB', ohe_col='one_hot', label_col='tcr_seq', length_col='seq_len', pad=pad, aa_to_id=aa_to_id, start_end_symbol=True)\n"
   ]
  },
  {
   "cell_type": "code",
   "execution_count": null,
   "metadata": {},
   "outputs": [],
   "source": [
    "print(adata.obsm['tcr_seq'].shape)\n",
    "print(adata.obsm['one_hot'].shape)\n",
    "print(adata.uns['aa_to_id'])"
   ]
  },
  {
   "cell_type": "markdown",
   "metadata": {},
   "source": [
    "### Antigen Binding Encoding"
   ]
  },
  {
   "cell_type": "markdown",
   "metadata": {},
   "source": [
    "Process the Binding Specificity to form that it easy to use during training."
   ]
  },
  {
   "cell_type": "code",
   "execution_count": null,
   "metadata": {},
   "outputs": [],
   "source": [
    "antigen_binding_list = [x for x in adata.obs.columns if x.endswith('_binder')]\n",
    "binding_matrix = (adata.obs[antigen_binding_list] == 'True').values.astype(int)\n",
    "binding_matrix.shape"
   ]
  },
  {
   "cell_type": "code",
   "execution_count": null,
   "metadata": {},
   "outputs": [],
   "source": [
    "unique_value, count = np.unique(binding_matrix.sum(axis=1), return_counts=True)\n",
    "for unique_value_, count_ in zip(unique_value, count):\n",
    "    print(f'Cells with {unique_value_} bindings: {count_}')"
   ]
  },
  {
   "cell_type": "code",
   "execution_count": null,
   "metadata": {},
   "outputs": [],
   "source": [
    "label_to_binding = {label_id: antigen for label_id, antigen in enumerate(antigen_binding_list)}\n",
    "label_to_binding[-1] = 'no_data'  # For cells without binding data\n",
    "binding_to_label = {antigen: label_id for label_id, antigen in enumerate(antigen_binding_list)}\n",
    "binding_to_label['no_data'] = -1\n",
    "binding_to_label == {v: k for k, v in label_to_binding.items()}  # sanity check, if both dicts are the reverse of each other"
   ]
  },
  {
   "cell_type": "code",
   "execution_count": null,
   "metadata": {},
   "outputs": [],
   "source": [
    "adata.obs['has_binding'] = binding_matrix.sum(axis=1).astype(bool)\n",
    "adata.obs['has_binding'].head()"
   ]
  },
  {
   "cell_type": "code",
   "execution_count": null,
   "metadata": {},
   "outputs": [],
   "source": [
    "adata.obs['binding_label'] = np.argmax(binding_matrix, axis=1)\n",
    "adata.obs['binding_label'][~adata.obs['has_binding']] = -1\n",
    "adata.obs['binding_label'].head()"
   ]
  },
  {
   "cell_type": "code",
   "execution_count": null,
   "metadata": {},
   "outputs": [],
   "source": [
    "adata.obs['binding_name'] = adata.obs['binding_label'].map(label_to_binding)\n",
    "adata.obs['binding_name'].head()"
   ]
  },
  {
   "cell_type": "markdown",
   "metadata": {},
   "source": [
    "### Test-Validation Split\n",
    "We don't want to include the same clonotype in the different splits. Further we want to have the same data distribution in donor and antigen binding dimension to have faithful results.\n",
    "\n",
    "Therefore we need stratification (similar label distribution across the sets) and grouped sampling (groups, i.e. the same clonotype is only present in one set)"
   ]
  },
  {
   "cell_type": "code",
   "execution_count": null,
   "metadata": {},
   "outputs": [],
   "source": [
    "adata.obs['donor+binding'] = adata.obs['donor'].astype(str) + '_' + adata.obs['binding_name'].astype(str)\n",
    "adata.obs['donor+binding'].sample(10)"
   ]
  },
  {
   "cell_type": "code",
   "execution_count": null,
   "metadata": {},
   "outputs": [],
   "source": [
    "random_seed = 15\n",
    "# Create Train-Val and Test set\n",
    "train_val, test = utils.stratified_group_shuffle_split(adata.obs, stratify_col='donor+binding', group_col='clonotype', val_split=0.20, random_seed=random_seed)\n",
    "# Split Train-Val into Train and Val set\n",
    "train, val = utils.stratified_group_shuffle_split(train_val, stratify_col='donor+binding', group_col='clonotype', val_split=0.25, random_seed=random_seed)"
   ]
  },
  {
   "cell_type": "code",
   "execution_count": null,
   "metadata": {},
   "outputs": [],
   "source": [
    "print('Train Samples: ', len(train))\n",
    "print('Train Ratio: ', len(train) / len(adata.obs))\n",
    "print('Val Samples: ', len(val))\n",
    "print('Val Ratio: ', len(val) / len(adata.obs))\n",
    "print('Test Samples: ', len(test))\n",
    "print('Test Ratio: ', len(test) / len(adata.obs))"
   ]
  },
  {
   "cell_type": "markdown",
   "metadata": {},
   "source": [
    "#### Visualize Distribution"
   ]
  },
  {
   "cell_type": "markdown",
   "metadata": {},
   "source": [
    "Logarithmic scale"
   ]
  },
  {
   "cell_type": "code",
   "execution_count": null,
   "metadata": {},
   "outputs": [],
   "source": [
    "pl.figure(figsize=(15,5))\n",
    "pl.hist([train['binding_name'], val['binding_name'], test['binding_name']], density=True, bins=len(train['binding_name'].unique()), label=['train', 'val', 'test'])\n",
    "pl.yscale('log')\n",
    "pl.xticks(rotation='vertical')\n",
    "pl.legend(loc='upper right')\n",
    "pl.show()"
   ]
  },
  {
   "cell_type": "markdown",
   "metadata": {},
   "source": [
    "Linear scale"
   ]
  },
  {
   "cell_type": "code",
   "execution_count": null,
   "metadata": {},
   "outputs": [],
   "source": [
    "pl.figure(figsize=(15,5))\n",
    "pl.hist([train['binding_name'], val['binding_name'], test['binding_name']], density=True, bins=len(train['binding_name'].unique()), label=['train', 'val', 'test'])\n",
    "pl.xticks(rotation='vertical')\n",
    "pl.legend(loc='upper right')\n",
    "pl.show()"
   ]
  },
  {
   "cell_type": "code",
   "execution_count": null,
   "metadata": {},
   "outputs": [],
   "source": [
    "pl.figure(figsize=(15,5))\n",
    "pl.hist([train['donor'], val['donor'], test['donor']], density=True, bins=len(train['donor'].unique()), label=['train', 'val', 'test'])\n",
    "pl.xticks(rotation='vertical')\n",
    "pl.legend(loc='upper right')\n",
    "pl.show()"
   ]
  },
  {
   "cell_type": "markdown",
   "metadata": {},
   "source": [
    "#### Check if clonotypes are unique within each set"
   ]
  },
  {
   "cell_type": "code",
   "execution_count": null,
   "metadata": {},
   "outputs": [],
   "source": [
    "form_train = set(train['clonotype'].tolist())\n",
    "form_val = set(val['clonotype'].tolist())\n",
    "form_test = set(test['clonotype'].tolist())\n",
    "\n",
    "print('Intersection in clonotypes between two sets should be empty\\n')\n",
    "print('Intersection in clonotypes between train and test: ', form_train.intersection(form_test))\n",
    "print('Intersection in clonotypes between train and val: ', form_train.intersection(form_val))\n",
    "print('Intersection in clonotypes between val and test: ', form_val.intersection(form_test))\n",
    "# print('\\nSanity Check - Intersection in clonotypes between train and train: ', form_train.intersection(form_train))"
   ]
  },
  {
   "cell_type": "markdown",
   "metadata": {},
   "source": [
    "#### Save resulting split"
   ]
  },
  {
   "cell_type": "code",
   "execution_count": null,
   "metadata": {},
   "outputs": [],
   "source": [
    "adata.obs.loc[train.index, 'set'] = 'train'\n",
    "adata.obs.loc[val.index, 'set'] = 'val'\n",
    "adata.obs.loc[test.index, 'set'] = 'test'\n",
    "adata.obs['set'].value_counts()"
   ]
  },
  {
   "cell_type": "code",
   "execution_count": null,
   "metadata": {},
   "outputs": [],
   "source": [
    "adata.obs['set'].sample(20)"
   ]
  },
  {
   "cell_type": "code",
   "execution_count": null,
   "metadata": {},
   "outputs": [],
   "source": [
    "adata.write_h5ad(path_clean_split, compression='gzip')"
   ]
  },
  {
   "cell_type": "markdown",
   "metadata": {},
   "source": [
    "## Supervised and Semi-supervised preprocessing\n",
    "Add prediction labels to adata"
   ]
  },
  {
   "cell_type": "code",
   "execution_count": null,
   "metadata": {},
   "outputs": [],
   "source": [
    "import sys\n",
    "sys.path.append('../mvTCR/')\n",
    "import tcr_embedding as tcr"
   ]
  },
  {
   "cell_type": "code",
   "execution_count": null,
   "metadata": {},
   "outputs": [],
   "source": [
    "adata = sc.read_h5ad(path_clean_split)"
   ]
  },
  {
   "cell_type": "code",
   "execution_count": null,
   "metadata": {},
   "outputs": [],
   "source": [
    "adata.obs[['binding_name', 'binding_label']]"
   ]
  },
  {
   "cell_type": "code",
   "execution_count": null,
   "metadata": {},
   "outputs": [],
   "source": [
    "import config.constants_10x as constants\n",
    "high_count_antigens = constants.HIGH_COUNT_ANTIGENS.copy()\n",
    "high_count_antigens"
   ]
  },
  {
   "cell_type": "code",
   "execution_count": null,
   "metadata": {},
   "outputs": [],
   "source": [
    "adata.obs['high_count_binding_name'] = adata.obs['binding_name']\n",
    "# Set rare antigen specificities to 'no_data'\n",
    "adata.obs['high_count_binding_name'][~adata.obs['high_count_binding_name'].isin(high_count_antigens)] = 'no_data'\n",
    "adata.obs['high_count_binding_name'] = adata.obs['high_count_binding_name'].astype(str)\n",
    "adata.obs['high_count_binding_name'].unique()"
   ]
  },
  {
   "cell_type": "code",
   "execution_count": null,
   "metadata": {},
   "outputs": [],
   "source": [
    "# Use this high_count_antigens list to be consistent with the order (alphabetical)\n",
    "high_count_antigens += ['no_data']\n",
    "specificity_to_label = {k: v for v, k in enumerate(high_count_antigens)}\n",
    "label_to_specificity = {k: v for k, v in enumerate(high_count_antigens)}\n",
    "adata.uns['specificity_to_label'] = specificity_to_label\n",
    "adata.uns['label_to_specificity'] = label_to_specificity\n",
    "specificity_to_label"
   ]
  },
  {
   "cell_type": "code",
   "execution_count": null,
   "metadata": {
    "scrolled": true
   },
   "outputs": [],
   "source": [
    "adata.obs['high_count_binding_label'] = adata.obs['high_count_binding_name'].map(specificity_to_label)\n",
    "adata.obs['high_count_binding_label'].value_counts()"
   ]
  },
  {
   "cell_type": "code",
   "execution_count": null,
   "metadata": {},
   "outputs": [],
   "source": [
    "aa_to_id = adata.uns['aa_to_id']\n",
    "utils.aa_encoding(adata, read_col='IR_VJ_1_junction_aa', label_col='alpha_seq', length_col='alpha_len', pad=26, aa_to_id=aa_to_id, start_end_symbol=False)\n",
    "utils.aa_encoding(adata, read_col='IR_VDJ_1_junction_aa', label_col='beta_seq', length_col='beta_len', pad=26, aa_to_id=aa_to_id, start_end_symbol=False)"
   ]
  },
  {
   "cell_type": "code",
   "execution_count": null,
   "metadata": {},
   "outputs": [],
   "source": [
    "print(adata.uns.keys())\n",
    "adata.uns = {}\n",
    "adata.uns['aa_to_id'] = aa_to_id\n",
    "adata.uns['specificity_to_label'] = specificity_to_label"
   ]
  },
  {
   "cell_type": "code",
   "execution_count": null,
   "metadata": {},
   "outputs": [],
   "source": [
    "adata.write_h5ad(path_supervised, compression='gzip')"
   ]
  },
  {
   "cell_type": "markdown",
   "metadata": {},
   "source": [
    "## Add avidity information"
   ]
  },
  {
   "cell_type": "code",
   "execution_count": null,
   "metadata": {},
   "outputs": [],
   "source": [
    "import sys\n",
    "sys.path.append('../mvTCR/')\n",
    "import config.constants_10x as const"
   ]
  },
  {
   "cell_type": "code",
   "execution_count": null,
   "metadata": {},
   "outputs": [],
   "source": [
    "adata = sc.read(path_supervised)"
   ]
  },
  {
   "cell_type": "code",
   "execution_count": null,
   "metadata": {},
   "outputs": [],
   "source": [
    "cols_binder_counts = const.HIGH_COUNT_ANTIGENS\n",
    "cols_binder_counts = ['_'.join(el.split('_')[:-1]) for el in cols_binder_counts]"
   ]
  },
  {
   "cell_type": "code",
   "execution_count": null,
   "metadata": {},
   "outputs": [],
   "source": [
    "binding_counts = []\n",
    "for donor in range(1, 5):\n",
    "    path_binding = f'../mvTCR/data/10x_CD8TC/patient_{donor}/vdj_v1_hs_aggregated_donor{donor}_binarized_matrix.csv'\n",
    "    binarized_matrix = pd.read_csv(path_binding, sep=',', header=0, index_col=0)\n",
    "    binarized_matrix.index.name = None\n",
    "    binarized_matrix = binarized_matrix[cols_binder_counts]\n",
    "    binarized_matrix.index = binarized_matrix.index + f'-donor_{donor}'\n",
    "    binding_counts.append(binarized_matrix)\n",
    "binding_counts = pd.concat(binding_counts)"
   ]
  },
  {
   "cell_type": "code",
   "execution_count": null,
   "metadata": {},
   "outputs": [],
   "source": [
    "binding_counts = binding_counts.loc[adata.obs.index]\n",
    "adata.obsm['binding_counts'] = binding_counts.values"
   ]
  },
  {
   "cell_type": "code",
   "execution_count": null,
   "metadata": {
    "tags": []
   },
   "outputs": [],
   "source": [
    "adata.write_h5ad(path_avidity, compression='gzip')"
   ]
  }
 ],
 "metadata": {
  "kernelspec": {
   "display_name": "Python 3 (ipykernel)",
   "language": "python",
   "name": "python3"
  },
  "language_info": {
   "codemirror_mode": {
    "name": "ipython",
    "version": 3
   },
   "file_extension": ".py",
   "mimetype": "text/x-python",
   "name": "python",
   "nbconvert_exporter": "python",
   "pygments_lexer": "ipython3",
   "version": "3.11.5"
  }
 },
 "nbformat": 4,
 "nbformat_minor": 4
}
