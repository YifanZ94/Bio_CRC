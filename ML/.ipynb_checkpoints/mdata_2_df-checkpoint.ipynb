{
 "cells": [
  {
   "cell_type": "code",
   "execution_count": null,
   "id": "f4ca3ce2-b08e-46fd-af22-9f020e61a6fa",
   "metadata": {},
   "outputs": [],
   "source": [
    "import warnings\n",
    "warnings.filterwarnings(\"ignore\")\n",
    "import muon as mu\n",
    "import numpy as np\n",
    "import scanpy as sc\n",
    "import scirpy as ir\n",
    "from cycler import cycler\n",
    "from matplotlib import cm as mpl_cm\n",
    "from matplotlib import pyplot as plt\n",
    "from mudata import MuData\n",
    "import anndata\n",
    "import pandas as pd\n"
   ]
  },
  {
   "cell_type": "code",
   "execution_count": null,
   "id": "a4228542-1cae-4170-ab5b-66eec223be58",
   "metadata": {},
   "outputs": [],
   "source": [
    "mdata = mu.read(\"all_integrated_mdata_with_TCR.h5mu\")\n",
    "mdata"
   ]
  }
 ],
 "metadata": {
  "kernelspec": {
   "display_name": "Python 3 (ipykernel)",
   "language": "python",
   "name": "python3"
  },
  "language_info": {
   "codemirror_mode": {
    "name": "ipython",
    "version": 3
   },
   "file_extension": ".py",
   "mimetype": "text/x-python",
   "name": "python",
   "nbconvert_exporter": "python",
   "pygments_lexer": "ipython3",
   "version": "3.12.8"
  }
 },
 "nbformat": 4,
 "nbformat_minor": 5
}
