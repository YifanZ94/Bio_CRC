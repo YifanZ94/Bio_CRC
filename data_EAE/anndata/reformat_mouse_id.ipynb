{
 "cells": [
  {
   "cell_type": "code",
   "execution_count": null,
   "id": "e497385e-133d-4ce4-a953-62cee1c2d188",
   "metadata": {},
   "outputs": [],
   "source": [
    "import muon as mu\n",
    "mdata = mu.read(\"X.h5mu\")\n",
    "\n",
    "mdata['gex'].obs['mouse_BC'] = mdata['gex'].obs['mouse_id']\n",
    "\n",
    "ID_0516 = {'CMO301': '5_3', 'CMO302': '5_4', 'CMO303':'5_5', \n",
    "               'CMO304':'5_6', 'CMO305': '5_7', 'CMO317': '5_8',\n",
    "               'CMO318': '5_3', 'CMO325':'5_4', 'CMO326':'5_5', \n",
    "               'CMO321':'5_6', 'CMO322': '5_7', 'CMO323': '5_8'}\n",
    "\n",
    "ID_0605 = {'CMO301': '6_1', 'CMO302': '6_2', 'CMO303':'6_3', 'CMO304':'6_4',\n",
    "           'CMO317': '6_1', 'CMO318':'6_2', 'CMO325':'6_3', 'CMO326':'6_4'}\n",
    "\n",
    "mdata['gex'].obs['mouse_id'] = np.where(\n",
    "    mdata[\"gex\"].obs[\"date\"] == '0605',\n",
    "    mdata['gex'].obs['mouse_BC'].map(ID_0605),\n",
    "    mdata['gex'].obs['mouse_BC'].map(ID_0516)\n",
    ")\n",
    "\n",
    "mdata['gex'].obs['mouse_id'] = mdata['gex'].obs['mouse_id'].astype('category')\n",
    "\n",
    "\n",
    "mdata.write(\"X.h5mu\")"
   ]
  }
 ],
 "metadata": {
  "kernelspec": {
   "display_name": "Python 3 (ipykernel)",
   "language": "python",
   "name": "python3"
  },
  "language_info": {
   "codemirror_mode": {
    "name": "ipython",
    "version": 3
   },
   "file_extension": ".py",
   "mimetype": "text/x-python",
   "name": "python",
   "nbconvert_exporter": "python",
   "pygments_lexer": "ipython3",
   "version": "3.11.5"
  }
 },
 "nbformat": 4,
 "nbformat_minor": 5
}
