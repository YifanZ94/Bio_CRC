{
 "cells": [
  {
   "cell_type": "code",
   "execution_count": 1,
   "id": "31d02a55-d6e2-4106-9bab-5d71ee65d648",
   "metadata": {
    "tags": []
   },
   "outputs": [],
   "source": [
    "import pandas as pd"
   ]
  },
  {
   "cell_type": "code",
   "execution_count": 2,
   "id": "369fe384-9e4d-4326-8a4b-6dd9ddfa6fd1",
   "metadata": {
    "tags": []
   },
   "outputs": [
    {
     "data": {
      "text/html": [
       "<div>\n",
       "<style scoped>\n",
       "    .dataframe tbody tr th:only-of-type {\n",
       "        vertical-align: middle;\n",
       "    }\n",
       "\n",
       "    .dataframe tbody tr th {\n",
       "        vertical-align: top;\n",
       "    }\n",
       "\n",
       "    .dataframe thead th {\n",
       "        text-align: right;\n",
       "    }\n",
       "</style>\n",
       "<table border=\"1\" class=\"dataframe\">\n",
       "  <thead>\n",
       "    <tr style=\"text-align: right;\">\n",
       "      <th></th>\n",
       "      <th>CDR3a</th>\n",
       "      <th>CDR3b</th>\n",
       "      <th>peptide</th>\n",
       "      <th>binder</th>\n",
       "    </tr>\n",
       "  </thead>\n",
       "  <tbody>\n",
       "    <tr>\n",
       "      <th>0</th>\n",
       "      <td>AMIRPSGNNRLA</td>\n",
       "      <td>ASSYQGGNYGYT</td>\n",
       "      <td>RTLNAWVKV</td>\n",
       "      <td>0</td>\n",
       "    </tr>\n",
       "    <tr>\n",
       "      <th>1</th>\n",
       "      <td>AVRDLNARLM</td>\n",
       "      <td>ASSSVNEQY</td>\n",
       "      <td>YLLEMLWRL</td>\n",
       "      <td>0</td>\n",
       "    </tr>\n",
       "    <tr>\n",
       "      <th>2</th>\n",
       "      <td>AVRVGDSNYQLI</td>\n",
       "      <td>ASSQDRGRENTEAF</td>\n",
       "      <td>GILGFVFTL</td>\n",
       "      <td>0</td>\n",
       "    </tr>\n",
       "    <tr>\n",
       "      <th>3</th>\n",
       "      <td>AVRGRDYKLS</td>\n",
       "      <td>ASSQPVAARGAQY</td>\n",
       "      <td>GILGFVFTL</td>\n",
       "      <td>0</td>\n",
       "    </tr>\n",
       "    <tr>\n",
       "      <th>4</th>\n",
       "      <td>AASDGAGGTSYGKLT</td>\n",
       "      <td>ASSLWTGSHEQY</td>\n",
       "      <td>GILGFVFTL</td>\n",
       "      <td>0</td>\n",
       "    </tr>\n",
       "    <tr>\n",
       "      <th>...</th>\n",
       "      <td>...</td>\n",
       "      <td>...</td>\n",
       "      <td>...</td>\n",
       "      <td>...</td>\n",
       "    </tr>\n",
       "    <tr>\n",
       "      <th>25290</th>\n",
       "      <td>AARFDSGYALN</td>\n",
       "      <td>ASSTYYGQSYGYT</td>\n",
       "      <td>IMDQVPFSV</td>\n",
       "      <td>0</td>\n",
       "    </tr>\n",
       "    <tr>\n",
       "      <th>25291</th>\n",
       "      <td>ALPGSSNTGKLI</td>\n",
       "      <td>ASSIRSSYEQY</td>\n",
       "      <td>CLGGLLTMV</td>\n",
       "      <td>0</td>\n",
       "    </tr>\n",
       "    <tr>\n",
       "      <th>25292</th>\n",
       "      <td>ALSEALVTGGGNKLT</td>\n",
       "      <td>ASSLSRRGPNYGYT</td>\n",
       "      <td>RTLNAWVKV</td>\n",
       "      <td>0</td>\n",
       "    </tr>\n",
       "    <tr>\n",
       "      <th>25293</th>\n",
       "      <td>ATDAPGGYQKVT</td>\n",
       "      <td>ASSPWTGTLNTEA</td>\n",
       "      <td>KTWGQYWQV</td>\n",
       "      <td>0</td>\n",
       "    </tr>\n",
       "    <tr>\n",
       "      <th>25294</th>\n",
       "      <td>AVRDGTGANNLF</td>\n",
       "      <td>ASSPPPGAVETQY</td>\n",
       "      <td>KTWGQYWQV</td>\n",
       "      <td>0</td>\n",
       "    </tr>\n",
       "  </tbody>\n",
       "</table>\n",
       "<p>25295 rows × 4 columns</p>\n",
       "</div>"
      ],
      "text/plain": [
       "                 CDR3a           CDR3b    peptide  binder\n",
       "0         AMIRPSGNNRLA    ASSYQGGNYGYT  RTLNAWVKV       0\n",
       "1           AVRDLNARLM       ASSSVNEQY  YLLEMLWRL       0\n",
       "2         AVRVGDSNYQLI  ASSQDRGRENTEAF  GILGFVFTL       0\n",
       "3           AVRGRDYKLS   ASSQPVAARGAQY  GILGFVFTL       0\n",
       "4      AASDGAGGTSYGKLT    ASSLWTGSHEQY  GILGFVFTL       0\n",
       "...                ...             ...        ...     ...\n",
       "25290      AARFDSGYALN   ASSTYYGQSYGYT  IMDQVPFSV       0\n",
       "25291     ALPGSSNTGKLI     ASSIRSSYEQY  CLGGLLTMV       0\n",
       "25292  ALSEALVTGGGNKLT  ASSLSRRGPNYGYT  RTLNAWVKV       0\n",
       "25293     ATDAPGGYQKVT   ASSPWTGTLNTEA  KTWGQYWQV       0\n",
       "25294     AVRDGTGANNLF   ASSPPPGAVETQY  KTWGQYWQV       0\n",
       "\n",
       "[25295 rows x 4 columns]"
      ]
     },
     "execution_count": 2,
     "metadata": {},
     "output_type": "execute_result"
    }
   ],
   "source": [
    "data = pd.read_csv('test/sample_train.csv')\n",
    "data"
   ]
  },
  {
   "cell_type": "code",
   "execution_count": 3,
   "id": "a0706c70-4188-4b0e-abe8-26df7b5832d6",
   "metadata": {
    "tags": []
   },
   "outputs": [
    {
     "data": {
      "text/html": [
       "<div>\n",
       "<style scoped>\n",
       "    .dataframe tbody tr th:only-of-type {\n",
       "        vertical-align: middle;\n",
       "    }\n",
       "\n",
       "    .dataframe tbody tr th {\n",
       "        vertical-align: top;\n",
       "    }\n",
       "\n",
       "    .dataframe thead th {\n",
       "        text-align: right;\n",
       "    }\n",
       "</style>\n",
       "<table border=\"1\" class=\"dataframe\">\n",
       "  <thead>\n",
       "    <tr style=\"text-align: right;\">\n",
       "      <th></th>\n",
       "      <th>CDR3a</th>\n",
       "      <th>CDR3b</th>\n",
       "      <th>peptide</th>\n",
       "      <th>binder</th>\n",
       "    </tr>\n",
       "  </thead>\n",
       "  <tbody>\n",
       "  </tbody>\n",
       "</table>\n",
       "</div>"
      ],
      "text/plain": [
       "Empty DataFrame\n",
       "Columns: [CDR3a, CDR3b, peptide, binder]\n",
       "Index: []"
      ]
     },
     "execution_count": 3,
     "metadata": {},
     "output_type": "execute_result"
    }
   ],
   "source": [
    "subset_df = data[data['peptide'] == 'MEVGWYRSPFSRVVHLYRNGK']\n",
    "subset_df"
   ]
  },
  {
   "cell_type": "code",
   "execution_count": null,
   "id": "b8e5b1b7-ec33-4ce0-b861-12d99538ba3f",
   "metadata": {},
   "outputs": [],
   "source": []
  }
 ],
 "metadata": {
  "kernelspec": {
   "display_name": "Python 3 (ipykernel)",
   "language": "python",
   "name": "python3"
  },
  "language_info": {
   "codemirror_mode": {
    "name": "ipython",
    "version": 3
   },
   "file_extension": ".py",
   "mimetype": "text/x-python",
   "name": "python",
   "nbconvert_exporter": "python",
   "pygments_lexer": "ipython3",
   "version": "3.11.5"
  }
 },
 "nbformat": 4,
 "nbformat_minor": 5
}
