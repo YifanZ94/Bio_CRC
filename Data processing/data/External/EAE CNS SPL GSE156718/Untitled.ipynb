{
 "cells": [
  {
   "cell_type": "code",
   "execution_count": 1,
   "id": "a1ac90c4-d98f-47d5-b8e5-fe69f2341026",
   "metadata": {},
   "outputs": [
    {
     "name": "stderr",
     "output_type": "stream",
     "text": [
      "2025-08-18 15:15:23.356531: I tensorflow/core/util/port.cc:153] oneDNN custom operations are on. You may see slightly different numerical results due to floating-point round-off errors from different computation orders. To turn them off, set the environment variable `TF_ENABLE_ONEDNN_OPTS=0`.\n",
      "2025-08-18 15:15:25.514743: E external/local_xla/xla/stream_executor/cuda/cuda_fft.cc:467] Unable to register cuFFT factory: Attempting to register factory for plugin cuFFT when one has already been registered\n",
      "WARNING: All log messages before absl::InitializeLog() is called are written to STDERR\n",
      "E0000 00:00:1755544526.223288    6082 cuda_dnn.cc:8579] Unable to register cuDNN factory: Attempting to register factory for plugin cuDNN when one has already been registered\n",
      "E0000 00:00:1755544526.401309    6082 cuda_blas.cc:1407] Unable to register cuBLAS factory: Attempting to register factory for plugin cuBLAS when one has already been registered\n",
      "W0000 00:00:1755544528.163465    6082 computation_placer.cc:177] computation placer already registered. Please check linkage and avoid linking the same target more than once.\n",
      "W0000 00:00:1755544528.163502    6082 computation_placer.cc:177] computation placer already registered. Please check linkage and avoid linking the same target more than once.\n",
      "W0000 00:00:1755544528.163503    6082 computation_placer.cc:177] computation placer already registered. Please check linkage and avoid linking the same target more than once.\n",
      "W0000 00:00:1755544528.163505    6082 computation_placer.cc:177] computation placer already registered. Please check linkage and avoid linking the same target more than once.\n",
      "2025-08-18 15:15:28.200892: I tensorflow/core/platform/cpu_feature_guard.cc:210] This TensorFlow binary is optimized to use available CPU instructions in performance-critical operations.\n",
      "To enable the following instructions: AVX2 AVX512F AVX512_VNNI FMA, in other operations, rebuild TensorFlow with the appropriate compiler flags.\n"
     ]
    }
   ],
   "source": [
    "import warnings\n",
    "warnings.filterwarnings(\"ignore\")\n",
    "import muon as mu\n",
    "import numpy as np\n",
    "import scanpy as sc\n",
    "import scirpy as ir\n",
    "import pandas as pd\n",
    "import anndata as ad\n",
    "from cycler import cycler\n",
    "from matplotlib import cm as mpl_cm\n",
    "from matplotlib import pyplot as plt\n",
    "from mudata import MuData\n",
    "sc.set_figure_params(figsize=(4, 4))\n",
    "sc.settings.verbosity = 2  # verbosity: errors (0), warnings (1), info (2), hints (3)"
   ]
  },
  {
   "cell_type": "code",
   "execution_count": 12,
   "id": "005233c6-5469-4237-beb2-34d756b7e9d6",
   "metadata": {},
   "outputs": [
    {
     "data": {
      "text/plain": [
       "AnnData object with n_obs × n_vars = 7241 × 31062\n",
       "    var: 'gene_ids', 'feature_types'"
      ]
     },
     "execution_count": 12,
     "metadata": {},
     "output_type": "execute_result"
    }
   ],
   "source": [
    "path = \".\"\n",
    "# file_prefix = [\"GSE156718_GEX-HTO_5_iLN_\"]\n",
    "\n",
    "# adata_ext = sc.read_10x_mtx(path, var_names='gene_symbols', \n",
    "#                           make_unique=True, cache=False, gex_only=False,\n",
    "#                           prefix = file_prefix[0])\n",
    "# adata_df = adata_ext.to_df()\n",
    "\n",
    "adata_ext"
   ]
  },
  {
   "cell_type": "code",
   "execution_count": 13,
   "id": "174aa7ef-63a6-4236-924b-c907e96c9fe2",
   "metadata": {
    "tags": []
   },
   "outputs": [
    {
     "name": "stdout",
     "output_type": "stream",
     "text": [
      "reading GSE156718_GEX-HTO_5_iLN_filtered_feature_bc_matrix.h5\n",
      " (0:00:00)\n"
     ]
    },
    {
     "data": {
      "text/plain": [
       "AnnData object with n_obs × n_vars = 7241 × 31062\n",
       "    var: 'gene_ids', 'feature_types', 'genome', 'pattern', 'read', 'sequence'"
      ]
     },
     "execution_count": 13,
     "metadata": {},
     "output_type": "execute_result"
    }
   ],
   "source": [
    "adata = sc.read_10x_h5(\"GSE156718_GEX-HTO_5_iLN_filtered_feature_bc_matrix.h5\", gex_only=False)\n",
    "adata"
   ]
  },
  {
   "cell_type": "code",
   "execution_count": 16,
   "id": "3efcbe5f-17b6-4873-aaa6-3627ab77516f",
   "metadata": {
    "tags": []
   },
   "outputs": [
    {
     "data": {
      "text/plain": [
       "Xkr4                           \n",
       "Gm1992                         \n",
       "Gm37381                        \n",
       "Rp1                            \n",
       "Sox17                          \n",
       "                     ...       \n",
       "iLN_C0305_Ab    CTTTGTCTTTGTGAG\n",
       "iLN_C0306_Ab    TATGCTGCCACGGTA\n",
       "iLN_C0307_Ab    GAGTCTGCCAGTATC\n",
       "iLN_C0308_Ab    TATAGAACGCCAGGC\n",
       "iLN_C0309_Ab    TGCCTATGAAACAAG\n",
       "Name: sequence, Length: 31062, dtype: object"
      ]
     },
     "execution_count": 16,
     "metadata": {},
     "output_type": "execute_result"
    }
   ],
   "source": [
    "adata.var['sequence']"
   ]
  },
  {
   "cell_type": "code",
   "execution_count": 3,
   "id": "f098ed64-5c41-4b06-bbf1-3e8e16857877",
   "metadata": {},
   "outputs": [
    {
     "name": "stdout",
     "output_type": "stream",
     "text": [
      "normalizing counts per cell\n",
      "    finished (0:00:00)\n"
     ]
    }
   ],
   "source": [
    "adata_ext.var_names_make_unique()\n",
    "sc.pp.normalize_total(adata_ext)\n",
    "sc.pp.log1p(adata_ext)\n",
    "adata_ext = adata_ext[:, ~adata_ext.var_names.str.startswith('mt')].copy()"
   ]
  },
  {
   "cell_type": "code",
   "execution_count": null,
   "id": "9f81124c-e1da-4bec-8287-e5bf0c1ef06c",
   "metadata": {},
   "outputs": [],
   "source": []
  },
  {
   "cell_type": "code",
   "execution_count": null,
   "id": "8e4eb7ef-4de1-40f3-b0de-8d9213159c2a",
   "metadata": {},
   "outputs": [],
   "source": []
  },
  {
   "cell_type": "code",
   "execution_count": null,
   "id": "37564249-8204-4f20-9000-13de8800d2a1",
   "metadata": {},
   "outputs": [],
   "source": []
  }
 ],
 "metadata": {
  "kernelspec": {
   "display_name": "Python 3 (ipykernel)",
   "language": "python",
   "name": "python3"
  },
  "language_info": {
   "codemirror_mode": {
    "name": "ipython",
    "version": 3
   },
   "file_extension": ".py",
   "mimetype": "text/x-python",
   "name": "python",
   "nbconvert_exporter": "python",
   "pygments_lexer": "ipython3",
   "version": "3.11.5"
  }
 },
 "nbformat": 4,
 "nbformat_minor": 5
}
