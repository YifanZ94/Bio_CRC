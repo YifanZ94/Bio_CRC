{
 "cells": [
  {
   "cell_type": "code",
   "execution_count": 1,
   "id": "33f1ccde-904f-4c33-90a7-0db2b3685048",
   "metadata": {
    "tags": []
   },
   "outputs": [
    {
     "name": "stderr",
     "output_type": "stream",
     "text": [
      "2025-08-18 21:01:33.842952: I tensorflow/core/util/port.cc:153] oneDNN custom operations are on. You may see slightly different numerical results due to floating-point round-off errors from different computation orders. To turn them off, set the environment variable `TF_ENABLE_ONEDNN_OPTS=0`.\n",
      "2025-08-18 21:01:33.858814: E external/local_xla/xla/stream_executor/cuda/cuda_fft.cc:467] Unable to register cuFFT factory: Attempting to register factory for plugin cuFFT when one has already been registered\n",
      "WARNING: All log messages before absl::InitializeLog() is called are written to STDERR\n",
      "E0000 00:00:1755565293.877365   57157 cuda_dnn.cc:8579] Unable to register cuDNN factory: Attempting to register factory for plugin cuDNN when one has already been registered\n",
      "E0000 00:00:1755565293.882927   57157 cuda_blas.cc:1407] Unable to register cuBLAS factory: Attempting to register factory for plugin cuBLAS when one has already been registered\n",
      "W0000 00:00:1755565293.896435   57157 computation_placer.cc:177] computation placer already registered. Please check linkage and avoid linking the same target more than once.\n",
      "W0000 00:00:1755565293.896451   57157 computation_placer.cc:177] computation placer already registered. Please check linkage and avoid linking the same target more than once.\n",
      "W0000 00:00:1755565293.896453   57157 computation_placer.cc:177] computation placer already registered. Please check linkage and avoid linking the same target more than once.\n",
      "W0000 00:00:1755565293.896454   57157 computation_placer.cc:177] computation placer already registered. Please check linkage and avoid linking the same target more than once.\n",
      "2025-08-18 21:01:33.902476: I tensorflow/core/platform/cpu_feature_guard.cc:210] This TensorFlow binary is optimized to use available CPU instructions in performance-critical operations.\n",
      "To enable the following instructions: AVX2 AVX512F AVX512_VNNI FMA, in other operations, rebuild TensorFlow with the appropriate compiler flags.\n"
     ]
    }
   ],
   "source": [
    "import warnings\n",
    "warnings.filterwarnings(\"ignore\")\n",
    "import muon as mu\n",
    "import numpy as np\n",
    "import scanpy as sc\n",
    "import scirpy as ir\n",
    "import pandas as pd\n",
    "import anndata as ad\n",
    "from cycler import cycler\n",
    "from matplotlib import cm as mpl_cm\n",
    "from matplotlib import pyplot as plt\n",
    "from mudata import MuData\n",
    "sc.set_figure_params(figsize=(4, 4))\n",
    "sc.settings.verbosity = 2  # verbosity: errors (0), warnings (1), info (2), hints (3)"
   ]
  },
  {
   "cell_type": "code",
   "execution_count": 2,
   "id": "16607a6f-2350-46fc-b994-525f9af70aa1",
   "metadata": {
    "tags": []
   },
   "outputs": [
    {
     "name": "stdout",
     "output_type": "stream",
     "text": [
      "reading GSM5536157_GEX_Y1_filtered_feature_bc_matrix.h5\n",
      " (0:00:00)\n"
     ]
    },
    {
     "data": {
      "text/plain": [
       "AnnData object with n_obs × n_vars = 5459 × 32285\n",
       "    var: 'gene_ids', 'feature_types', 'genome'"
      ]
     },
     "execution_count": 2,
     "metadata": {},
     "output_type": "execute_result"
    }
   ],
   "source": [
    "adata = sc.read_10x_h5(\"GSM5536157_GEX_Y1_filtered_feature_bc_matrix.h5\", gex_only=False)\n",
    "adata"
   ]
  },
  {
   "cell_type": "code",
   "execution_count": 5,
   "id": "2c1ce12d-75e8-4f74-8dd8-d27c4b53a015",
   "metadata": {
    "tags": []
   },
   "outputs": [
    {
     "data": {
      "text/plain": [
       "Xkr4          mm10\n",
       "Gm1992        mm10\n",
       "Gm19938       mm10\n",
       "Gm37381       mm10\n",
       "Rp1           mm10\n",
       "              ... \n",
       "AC124606.1    mm10\n",
       "AC133095.2    mm10\n",
       "AC133095.1    mm10\n",
       "AC234645.1    mm10\n",
       "AC149090.1    mm10\n",
       "Name: genome, Length: 32285, dtype: object"
      ]
     },
     "execution_count": 5,
     "metadata": {},
     "output_type": "execute_result"
    }
   ],
   "source": [
    "adata.var['genome']"
   ]
  },
  {
   "cell_type": "code",
   "execution_count": 3,
   "id": "e318a5e3-c281-4579-b9ae-4ba60c9b7d31",
   "metadata": {
    "tags": []
   },
   "outputs": [
    {
     "data": {
      "text/plain": [
       "AnnData object with n_obs × n_vars = 5459 × 32285\n",
       "    var: 'gene_ids', 'feature_types'"
      ]
     },
     "execution_count": 3,
     "metadata": {},
     "output_type": "execute_result"
    }
   ],
   "source": [
    "path = \".\"\n",
    "file_prefix = []\n",
    "\n",
    "adata_ext = sc.read_10x_mtx(path, var_names='gene_symbols', \n",
    "                          make_unique=True, cache=False, gex_only=False,)\n",
    "adata_df = adata_ext.to_df()\n",
    "\n",
    "adata_ext"
   ]
  },
  {
   "cell_type": "code",
   "execution_count": null,
   "id": "1b001a56-69e2-439b-b602-6a993a23e11f",
   "metadata": {},
   "outputs": [],
   "source": []
  },
  {
   "cell_type": "code",
   "execution_count": null,
   "id": "05fbfbaa-be66-4956-8c6e-e6b5c25d9cfc",
   "metadata": {},
   "outputs": [],
   "source": []
  }
 ],
 "metadata": {
  "kernelspec": {
   "display_name": "Python 3 (ipykernel)",
   "language": "python",
   "name": "python3"
  },
  "language_info": {
   "codemirror_mode": {
    "name": "ipython",
    "version": 3
   },
   "file_extension": ".py",
   "mimetype": "text/x-python",
   "name": "python",
   "nbconvert_exporter": "python",
   "pygments_lexer": "ipython3",
   "version": "3.13.5"
  }
 },
 "nbformat": 4,
 "nbformat_minor": 5
}
