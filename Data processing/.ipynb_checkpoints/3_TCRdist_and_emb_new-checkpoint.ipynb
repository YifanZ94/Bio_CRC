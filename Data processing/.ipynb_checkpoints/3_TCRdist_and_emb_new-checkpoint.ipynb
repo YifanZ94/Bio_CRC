{
 "cells": [
  {
   "cell_type": "code",
   "execution_count": 2,
   "id": "f719fd77-b181-43b1-837f-daeb2887f841",
   "metadata": {},
   "outputs": [
    {
     "name": "stderr",
     "output_type": "stream",
     "text": [
      "2025-08-25 12:21:12.987799: I tensorflow/core/util/port.cc:153] oneDNN custom operations are on. You may see slightly different numerical results due to floating-point round-off errors from different computation orders. To turn them off, set the environment variable `TF_ENABLE_ONEDNN_OPTS=0`.\n",
      "2025-08-25 12:21:12.995166: E external/local_xla/xla/stream_executor/cuda/cuda_fft.cc:467] Unable to register cuFFT factory: Attempting to register factory for plugin cuFFT when one has already been registered\n",
      "WARNING: All log messages before absl::InitializeLog() is called are written to STDERR\n",
      "E0000 00:00:1756138873.002970 1269145 cuda_dnn.cc:8579] Unable to register cuDNN factory: Attempting to register factory for plugin cuDNN when one has already been registered\n",
      "E0000 00:00:1756138873.005290 1269145 cuda_blas.cc:1407] Unable to register cuBLAS factory: Attempting to register factory for plugin cuBLAS when one has already been registered\n",
      "W0000 00:00:1756138873.011804 1269145 computation_placer.cc:177] computation placer already registered. Please check linkage and avoid linking the same target more than once.\n",
      "W0000 00:00:1756138873.011811 1269145 computation_placer.cc:177] computation placer already registered. Please check linkage and avoid linking the same target more than once.\n",
      "W0000 00:00:1756138873.011812 1269145 computation_placer.cc:177] computation placer already registered. Please check linkage and avoid linking the same target more than once.\n",
      "W0000 00:00:1756138873.011813 1269145 computation_placer.cc:177] computation placer already registered. Please check linkage and avoid linking the same target more than once.\n",
      "2025-08-25 12:21:13.014326: I tensorflow/core/platform/cpu_feature_guard.cc:210] This TensorFlow binary is optimized to use available CPU instructions in performance-critical operations.\n",
      "To enable the following instructions: AVX2 AVX512F AVX512_VNNI AVX512_BF16 AVX_VNNI FMA, in other operations, rebuild TensorFlow with the appropriate compiler flags.\n"
     ]
    }
   ],
   "source": [
    "import warnings\n",
    "warnings.filterwarnings(\"ignore\")\n",
    "\n",
    "import scanpy as sc\n",
    "import numpy as np\n",
    "import matplotlib.pyplot as plt\n",
    "from sklearn.cluster import KMeans\n",
    "import pandas as pd\n",
    "import muon as mu\n",
    "import scirpy as ir\n",
    "np.random.seed(42)\n",
    "import random\n",
    "random.seed(42)"
   ]
  },
  {
   "cell_type": "markdown",
   "id": "afbe5956-3d5f-4bf9-9415-2d7a2f7c12c0",
   "metadata": {
    "tags": []
   },
   "source": [
    "## load mdata"
   ]
  },
  {
   "cell_type": "code",
   "execution_count": 5,
   "id": "eb89efae-6964-4099-ab85-63b2f3921338",
   "metadata": {},
   "outputs": [],
   "source": [
    "## Tonly_CNS_DE2000.h5mu and Tonly_SPL_DE2000.h5mu have modified types and states\n",
    "\n",
    "mdata1 = mu.read('Tonly_CNS_DE2000.h5mu')\n",
    "state_1 = pd.concat([mdata1['gex'].obs['state'], mdata1['airr'].obs['clone_id_size']], axis = 1)\n",
    "\n",
    "mdata2 = mu.read('Tonly_SPL_DE2000.h5mu')\n",
    "state_2 = pd.concat([mdata2['gex'].obs['state'], mdata2['airr'].obs['clone_id_size']], axis = 1)\n",
    "\n",
    "df = pd.concat([state_1, state_2], axis= 0)\n",
    "\n",
    "### merge obs into mdata\n",
    "# merged_obs = merged_obs.reindex(mdata['gex'].obs.index)\n",
    "# for c in cols:\n",
    "#     mdata['gex'].obs[c] = merged_obs[c]"
   ]
  },
  {
   "cell_type": "code",
   "execution_count": 11,
   "id": "2ed14622-1c1b-4797-9162-6caabfb75de5",
   "metadata": {},
   "outputs": [
    {
     "data": {
      "text/html": [
       "<pre>MuData object with n_obs × n_vars = 77559 × 2000\n",
       "  obs:\t&#x27;orig.ident&#x27;, &#x27;nCount_RNA&#x27;, &#x27;nFeature_RNA&#x27;, &#x27;nCount_HTO&#x27;, &#x27;nFeature_HTO&#x27;, &#x27;HTO_maxID&#x27;, &#x27;HTO_secondID&#x27;, &#x27;HTO_margin&#x27;, &#x27;HTO_classification&#x27;, &#x27;HTO_classification.global&#x27;, &#x27;hash.ID&#x27;, &#x27;percent.mt&#x27;, &#x27;integrated_nn_res.2&#x27;, &#x27;seurat_clusters&#x27;, &#x27;level_2_clusters&#x27;, &#x27;manual_cell_type&#x27;, &#x27;run_num&#x27;, &#x27;sample&#x27;, &#x27;mouse_BC&#x27;\n",
       "  2 modalities\n",
       "    gex:\t77559 x 2000\n",
       "      obs:\t&#x27;mouse_id&#x27;, &#x27;date&#x27;, &#x27;tissue&#x27;, &#x27;sample&#x27;, &#x27;n_genes_by_counts&#x27;, &#x27;log1p_n_genes_by_counts&#x27;, &#x27;total_counts&#x27;, &#x27;log1p_total_counts&#x27;, &#x27;pct_counts_in_top_50_genes&#x27;, &#x27;pct_counts_in_top_100_genes&#x27;, &#x27;pct_counts_in_top_200_genes&#x27;, &#x27;pct_counts_in_top_500_genes&#x27;, &#x27;total_counts_mt&#x27;, &#x27;log1p_total_counts_mt&#x27;, &#x27;pct_counts_mt&#x27;, &#x27;total_counts_ribo&#x27;, &#x27;log1p_total_counts_ribo&#x27;, &#x27;pct_counts_ribo&#x27;, &#x27;total_counts_hb&#x27;, &#x27;log1p_total_counts_hb&#x27;, &#x27;pct_counts_hb&#x27;, &#x27;n_genes&#x27;, &#x27;n_counts&#x27;, &#x27;mouse_BC&#x27;\n",
       "      var:\t&#x27;mt&#x27;, &#x27;ribo&#x27;, &#x27;hb&#x27;, &#x27;n_cells_by_counts&#x27;, &#x27;mean_counts&#x27;, &#x27;log1p_mean_counts&#x27;, &#x27;pct_dropout_by_counts&#x27;, &#x27;total_counts&#x27;, &#x27;log1p_total_counts&#x27;, &#x27;n_cells&#x27;, &#x27;highly_variable&#x27;, &#x27;means&#x27;, &#x27;dispersions&#x27;, &#x27;dispersions_norm&#x27;, &#x27;highly_variable_nbatches&#x27;, &#x27;highly_variable_intersection&#x27;\n",
       "      uns:\t&#x27;hvg&#x27;, &#x27;log1p&#x27;\n",
       "    airr:\t77559 x 0\n",
       "      obsm:\t&#x27;airr&#x27;</pre>"
      ],
      "text/plain": [
       "MuData object with n_obs × n_vars = 77559 × 2000\n",
       "  obs:\t'orig.ident', 'nCount_RNA', 'nFeature_RNA', 'nCount_HTO', 'nFeature_HTO', 'HTO_maxID', 'HTO_secondID', 'HTO_margin', 'HTO_classification', 'HTO_classification.global', 'hash.ID', 'percent.mt', 'integrated_nn_res.2', 'seurat_clusters', 'level_2_clusters', 'manual_cell_type', 'run_num', 'sample', 'mouse_BC'\n",
       "  2 modalities\n",
       "    gex:\t77559 x 2000\n",
       "      obs:\t'mouse_id', 'date', 'tissue', 'sample', 'n_genes_by_counts', 'log1p_n_genes_by_counts', 'total_counts', 'log1p_total_counts', 'pct_counts_in_top_50_genes', 'pct_counts_in_top_100_genes', 'pct_counts_in_top_200_genes', 'pct_counts_in_top_500_genes', 'total_counts_mt', 'log1p_total_counts_mt', 'pct_counts_mt', 'total_counts_ribo', 'log1p_total_counts_ribo', 'pct_counts_ribo', 'total_counts_hb', 'log1p_total_counts_hb', 'pct_counts_hb', 'n_genes', 'n_counts', 'mouse_BC'\n",
       "      var:\t'mt', 'ribo', 'hb', 'n_cells_by_counts', 'mean_counts', 'log1p_mean_counts', 'pct_dropout_by_counts', 'total_counts', 'log1p_total_counts', 'n_cells', 'highly_variable', 'means', 'dispersions', 'dispersions_norm', 'highly_variable_nbatches', 'highly_variable_intersection'\n",
       "      uns:\t'hvg', 'log1p'\n",
       "    airr:\t77559 x 0\n",
       "      obsm:\t'airr'"
      ]
     },
     "execution_count": 11,
     "metadata": {},
     "output_type": "execute_result"
    }
   ],
   "source": [
    "# mdata = mu.read(\"/ix1/ylee/Yifan_Zhang/Code_data/data_EAE/anndata/all_Common_DEtop2000.h5mu\")\n",
    "mdata = mu.read(\"/ix1/ylee/Yifan_Zhang/Code_data/data_EAE/anndata/all_Common.h5mu\")\n",
    "\n",
    "# mdata = mdata[mdata.obs['manual_cell_type'].isin(['CD4+ T', 'CD8+ T', 'Treg'])]\n",
    "mdata"
   ]
  },
  {
   "cell_type": "code",
   "execution_count": 51,
   "id": "fde26cfb-709a-46c5-a7b4-ba5caf90167c",
   "metadata": {},
   "outputs": [
    {
     "data": {
      "text/html": [
       "<pre>View of MuData object with n_obs × n_vars = 43562 × 2000\n",
       "  obs:\t&#x27;orig.ident&#x27;, &#x27;nCount_RNA&#x27;, &#x27;nFeature_RNA&#x27;, &#x27;nCount_HTO&#x27;, &#x27;nFeature_HTO&#x27;, &#x27;HTO_maxID&#x27;, &#x27;HTO_secondID&#x27;, &#x27;HTO_margin&#x27;, &#x27;HTO_classification&#x27;, &#x27;HTO_classification.global&#x27;, &#x27;hash.ID&#x27;, &#x27;percent.mt&#x27;, &#x27;integrated_nn_res.2&#x27;, &#x27;seurat_clusters&#x27;, &#x27;level_2_clusters&#x27;, &#x27;manual_cell_type&#x27;, &#x27;run_num&#x27;, &#x27;sample&#x27;, &#x27;mouse_BC&#x27;\n",
       "  2 modalities\n",
       "    gex:\t43562 x 2000\n",
       "      obs:\t&#x27;mouse_id&#x27;, &#x27;date&#x27;, &#x27;tissue&#x27;, &#x27;sample&#x27;, &#x27;n_genes_by_counts&#x27;, &#x27;log1p_n_genes_by_counts&#x27;, &#x27;total_counts&#x27;, &#x27;log1p_total_counts&#x27;, &#x27;pct_counts_in_top_50_genes&#x27;, &#x27;pct_counts_in_top_100_genes&#x27;, &#x27;pct_counts_in_top_200_genes&#x27;, &#x27;pct_counts_in_top_500_genes&#x27;, &#x27;total_counts_mt&#x27;, &#x27;log1p_total_counts_mt&#x27;, &#x27;pct_counts_mt&#x27;, &#x27;total_counts_ribo&#x27;, &#x27;log1p_total_counts_ribo&#x27;, &#x27;pct_counts_ribo&#x27;, &#x27;total_counts_hb&#x27;, &#x27;log1p_total_counts_hb&#x27;, &#x27;pct_counts_hb&#x27;, &#x27;n_genes&#x27;, &#x27;n_counts&#x27;, &#x27;mouse_BC&#x27;\n",
       "      var:\t&#x27;mt&#x27;, &#x27;ribo&#x27;, &#x27;hb&#x27;, &#x27;n_cells_by_counts&#x27;, &#x27;mean_counts&#x27;, &#x27;log1p_mean_counts&#x27;, &#x27;pct_dropout_by_counts&#x27;, &#x27;total_counts&#x27;, &#x27;log1p_total_counts&#x27;, &#x27;n_cells&#x27;, &#x27;highly_variable&#x27;, &#x27;means&#x27;, &#x27;dispersions&#x27;, &#x27;dispersions_norm&#x27;, &#x27;highly_variable_nbatches&#x27;, &#x27;highly_variable_intersection&#x27;\n",
       "      uns:\t&#x27;hvg&#x27;, &#x27;log1p&#x27;\n",
       "    airr:\t43562 x 0\n",
       "      obsm:\t&#x27;airr&#x27;</pre>"
      ],
      "text/plain": [
       "View of MuData object with n_obs × n_vars = 43562 × 2000\n",
       "  obs:\t'orig.ident', 'nCount_RNA', 'nFeature_RNA', 'nCount_HTO', 'nFeature_HTO', 'HTO_maxID', 'HTO_secondID', 'HTO_margin', 'HTO_classification', 'HTO_classification.global', 'hash.ID', 'percent.mt', 'integrated_nn_res.2', 'seurat_clusters', 'level_2_clusters', 'manual_cell_type', 'run_num', 'sample', 'mouse_BC'\n",
       "  2 modalities\n",
       "    gex:\t43562 x 2000\n",
       "      obs:\t'mouse_id', 'date', 'tissue', 'sample', 'n_genes_by_counts', 'log1p_n_genes_by_counts', 'total_counts', 'log1p_total_counts', 'pct_counts_in_top_50_genes', 'pct_counts_in_top_100_genes', 'pct_counts_in_top_200_genes', 'pct_counts_in_top_500_genes', 'total_counts_mt', 'log1p_total_counts_mt', 'pct_counts_mt', 'total_counts_ribo', 'log1p_total_counts_ribo', 'pct_counts_ribo', 'total_counts_hb', 'log1p_total_counts_hb', 'pct_counts_hb', 'n_genes', 'n_counts', 'mouse_BC'\n",
       "      var:\t'mt', 'ribo', 'hb', 'n_cells_by_counts', 'mean_counts', 'log1p_mean_counts', 'pct_dropout_by_counts', 'total_counts', 'log1p_total_counts', 'n_cells', 'highly_variable', 'means', 'dispersions', 'dispersions_norm', 'highly_variable_nbatches', 'highly_variable_intersection'\n",
       "      uns:\t'hvg', 'log1p'\n",
       "    airr:\t43562 x 0\n",
       "      obsm:\t'airr'"
      ]
     },
     "execution_count": 51,
     "metadata": {},
     "output_type": "execute_result"
    }
   ],
   "source": [
    "common_obs = mdata1.obs_names.intersection(mdata.obs_names).to_list() + mdata2.obs_names.intersection(mdata.obs_names).to_list()\n",
    "mdata = mdata[common_obs,:]\n",
    "mdata"
   ]
  },
  {
   "cell_type": "code",
   "execution_count": 60,
   "id": "8dd4703b-736e-43d3-a5f4-874bd4aec35c",
   "metadata": {
    "tags": []
   },
   "outputs": [
    {
     "data": {
      "text/html": [
       "<pre>MuData object with n_obs × n_vars = 43448 × 2000\n",
       "  obs:\t&#x27;orig.ident&#x27;, &#x27;nCount_RNA&#x27;, &#x27;nFeature_RNA&#x27;, &#x27;nCount_HTO&#x27;, &#x27;nFeature_HTO&#x27;, &#x27;HTO_maxID&#x27;, &#x27;HTO_secondID&#x27;, &#x27;HTO_margin&#x27;, &#x27;HTO_classification&#x27;, &#x27;HTO_classification.global&#x27;, &#x27;hash.ID&#x27;, &#x27;percent.mt&#x27;, &#x27;integrated_nn_res.2&#x27;, &#x27;seurat_clusters&#x27;, &#x27;level_2_clusters&#x27;, &#x27;manual_cell_type&#x27;, &#x27;run_num&#x27;, &#x27;sample&#x27;, &#x27;mouse_BC&#x27;, &#x27;cloned&#x27;, &#x27;in_two_tissue&#x27;, &#x27;VJ_1_cdr3_aa&#x27;, &#x27;VJ_1_v_call&#x27;, &#x27;VJ_1_j_call&#x27;, &#x27;VDJ_1_cdr3_aa&#x27;, &#x27;VDJ_1_v_call&#x27;, &#x27;VDJ_1_j_call&#x27;\n",
       "  2 modalities\n",
       "    gex:\t43448 x 2000\n",
       "      obs:\t&#x27;mouse_id&#x27;, &#x27;date&#x27;, &#x27;tissue&#x27;, &#x27;sample&#x27;, &#x27;n_genes_by_counts&#x27;, &#x27;log1p_n_genes_by_counts&#x27;, &#x27;total_counts&#x27;, &#x27;log1p_total_counts&#x27;, &#x27;pct_counts_in_top_50_genes&#x27;, &#x27;pct_counts_in_top_100_genes&#x27;, &#x27;pct_counts_in_top_200_genes&#x27;, &#x27;pct_counts_in_top_500_genes&#x27;, &#x27;total_counts_mt&#x27;, &#x27;log1p_total_counts_mt&#x27;, &#x27;pct_counts_mt&#x27;, &#x27;total_counts_ribo&#x27;, &#x27;log1p_total_counts_ribo&#x27;, &#x27;pct_counts_ribo&#x27;, &#x27;total_counts_hb&#x27;, &#x27;log1p_total_counts_hb&#x27;, &#x27;pct_counts_hb&#x27;, &#x27;n_genes&#x27;, &#x27;n_counts&#x27;, &#x27;mouse_BC&#x27;\n",
       "      var:\t&#x27;mt&#x27;, &#x27;ribo&#x27;, &#x27;hb&#x27;, &#x27;n_cells_by_counts&#x27;, &#x27;mean_counts&#x27;, &#x27;log1p_mean_counts&#x27;, &#x27;pct_dropout_by_counts&#x27;, &#x27;total_counts&#x27;, &#x27;log1p_total_counts&#x27;, &#x27;n_cells&#x27;, &#x27;highly_variable&#x27;, &#x27;means&#x27;, &#x27;dispersions&#x27;, &#x27;dispersions_norm&#x27;, &#x27;highly_variable_nbatches&#x27;, &#x27;highly_variable_intersection&#x27;\n",
       "      uns:\t&#x27;hvg&#x27;, &#x27;log1p&#x27;\n",
       "    airr:\t43448 x 0\n",
       "      obs:\t&#x27;receptor_type&#x27;, &#x27;receptor_subtype&#x27;, &#x27;chain_pairing&#x27;, &#x27;clone_id&#x27;, &#x27;clone_id_size&#x27;\n",
       "      uns:\t&#x27;chain_indices&#x27;, &#x27;ir_dist_nt_identity&#x27;, &#x27;clone_id&#x27;, &#x27;clonotype_network&#x27;\n",
       "      obsm:\t&#x27;airr&#x27;, &#x27;chain_indices&#x27;, &#x27;X_clonotype_network&#x27;</pre>"
      ],
      "text/plain": [
       "MuData object with n_obs × n_vars = 43448 × 2000\n",
       "  obs:\t'orig.ident', 'nCount_RNA', 'nFeature_RNA', 'nCount_HTO', 'nFeature_HTO', 'HTO_maxID', 'HTO_secondID', 'HTO_margin', 'HTO_classification', 'HTO_classification.global', 'hash.ID', 'percent.mt', 'integrated_nn_res.2', 'seurat_clusters', 'level_2_clusters', 'manual_cell_type', 'run_num', 'sample', 'mouse_BC', 'cloned', 'in_two_tissue', 'VJ_1_cdr3_aa', 'VJ_1_v_call', 'VJ_1_j_call', 'VDJ_1_cdr3_aa', 'VDJ_1_v_call', 'VDJ_1_j_call'\n",
       "  2 modalities\n",
       "    gex:\t43448 x 2000\n",
       "      obs:\t'mouse_id', 'date', 'tissue', 'sample', 'n_genes_by_counts', 'log1p_n_genes_by_counts', 'total_counts', 'log1p_total_counts', 'pct_counts_in_top_50_genes', 'pct_counts_in_top_100_genes', 'pct_counts_in_top_200_genes', 'pct_counts_in_top_500_genes', 'total_counts_mt', 'log1p_total_counts_mt', 'pct_counts_mt', 'total_counts_ribo', 'log1p_total_counts_ribo', 'pct_counts_ribo', 'total_counts_hb', 'log1p_total_counts_hb', 'pct_counts_hb', 'n_genes', 'n_counts', 'mouse_BC'\n",
       "      var:\t'mt', 'ribo', 'hb', 'n_cells_by_counts', 'mean_counts', 'log1p_mean_counts', 'pct_dropout_by_counts', 'total_counts', 'log1p_total_counts', 'n_cells', 'highly_variable', 'means', 'dispersions', 'dispersions_norm', 'highly_variable_nbatches', 'highly_variable_intersection'\n",
       "      uns:\t'hvg', 'log1p'\n",
       "    airr:\t43448 x 0\n",
       "      obs:\t'receptor_type', 'receptor_subtype', 'chain_pairing', 'clone_id', 'clone_id_size'\n",
       "      uns:\t'chain_indices', 'ir_dist_nt_identity', 'clone_id', 'clonotype_network'\n",
       "      obsm:\t'airr', 'chain_indices', 'X_clonotype_network'"
      ]
     },
     "execution_count": 60,
     "metadata": {},
     "output_type": "execute_result"
    }
   ],
   "source": [
    "# exclude 2D2 transfer samples\n",
    "prefixes_to_remove = ('CMO', 'ENSM', 'mt'\n",
    "                      'Trav', 'Traj', 'Trac', 'Trbv', 'Trbj', \n",
    "                     'Trbc', 'Trdv', 'Trdj', 'Trdc', 'Trgv', 'Trgj', 'Trgc') \n",
    "\n",
    "TCR_gene_mask = mdata.var_names.str.startswith(prefixes_to_remove)\n",
    "mdata.mod['gex'] = mdata['gex'][:, ~TCR_gene_mask]\n",
    "\n",
    "selected_samples_id = [\"CMO301\", \"CMO302\", \"CMO318\", \"CMO325\"]\n",
    "selected_date = [\"0516\"]\n",
    "selected_tissue = [\"CN\"]\n",
    "\n",
    "mdata = mdata[~ (mdata['gex'].obs[\"mouse_BC\"].isin(selected_samples_id) & mdata[\"gex\"].obs[\"date\"].isin(selected_date))]\n",
    "\n",
    "meta_airr = ir.get.airr(mdata['airr'], [\"cdr3_aa\", \"v_call\", \"j_call\"] ,  ('VJ_1', 'VDJ_1'))\n",
    "mdata.obs = mdata.obs.join(meta_airr)\n",
    "mdata"
   ]
  },
  {
   "cell_type": "markdown",
   "id": "7eaa2ee8-d4a3-4a84-8a59-35ea4ee4a5bb",
   "metadata": {},
   "source": [
    "## clonotype"
   ]
  },
  {
   "cell_type": "code",
   "execution_count": 53,
   "id": "98637085-1cd0-4880-8db3-92e69b6ca6fc",
   "metadata": {
    "tags": []
   },
   "outputs": [],
   "source": [
    "ir.pp.index_chains(mdata)\n",
    "ir.tl.chain_qc(mdata)\n",
    "\n",
    "# by nucleotide acid seq\n",
    "ir.pp.ir_dist(mdata)\n",
    "ir.tl.define_clonotypes(mdata, receptor_arms=\"all\", dual_ir=\"primary_only\")\n",
    "ir.tl.clonotype_network(mdata, min_cells=10)\n",
    "\n",
    "# print(\"The num of clones is \" + mdata['airr'].obs['clone_id'][-1])"
   ]
  },
  {
   "cell_type": "code",
   "execution_count": 54,
   "id": "d9b33657-3b21-4444-bdf2-edd9ef74d3cd",
   "metadata": {
    "tags": []
   },
   "outputs": [
    {
     "data": {
      "text/plain": [
       "in_two_tissue\n",
       "False    41248\n",
       "True      2200\n",
       "Name: count, dtype: int64"
      ]
     },
     "execution_count": 54,
     "metadata": {},
     "output_type": "execute_result"
    }
   ],
   "source": [
    "# select cells appear in both CNS and SPL\n",
    "\n",
    "# thresh on clono size\n",
    "clone_thresh = 5\n",
    "mdata.obs['cloned'] = mdata['airr'].obs['clone_id_size'] >= clone_thresh\n",
    "\n",
    "# Check if appear in two tissues\n",
    "mdata_cloned = mdata[mdata.obs['cloned']]\n",
    "clone_tissue_df = mdata_cloned['airr'].obs[['clone_id']].join(mdata_cloned['gex'].obs['tissue'])\n",
    "clone_tissue_counts = clone_tissue_df.groupby('clone_id')['tissue'].nunique()\n",
    "multi_tissue_clones = clone_tissue_counts[clone_tissue_counts > 1].index\n",
    "mdata.obs['in_two_tissue'] = mdata['airr'].obs['clone_id'].isin(multi_tissue_clones)\n",
    "\n",
    "\n",
    "# Step 1: Extract clone_id and tissue info\n",
    "# clone_tissue_df = mdata['airr'].obs[['clone_id']].join(mdata['gex'].obs['tissue'])\n",
    "# # Step 2: Group by clone_id and count unique tissues\n",
    "# clone_tissue_counts = clone_tissue_df.groupby('clone_id')['tissue'].nunique()\n",
    "# # Step 3: Find clone_ids that appear in more than one tissue\n",
    "# multi_tissue_clones = clone_tissue_counts[clone_tissue_counts > 1].index\n",
    "# mdata.obs['in_two_tissue'] = mdata['airr'].obs['clone_id'].isin(multi_tissue_clones)\n",
    "\n",
    "mdata.obs['in_two_tissue'].value_counts()"
   ]
  },
  {
   "cell_type": "markdown",
   "id": "3036a0ff-32b2-4800-a4a5-ee44789aa69b",
   "metadata": {
    "tags": []
   },
   "source": [
    "## TCR dist"
   ]
  },
  {
   "cell_type": "code",
   "execution_count": 61,
   "id": "23a2baac-24d1-4f54-a588-439a0c8a130a",
   "metadata": {
    "tags": []
   },
   "outputs": [],
   "source": [
    "from tcrdist.repertoire import TCRrep\n",
    "# formating by tcrdist requirements\n",
    "ref_df = pd.read_csv('data/TCRdist/std_MOG_assays.csv')\n",
    "ref_df.rename(columns={'Chain 2 CDR3': 'cdr3_b_aa', 'Chain 2 V Gene':'v_b_gene', \n",
    "                   'Chain 2 J Gene':'j_b_gene', }, inplace=True)\n",
    "\n",
    "ref_df['v_b_gene'] = ref_df['v_b_gene'].apply(lambda x: str(x) if str(x).endswith('*01') else str(x) + '*01')\n",
    "ref_df['j_b_gene'] = ref_df['j_b_gene'].apply(lambda x: str(x) if str(x).endswith('*01') else str(x) + '*01')\n"
   ]
  },
  {
   "cell_type": "code",
   "execution_count": 62,
   "id": "cecf318f-1bd1-4da0-be7b-84d2ca9db14d",
   "metadata": {
    "tags": []
   },
   "outputs": [],
   "source": [
    "# mdata_subset = mdata[mdata.obs['cloned'] & ~mdata.obs['in_two_tissue']]\n",
    "# mdata_subset2 = mdata[mdata.obs['in_two_tissue']]\n",
    "# mdata_subset3 = mdata[~mdata.obs['cloned']]     \n",
    "\n",
    "# mdataSub_list = [mdata]"
   ]
  },
  {
   "cell_type": "code",
   "execution_count": 63,
   "id": "1bb6ab79-60c3-4765-9b1e-e8a0348f95c1",
   "metadata": {
    "tags": []
   },
   "outputs": [],
   "source": [
    "def mdata_TCR_formating(mdata_subset):\n",
    "    query_df = mdata_subset.obs[['VDJ_1_cdr3_aa', 'VDJ_1_v_call', 'VDJ_1_j_call']]\n",
    "    query_df['cell_id'] = query_df.index\n",
    "    query_df.dropna(subset = [\"VDJ_1_cdr3_aa\"])\n",
    "\n",
    "    query_df.rename(columns={'VDJ_1_cdr3_aa': 'cdr3_b_aa', 'VDJ_1_v_call':'v_b_gene', \n",
    "                       'VDJ_1_j_call':'j_b_gene', }, inplace=True)\n",
    "\n",
    "    # 'VDJ_1_consensus_count':'count'\n",
    "    query_df['cdr3_b_aa'] = 'C' + query_df['cdr3_b_aa'].astype(str) + 'F'\n",
    "\n",
    "    query_df['v_b_gene'] = query_df['v_b_gene'].str.split('+').str[0]\n",
    "    query_df['j_b_gene'] = query_df['j_b_gene'].str.split('+').str[0]\n",
    "\n",
    "    query_df['v_b_gene'] = query_df['v_b_gene'].apply(lambda x: str(x) if str(x).endswith('*01') else str(x) + '*01')\n",
    "    query_df['j_b_gene'] = query_df['j_b_gene'].apply(lambda x: str(x) if str(x).endswith('*01') else str(x) + '*01')\n",
    "\n",
    "    # query_df_clones = query_df_clones.drop(columns=[\"cell_id\"])\n",
    "    query_df_unique = query_df.drop_duplicates(['cdr3_b_aa'])\n",
    "    return query_df_unique\n"
   ]
  },
  {
   "cell_type": "code",
   "execution_count": 64,
   "id": "f7ed927b-8069-4abc-b7e2-8098a0bf239a",
   "metadata": {
    "tags": []
   },
   "outputs": [],
   "source": [
    "def TCRdist_to_ref(ref_df, query_df_unique):\n",
    "    tr_ref = TCRrep(cell_df = ref_df, \n",
    "                organism = 'mouse', \n",
    "                chains = ['beta'],\n",
    "                compute_distances = False,)\n",
    "\n",
    "    tr_q = TCRrep(cell_df = query_df_unique, \n",
    "                organism = 'mouse', \n",
    "                chains = ['beta'],\n",
    "                compute_distances = False,)\n",
    "\n",
    "    tr_ref.compute_rect_distances(tr_ref.clone_df,  tr_q.clone_df)\n",
    "    print(tr_ref.rw_beta.shape)\n",
    "    print(tr_ref.rw_beta)\n",
    "    return tr_ref, tr_q\n"
   ]
  },
  {
   "cell_type": "code",
   "execution_count": 65,
   "id": "605d5e17-0602-4178-9f74-2dc3bbfc4f17",
   "metadata": {
    "tags": []
   },
   "outputs": [
    {
     "name": "stdout",
     "output_type": "stream",
     "text": [
      "(25, 32401)\n",
      "[[126 134 142 ... 126 114 126]\n",
      " [122 127 152 ... 141 129 141]\n",
      " [162 155 124 ... 150 126 150]\n",
      " ...\n",
      " [114 134 142 ... 126 114 126]\n",
      " [126 134 142 ... 126 111 126]\n",
      " [138 146 118 ... 138 120 132]]\n"
     ]
    },
    {
     "data": {
      "image/png": "[encoded data removed]",
      "text/plain": [
       "<Figure size 640x480 with 1 Axes>"
      ]
     },
     "metadata": {},
     "output_type": "display_data"
    }
   ],
   "source": [
    "import seaborn as sns\n",
    "import matplotlib.pyplot as plt\n",
    "\n",
    "dist_thres = 85\n",
    "tr_list = []\n",
    "\n",
    "query_df = mdata_TCR_formating(mdata)\n",
    "\n",
    "tr_out, tr_query = TCRdist_to_ref(ref_df, query_df)\n",
    "tr_list.append(tr_out)\n",
    "flat_arr = tr_out.rw_beta.min(axis=0).flatten()\n",
    "TCR_all = tr_query.clone_df\n",
    "TCR_all['TCRdist_MOG'] = flat_arr\n",
    "\n",
    "plt.hist(flat_arr, bins=50, density=True, alpha=0.4)\n",
    "\n",
    "selected_clone_id = flat_arr < dist_thres\n",
    "TCR_selected = TCR_all[selected_clone_id]\n",
    "    \n",
    "\n",
    "# # Example 2D array\n",
    "# arr = tr.rw_beta.min(axis=0)\n",
    "\n",
    "# # Flatten to 1D\n",
    "# flat_arr = arr.flatten()\n",
    "\n",
    "# Plot KDE (Kernel Density Estimate)\n",
    "plt.legend(['two tissue', 'one tissue'])\n",
    "plt.title(\"Histogram of 2D Array Elements\")\n",
    "plt.xlabel(\"Distance\")\n",
    "plt.ylabel(\"Density\")\n",
    "plt.show()"
   ]
  },
  {
   "cell_type": "code",
   "execution_count": 66,
   "id": "86b0af38-8127-49ef-b6c9-0352374713aa",
   "metadata": {
    "tags": []
   },
   "outputs": [
    {
     "data": {
      "text/html": [
       "<div>\n",
       "<style scoped>\n",
       "    .dataframe tbody tr th:only-of-type {\n",
       "        vertical-align: middle;\n",
       "    }\n",
       "\n",
       "    .dataframe tbody tr th {\n",
       "        vertical-align: top;\n",
       "    }\n",
       "\n",
       "    .dataframe thead th {\n",
       "        text-align: right;\n",
       "    }\n",
       "</style>\n",
       "<table border=\"1\" class=\"dataframe\">\n",
       "  <thead>\n",
       "    <tr style=\"text-align: right;\">\n",
       "      <th></th>\n",
       "      <th>cdr3_b_aa</th>\n",
       "      <th>v_b_gene</th>\n",
       "      <th>j_b_gene</th>\n",
       "      <th>cdr1_b_aa</th>\n",
       "      <th>cdr2_b_aa</th>\n",
       "      <th>pmhc_b_aa</th>\n",
       "      <th>count</th>\n",
       "      <th>clone_id</th>\n",
       "      <th>TCRdist_MOG</th>\n",
       "      <th>cdr3_b_aa_trimed</th>\n",
       "      <th>clone_size</th>\n",
       "    </tr>\n",
       "  </thead>\n",
       "  <tbody>\n",
       "    <tr>\n",
       "      <th>3</th>\n",
       "      <td>CAAGAGSSGNTLYF</td>\n",
       "      <td>TRBV19*01</td>\n",
       "      <td>TRBJ1-3*01</td>\n",
       "      <td>FNH.......DT</td>\n",
       "      <td>SIT....END</td>\n",
       "      <td>E.KKSS</td>\n",
       "      <td>1</td>\n",
       "      <td>4</td>\n",
       "      <td>72</td>\n",
       "      <td>AAGAGSSGNTLY</td>\n",
       "      <td>2</td>\n",
       "    </tr>\n",
       "    <tr>\n",
       "      <th>5</th>\n",
       "      <td>CAAGGAETLYF</td>\n",
       "      <td>TRBV19*01</td>\n",
       "      <td>TRBJ2-3*01</td>\n",
       "      <td>FNH.......DT</td>\n",
       "      <td>SIT....END</td>\n",
       "      <td>E.KKSS</td>\n",
       "      <td>1</td>\n",
       "      <td>6</td>\n",
       "      <td>72</td>\n",
       "      <td>AAGGAETLY</td>\n",
       "      <td>1</td>\n",
       "    </tr>\n",
       "    <tr>\n",
       "      <th>7</th>\n",
       "      <td>CAAGGANTLYF</td>\n",
       "      <td>TRBV29*01</td>\n",
       "      <td>TRBJ2-4*01</td>\n",
       "      <td>MSH.......ET</td>\n",
       "      <td>SYD....VDS</td>\n",
       "      <td>K.KREH</td>\n",
       "      <td>1</td>\n",
       "      <td>8</td>\n",
       "      <td>77</td>\n",
       "      <td>AAGGANTLY</td>\n",
       "      <td>1</td>\n",
       "    </tr>\n",
       "    <tr>\n",
       "      <th>15</th>\n",
       "      <td>CAARGGTEVFF</td>\n",
       "      <td>TRBV13-3*01</td>\n",
       "      <td>TRBJ1-1*01</td>\n",
       "      <td>NNH.......DY</td>\n",
       "      <td>SYV....ADS</td>\n",
       "      <td>P.SQEN</td>\n",
       "      <td>1</td>\n",
       "      <td>16</td>\n",
       "      <td>63</td>\n",
       "      <td>AARGGTEVF</td>\n",
       "      <td>1</td>\n",
       "    </tr>\n",
       "    <tr>\n",
       "      <th>16</th>\n",
       "      <td>CAARGPNTEVFF</td>\n",
       "      <td>TRBV13-3*01</td>\n",
       "      <td>TRBJ1-1*01</td>\n",
       "      <td>NNH.......DY</td>\n",
       "      <td>SYV....ADS</td>\n",
       "      <td>P.SQEN</td>\n",
       "      <td>1</td>\n",
       "      <td>17</td>\n",
       "      <td>75</td>\n",
       "      <td>AARGPNTEVF</td>\n",
       "      <td>1</td>\n",
       "    </tr>\n",
       "    <tr>\n",
       "      <th>...</th>\n",
       "      <td>...</td>\n",
       "      <td>...</td>\n",
       "      <td>...</td>\n",
       "      <td>...</td>\n",
       "      <td>...</td>\n",
       "      <td>...</td>\n",
       "      <td>...</td>\n",
       "      <td>...</td>\n",
       "      <td>...</td>\n",
       "      <td>...</td>\n",
       "      <td>...</td>\n",
       "    </tr>\n",
       "    <tr>\n",
       "      <th>31963</th>\n",
       "      <td>CTCSDWGGAETLYF</td>\n",
       "      <td>TRBV1*01</td>\n",
       "      <td>TRBJ2-3*01</td>\n",
       "      <td>NSQ......YPW</td>\n",
       "      <td>LRS....PGD</td>\n",
       "      <td>V.TDTE</td>\n",
       "      <td>1</td>\n",
       "      <td>31964</td>\n",
       "      <td>84</td>\n",
       "      <td>TCSDWGGAETLY</td>\n",
       "      <td>1</td>\n",
       "    </tr>\n",
       "    <tr>\n",
       "      <th>32001</th>\n",
       "      <td>CTCSETGGYAEQFF</td>\n",
       "      <td>TRBV1*01</td>\n",
       "      <td>TRBJ2-1*01</td>\n",
       "      <td>NSQ......YPW</td>\n",
       "      <td>LRS....PGD</td>\n",
       "      <td>V.TDTE</td>\n",
       "      <td>1</td>\n",
       "      <td>32002</td>\n",
       "      <td>78</td>\n",
       "      <td>TCSETGGYAEQF</td>\n",
       "      <td>1</td>\n",
       "    </tr>\n",
       "    <tr>\n",
       "      <th>32002</th>\n",
       "      <td>CTCSETGNYAEQFF</td>\n",
       "      <td>TRBV1*01</td>\n",
       "      <td>TRBJ2-1*01</td>\n",
       "      <td>NSQ......YPW</td>\n",
       "      <td>LRS....PGD</td>\n",
       "      <td>V.TDTE</td>\n",
       "      <td>1</td>\n",
       "      <td>32003</td>\n",
       "      <td>78</td>\n",
       "      <td>TCSETGNYAEQF</td>\n",
       "      <td>1</td>\n",
       "    </tr>\n",
       "    <tr>\n",
       "      <th>32034</th>\n",
       "      <td>CTCSGDSSAETLYF</td>\n",
       "      <td>TRBV1*01</td>\n",
       "      <td>TRBJ2-3*01</td>\n",
       "      <td>NSQ......YPW</td>\n",
       "      <td>LRS....PGD</td>\n",
       "      <td>V.TDTE</td>\n",
       "      <td>1</td>\n",
       "      <td>32035</td>\n",
       "      <td>81</td>\n",
       "      <td>TCSGDSSAETLY</td>\n",
       "      <td>1</td>\n",
       "    </tr>\n",
       "    <tr>\n",
       "      <th>32346</th>\n",
       "      <td>CTCSVGTSSAETLYF</td>\n",
       "      <td>TRBV1*01</td>\n",
       "      <td>TRBJ2-3*01</td>\n",
       "      <td>NSQ......YPW</td>\n",
       "      <td>LRS....PGD</td>\n",
       "      <td>V.TDTE</td>\n",
       "      <td>1</td>\n",
       "      <td>32347</td>\n",
       "      <td>84</td>\n",
       "      <td>TCSVGTSSAETLY</td>\n",
       "      <td>1</td>\n",
       "    </tr>\n",
       "  </tbody>\n",
       "</table>\n",
       "<p>6299 rows × 11 columns</p>\n",
       "</div>"
      ],
      "text/plain": [
       "             cdr3_b_aa     v_b_gene    j_b_gene     cdr1_b_aa   cdr2_b_aa  \\\n",
       "3       CAAGAGSSGNTLYF    TRBV19*01  TRBJ1-3*01  FNH.......DT  SIT....END   \n",
       "5          CAAGGAETLYF    TRBV19*01  TRBJ2-3*01  FNH.......DT  SIT....END   \n",
       "7          CAAGGANTLYF    TRBV29*01  TRBJ2-4*01  MSH.......ET  SYD....VDS   \n",
       "15         CAARGGTEVFF  TRBV13-3*01  TRBJ1-1*01  NNH.......DY  SYV....ADS   \n",
       "16        CAARGPNTEVFF  TRBV13-3*01  TRBJ1-1*01  NNH.......DY  SYV....ADS   \n",
       "...                ...          ...         ...           ...         ...   \n",
       "31963   CTCSDWGGAETLYF     TRBV1*01  TRBJ2-3*01  NSQ......YPW  LRS....PGD   \n",
       "32001   CTCSETGGYAEQFF     TRBV1*01  TRBJ2-1*01  NSQ......YPW  LRS....PGD   \n",
       "32002   CTCSETGNYAEQFF     TRBV1*01  TRBJ2-1*01  NSQ......YPW  LRS....PGD   \n",
       "32034   CTCSGDSSAETLYF     TRBV1*01  TRBJ2-3*01  NSQ......YPW  LRS....PGD   \n",
       "32346  CTCSVGTSSAETLYF     TRBV1*01  TRBJ2-3*01  NSQ......YPW  LRS....PGD   \n",
       "\n",
       "      pmhc_b_aa  count  clone_id  TCRdist_MOG cdr3_b_aa_trimed  clone_size  \n",
       "3        E.KKSS      1         4           72     AAGAGSSGNTLY           2  \n",
       "5        E.KKSS      1         6           72        AAGGAETLY           1  \n",
       "7        K.KREH      1         8           77        AAGGANTLY           1  \n",
       "15       P.SQEN      1        16           63        AARGGTEVF           1  \n",
       "16       P.SQEN      1        17           75       AARGPNTEVF           1  \n",
       "...         ...    ...       ...          ...              ...         ...  \n",
       "31963    V.TDTE      1     31964           84     TCSDWGGAETLY           1  \n",
       "32001    V.TDTE      1     32002           78     TCSETGGYAEQF           1  \n",
       "32002    V.TDTE      1     32003           78     TCSETGNYAEQF           1  \n",
       "32034    V.TDTE      1     32035           81     TCSGDSSAETLY           1  \n",
       "32346    V.TDTE      1     32347           84    TCSVGTSSAETLY           1  \n",
       "\n",
       "[6299 rows x 11 columns]"
      ]
     },
     "execution_count": 66,
     "metadata": {},
     "output_type": "execute_result"
    }
   ],
   "source": [
    "mdata_temp = mdata\n",
    "\n",
    "my_dict = dict(zip(mdata_temp.obs['VDJ_1_cdr3_aa'], mdata_temp['airr'].obs['clone_id_size']))\n",
    "TCR_selected['cdr3_b_aa_trimed'] = TCR_selected['cdr3_b_aa'].str[1:-1]\n",
    "\n",
    "TCR_selected['clone_size'] = TCR_selected['cdr3_b_aa_trimed'].map(my_dict)\n",
    "TCR_selected"
   ]
  },
  {
   "cell_type": "code",
   "execution_count": 67,
   "id": "c8b2784e-7130-4fe7-b38b-b53fe038dcf3",
   "metadata": {
    "tags": []
   },
   "outputs": [],
   "source": [
    "# TCR_all.to_csv('TCRdist_MOG.csv')"
   ]
  },
  {
   "cell_type": "markdown",
   "id": "95b3ee32-59fc-4ff7-ad40-d92dce56c1a8",
   "metadata": {},
   "source": [
    "## DAE dist"
   ]
  },
  {
   "cell_type": "code",
   "execution_count": 68,
   "id": "ee46f01b-8792-487f-bb3e-eed7496c1909",
   "metadata": {},
   "outputs": [],
   "source": [
    "mdata_temp = mdata\n",
    "TCR_all['cdr3_b_aa_trimed'] = TCR_all['cdr3_b_aa'].str[1:-1].astype(str)\n",
    "\n",
    "TCR_df = TCR_all[['cdr3_b_aa_trimed', 'TCRdist_MOG']]\n",
    "\n",
    "mdata_temp = mdata_temp[mdata.obs['VDJ_1_cdr3_aa'].isin(TCR_all['cdr3_b_aa_trimed'])]\n",
    "mdata_temp.obs['sc_BC'] = mdata_temp['gex'].obs.index\n",
    "\n",
    "mdata_temp.obs = mdata_temp.obs.merge(TCR_df, how='left', left_on='VDJ_1_cdr3_aa', right_on='cdr3_b_aa_trimed')\n",
    "mdata_temp.obs.set_index(mdata_temp.obs['sc_BC'], inplace=True)"
   ]
  },
  {
   "cell_type": "code",
   "execution_count": 69,
   "id": "c3209a68-9b51-4554-b92a-da6282916a85",
   "metadata": {
    "tags": []
   },
   "outputs": [],
   "source": [
    "type_markers = ['Cd4', 'Cd8a','Cd8b1','Nkg7','Foxp3', 'Ikzf2', 'Ctla4', 'Il2ra','Ccr6', 'Il22']\n",
    "state_markers = ['Isg15', 'Gbp2', 'Ifih1', 'Icos', 'Cd69', 'Cd28', 'Pdcd1', 'Lag3', 'Havcr2', 'Ccr7', 'Sell', 'Cd27']\n",
    "markers_in = []\n",
    "\n",
    "for i in state_markers:\n",
    "    if i in mdata[\"gex\"].var_names:\n",
    "        markers_in.append(i) \n"
   ]
  },
  {
   "cell_type": "code",
   "execution_count": 70,
   "id": "2a8c85fe-2e8d-4650-a29a-17d61b2cd61d",
   "metadata": {},
   "outputs": [],
   "source": [
    "clone_thresh = 5\n",
    "mdata_temp.obs['cloned'] = mdata_temp['airr'].obs['clone_id_size'] >= clone_thresh\n",
    "\n",
    "# Check if appear in two tissues\n",
    "mdata_cloned = mdata_temp[mdata_temp.obs['cloned']]\n",
    "clone_tissue_df = mdata_cloned['airr'].obs[['clone_id']].join(mdata_cloned['gex'].obs['tissue'])\n",
    "clone_tissue_counts = clone_tissue_df.groupby('clone_id')['tissue'].nunique()\n",
    "multi_tissue_clones = clone_tissue_counts[clone_tissue_counts > 1].index\n",
    "\n",
    "mdata_temp.obs['in_two_tissue'] = mdata_temp['airr'].obs['clone_id'].isin(multi_tissue_clones)\n"
   ]
  },
  {
   "cell_type": "code",
   "execution_count": 71,
   "id": "267258e6-6aaa-48cf-8905-ad66b3b14578",
   "metadata": {},
   "outputs": [],
   "source": [
    "mdata_temp.obs['is_sim'] = 'mid'\n",
    "mdata_temp.obs['is_sim'][mdata_temp.obs['TCRdist_MOG'] < 60] = 'True'\n",
    "mdata_temp.obs['is_sim'][mdata_temp.obs['TCRdist_MOG'] > 140] = 'False'\n",
    "mdata_temp = mdata_temp[mdata_temp.obs['is_sim'].isin(['True', 'False'])]"
   ]
  },
  {
   "cell_type": "code",
   "execution_count": 72,
   "id": "cd24640a-9ff6-4621-9e71-70126a38d86e",
   "metadata": {},
   "outputs": [],
   "source": [
    "import scanpy as sc\n",
    "sc.pp.pca(mdata_temp[\"gex\"], svd_solver=\"arpack\", n_comps=10)\n",
    "sc.pp.neighbors(mdata_temp[\"gex\"], use_rep='X_pca', n_neighbors = 10)\n",
    "sc.tl.umap(mdata_temp[\"gex\"], min_dist=0.5, spread=1.0)"
   ]
  },
  {
   "cell_type": "code",
   "execution_count": 73,
   "id": "3fbad928-f574-43df-b311-9e1766507e7a",
   "metadata": {},
   "outputs": [
    {
     "data": {
      "text/plain": [
       "is_sim\n",
       "True     161\n",
       "False    135\n",
       "Name: count, dtype: int64"
      ]
     },
     "execution_count": 73,
     "metadata": {},
     "output_type": "execute_result"
    }
   ],
   "source": [
    "## subseting\n",
    "mdata_temp.update()\n",
    "# mdata_sub = mdata_temp[ (mdata_temp.obs['cloned']) & (~mdata_temp.obs['in_two_tissue'])]\n",
    "\n",
    "mdata_sub = mdata_temp[mdata_temp.obs['in_two_tissue']]\n",
    "\n",
    "# mdata_sub = mdata_temp[mdata_temp.obs['cloned']]    \n",
    "\n",
    "# mdata_sub = mdata_temp\n",
    "\n",
    "group_name = 'is_sim'\n",
    "mdata_sub['gex'].obs[group_name] = mdata_sub.obs[group_name].astype('category')\n",
    "mdata_sub['gex'].obs[group_name].value_counts()"
   ]
  },
  {
   "cell_type": "code",
   "execution_count": 74,
   "id": "e19ddcdb-0cfa-4e2f-8737-f09dfe241561",
   "metadata": {},
   "outputs": [
    {
     "data": {
      "image/png": "[encoded data removed]",
      "text/plain": [
       "<Figure size 1455.6x480 with 2 Axes>"
      ]
     },
     "metadata": {},
     "output_type": "display_data"
    }
   ],
   "source": [
    "sc.pl.umap(mdata_sub[\"gex\"], color=[\"tissue\", 'is_sim'])"
   ]
  },
  {
   "cell_type": "code",
   "execution_count": 75,
   "id": "0ccd03e8-6c18-4349-ab3f-60c8c8c8ce61",
   "metadata": {
    "scrolled": true
   },
   "outputs": [],
   "source": [
    "groups = ['True', 'False']\n",
    "sc.tl.rank_genes_groups(mdata_sub['gex'], groupby = group_name, groups=groups, method=\"wilcoxon\")\n",
    "df = sc.get.rank_genes_groups_df(mdata_sub['gex'], group = 'True')\n"
   ]
  },
  {
   "cell_type": "code",
   "execution_count": 76,
   "id": "2890de72-dc4c-4cfa-93d6-1e0d0d9b134d",
   "metadata": {},
   "outputs": [
    {
     "name": "stdout",
     "output_type": "stream",
     "text": [
      "WARNING: Dendrogram not added. Dendrogram is added only when the number of categories to plot > 2\n"
     ]
    },
    {
     "data": {
      "image/png": "[encoded data removed]",
      "text/plain": [
       "<Figure size 890x250 with 5 Axes>"
      ]
     },
     "metadata": {},
     "output_type": "display_data"
    }
   ],
   "source": [
    "sc.pl.rank_genes_groups_dotplot(mdata_sub['gex'], groupby=group_name, groups=groups,\n",
    "                                    cmap='Blues')\n",
    "# var_names=markers_in,"
   ]
  },
  {
   "cell_type": "code",
   "execution_count": 77,
   "id": "5621a189-d01d-49bd-8917-e84c5bf72470",
   "metadata": {},
   "outputs": [
    {
     "data": {
      "text/html": [
       "<div>\n",
       "<style scoped>\n",
       "    .dataframe tbody tr th:only-of-type {\n",
       "        vertical-align: middle;\n",
       "    }\n",
       "\n",
       "    .dataframe tbody tr th {\n",
       "        vertical-align: top;\n",
       "    }\n",
       "\n",
       "    .dataframe thead th {\n",
       "        text-align: right;\n",
       "    }\n",
       "</style>\n",
       "<table border=\"1\" class=\"dataframe\">\n",
       "  <thead>\n",
       "    <tr style=\"text-align: right;\">\n",
       "      <th></th>\n",
       "      <th>names</th>\n",
       "      <th>scores</th>\n",
       "      <th>logfoldchanges</th>\n",
       "      <th>pvals</th>\n",
       "      <th>pvals_adj</th>\n",
       "    </tr>\n",
       "  </thead>\n",
       "  <tbody>\n",
       "    <tr>\n",
       "      <th>0</th>\n",
       "      <td>Itgb1</td>\n",
       "      <td>5.766623</td>\n",
       "      <td>1.327189</td>\n",
       "      <td>8.087540e-09</td>\n",
       "      <td>0.000002</td>\n",
       "    </tr>\n",
       "    <tr>\n",
       "      <th>1</th>\n",
       "      <td>Ly6a</td>\n",
       "      <td>5.714131</td>\n",
       "      <td>0.934971</td>\n",
       "      <td>1.102657e-08</td>\n",
       "      <td>0.000002</td>\n",
       "    </tr>\n",
       "    <tr>\n",
       "      <th>2</th>\n",
       "      <td>Dock2</td>\n",
       "      <td>5.074683</td>\n",
       "      <td>0.656413</td>\n",
       "      <td>3.881419e-07</td>\n",
       "      <td>0.000078</td>\n",
       "    </tr>\n",
       "    <tr>\n",
       "      <th>3</th>\n",
       "      <td>Ccr2</td>\n",
       "      <td>4.906300</td>\n",
       "      <td>1.477603</td>\n",
       "      <td>9.281062e-07</td>\n",
       "      <td>0.000155</td>\n",
       "    </tr>\n",
       "    <tr>\n",
       "      <th>4</th>\n",
       "      <td>Satb1</td>\n",
       "      <td>4.452278</td>\n",
       "      <td>1.020097</td>\n",
       "      <td>8.496410e-06</td>\n",
       "      <td>0.001062</td>\n",
       "    </tr>\n",
       "    <tr>\n",
       "      <th>5</th>\n",
       "      <td>Crip1</td>\n",
       "      <td>3.866003</td>\n",
       "      <td>0.547413</td>\n",
       "      <td>1.106334e-04</td>\n",
       "      <td>0.009152</td>\n",
       "    </tr>\n",
       "    <tr>\n",
       "      <th>6</th>\n",
       "      <td>Vim</td>\n",
       "      <td>3.595363</td>\n",
       "      <td>0.592174</td>\n",
       "      <td>3.239400e-04</td>\n",
       "      <td>0.021596</td>\n",
       "    </tr>\n",
       "    <tr>\n",
       "      <th>7</th>\n",
       "      <td>Ccdc88c</td>\n",
       "      <td>3.236781</td>\n",
       "      <td>0.971349</td>\n",
       "      <td>1.208862e-03</td>\n",
       "      <td>0.058535</td>\n",
       "    </tr>\n",
       "    <tr>\n",
       "      <th>8</th>\n",
       "      <td>Il18r1</td>\n",
       "      <td>3.206104</td>\n",
       "      <td>0.678362</td>\n",
       "      <td>1.345455e-03</td>\n",
       "      <td>0.061739</td>\n",
       "    </tr>\n",
       "    <tr>\n",
       "      <th>9</th>\n",
       "      <td>Cd40lg</td>\n",
       "      <td>3.203377</td>\n",
       "      <td>0.896081</td>\n",
       "      <td>1.358261e-03</td>\n",
       "      <td>0.061739</td>\n",
       "    </tr>\n",
       "  </tbody>\n",
       "</table>\n",
       "</div>"
      ],
      "text/plain": [
       "     names    scores  logfoldchanges         pvals  pvals_adj\n",
       "0    Itgb1  5.766623        1.327189  8.087540e-09   0.000002\n",
       "1     Ly6a  5.714131        0.934971  1.102657e-08   0.000002\n",
       "2    Dock2  5.074683        0.656413  3.881419e-07   0.000078\n",
       "3     Ccr2  4.906300        1.477603  9.281062e-07   0.000155\n",
       "4    Satb1  4.452278        1.020097  8.496410e-06   0.001062\n",
       "5    Crip1  3.866003        0.547413  1.106334e-04   0.009152\n",
       "6      Vim  3.595363        0.592174  3.239400e-04   0.021596\n",
       "7  Ccdc88c  3.236781        0.971349  1.208862e-03   0.058535\n",
       "8   Il18r1  3.206104        0.678362  1.345455e-03   0.061739\n",
       "9   Cd40lg  3.203377        0.896081  1.358261e-03   0.061739"
      ]
     },
     "execution_count": 77,
     "metadata": {},
     "output_type": "execute_result"
    }
   ],
   "source": [
    "df_true = df.head(10)\n",
    "df_true"
   ]
  },
  {
   "cell_type": "code",
   "execution_count": 78,
   "id": "65ef31c5-1e2c-4f4a-8195-4bfbd4f1612b",
   "metadata": {},
   "outputs": [
    {
     "data": {
      "text/html": [
       "<div>\n",
       "<style scoped>\n",
       "    .dataframe tbody tr th:only-of-type {\n",
       "        vertical-align: middle;\n",
       "    }\n",
       "\n",
       "    .dataframe tbody tr th {\n",
       "        vertical-align: top;\n",
       "    }\n",
       "\n",
       "    .dataframe thead th {\n",
       "        text-align: right;\n",
       "    }\n",
       "</style>\n",
       "<table border=\"1\" class=\"dataframe\">\n",
       "  <thead>\n",
       "    <tr style=\"text-align: right;\">\n",
       "      <th></th>\n",
       "      <th>names</th>\n",
       "      <th>scores</th>\n",
       "      <th>logfoldchanges</th>\n",
       "      <th>pvals</th>\n",
       "      <th>pvals_adj</th>\n",
       "    </tr>\n",
       "  </thead>\n",
       "  <tbody>\n",
       "    <tr>\n",
       "      <th>0</th>\n",
       "      <td>Nkg7</td>\n",
       "      <td>6.515146</td>\n",
       "      <td>2.042971</td>\n",
       "      <td>7.261889e-11</td>\n",
       "      <td>3.419706e-08</td>\n",
       "    </tr>\n",
       "    <tr>\n",
       "      <th>1</th>\n",
       "      <td>Pdcd1</td>\n",
       "      <td>6.505602</td>\n",
       "      <td>1.951089</td>\n",
       "      <td>7.738275e-11</td>\n",
       "      <td>3.419706e-08</td>\n",
       "    </tr>\n",
       "    <tr>\n",
       "      <th>2</th>\n",
       "      <td>Igfbp7</td>\n",
       "      <td>6.493331</td>\n",
       "      <td>2.285920</td>\n",
       "      <td>8.395875e-11</td>\n",
       "      <td>3.419706e-08</td>\n",
       "    </tr>\n",
       "    <tr>\n",
       "      <th>3</th>\n",
       "      <td>Nrgn</td>\n",
       "      <td>6.491968</td>\n",
       "      <td>2.984598</td>\n",
       "      <td>8.472230e-11</td>\n",
       "      <td>3.419706e-08</td>\n",
       "    </tr>\n",
       "    <tr>\n",
       "      <th>4</th>\n",
       "      <td>Cd226</td>\n",
       "      <td>6.490604</td>\n",
       "      <td>1.651660</td>\n",
       "      <td>8.549265e-11</td>\n",
       "      <td>3.419706e-08</td>\n",
       "    </tr>\n",
       "    <tr>\n",
       "      <th>5</th>\n",
       "      <td>Litaf</td>\n",
       "      <td>6.378121</td>\n",
       "      <td>1.680841</td>\n",
       "      <td>1.792732e-10</td>\n",
       "      <td>5.975772e-08</td>\n",
       "    </tr>\n",
       "    <tr>\n",
       "      <th>6</th>\n",
       "      <td>Ctsd</td>\n",
       "      <td>6.099982</td>\n",
       "      <td>1.069422</td>\n",
       "      <td>1.060804e-09</td>\n",
       "      <td>3.030868e-07</td>\n",
       "    </tr>\n",
       "    <tr>\n",
       "      <th>7</th>\n",
       "      <td>Ctsw</td>\n",
       "      <td>4.962201</td>\n",
       "      <td>1.122976</td>\n",
       "      <td>6.969903e-07</td>\n",
       "      <td>1.267255e-04</td>\n",
       "    </tr>\n",
       "    <tr>\n",
       "      <th>8</th>\n",
       "      <td>Dusp2</td>\n",
       "      <td>4.726327</td>\n",
       "      <td>1.242277</td>\n",
       "      <td>2.286172e-06</td>\n",
       "      <td>3.517188e-04</td>\n",
       "    </tr>\n",
       "    <tr>\n",
       "      <th>9</th>\n",
       "      <td>C1qb</td>\n",
       "      <td>4.561352</td>\n",
       "      <td>1.259609</td>\n",
       "      <td>5.082524e-06</td>\n",
       "      <td>7.260748e-04</td>\n",
       "    </tr>\n",
       "  </tbody>\n",
       "</table>\n",
       "</div>"
      ],
      "text/plain": [
       "    names    scores  logfoldchanges         pvals     pvals_adj\n",
       "0    Nkg7  6.515146        2.042971  7.261889e-11  3.419706e-08\n",
       "1   Pdcd1  6.505602        1.951089  7.738275e-11  3.419706e-08\n",
       "2  Igfbp7  6.493331        2.285920  8.395875e-11  3.419706e-08\n",
       "3    Nrgn  6.491968        2.984598  8.472230e-11  3.419706e-08\n",
       "4   Cd226  6.490604        1.651660  8.549265e-11  3.419706e-08\n",
       "5   Litaf  6.378121        1.680841  1.792732e-10  5.975772e-08\n",
       "6    Ctsd  6.099982        1.069422  1.060804e-09  3.030868e-07\n",
       "7    Ctsw  4.962201        1.122976  6.969903e-07  1.267255e-04\n",
       "8   Dusp2  4.726327        1.242277  2.286172e-06  3.517188e-04\n",
       "9    C1qb  4.561352        1.259609  5.082524e-06  7.260748e-04"
      ]
     },
     "execution_count": 78,
     "metadata": {},
     "output_type": "execute_result"
    }
   ],
   "source": [
    "df_false = sc.get.rank_genes_groups_df(mdata_sub['gex'], group = 'False').head(10)\n",
    "df_false"
   ]
  },
  {
   "cell_type": "code",
   "execution_count": 79,
   "id": "4be2c7e6-a98a-4d21-8728-5946e1bd2ba2",
   "metadata": {},
   "outputs": [
    {
     "data": {
      "text/html": [
       "<div>\n",
       "<style scoped>\n",
       "    .dataframe tbody tr th:only-of-type {\n",
       "        vertical-align: middle;\n",
       "    }\n",
       "\n",
       "    .dataframe tbody tr th {\n",
       "        vertical-align: top;\n",
       "    }\n",
       "\n",
       "    .dataframe thead th {\n",
       "        text-align: right;\n",
       "    }\n",
       "</style>\n",
       "<table border=\"1\" class=\"dataframe\">\n",
       "  <thead>\n",
       "    <tr style=\"text-align: right;\">\n",
       "      <th></th>\n",
       "      <th>names</th>\n",
       "      <th>scores</th>\n",
       "      <th>logfoldchanges</th>\n",
       "      <th>pvals</th>\n",
       "      <th>pvals_adj</th>\n",
       "      <th>gene</th>\n",
       "    </tr>\n",
       "  </thead>\n",
       "  <tbody>\n",
       "    <tr>\n",
       "      <th>1886</th>\n",
       "      <td>Cd8a</td>\n",
       "      <td>-1.894485</td>\n",
       "      <td>-5.340297</td>\n",
       "      <td>5.816069e-02</td>\n",
       "      <td>7.736366e-01</td>\n",
       "      <td>Cd8a</td>\n",
       "    </tr>\n",
       "    <tr>\n",
       "      <th>1989</th>\n",
       "      <td>Cd8b1</td>\n",
       "      <td>-4.516359</td>\n",
       "      <td>-4.310111</td>\n",
       "      <td>6.291195e-06</td>\n",
       "      <td>8.388260e-04</td>\n",
       "      <td>Cd8b1</td>\n",
       "    </tr>\n",
       "    <tr>\n",
       "      <th>1999</th>\n",
       "      <td>Nkg7</td>\n",
       "      <td>-6.515146</td>\n",
       "      <td>-2.042971</td>\n",
       "      <td>7.261889e-11</td>\n",
       "      <td>3.419706e-08</td>\n",
       "      <td>Nkg7</td>\n",
       "    </tr>\n",
       "    <tr>\n",
       "      <th>89</th>\n",
       "      <td>Foxp3</td>\n",
       "      <td>0.870549</td>\n",
       "      <td>2.108376</td>\n",
       "      <td>3.840002e-01</td>\n",
       "      <td>1.000000e+00</td>\n",
       "      <td>Foxp3</td>\n",
       "    </tr>\n",
       "    <tr>\n",
       "      <th>52</th>\n",
       "      <td>Ikzf2</td>\n",
       "      <td>1.430919</td>\n",
       "      <td>1.465743</td>\n",
       "      <td>1.524535e-01</td>\n",
       "      <td>1.000000e+00</td>\n",
       "      <td>Ikzf2</td>\n",
       "    </tr>\n",
       "    <tr>\n",
       "      <th>1932</th>\n",
       "      <td>Ctla4</td>\n",
       "      <td>-2.512118</td>\n",
       "      <td>-0.557490</td>\n",
       "      <td>1.200089e-02</td>\n",
       "      <td>2.790904e-01</td>\n",
       "      <td>Ctla4</td>\n",
       "    </tr>\n",
       "    <tr>\n",
       "      <th>31</th>\n",
       "      <td>Il2ra</td>\n",
       "      <td>2.068322</td>\n",
       "      <td>0.776339</td>\n",
       "      <td>3.860975e-02</td>\n",
       "      <td>5.762650e-01</td>\n",
       "      <td>Il2ra</td>\n",
       "    </tr>\n",
       "    <tr>\n",
       "      <th>40</th>\n",
       "      <td>Ccr6</td>\n",
       "      <td>1.721329</td>\n",
       "      <td>3.011727</td>\n",
       "      <td>8.519108e-02</td>\n",
       "      <td>9.848680e-01</td>\n",
       "      <td>Ccr6</td>\n",
       "    </tr>\n",
       "    <tr>\n",
       "      <th>98</th>\n",
       "      <td>Il22</td>\n",
       "      <td>0.809195</td>\n",
       "      <td>3.172353</td>\n",
       "      <td>4.184029e-01</td>\n",
       "      <td>1.000000e+00</td>\n",
       "      <td>Il22</td>\n",
       "    </tr>\n",
       "  </tbody>\n",
       "</table>\n",
       "</div>"
      ],
      "text/plain": [
       "      names    scores  logfoldchanges         pvals     pvals_adj   gene\n",
       "1886   Cd8a -1.894485       -5.340297  5.816069e-02  7.736366e-01   Cd8a\n",
       "1989  Cd8b1 -4.516359       -4.310111  6.291195e-06  8.388260e-04  Cd8b1\n",
       "1999   Nkg7 -6.515146       -2.042971  7.261889e-11  3.419706e-08   Nkg7\n",
       "89    Foxp3  0.870549        2.108376  3.840002e-01  1.000000e+00  Foxp3\n",
       "52    Ikzf2  1.430919        1.465743  1.524535e-01  1.000000e+00  Ikzf2\n",
       "1932  Ctla4 -2.512118       -0.557490  1.200089e-02  2.790904e-01  Ctla4\n",
       "31    Il2ra  2.068322        0.776339  3.860975e-02  5.762650e-01  Il2ra\n",
       "40     Ccr6  1.721329        3.011727  8.519108e-02  9.848680e-01   Ccr6\n",
       "98     Il22  0.809195        3.172353  4.184029e-01  1.000000e+00   Il22"
      ]
     },
     "execution_count": 79,
     "metadata": {},
     "output_type": "execute_result"
    }
   ],
   "source": [
    "pval_type = df[df[\"names\"].isin(type_markers)]\n",
    "pval_type[\"gene\"] = pd.Categorical(pval_type[\"names\"], categories=type_markers, ordered=True)\n",
    "pval_type = pval_type.sort_values(\"gene\")\n",
    "pval_type"
   ]
  },
  {
   "cell_type": "code",
   "execution_count": 80,
   "id": "37479aff-2a2a-434c-b5e7-d50a264830c6",
   "metadata": {},
   "outputs": [
    {
     "ename": "KeyError",
     "evalue": "\"Could not find keys '['Cd4']' in columns of `adata.obs` or in adata.var_names.\"",
     "output_type": "error",
     "traceback": [
      "\u001b[0;31m---------------------------------------------------------------------------\u001b[0m",
      "\u001b[0;31mKeyError\u001b[0m                                  Traceback (most recent call last)",
      "Cell \u001b[0;32mIn[80], line 4\u001b[0m\n\u001b[1;32m      1\u001b[0m var_group_positions \u001b[38;5;241m=\u001b[39m [(\u001b[38;5;241m0\u001b[39m,\u001b[38;5;241m0\u001b[39m), (\u001b[38;5;241m1\u001b[39m,\u001b[38;5;241m3\u001b[39m), (\u001b[38;5;241m4\u001b[39m, \u001b[38;5;241m7\u001b[39m), (\u001b[38;5;241m8\u001b[39m, \u001b[38;5;241m9\u001b[39m)]   \u001b[38;5;66;03m# inclusive start, inclusive end\u001b[39;00m\n\u001b[1;32m      2\u001b[0m var_group_labels \u001b[38;5;241m=\u001b[39m [\u001b[38;5;124m\"\u001b[39m\u001b[38;5;124mCD4 T\u001b[39m\u001b[38;5;124m\"\u001b[39m, \u001b[38;5;124m\"\u001b[39m\u001b[38;5;124mCD8 T\u001b[39m\u001b[38;5;124m\"\u001b[39m, \u001b[38;5;124m\"\u001b[39m\u001b[38;5;124mTreg\u001b[39m\u001b[38;5;124m\"\u001b[39m, \u001b[38;5;124m\"\u001b[39m\u001b[38;5;124mTh17\u001b[39m\u001b[38;5;124m\"\u001b[39m]\n\u001b[0;32m----> 4\u001b[0m dp \u001b[38;5;241m=\u001b[39m sc\u001b[38;5;241m.\u001b[39mpl\u001b[38;5;241m.\u001b[39mdotplot(\n\u001b[1;32m      5\u001b[0m     mdata_sub[\u001b[38;5;124m'\u001b[39m\u001b[38;5;124mgex\u001b[39m\u001b[38;5;124m'\u001b[39m], var_names\u001b[38;5;241m=\u001b[39mtype_markers, groupby\u001b[38;5;241m=\u001b[39mgroup_name, cmap\u001b[38;5;241m=\u001b[39m\u001b[38;5;124m\"\u001b[39m\u001b[38;5;124mBlues\u001b[39m\u001b[38;5;124m\"\u001b[39m,\n\u001b[1;32m      6\u001b[0m     var_group_positions\u001b[38;5;241m=\u001b[39mvar_group_positions,\n\u001b[1;32m      7\u001b[0m     var_group_labels\u001b[38;5;241m=\u001b[39mvar_group_labels,\n\u001b[1;32m      8\u001b[0m     show\u001b[38;5;241m=\u001b[39m\u001b[38;5;28;01mFalse\u001b[39;00m, return_fig\u001b[38;5;241m=\u001b[39m\u001b[38;5;28;01mTrue\u001b[39;00m\n\u001b[1;32m      9\u001b[0m )\n\u001b[1;32m     10\u001b[0m dp\u001b[38;5;241m.\u001b[39mmake_figure()\n\u001b[1;32m     12\u001b[0m \u001b[38;5;28;01mdef\u001b[39;00m \u001b[38;5;21mp2stars\u001b[39m(p):\n",
      "File \u001b[0;32m~/.local/lib/python3.11/site-packages/legacy_api_wrap/__init__.py:80\u001b[0m, in \u001b[0;36mlegacy_api.<locals>.wrapper.<locals>.fn_compatible\u001b[0;34m(*args_all, **kw)\u001b[0m\n\u001b[1;32m     77\u001b[0m \u001b[38;5;129m@wraps\u001b[39m(fn)\n\u001b[1;32m     78\u001b[0m \u001b[38;5;28;01mdef\u001b[39;00m \u001b[38;5;21mfn_compatible\u001b[39m(\u001b[38;5;241m*\u001b[39margs_all: P\u001b[38;5;241m.\u001b[39margs, \u001b[38;5;241m*\u001b[39m\u001b[38;5;241m*\u001b[39mkw: P\u001b[38;5;241m.\u001b[39mkwargs) \u001b[38;5;241m-\u001b[39m\u001b[38;5;241m>\u001b[39m R:\n\u001b[1;32m     79\u001b[0m     \u001b[38;5;28;01mif\u001b[39;00m \u001b[38;5;28mlen\u001b[39m(args_all) \u001b[38;5;241m<\u001b[39m\u001b[38;5;241m=\u001b[39m n_positional:\n\u001b[0;32m---> 80\u001b[0m         \u001b[38;5;28;01mreturn\u001b[39;00m fn(\u001b[38;5;241m*\u001b[39margs_all, \u001b[38;5;241m*\u001b[39m\u001b[38;5;241m*\u001b[39mkw)\n\u001b[1;32m     82\u001b[0m     args_pos: P\u001b[38;5;241m.\u001b[39margs\n\u001b[1;32m     83\u001b[0m     args_pos, args_rest \u001b[38;5;241m=\u001b[39m args_all[:n_positional], args_all[n_positional:]\n",
      "File \u001b[0;32m~/.local/lib/python3.11/site-packages/scanpy/plotting/_dotplot.py:1019\u001b[0m, in \u001b[0;36mdotplot\u001b[0;34m(adata, var_names, groupby, use_raw, log, num_categories, expression_cutoff, mean_only_expressed, cmap, dot_max, dot_min, standard_scale, smallest_dot, title, colorbar_title, size_title, figsize, dendrogram, gene_symbols, var_group_positions, var_group_labels, var_group_rotation, layer, swap_axes, dot_color_df, show, save, ax, return_fig, vmin, vmax, vcenter, norm, **kwds)\u001b[0m\n\u001b[1;32m   1016\u001b[0m \u001b[38;5;28;01mif\u001b[39;00m \u001b[38;5;124m\"\u001b[39m\u001b[38;5;124mcolor_map\u001b[39m\u001b[38;5;124m\"\u001b[39m \u001b[38;5;129;01min\u001b[39;00m kwds:\n\u001b[1;32m   1017\u001b[0m     \u001b[38;5;28;01mdel\u001b[39;00m kwds[\u001b[38;5;124m\"\u001b[39m\u001b[38;5;124mcolor_map\u001b[39m\u001b[38;5;124m\"\u001b[39m]\n\u001b[0;32m-> 1019\u001b[0m dp \u001b[38;5;241m=\u001b[39m DotPlot(\n\u001b[1;32m   1020\u001b[0m     adata,\n\u001b[1;32m   1021\u001b[0m     var_names,\n\u001b[1;32m   1022\u001b[0m     groupby,\n\u001b[1;32m   1023\u001b[0m     use_raw\u001b[38;5;241m=\u001b[39muse_raw,\n\u001b[1;32m   1024\u001b[0m     log\u001b[38;5;241m=\u001b[39mlog,\n\u001b[1;32m   1025\u001b[0m     num_categories\u001b[38;5;241m=\u001b[39mnum_categories,\n\u001b[1;32m   1026\u001b[0m     expression_cutoff\u001b[38;5;241m=\u001b[39mexpression_cutoff,\n\u001b[1;32m   1027\u001b[0m     mean_only_expressed\u001b[38;5;241m=\u001b[39mmean_only_expressed,\n\u001b[1;32m   1028\u001b[0m     standard_scale\u001b[38;5;241m=\u001b[39mstandard_scale,\n\u001b[1;32m   1029\u001b[0m     title\u001b[38;5;241m=\u001b[39mtitle,\n\u001b[1;32m   1030\u001b[0m     figsize\u001b[38;5;241m=\u001b[39mfigsize,\n\u001b[1;32m   1031\u001b[0m     gene_symbols\u001b[38;5;241m=\u001b[39mgene_symbols,\n\u001b[1;32m   1032\u001b[0m     var_group_positions\u001b[38;5;241m=\u001b[39mvar_group_positions,\n\u001b[1;32m   1033\u001b[0m     var_group_labels\u001b[38;5;241m=\u001b[39mvar_group_labels,\n\u001b[1;32m   1034\u001b[0m     var_group_rotation\u001b[38;5;241m=\u001b[39mvar_group_rotation,\n\u001b[1;32m   1035\u001b[0m     layer\u001b[38;5;241m=\u001b[39mlayer,\n\u001b[1;32m   1036\u001b[0m     dot_color_df\u001b[38;5;241m=\u001b[39mdot_color_df,\n\u001b[1;32m   1037\u001b[0m     ax\u001b[38;5;241m=\u001b[39max,\n\u001b[1;32m   1038\u001b[0m     vmin\u001b[38;5;241m=\u001b[39mvmin,\n\u001b[1;32m   1039\u001b[0m     vmax\u001b[38;5;241m=\u001b[39mvmax,\n\u001b[1;32m   1040\u001b[0m     vcenter\u001b[38;5;241m=\u001b[39mvcenter,\n\u001b[1;32m   1041\u001b[0m     norm\u001b[38;5;241m=\u001b[39mnorm,\n\u001b[1;32m   1042\u001b[0m     \u001b[38;5;241m*\u001b[39m\u001b[38;5;241m*\u001b[39mkwds,\n\u001b[1;32m   1043\u001b[0m )\n\u001b[1;32m   1045\u001b[0m \u001b[38;5;28;01mif\u001b[39;00m dendrogram:\n\u001b[1;32m   1046\u001b[0m     dp\u001b[38;5;241m.\u001b[39madd_dendrogram(dendrogram_key\u001b[38;5;241m=\u001b[39mdendrogram)\n",
      "File \u001b[0;32m~/.local/lib/python3.11/site-packages/legacy_api_wrap/__init__.py:80\u001b[0m, in \u001b[0;36mlegacy_api.<locals>.wrapper.<locals>.fn_compatible\u001b[0;34m(*args_all, **kw)\u001b[0m\n\u001b[1;32m     77\u001b[0m \u001b[38;5;129m@wraps\u001b[39m(fn)\n\u001b[1;32m     78\u001b[0m \u001b[38;5;28;01mdef\u001b[39;00m \u001b[38;5;21mfn_compatible\u001b[39m(\u001b[38;5;241m*\u001b[39margs_all: P\u001b[38;5;241m.\u001b[39margs, \u001b[38;5;241m*\u001b[39m\u001b[38;5;241m*\u001b[39mkw: P\u001b[38;5;241m.\u001b[39mkwargs) \u001b[38;5;241m-\u001b[39m\u001b[38;5;241m>\u001b[39m R:\n\u001b[1;32m     79\u001b[0m     \u001b[38;5;28;01mif\u001b[39;00m \u001b[38;5;28mlen\u001b[39m(args_all) \u001b[38;5;241m<\u001b[39m\u001b[38;5;241m=\u001b[39m n_positional:\n\u001b[0;32m---> 80\u001b[0m         \u001b[38;5;28;01mreturn\u001b[39;00m fn(\u001b[38;5;241m*\u001b[39margs_all, \u001b[38;5;241m*\u001b[39m\u001b[38;5;241m*\u001b[39mkw)\n\u001b[1;32m     82\u001b[0m     args_pos: P\u001b[38;5;241m.\u001b[39margs\n\u001b[1;32m     83\u001b[0m     args_pos, args_rest \u001b[38;5;241m=\u001b[39m args_all[:n_positional], args_all[n_positional:]\n",
      "File \u001b[0;32m~/.local/lib/python3.11/site-packages/scanpy/plotting/_dotplot.py:169\u001b[0m, in \u001b[0;36mDotPlot.__init__\u001b[0;34m(self, adata, var_names, groupby, use_raw, log, num_categories, categories_order, title, figsize, gene_symbols, var_group_positions, var_group_labels, var_group_rotation, layer, expression_cutoff, mean_only_expressed, standard_scale, dot_color_df, dot_size_df, ax, vmin, vmax, vcenter, norm, **kwds)\u001b[0m\n\u001b[1;32m    117\u001b[0m \u001b[38;5;129m@old_positionals\u001b[39m(\n\u001b[1;32m    118\u001b[0m     \u001b[38;5;124m\"\u001b[39m\u001b[38;5;124muse_raw\u001b[39m\u001b[38;5;124m\"\u001b[39m,\n\u001b[1;32m    119\u001b[0m     \u001b[38;5;124m\"\u001b[39m\u001b[38;5;124mlog\u001b[39m\u001b[38;5;124m\"\u001b[39m,\n\u001b[0;32m   (...)\u001b[0m\n\u001b[1;32m    167\u001b[0m     \u001b[38;5;241m*\u001b[39m\u001b[38;5;241m*\u001b[39mkwds,\n\u001b[1;32m    168\u001b[0m ) \u001b[38;5;241m-\u001b[39m\u001b[38;5;241m>\u001b[39m \u001b[38;5;28;01mNone\u001b[39;00m:\n\u001b[0;32m--> 169\u001b[0m     BasePlot\u001b[38;5;241m.\u001b[39m\u001b[38;5;21m__init__\u001b[39m(\n\u001b[1;32m    170\u001b[0m         \u001b[38;5;28mself\u001b[39m,\n\u001b[1;32m    171\u001b[0m         adata,\n\u001b[1;32m    172\u001b[0m         var_names,\n\u001b[1;32m    173\u001b[0m         groupby,\n\u001b[1;32m    174\u001b[0m         use_raw\u001b[38;5;241m=\u001b[39muse_raw,\n\u001b[1;32m    175\u001b[0m         log\u001b[38;5;241m=\u001b[39mlog,\n\u001b[1;32m    176\u001b[0m         num_categories\u001b[38;5;241m=\u001b[39mnum_categories,\n\u001b[1;32m    177\u001b[0m         categories_order\u001b[38;5;241m=\u001b[39mcategories_order,\n\u001b[1;32m    178\u001b[0m         title\u001b[38;5;241m=\u001b[39mtitle,\n\u001b[1;32m    179\u001b[0m         figsize\u001b[38;5;241m=\u001b[39mfigsize,\n\u001b[1;32m    180\u001b[0m         gene_symbols\u001b[38;5;241m=\u001b[39mgene_symbols,\n\u001b[1;32m    181\u001b[0m         var_group_positions\u001b[38;5;241m=\u001b[39mvar_group_positions,\n\u001b[1;32m    182\u001b[0m         var_group_labels\u001b[38;5;241m=\u001b[39mvar_group_labels,\n\u001b[1;32m    183\u001b[0m         var_group_rotation\u001b[38;5;241m=\u001b[39mvar_group_rotation,\n\u001b[1;32m    184\u001b[0m         layer\u001b[38;5;241m=\u001b[39mlayer,\n\u001b[1;32m    185\u001b[0m         ax\u001b[38;5;241m=\u001b[39max,\n\u001b[1;32m    186\u001b[0m         vmin\u001b[38;5;241m=\u001b[39mvmin,\n\u001b[1;32m    187\u001b[0m         vmax\u001b[38;5;241m=\u001b[39mvmax,\n\u001b[1;32m    188\u001b[0m         vcenter\u001b[38;5;241m=\u001b[39mvcenter,\n\u001b[1;32m    189\u001b[0m         norm\u001b[38;5;241m=\u001b[39mnorm,\n\u001b[1;32m    190\u001b[0m         \u001b[38;5;241m*\u001b[39m\u001b[38;5;241m*\u001b[39mkwds,\n\u001b[1;32m    191\u001b[0m     )\n\u001b[1;32m    193\u001b[0m     \u001b[38;5;66;03m# for if category defined by groupby (if any) compute for each var_name\u001b[39;00m\n\u001b[1;32m    194\u001b[0m     \u001b[38;5;66;03m# 1. the fraction of cells in the category having a value >expression_cutoff\u001b[39;00m\n\u001b[1;32m    195\u001b[0m     \u001b[38;5;66;03m# 2. the mean value over the category\u001b[39;00m\n\u001b[1;32m    196\u001b[0m \n\u001b[1;32m    197\u001b[0m     \u001b[38;5;66;03m# 1. compute fraction of cells having value > expression_cutoff\u001b[39;00m\n\u001b[1;32m    198\u001b[0m     \u001b[38;5;66;03m# transform obs_tidy into boolean matrix using the expression_cutoff\u001b[39;00m\n\u001b[1;32m    199\u001b[0m     obs_bool \u001b[38;5;241m=\u001b[39m \u001b[38;5;28mself\u001b[39m\u001b[38;5;241m.\u001b[39mobs_tidy \u001b[38;5;241m>\u001b[39m expression_cutoff\n",
      "File \u001b[0;32m~/.local/lib/python3.11/site-packages/legacy_api_wrap/__init__.py:80\u001b[0m, in \u001b[0;36mlegacy_api.<locals>.wrapper.<locals>.fn_compatible\u001b[0;34m(*args_all, **kw)\u001b[0m\n\u001b[1;32m     77\u001b[0m \u001b[38;5;129m@wraps\u001b[39m(fn)\n\u001b[1;32m     78\u001b[0m \u001b[38;5;28;01mdef\u001b[39;00m \u001b[38;5;21mfn_compatible\u001b[39m(\u001b[38;5;241m*\u001b[39margs_all: P\u001b[38;5;241m.\u001b[39margs, \u001b[38;5;241m*\u001b[39m\u001b[38;5;241m*\u001b[39mkw: P\u001b[38;5;241m.\u001b[39mkwargs) \u001b[38;5;241m-\u001b[39m\u001b[38;5;241m>\u001b[39m R:\n\u001b[1;32m     79\u001b[0m     \u001b[38;5;28;01mif\u001b[39;00m \u001b[38;5;28mlen\u001b[39m(args_all) \u001b[38;5;241m<\u001b[39m\u001b[38;5;241m=\u001b[39m n_positional:\n\u001b[0;32m---> 80\u001b[0m         \u001b[38;5;28;01mreturn\u001b[39;00m fn(\u001b[38;5;241m*\u001b[39margs_all, \u001b[38;5;241m*\u001b[39m\u001b[38;5;241m*\u001b[39mkw)\n\u001b[1;32m     82\u001b[0m     args_pos: P\u001b[38;5;241m.\u001b[39margs\n\u001b[1;32m     83\u001b[0m     args_pos, args_rest \u001b[38;5;241m=\u001b[39m args_all[:n_positional], args_all[n_positional:]\n",
      "File \u001b[0;32m~/.local/lib/python3.11/site-packages/scanpy/plotting/_baseplot_class.py:144\u001b[0m, in \u001b[0;36mBasePlot.__init__\u001b[0;34m(self, adata, var_names, groupby, use_raw, log, num_categories, categories_order, title, figsize, gene_symbols, var_group_positions, var_group_labels, var_group_rotation, layer, ax, vmin, vmax, vcenter, norm, **kwds)\u001b[0m\n\u001b[1;32m    136\u001b[0m \u001b[38;5;28mself\u001b[39m\u001b[38;5;241m.\u001b[39mhas_var_groups \u001b[38;5;241m=\u001b[39m (\n\u001b[1;32m    137\u001b[0m     \u001b[38;5;28;01mTrue\u001b[39;00m\n\u001b[1;32m    138\u001b[0m     \u001b[38;5;28;01mif\u001b[39;00m var_group_positions \u001b[38;5;129;01mis\u001b[39;00m \u001b[38;5;129;01mnot\u001b[39;00m \u001b[38;5;28;01mNone\u001b[39;00m \u001b[38;5;129;01mand\u001b[39;00m \u001b[38;5;28mlen\u001b[39m(var_group_positions) \u001b[38;5;241m>\u001b[39m \u001b[38;5;241m0\u001b[39m\n\u001b[1;32m    139\u001b[0m     \u001b[38;5;28;01melse\u001b[39;00m \u001b[38;5;28;01mFalse\u001b[39;00m\n\u001b[1;32m    140\u001b[0m )\n\u001b[1;32m    142\u001b[0m \u001b[38;5;28mself\u001b[39m\u001b[38;5;241m.\u001b[39m_update_var_groups()\n\u001b[0;32m--> 144\u001b[0m \u001b[38;5;28mself\u001b[39m\u001b[38;5;241m.\u001b[39mcategories, \u001b[38;5;28mself\u001b[39m\u001b[38;5;241m.\u001b[39mobs_tidy \u001b[38;5;241m=\u001b[39m _prepare_dataframe(\n\u001b[1;32m    145\u001b[0m     adata,\n\u001b[1;32m    146\u001b[0m     \u001b[38;5;28mself\u001b[39m\u001b[38;5;241m.\u001b[39mvar_names,\n\u001b[1;32m    147\u001b[0m     groupby,\n\u001b[1;32m    148\u001b[0m     use_raw\u001b[38;5;241m=\u001b[39muse_raw,\n\u001b[1;32m    149\u001b[0m     log\u001b[38;5;241m=\u001b[39mlog,\n\u001b[1;32m    150\u001b[0m     num_categories\u001b[38;5;241m=\u001b[39mnum_categories,\n\u001b[1;32m    151\u001b[0m     layer\u001b[38;5;241m=\u001b[39mlayer,\n\u001b[1;32m    152\u001b[0m     gene_symbols\u001b[38;5;241m=\u001b[39mgene_symbols,\n\u001b[1;32m    153\u001b[0m )\n\u001b[1;32m    154\u001b[0m \u001b[38;5;28;01mif\u001b[39;00m \u001b[38;5;28mlen\u001b[39m(\u001b[38;5;28mself\u001b[39m\u001b[38;5;241m.\u001b[39mcategories) \u001b[38;5;241m>\u001b[39m \u001b[38;5;28mself\u001b[39m\u001b[38;5;241m.\u001b[39mMAX_NUM_CATEGORIES:\n\u001b[1;32m    155\u001b[0m     warn(\n\u001b[1;32m    156\u001b[0m         \u001b[38;5;124mf\u001b[39m\u001b[38;5;124m\"\u001b[39m\u001b[38;5;124mOver \u001b[39m\u001b[38;5;132;01m{\u001b[39;00m\u001b[38;5;28mself\u001b[39m\u001b[38;5;241m.\u001b[39mMAX_NUM_CATEGORIES\u001b[38;5;132;01m}\u001b[39;00m\u001b[38;5;124m categories found. \u001b[39m\u001b[38;5;124m\"\u001b[39m\n\u001b[1;32m    157\u001b[0m         \u001b[38;5;124m\"\u001b[39m\u001b[38;5;124mPlot would be very large.\u001b[39m\u001b[38;5;124m\"\u001b[39m\n\u001b[1;32m    158\u001b[0m     )\n",
      "File \u001b[0;32m~/.local/lib/python3.11/site-packages/scanpy/plotting/_anndata.py:2073\u001b[0m, in \u001b[0;36m_prepare_dataframe\u001b[0;34m(adata, var_names, groupby, use_raw, log, num_categories, layer, gene_symbols)\u001b[0m\n\u001b[1;32m   2071\u001b[0m     groupby\u001b[38;5;241m.\u001b[39mremove(groupby_index)\n\u001b[1;32m   2072\u001b[0m keys \u001b[38;5;241m=\u001b[39m \u001b[38;5;28mlist\u001b[39m(groupby) \u001b[38;5;241m+\u001b[39m \u001b[38;5;28mlist\u001b[39m(np\u001b[38;5;241m.\u001b[39munique(var_names))\n\u001b[0;32m-> 2073\u001b[0m obs_tidy \u001b[38;5;241m=\u001b[39m get\u001b[38;5;241m.\u001b[39mobs_df(\n\u001b[1;32m   2074\u001b[0m     adata, keys\u001b[38;5;241m=\u001b[39mkeys, layer\u001b[38;5;241m=\u001b[39mlayer, use_raw\u001b[38;5;241m=\u001b[39muse_raw, gene_symbols\u001b[38;5;241m=\u001b[39mgene_symbols\n\u001b[1;32m   2075\u001b[0m )\n\u001b[1;32m   2076\u001b[0m \u001b[38;5;28;01massert\u001b[39;00m np\u001b[38;5;241m.\u001b[39mall(np\u001b[38;5;241m.\u001b[39marray(keys) \u001b[38;5;241m==\u001b[39m np\u001b[38;5;241m.\u001b[39marray(obs_tidy\u001b[38;5;241m.\u001b[39mcolumns))\n\u001b[1;32m   2078\u001b[0m \u001b[38;5;28;01mif\u001b[39;00m groupby_index \u001b[38;5;129;01mis\u001b[39;00m \u001b[38;5;129;01mnot\u001b[39;00m \u001b[38;5;28;01mNone\u001b[39;00m:\n\u001b[1;32m   2079\u001b[0m     \u001b[38;5;66;03m# reset index to treat all columns the same way.\u001b[39;00m\n",
      "File \u001b[0;32m~/.local/lib/python3.11/site-packages/scanpy/get/get.py:295\u001b[0m, in \u001b[0;36mobs_df\u001b[0;34m(adata, keys, obsm_keys, layer, gene_symbols, use_raw)\u001b[0m\n\u001b[1;32m    292\u001b[0m \u001b[38;5;28;01melse\u001b[39;00m:\n\u001b[1;32m    293\u001b[0m     alias_index \u001b[38;5;241m=\u001b[39m \u001b[38;5;28;01mNone\u001b[39;00m\n\u001b[0;32m--> 295\u001b[0m obs_cols, var_idx_keys, var_symbols \u001b[38;5;241m=\u001b[39m _check_indices(\n\u001b[1;32m    296\u001b[0m     adata\u001b[38;5;241m.\u001b[39mobs,\n\u001b[1;32m    297\u001b[0m     var\u001b[38;5;241m.\u001b[39mindex,\n\u001b[1;32m    298\u001b[0m     dim\u001b[38;5;241m=\u001b[39m\u001b[38;5;124m\"\u001b[39m\u001b[38;5;124mobs\u001b[39m\u001b[38;5;124m\"\u001b[39m,\n\u001b[1;32m    299\u001b[0m     keys\u001b[38;5;241m=\u001b[39mkeys,\n\u001b[1;32m    300\u001b[0m     alias_index\u001b[38;5;241m=\u001b[39malias_index,\n\u001b[1;32m    301\u001b[0m     use_raw\u001b[38;5;241m=\u001b[39muse_raw,\n\u001b[1;32m    302\u001b[0m )\n\u001b[1;32m    304\u001b[0m \u001b[38;5;66;03m# Make df\u001b[39;00m\n\u001b[1;32m    305\u001b[0m df \u001b[38;5;241m=\u001b[39m pd\u001b[38;5;241m.\u001b[39mDataFrame(index\u001b[38;5;241m=\u001b[39madata\u001b[38;5;241m.\u001b[39mobs_names)\n",
      "File \u001b[0;32m~/.local/lib/python3.11/site-packages/scanpy/get/get.py:186\u001b[0m, in \u001b[0;36m_check_indices\u001b[0;34m(dim_df, alt_index, dim, keys, alias_index, use_raw)\u001b[0m\n\u001b[1;32m    184\u001b[0m         not_found\u001b[38;5;241m.\u001b[39mappend(key)\n\u001b[1;32m    185\u001b[0m \u001b[38;5;28;01mif\u001b[39;00m \u001b[38;5;28mlen\u001b[39m(not_found) \u001b[38;5;241m>\u001b[39m \u001b[38;5;241m0\u001b[39m:\n\u001b[0;32m--> 186\u001b[0m     \u001b[38;5;28;01mraise\u001b[39;00m \u001b[38;5;167;01mKeyError\u001b[39;00m(\n\u001b[1;32m    187\u001b[0m         \u001b[38;5;124mf\u001b[39m\u001b[38;5;124m\"\u001b[39m\u001b[38;5;124mCould not find keys \u001b[39m\u001b[38;5;124m'\u001b[39m\u001b[38;5;132;01m{\u001b[39;00mnot_found\u001b[38;5;132;01m}\u001b[39;00m\u001b[38;5;124m'\u001b[39m\u001b[38;5;124m in columns of `adata.\u001b[39m\u001b[38;5;132;01m{\u001b[39;00mdim\u001b[38;5;132;01m}\u001b[39;00m\u001b[38;5;124m` or in\u001b[39m\u001b[38;5;124m\"\u001b[39m\n\u001b[1;32m    188\u001b[0m         \u001b[38;5;124mf\u001b[39m\u001b[38;5;124m\"\u001b[39m\u001b[38;5;124m \u001b[39m\u001b[38;5;132;01m{\u001b[39;00malt_repr\u001b[38;5;132;01m}\u001b[39;00m\u001b[38;5;124m.\u001b[39m\u001b[38;5;132;01m{\u001b[39;00malt_search_repr\u001b[38;5;132;01m}\u001b[39;00m\u001b[38;5;124m.\u001b[39m\u001b[38;5;124m\"\u001b[39m\n\u001b[1;32m    189\u001b[0m     )\n\u001b[1;32m    191\u001b[0m \u001b[38;5;28;01mreturn\u001b[39;00m col_keys, index_keys, index_aliases\n",
      "\u001b[0;31mKeyError\u001b[0m: \"Could not find keys '['Cd4']' in columns of `adata.obs` or in adata.var_names.\""
     ]
    }
   ],
   "source": [
    "var_group_positions = [(0,0), (1,3), (4, 7), (8, 9)]   # inclusive start, inclusive end\n",
    "var_group_labels = [\"CD4 T\", \"CD8 T\", \"Treg\", \"Th17\"]\n",
    "\n",
    "dp = sc.pl.dotplot(\n",
    "    mdata_sub['gex'], var_names=type_markers, groupby=group_name, cmap=\"Blues\",\n",
    "    var_group_positions=var_group_positions,\n",
    "    var_group_labels=var_group_labels,\n",
    "    show=False, return_fig=True\n",
    ")\n",
    "dp.make_figure()\n",
    "\n",
    "def p2stars(p):\n",
    "    if p < 1e-4: return \"****\"\n",
    "    elif p < 1e-3: return \"***\"\n",
    "    elif p < 1e-2: return \"**\"\n",
    "    elif p < 5e-2: return \"*\"\n",
    "    else: return \"\"\n",
    "\n",
    "    # dict (or Series) of p-values per gene (fill with yours)\n",
    "pvals = dict(zip(pval_type['names'], pval_type['pvals'])) # example; replace with real p-values\n",
    "ax = dp.get_axes()[\"mainplot_ax\"]\n",
    "\n",
    "# get current tick labels\n",
    "yticklabels = [t.get_text() for t in ax.get_xticklabels()]\n",
    "\n",
    "# prepend stars to gene names\n",
    "new_labels = [f\"{p2stars(pvals.get(g,1))}  {g}\" for g in yticklabels]\n",
    "ax.set_xticklabels(new_labels)\n",
    "plt.show()"
   ]
  },
  {
   "cell_type": "code",
   "execution_count": null,
   "id": "cfcfa8f5-d238-482c-a445-1630ce3e6fe5",
   "metadata": {},
   "outputs": [],
   "source": [
    "pval_state = df[df[\"names\"].isin(markers_in)]\n",
    "pval_state[\"gene\"] = pd.Categorical(pval_state[\"names\"], categories=markers_in, ordered=True)\n",
    "pval_state = pval_state.sort_values(\"gene\")\n",
    "pval_state"
   ]
  },
  {
   "cell_type": "code",
   "execution_count": null,
   "id": "aa993600-dcea-4d7e-b231-79306b80778c",
   "metadata": {},
   "outputs": [],
   "source": [
    "var_group_positions = [(0,2), (3,5), (6,8), (9, 9)]   # inclusive start, inclusive end\n",
    "var_group_labels = [\"IFN stim\", \"act\", \"Exhaust\", \"Central mem\"]\n",
    "\n",
    "dp = sc.pl.dotplot(\n",
    "    mdata_sub['gex'], var_names=markers_in, groupby=group_name, cmap=\"Blues\",\n",
    "    var_group_positions=var_group_positions,\n",
    "    var_group_labels=var_group_labels,\n",
    "    show=False, return_fig=True\n",
    ")\n",
    "dp.make_figure()\n",
    "\n",
    "# dict (or Series) of p-values per gene (fill with yours)\n",
    "pvals =  dict(zip(pval_state['names'], pval_state['pvals'])) # example; replace with real p-values\n",
    "\n",
    "ax = dp.get_axes()[\"mainplot_ax\"]\n",
    "\n",
    "# get current tick labels\n",
    "yticklabels = [t.get_text() for t in ax.get_xticklabels()]\n",
    "\n",
    "# prepend stars to gene names\n",
    "new_labels = [f\"{p2stars(pvals.get(g,1))}  {g}\" for g in yticklabels]\n",
    "ax.set_xticklabels(new_labels)\n",
    "plt.show()"
   ]
  },
  {
   "cell_type": "code",
   "execution_count": null,
   "id": "33356181-b62f-418d-944b-a9ed74a9cb78",
   "metadata": {},
   "outputs": [],
   "source": []
  },
  {
   "cell_type": "code",
   "execution_count": null,
   "id": "4808973c-a486-419c-bbed-045368a256cc",
   "metadata": {},
   "outputs": [],
   "source": []
  },
  {
   "cell_type": "code",
   "execution_count": null,
   "id": "b2c75ed3-e7e1-49c1-8cb2-8d6954182696",
   "metadata": {},
   "outputs": [],
   "source": []
  },
  {
   "cell_type": "code",
   "execution_count": null,
   "id": "d1d3bcc5-671c-4bc8-9fc4-dfbcb5ccb2f0",
   "metadata": {},
   "outputs": [],
   "source": [
    "aa"
   ]
  },
  {
   "cell_type": "markdown",
   "id": "68309f60-0edb-43b5-bba2-dab18fae3ba3",
   "metadata": {
    "tags": []
   },
   "source": [
    "## DAE between chemokine"
   ]
  },
  {
   "cell_type": "code",
   "execution_count": null,
   "id": "64e3e927-9bc4-4ee4-b110-86c0c88e42d4",
   "metadata": {
    "tags": []
   },
   "outputs": [],
   "source": [
    "## subset by TCR dist\n",
    "mdata_temp = mdata_temp[mdata_temp.obs['VDJ_1_cdr3_aa'].isin(TCR_selected['cdr3_b_aa_trimed'])]\n",
    "mdata_temp                    "
   ]
  },
  {
   "cell_type": "code",
   "execution_count": null,
   "id": "0e5bfaf0-c801-4f5b-8521-8cbaee8d589f",
   "metadata": {
    "tags": []
   },
   "outputs": [],
   "source": [
    "# mdata_subset = mdata\n",
    "import scanpy as sc\n",
    "sc.pp.pca(mdata_temp[\"gex\"], svd_solver=\"arpack\", n_comps=10)\n",
    "sc.pp.neighbors(mdata_temp[\"gex\"], use_rep='X_pca', n_neighbors = 10)\n",
    "sc.tl.umap(mdata_temp[\"gex\"], min_dist=0.5, spread=1.0)\n",
    "sc.tl.leiden(mdata_temp[\"gex\"], resolution = 0.5, n_iterations=2, flavor = 'igraph')\n",
    "sc.pl.umap(mdata_temp[\"gex\"], color=[\"tissue\"])"
   ]
  },
  {
   "cell_type": "code",
   "execution_count": null,
   "id": "14aaa9c2-bab0-4510-bc7f-bbc660b280ef",
   "metadata": {
    "tags": []
   },
   "outputs": [],
   "source": [
    "mdata_temp.obs['manual_cell_type'] = mdata_temp.obs['manual_cell_type'].cat.remove_unused_categories()\n",
    "mu.pl.embedding(mdata_temp, basis=\"gex:umap\", color= ['manual_cell_type', 'gex:mouse_id'], wspace = 0.2, ncols=2, vmin=0)"
   ]
  },
  {
   "cell_type": "code",
   "execution_count": null,
   "id": "af5127a3-d782-4d8a-852d-dead83db5c18",
   "metadata": {
    "tags": []
   },
   "outputs": [],
   "source": [
    "chemokine_all = [g for g in mdata_temp[\"gex\"].var_names if g.startswith((\"Cc\", \"Cxc\", \"Cx3c\"))]\n",
    "\n",
    "# markers_in = []\n",
    "# for i in chemokine:\n",
    "#     if i in mdata_subset[\"gex\"].var_names:\n",
    "#         markers_in.append(i) "
   ]
  },
  {
   "cell_type": "code",
   "execution_count": null,
   "id": "6082e4c5-9402-4ae6-bdc7-8cc9d1ef3aae",
   "metadata": {
    "tags": []
   },
   "outputs": [],
   "source": [
    "sc.tl.rank_genes_groups(mdata_temp[\"gex\"], groupby =\"tissue\",  method=\"wilcoxon\")\n",
    "# mask_var = chemokine_all,\n",
    "\n",
    "# sc.pl.rank_genes_groups_heatmap(mdata_subset[\"gex\"], groupby = \"tissue\", gene_symbols= chemokine_all,\n",
    "#                                  cmap='bwr',)"
   ]
  },
  {
   "cell_type": "code",
   "execution_count": null,
   "id": "02e697e3-b7a8-4b86-8df3-83a488eced89",
   "metadata": {},
   "outputs": [],
   "source": [
    "# Get results as DataFrame\n",
    "df = sc.get.rank_genes_groups_df(mdata_temp[\"gex\"], group=\"CN\")\n",
    "\n",
    "# Filter to certain genes\n",
    "df_filtered = df[df[\"names\"].isin(chemokine_all)]\n",
    "\n",
    "print(df_filtered.head(5))"
   ]
  },
  {
   "cell_type": "code",
   "execution_count": null,
   "id": "9e065e39-24f6-4e35-927c-0df935d9a7ad",
   "metadata": {
    "tags": []
   },
   "outputs": [],
   "source": [
    "chemokine_topDE = df_filtered['names'].head(10)\n",
    "\n",
    "mu.pl.embedding(mdata_temp, basis=\"gex:umap\", color= chemokine_topDE[:4], ncols=2, vmin=0)"
   ]
  },
  {
   "cell_type": "code",
   "execution_count": null,
   "id": "80f5b523-c056-4d57-8b15-aa3aee1d3bdc",
   "metadata": {
    "tags": []
   },
   "outputs": [],
   "source": [
    "expr_chemokine = mdata['gex'][:, chemokine_topDE.values].to_df()\n",
    "expr_chemokine"
   ]
  },
  {
   "cell_type": "code",
   "execution_count": null,
   "id": "61f5883e-4d53-49a1-bff8-4207ce2c08ab",
   "metadata": {
    "tags": []
   },
   "outputs": [],
   "source": [
    "type_markers = ['Cd4', 'Cd8a','Cd8b1','Nkg7','Foxp3', 'Ikzf2', 'Ctla4', 'Il2ra','Ccr6', 'Il22']\n",
    "state_markers = ['Isg15', 'Gbp2', 'Ifih1', 'Icos', 'Cd69', 'Cd28', 'Pdcd1', 'Lag3', 'Havcr2', 'Ccr7', 'Sell', 'Cd27']\n",
    "markers_in = []\n",
    "\n",
    "for i in state_markers:\n",
    "    if i in mdata[\"gex\"].var_names:\n",
    "        markers_in.append(i) \n",
    "markers_in\n",
    "expr_markers = mdata['gex'][:, markers_in].to_df()\n",
    "expr_markers.to_csv('marker_genes_for_training.csv')"
   ]
  },
  {
   "cell_type": "code",
   "execution_count": null,
   "id": "846d41da-e5ce-480f-ab67-872769a67fe7",
   "metadata": {
    "tags": []
   },
   "outputs": [],
   "source": [
    "# expr_chemokine.to_csv('top10_chemok.csv')"
   ]
  },
  {
   "cell_type": "code",
   "execution_count": null,
   "id": "cc8309b4-f0a8-4f48-ac2a-cd129e911a4e",
   "metadata": {
    "tags": []
   },
   "outputs": [],
   "source": [
    "sc.pl.rank_genes_groups_dotplot(mdata_temp[\"gex\"],  groupby=\"tissue\", \n",
    "                                   var_names=chemokine_topDE[:10], cmap='Blues')\n"
   ]
  },
  {
   "cell_type": "code",
   "execution_count": null,
   "id": "57a08910-a8e3-4b28-8d38-a982d63b7f66",
   "metadata": {
    "tags": []
   },
   "outputs": [],
   "source": [
    "vars_target_df = pd.read_csv('top10_chemok.csv')\n",
    "sc.pl.rank_genes_groups_dotplot(mdata_temp[\"gex\"],  groupby=\"tissue\", \n",
    "                                   var_names=vars_target_df.columns[1:], cmap='Purples')    # 'Greens', 'Reds', 'Purples'\n"
   ]
  },
  {
   "cell_type": "code",
   "execution_count": null,
   "id": "c24e5eb5-7e77-44b3-8339-146e30242b5a",
   "metadata": {
    "tags": []
   },
   "outputs": [],
   "source": [
    "TCR_matched = matrix[matrix['cdr3_b_aa'].isin(TCR_selected['cdr3_b_aa'])]\n",
    "TCR_matched"
   ]
  },
  {
   "cell_type": "code",
   "execution_count": null,
   "id": "d80c89c6-ac31-41b1-8787-c772e927ae50",
   "metadata": {
    "tags": []
   },
   "outputs": [],
   "source": [
    "TCR_matched['manual_cell_type'].value_counts()"
   ]
  },
  {
   "cell_type": "code",
   "execution_count": null,
   "id": "5e38287c-83e3-4527-ad71-19a95fc47685",
   "metadata": {
    "tags": []
   },
   "outputs": [],
   "source": [
    "TCR_matched['sample'].value_counts()"
   ]
  },
  {
   "cell_type": "code",
   "execution_count": null,
   "id": "28f8e483-1086-4673-9fb6-227095c64f87",
   "metadata": {
    "tags": []
   },
   "outputs": [],
   "source": [
    "from sklearn.cluster import KMeans\n",
    "from sklearn.preprocessing import StandardScaler\n",
    "\n",
    "EM_dim = 97\n",
    "# max = 97\n",
    "EM_matrix = TCR_matched.iloc[:,1:EM_dim]\n",
    "\n",
    "\n",
    "scaler = StandardScaler()\n",
    "X_scaled = scaler.fit_transform(EM_matrix)\n",
    "\n",
    "k = 10  # Number of clusters\n",
    "kmeans = KMeans(n_clusters=k, random_state=42, copy_x=False)\n",
    "clusters = kmeans.fit_predict(X_scaled)"
   ]
  },
  {
   "cell_type": "code",
   "execution_count": null,
   "id": "20a758ad-19a5-458b-a0b7-d3aca1504755",
   "metadata": {
    "tags": []
   },
   "outputs": [],
   "source": [
    "from sklearn.decomposition import PCA\n",
    "pca = PCA(n_components=20, svd_solver='randomized', random_state=42)\n",
    "X_pca_GIANA = pca.fit_transform(X_scaled)\n",
    "\n",
    "import umap\n",
    "umap = umap.UMAP(n_components=2, random_state=42, n_neighbors = 20, min_dist = 0.5)\n",
    "# umap = umap.UMAP(n_components=2, random_state=42)\n",
    "\n",
    "X_r = umap.fit_transform(X_pca_GIANA)"
   ]
  },
  {
   "cell_type": "code",
   "execution_count": null,
   "id": "351c1690-cd69-4567-9f03-88b9a391e74d",
   "metadata": {
    "tags": []
   },
   "outputs": [],
   "source": [
    "# plot\n",
    "import seaborn as sns\n",
    "\n",
    "fig, axes = plt.subplots(2,2, figsize=(10,10))\n",
    "\n",
    "# Create DataFrame\n",
    "df = pd.DataFrame({\n",
    "    'x': X_r[:, 0],\n",
    "    'y': X_r[:, 1],\n",
    "    'label': TCR_matched['sample']\n",
    "})\n",
    "sns.scatterplot(data=df, x='x', y='y', hue='label', s=10, ax = axes[0][0])\n",
    "\n",
    "df2 = pd.DataFrame({\n",
    "    'x': X_r[:, 0],\n",
    "    'y': X_r[:, 1],\n",
    "    'label': TCR_matched['manual_cell_type']\n",
    "})\n",
    "sns.scatterplot(data=df2, x='x', y='y', hue='label', s=10, ax = axes[0][1])\n",
    "\n",
    "df3 = pd.DataFrame({\n",
    "    'x': X_r[:, 0],\n",
    "    'y': X_r[:, 1],\n",
    "    'label': clusters\n",
    "})\n",
    "sns.scatterplot(data=df3, x='x', y='y', hue='label', s=10, palette=\"deep\", ax = axes[1][0])\n"
   ]
  },
  {
   "cell_type": "code",
   "execution_count": null,
   "id": "7c986f3c-8345-43df-b8ca-e625d864ea96",
   "metadata": {
    "tags": []
   },
   "outputs": [],
   "source": [
    "%cd /ihome/ylee/yiz133/Code/deepTCR/unSupervised_cluster"
   ]
  },
  {
   "cell_type": "code",
   "execution_count": null,
   "id": "188a9311-ce55-46ec-b588-db27c3b0598e",
   "metadata": {},
   "outputs": [],
   "source": [
    "# Create a sample 2D matrix\n",
    "matrix = pd.read_csv('DTCRU_extracted_features_96_0605.csv', sep = ',')\n",
    "matrix.drop(columns={'Label'}, inplace=True)\n",
    "\n",
    "matrix['CDR3_Beta'] = matrix['CDR3_Beta'].str[1:-1]\n",
    "\n",
    "matrix = pd.merge(matrix, TCR_selected, left_on='CDR3_Beta', right_on='cdr3_b_aa', how='inner')"
   ]
  },
  {
   "cell_type": "code",
   "execution_count": null,
   "id": "6a92c9f8-fa82-44a7-9330-9f009c85ed16",
   "metadata": {
    "tags": []
   },
   "outputs": [],
   "source": [
    "m_right = mdata.obs[['VDJ_1_cdr3_aa','manual_cell_type','sample']]\n",
    "m_right['BC'] = mdata.obs.index\n",
    "deepTCR_matrix = pd.merge(matrix, m_right, left_on='CDR3_Beta', right_on = 'VDJ_1_cdr3_aa', how='inner')\n",
    "deepTCR_matrix"
   ]
  },
  {
   "cell_type": "code",
   "execution_count": null,
   "id": "829be21e-272c-4ffe-99c6-89e36d2fb007",
   "metadata": {
    "tags": []
   },
   "outputs": [],
   "source": [
    "deepTCR_matrix['manual_cell_type'].value_counts()"
   ]
  },
  {
   "cell_type": "code",
   "execution_count": null,
   "id": "4c2b30ab-f0c9-4370-8b6d-feda9502df7b",
   "metadata": {
    "tags": []
   },
   "outputs": [],
   "source": [
    "deepTCR_matrix['sample'].value_counts()"
   ]
  },
  {
   "cell_type": "code",
   "execution_count": null,
   "id": "26b1067b-d439-43fe-ba7a-851174cf65ec",
   "metadata": {
    "tags": []
   },
   "outputs": [],
   "source": [
    "EM_dim = 97\n",
    "EM_matrix_deepTCR = deepTCR_matrix.iloc[:,3:EM_dim]\n",
    "\n",
    "scaler = StandardScaler()\n",
    "X_scaled = scaler.fit_transform(EM_matrix_deepTCR)\n",
    "\n",
    "k = 10  # Number of clusters\n",
    "kmeans = KMeans(n_clusters=k, random_state=42, copy_x=False)\n",
    "clusters = kmeans.fit_predict(X_scaled)"
   ]
  },
  {
   "cell_type": "code",
   "execution_count": null,
   "id": "1f90c082-f253-43b4-a40f-1bfd16c0c917",
   "metadata": {
    "tags": []
   },
   "outputs": [],
   "source": [
    "from sklearn.decomposition import PCA\n",
    "pca = PCA(n_components=20, svd_solver='randomized', random_state=42)\n",
    "\n",
    "from sklearn.decomposition import KernelPCA\n",
    "kpca = KernelPCA(n_components=30, kernel='rbf', gamma=0.1)\n",
    "\n",
    "# generate features\n",
    "# from sklearn.preprocessing import PolynomialFeatures\n",
    "# poly = PolynomialFeatures(degree=2, include_bias=False)\n",
    "# EM_matrix_deepTCR = poly.fit_transform(EM_matrix_deepTCR)\n",
    "\n",
    "import umap\n",
    "umap = umap.UMAP(n_components=2, random_state=42, n_neighbors = 20, min_dist = 0.5)\n",
    "# umap = umap.UMAP(n_components=2, random_state=42)\n",
    "\n",
    "# transform\n",
    "X_pca_deepTCR = kpca.fit_transform(EM_matrix_deepTCR)\n",
    "X_r = umap.fit_transform(X_pca_deepTCR)\n"
   ]
  },
  {
   "cell_type": "code",
   "execution_count": null,
   "id": "674427f5-037f-4469-a2cd-162584bc5635",
   "metadata": {
    "tags": []
   },
   "outputs": [],
   "source": [
    "fig, axes = plt.subplots(1,2, figsize=(12,5))\n",
    "\n",
    "# Create DataFrame\n",
    "df = pd.DataFrame({\n",
    "    'x': X_r[:, 0],\n",
    "    'y': X_r[:, 1],\n",
    "    'label': deepTCR_matrix['sample']\n",
    "})\n",
    "sns.scatterplot(data=df, x='x', y='y', hue='label', s=30, ax = axes[0])\n",
    "\n",
    "df2 = pd.DataFrame({\n",
    "    'x': X_r[:, 0],\n",
    "    'y': X_r[:, 1],\n",
    "    'label': deepTCR_matrix['manual_cell_type']\n",
    "})\n",
    "sns.scatterplot(data=df2, x='x', y='y', hue='label', s=20, ax = axes[1])\n"
   ]
  },
  {
   "cell_type": "code",
   "execution_count": null,
   "id": "fd78d125-9c1f-495d-b95f-0cd3abd59f5c",
   "metadata": {
    "tags": []
   },
   "outputs": [],
   "source": [
    "# GIANA emb\n",
    "# M = matrix.copy()\n",
    "\n",
    "# deepTCR emb\n",
    "M = deepTCR_matrix.copy()\n",
    "M_embs = M.iloc[:,3:99]\n",
    "M_obs = M.drop(M.columns[3:99], axis=1)\n",
    "\n",
    "kpca = KernelPCA(n_components=30, kernel='rbf', gamma=0.1)\n",
    "M_embs = kpca.fit_transform(M_embs)\n",
    "\n",
    "M_obs['tissue'] = M_obs['sample'].str[:3]"
   ]
  },
  {
   "cell_type": "code",
   "execution_count": null,
   "id": "0eb86679-ef71-4d06-8bac-06393ae05504",
   "metadata": {
    "tags": []
   },
   "outputs": [],
   "source": [
    "import anndata as ad\n",
    "\n",
    "adata_embs = ad.AnnData(M_embs)\n",
    "adata_embs.obs = M_obs\n",
    "\n",
    "adata_embs"
   ]
  },
  {
   "cell_type": "code",
   "execution_count": null,
   "id": "69946a23-203d-4aeb-8f65-816030b403f5",
   "metadata": {
    "tags": []
   },
   "outputs": [],
   "source": [
    "sc.tl.rank_genes_groups(adata_embs, groupby = \"tissue\", reference = 'SPL')\n",
    "    \n",
    "sc.pl.rank_genes_groups_violin(adata_embs,  n_genes=5)"
   ]
  },
  {
   "cell_type": "code",
   "execution_count": null,
   "id": "a92dd31c-1401-4976-9016-a1c7d2308fd7",
   "metadata": {},
   "outputs": [],
   "source": []
  },
  {
   "cell_type": "code",
   "execution_count": null,
   "id": "d33454ab-c9cc-40d3-988f-26a18b0efc52",
   "metadata": {},
   "outputs": [],
   "source": []
  },
  {
   "cell_type": "code",
   "execution_count": null,
   "id": "df92f181-4b72-4fe7-9b03-74250a6d7fd5",
   "metadata": {},
   "outputs": [],
   "source": [
    "aaa"
   ]
  },
  {
   "cell_type": "code",
   "execution_count": null,
   "id": "1e6deb00-5928-4533-aef0-d950bf90feed",
   "metadata": {},
   "outputs": [],
   "source": [
    "from sklearn.decomposition import PCA\n",
    "import umap\n",
    "import igraph as ig\n",
    "import leidenalg\n",
    "\n",
    "pca = PCA(n_components=25, random_state=42)\n",
    "X_pca = pca.fit_transform(X_scaled)\n",
    "\n",
    "umap_model = umap.UMAP(n_neighbors=15, min_dist=0.1, n_components=2, random_state=42)\n",
    "X_umap = umap_model.fit_transform(X_pca)"
   ]
  },
  {
   "cell_type": "code",
   "execution_count": null,
   "id": "0e1edc0f-7b43-483a-9835-bf7b2f22bd10",
   "metadata": {
    "tags": []
   },
   "outputs": [],
   "source": [
    "from sklearn.neighbors import NearestNeighbors\n",
    "\n",
    "# Compute the k-nearest neighbors\n",
    "knn = NearestNeighbors(n_neighbors=15)\n",
    "knn.fit(X_pca)\n",
    "adj_matrix = knn.kneighbors_graph(X_pca, mode='connectivity')"
   ]
  },
  {
   "cell_type": "code",
   "execution_count": null,
   "id": "36401bd5-f528-496a-a06e-e7660cbebc86",
   "metadata": {
    "tags": []
   },
   "outputs": [],
   "source": [
    "# Convert the adjacency matrix to a CSR format if it's not already\n",
    "adj_csr = adj_matrix.tocsr()\n",
    "\n",
    "# Create an igraph graph from the adjacency matrix\n",
    "sources, targets = adj_csr.nonzero()\n",
    "edges = list(zip(sources, targets))\n",
    "g = ig.Graph(edges=edges, directed=False)\n"
   ]
  },
  {
   "cell_type": "code",
   "execution_count": null,
   "id": "55dba59d-fa09-4469-82b3-9ebe356afdd5",
   "metadata": {
    "tags": []
   },
   "outputs": [],
   "source": [
    "partition = leidenalg.find_partition(g, leidenalg.ModularityVertexPartition)\n",
    "labels = np.array(partition.membership)\n"
   ]
  },
  {
   "cell_type": "code",
   "execution_count": null,
   "id": "712efdc4-73d8-4432-8602-530379908e7f",
   "metadata": {},
   "outputs": [],
   "source": [
    "plt.figure(figsize=(10, 8))\n",
    "scatter = plt.scatter(X_umap[:, 0], X_umap[:, 1], c=labels, cmap='tab10', s=10)\n",
    "plt.title('UMAP Projection with Leiden Clustering')\n",
    "plt.xlabel('UMAP 1')\n",
    "plt.ylabel('UMAP 2')\n",
    "plt.colorbar(scatter, label='Cluster')\n",
    "plt.show()\n"
   ]
  },
  {
   "cell_type": "code",
   "execution_count": null,
   "id": "08774812-6b62-49b7-8c1e-278232fc24e0",
   "metadata": {},
   "outputs": [],
   "source": [
    "import anndata as ad\n",
    "import scanpy as sc\n",
    "\n",
    "EM_matrix = EM_matrix.dropna()\n",
    "adata = ad.AnnData(EM_matrix)\n",
    "# adata.obs['cluster'] = clusters\n",
    "adata.obs['tissue'] = tissue\n",
    "adata.obs['AA_seq'] = matrix.iloc[:,1]\n",
    "adata\n"
   ]
  },
  {
   "cell_type": "code",
   "execution_count": null,
   "id": "6df9bd03-3492-4a1d-9c83-26992281fc78",
   "metadata": {},
   "outputs": [],
   "source": [
    "sc.pp.normalize_total(adata)\n",
    "sc.pp.log1p(adata)\n"
   ]
  },
  {
   "cell_type": "code",
   "execution_count": null,
   "id": "f9f060db-f86d-4f7c-99ef-8dafc216cda6",
   "metadata": {
    "tags": []
   },
   "outputs": [],
   "source": [
    "np.isnan(adata.X).any()"
   ]
  },
  {
   "cell_type": "code",
   "execution_count": null,
   "id": "d1b0ee03-4f69-4502-8325-da038274b607",
   "metadata": {
    "tags": []
   },
   "outputs": [],
   "source": [
    "nan_indices = np.argwhere(np.isnan(adata.X))\n",
    "nan_indices"
   ]
  },
  {
   "cell_type": "code",
   "execution_count": null,
   "id": "00d6e0f2-e4af-4119-8048-e190db893e27",
   "metadata": {
    "tags": []
   },
   "outputs": [],
   "source": [
    "sc.pp.pca(adata, svd_solver=\"arpack\", n_comps=20)\n",
    "sc.pp.neighbors(mdata[\"gex\"], n_neighbors = 20)\n",
    "sc.tl.umap(mdata[\"gex\"], min_dist=0.5, spread=1.0)\n",
    "sc.tl.leiden(mdata[\"gex\"], resolution = 0.5, n_iterations=2, flavor = 'igraph')\n",
    "sc.pl.umap(mdata[\"gex\"], color=[\"leiden\"])\n"
   ]
  },
  {
   "cell_type": "code",
   "execution_count": null,
   "id": "7d33e577-9400-4a2f-982e-da99a4c4dcad",
   "metadata": {
    "tags": []
   },
   "outputs": [],
   "source": [
    "# adata.write('TCRemb_2cluster.h5ad')"
   ]
  }
 ],
 "metadata": {
  "kernelspec": {
   "display_name": "Python 3 (ipykernel)",
   "language": "python",
   "name": "python3"
  },
  "language_info": {
   "codemirror_mode": {
    "name": "ipython",
    "version": 3
   },
   "file_extension": ".py",
   "mimetype": "text/x-python",
   "name": "python",
   "nbconvert_exporter": "python",
   "pygments_lexer": "ipython3",
   "version": "3.11.5"
  }
 },
 "nbformat": 4,
 "nbformat_minor": 5
}
