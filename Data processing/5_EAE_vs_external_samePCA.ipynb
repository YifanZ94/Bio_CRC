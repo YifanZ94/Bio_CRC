{
 "cells": [
  {
   "cell_type": "markdown",
   "id": "f2ab8171-3561-4667-aed0-3c92d2721be7",
   "metadata": {
    "tags": []
   },
   "source": [
    "# EAE vs external spleen"
   ]
  },
  {
   "cell_type": "code",
   "execution_count": 1,
   "id": "5d594c17-2bde-4fa1-a1a3-17a3038daa75",
   "metadata": {
    "tags": []
   },
   "outputs": [],
   "source": [
    "# this script do dimension reduce first, then transform new data with the same reducer"
   ]
  },
  {
   "cell_type": "code",
   "execution_count": 2,
   "id": "5ea36558-6279-4ebe-8d98-ab7ffb428c80",
   "metadata": {},
   "outputs": [
    {
     "ename": "ModuleNotFoundError",
     "evalue": "No module named 'muon'",
     "output_type": "error",
     "traceback": [
      "\u001b[0;31m---------------------------------------------------------------------------\u001b[0m",
      "\u001b[0;31mModuleNotFoundError\u001b[0m                       Traceback (most recent call last)",
      "Cell \u001b[0;32mIn[2], line 3\u001b[0m\n\u001b[1;32m      1\u001b[0m \u001b[38;5;28;01mimport\u001b[39;00m\u001b[38;5;250m \u001b[39m\u001b[38;5;21;01mwarnings\u001b[39;00m\n\u001b[1;32m      2\u001b[0m warnings\u001b[38;5;241m.\u001b[39mfilterwarnings(\u001b[38;5;124m\"\u001b[39m\u001b[38;5;124mignore\u001b[39m\u001b[38;5;124m\"\u001b[39m)\n\u001b[0;32m----> 3\u001b[0m \u001b[38;5;28;01mimport\u001b[39;00m\u001b[38;5;250m \u001b[39m\u001b[38;5;21;01mmuon\u001b[39;00m\u001b[38;5;250m \u001b[39m\u001b[38;5;28;01mas\u001b[39;00m\u001b[38;5;250m \u001b[39m\u001b[38;5;21;01mmu\u001b[39;00m\n\u001b[1;32m      4\u001b[0m \u001b[38;5;28;01mimport\u001b[39;00m\u001b[38;5;250m \u001b[39m\u001b[38;5;21;01mnumpy\u001b[39;00m\u001b[38;5;250m \u001b[39m\u001b[38;5;28;01mas\u001b[39;00m\u001b[38;5;250m \u001b[39m\u001b[38;5;21;01mnp\u001b[39;00m\n\u001b[1;32m      5\u001b[0m \u001b[38;5;28;01mimport\u001b[39;00m\u001b[38;5;250m \u001b[39m\u001b[38;5;21;01mscanpy\u001b[39;00m\u001b[38;5;250m \u001b[39m\u001b[38;5;28;01mas\u001b[39;00m\u001b[38;5;250m \u001b[39m\u001b[38;5;21;01msc\u001b[39;00m\n",
      "\u001b[0;31mModuleNotFoundError\u001b[0m: No module named 'muon'"
     ]
    }
   ],
   "source": [
    "import warnings\n",
    "warnings.filterwarnings(\"ignore\")\n",
    "import muon as mu\n",
    "import numpy as np\n",
    "import scanpy as sc\n",
    "import scirpy as ir\n",
    "import pandas as pd\n",
    "from cycler import cycler\n",
    "from matplotlib import cm as mpl_cm\n",
    "from matplotlib import pyplot as plt\n",
    "from mudata import MuData\n",
    "sc.set_figure_params(figsize=(4, 4))\n",
    "sc.settings.verbosity = 2  # verbosity: errors (0), warnings (1), info (2), hints (3)"
   ]
  },
  {
   "cell_type": "markdown",
   "id": "94bf8e58-104b-458f-92ec-1bb679bf1c28",
   "metadata": {
    "tags": []
   },
   "source": [
    "### load EAE data"
   ]
  },
  {
   "cell_type": "code",
   "execution_count": null,
   "id": "3bc1ae5a-3ea6-458e-ad67-156f596e0c74",
   "metadata": {},
   "outputs": [],
   "source": [
    "%cd /ihome/ylee/yiz133/Code/data_EAE/anndata/"
   ]
  },
  {
   "cell_type": "code",
   "execution_count": null,
   "id": "929c57f5-5aa3-4e8c-9e1e-bd530d3ee0bb",
   "metadata": {},
   "outputs": [],
   "source": [
    "## read raw data\n",
    "# adata_gex = sc.read(\"all_gex.h5ad\")\n",
    "# adata_gex.var_names"
   ]
  },
  {
   "cell_type": "code",
   "execution_count": null,
   "id": "feb45816-bebd-4df8-a90e-c0da2f19f0c0",
   "metadata": {
    "tags": []
   },
   "outputs": [],
   "source": [
    "mdata = mu.read(\"all_Common.h5mu\")\n",
    "mdata"
   ]
  },
  {
   "cell_type": "code",
   "execution_count": null,
   "id": "cc6c5050-106c-45c9-8ed4-fecf9f54fc41",
   "metadata": {
    "tags": []
   },
   "outputs": [],
   "source": [
    "mdata['gex'].obs['manual_cell_type'] = mdata.obs['manual_cell_type']\n",
    "adata_gex = mdata['gex']\n",
    "\n",
    "adata_gex = adata_gex[adata_gex.obs[\"date\"].isin([\"0605\"])]\n",
    "# adata_gex = adata_gex[adata_gex.obs[\"manual_cell_type\"].isin([\"CD4+ T\"])]\n",
    "\n",
    "adata_CNS = adata_gex[adata_gex.obs['tissue'].isin([\"CN\"])]\n",
    "adata_SPL = adata_gex[adata_gex.obs['tissue'].isin([\"SP\"])]\n",
    "\n",
    "adata_gex.obs['tissue']"
   ]
  },
  {
   "cell_type": "code",
   "execution_count": null,
   "id": "cd92f482-2dff-467d-9390-d3ee8bf4bce1",
   "metadata": {},
   "outputs": [],
   "source": [
    "adata_gex.var_names_make_unique()\n",
    "\n",
    "adata_gex.var[\"mt\"] = adata_gex.var_names.str.startswith(\"mt-\")\n",
    "# ribosomal genes\n",
    "adata_gex.var[\"ribo\"] = adata_gex.var_names.str.startswith((\"Rps\", \"Rpl\"))\n",
    "# hemoglobin genes\n",
    "adata_gex.var[\"hb\"] = adata_gex.var_names.str.contains(\"^Hb[^(p)]\")\n",
    "\n",
    "sc.pp.calculate_qc_metrics(\n",
    "    adata_gex, qc_vars=[\"mt\", \"ribo\", \"hb\"], inplace=True, log1p=True\n",
    ")"
   ]
  },
  {
   "cell_type": "code",
   "execution_count": null,
   "id": "570f9eb8-e0f0-47ba-9409-1a6e8e20965e",
   "metadata": {},
   "outputs": [],
   "source": [
    "# adata = adata_gex\n",
    "sc.pp.filter_cells(adata_gex, min_genes= 200)\n",
    "sc.pp.filter_cells(adata_gex, max_genes= 8000)\n",
    "\n",
    "sc.pp.filter_cells(adata_gex, min_counts= 100)\n",
    "sc.pp.filter_cells(adata_gex, max_counts= 30000)\n",
    "\n",
    "sc.pp.filter_genes(adata_gex, min_cells= 10)\n",
    "# sc.pp.filter_genes(adata, max_cells=100)\n",
    "\n",
    "# sc.pp.filter_genes(adata, min_counts=50)\n",
    "# sc.pp.filter_genes(adata, max_counts=100)"
   ]
  },
  {
   "cell_type": "code",
   "execution_count": null,
   "id": "047a25f6-7769-4bd7-9dbf-5bee0883fa5a",
   "metadata": {},
   "outputs": [],
   "source": [
    "# remove mt- genes\n",
    "adata_gex = adata_gex[:, ~adata_gex.var_names.str.startswith(('mt', 'CMO'))].copy()\n",
    "\n",
    "# normalize\n",
    "sc.pp.normalize_total(adata_gex)\n",
    "sc.pp.log1p(adata_gex)\n",
    "\n",
    "sc.pp.highly_variable_genes(adata_gex, n_top_genes=2000)\n",
    "adata_gex = adata_gex[:, adata_gex.var['highly_variable']].copy()\n",
    "adata_gex"
   ]
  },
  {
   "cell_type": "markdown",
   "id": "5ca236c0-5bca-4b5d-a839-41b7db940cb1",
   "metadata": {
    "tags": []
   },
   "source": [
    "## load multiple .mtx sets"
   ]
  },
  {
   "cell_type": "code",
   "execution_count": null,
   "id": "b8131cf8-3c82-4c45-b712-55ca9834515d",
   "metadata": {
    "tags": []
   },
   "outputs": [],
   "source": [
    "# Reindex anndata2 to match anndata1 genes (fill missing genes with zeros)\n",
    "import anndata as ad\n",
    "def merge_anndata_to_base(anndata1, anndata2):\n",
    "    c_gene = anndata2.var_names.intersection(anndata1.var_names)\n",
    "    print(len(c_gene))\n",
    "    missing_genes = anndata1.var_names.difference(anndata2.var_names)\n",
    "\n",
    "    # Pad missing genes with zeros (assumes dense arrays, can be adapted for sparse)\n",
    "    if len(missing_genes) > 0:\n",
    "        import pandas as pd\n",
    "        import scipy.sparse\n",
    "\n",
    "        shape = (anndata2.n_obs, len(missing_genes))\n",
    "        X_pad = np.zeros(shape, dtype=anndata2.X.dtype)\n",
    "        X_pad = scipy.sparse.csr_matrix(X_pad) if isinstance(anndata2.X, scipy.sparse.spmatrix) else X_pad\n",
    "\n",
    "        # Create dummy .var for missing genes\n",
    "        var_pad = pd.DataFrame(index=missing_genes)\n",
    "\n",
    "        # Create a temporary AnnData with padded genes\n",
    "        adata_pad = ad.AnnData(X=X_pad, obs=anndata2.obs.copy(), var=var_pad)\n",
    "\n",
    "        # Add missing genes and reorder to match anndata1\n",
    "        anndata2_full = ad.concat([anndata2, adata_pad], axis=1)\n",
    "        anndata2_full = anndata2_full[:, anndata1.var_names]\n",
    "\n",
    "    else:\n",
    "        anndata2_full = anndata2[:, anndata1.var_names]\n",
    "    return anndata2_full"
   ]
  },
  {
   "cell_type": "code",
   "execution_count": null,
   "id": "84dffd92-f892-4f32-9aa3-c92476bfcff4",
   "metadata": {},
   "outputs": [],
   "source": [
    "path = [\"/ihome/ylee/yiz133/Code/Data processing/data/External/Spleen GSE256414/1/\",\n",
    "       \"/ihome/ylee/yiz133/Code/Data processing/data/External/Spleen GSE256414/2/\",\n",
    "        \"/ihome/ylee/yiz133/Code/Data processing/data/External/EAE CNS SPL GSE156718/\",\n",
    "        \"/ihome/ylee/yiz133/Code/Data processing/data/External/CNS GSE216390/GSM6671889/\",\n",
    "       ]\n",
    "\n",
    "file_prefix = [\"GSM8098198_Aged-CTRL-1-3_S3.\",\n",
    "              \"GSM8098204_Young-CTRL-1-1_S1.\",\n",
    "               \"GSE156718_GEX-HTO_5_iLN_\",\n",
    "               \"\",\n",
    "              ]\n",
    "\n",
    "tissues = ['SPL_ext_1', 'SPL_ext_2', 'EAE_ext', \"CNS_ext_1\"]"
   ]
  },
  {
   "cell_type": "code",
   "execution_count": null,
   "id": "5f0c5fc7-6bd6-40fe-ab36-fa9669af17f7",
   "metadata": {},
   "outputs": [],
   "source": [
    "# for i in range(len(path)):\n",
    "gene_sets = {}\n",
    "for i in [2,3]:    \n",
    "    adata_ext = sc.read_10x_mtx(path[i], var_names='gene_symbols', \n",
    "                              make_unique=True, cache=False, gex_only=True,\n",
    "                              prefix = file_prefix[i])\n",
    "    print(adata_ext)\n",
    "    \n",
    "    adata_ext.var_names_make_unique()\n",
    "    sc.pp.normalize_total(adata_ext)\n",
    "    sc.pp.log1p(adata_ext)\n",
    "    adata_ext = adata_ext[:, ~adata_ext.var_names.str.startswith('mt')].copy()\n",
    "    \n",
    "    adata = adata_gex\n",
    "    sc.pp.filter_cells(adata_ext, min_genes= 10)\n",
    "    sc.pp.filter_cells(adata_ext, max_genes= 8000)\n",
    "    sc.pp.filter_cells(adata_ext, min_counts=100)\n",
    "    sc.pp.filter_cells(adata_ext, max_counts=30000)\n",
    "    sc.pp.filter_genes(adata_ext, min_cells= 10)\n",
    "\n",
    "    gene_sets[f'adata_ext_{i}'] = merge_anndata_to_base(adata_gex, adata_ext)\n",
    "    \n",
    "    gene_sets[f'adata_ext_{i}'].obs['tissue'] = tissues[i]"
   ]
  },
  {
   "cell_type": "code",
   "execution_count": null,
   "id": "90478723-94eb-4b64-b610-c33a26ea5328",
   "metadata": {
    "tags": []
   },
   "outputs": [],
   "source": [
    "adata_gex.var_names.intersection(adata_ext.var_names)"
   ]
  },
  {
   "cell_type": "code",
   "execution_count": null,
   "id": "e240c790-3430-46d9-84f9-abb7b272ef87",
   "metadata": {},
   "outputs": [],
   "source": [
    "!pwd"
   ]
  },
  {
   "cell_type": "markdown",
   "id": "0ce03ef2-111d-4a5d-af04-4cb37317d6da",
   "metadata": {
    "tags": []
   },
   "source": [
    "### Merge with EAE data"
   ]
  },
  {
   "cell_type": "code",
   "execution_count": null,
   "id": "a9c334a7-703f-439e-a9a1-8486f0120ae0",
   "metadata": {},
   "outputs": [],
   "source": [
    "all_adatas = {\"main\": adata_gex, **gene_sets}"
   ]
  },
  {
   "cell_type": "code",
   "execution_count": null,
   "id": "09a79b0c-9831-463d-bfa1-0fedc4b942ef",
   "metadata": {
    "tags": []
   },
   "outputs": [],
   "source": [
    "# only training data\n",
    "# adata_combine = adata_gex\n",
    "\n",
    "# training and test dict\n",
    "adata_combine = ad.concat(all_adatas, join=\"outer\")\n",
    "adata_combine"
   ]
  },
  {
   "cell_type": "code",
   "execution_count": null,
   "id": "7dab1c63-bd5a-40bd-b1f8-c1780cbb4cfa",
   "metadata": {},
   "outputs": [],
   "source": [
    "# adata_combine = ad.concat([adata_gex, gene_sets['adata_ext_0'], gene_sets['adata_ext_1'], \n",
    "#                           gene_sets['adata_ext_2'] ], join=\"outer\")\n",
    "\n",
    "# adata_combine = ad.concat([adata_gex, gene_sets['adata_ext_3']], join=\"outer\")"
   ]
  },
  {
   "cell_type": "code",
   "execution_count": null,
   "id": "620cf257-995d-4c52-8e9a-dca62c8bbc2b",
   "metadata": {
    "tags": []
   },
   "outputs": [],
   "source": [
    "# Concatenate along observations\n",
    "# adata_combine = ad.concat([anndata1, anndata2_full], axis=0 , join=\"inner\")\n",
    "# adata_combine.obs['tissue'].value_counts()\n",
    "# adata_combine"
   ]
  },
  {
   "cell_type": "markdown",
   "id": "e0fd8520-955b-4a4c-8212-66ab342d8dd8",
   "metadata": {
    "tags": []
   },
   "source": [
    "## clusters"
   ]
  },
  {
   "cell_type": "code",
   "execution_count": null,
   "id": "ee4e9818-f751-43e9-a0d4-8609552029a5",
   "metadata": {
    "tags": []
   },
   "outputs": [],
   "source": [
    "adata_combine.obs['tissue'].value_counts()"
   ]
  },
  {
   "cell_type": "code",
   "execution_count": null,
   "id": "6ad42c67-0088-4851-8977-0a385fb5c189",
   "metadata": {
    "tags": []
   },
   "outputs": [],
   "source": [
    "sc.pp.pca(adata_combine, svd_solver=\"arpack\", n_comps=20)"
   ]
  },
  {
   "cell_type": "code",
   "execution_count": null,
   "id": "9c61b107-ef36-434e-ac87-c1c4f99d2dd8",
   "metadata": {
    "tags": []
   },
   "outputs": [],
   "source": [
    "sc.pp.neighbors(adata_combine, n_neighbors = 20)\n",
    "sc.tl.umap(adata_combine, min_dist=0.5, spread=1.0)\n",
    "sc.tl.leiden(adata_combine, resolution = 0.5, n_iterations=2, flavor = 'igraph')\n",
    "sc.pl.umap(adata_combine, color=[\"tissue\"])"
   ]
  },
  {
   "cell_type": "code",
   "execution_count": null,
   "id": "9f453876-0cf6-49e4-a937-f421d0e552ca",
   "metadata": {
    "tags": []
   },
   "outputs": [],
   "source": [
    "# DO Batch correction\n",
    "\n",
    "sc.external.pp.harmony_integrate(adata_combine, \"tissue\")\n",
    "\n",
    "sc.pp.neighbors(adata_combine, use_rep='X_pca_harmony')"
   ]
  },
  {
   "cell_type": "code",
   "execution_count": null,
   "id": "a141bad6-5d11-4cbc-933f-604915f270da",
   "metadata": {
    "tags": []
   },
   "outputs": [],
   "source": [
    "sc.tl.umap(adata_combine)\n",
    "sc.pl.umap(adata_combine, color=[\"tissue\"])"
   ]
  },
  {
   "cell_type": "markdown",
   "id": "d3a435f4-0ffe-4e53-b3c4-0e8c4d2fdd24",
   "metadata": {
    "tags": []
   },
   "source": [
    "## PCA on the training set"
   ]
  },
  {
   "cell_type": "code",
   "execution_count": null,
   "id": "126d7e48-ebd6-4b20-9431-20959610ad93",
   "metadata": {
    "tags": []
   },
   "outputs": [],
   "source": [
    "from sklearn.preprocessing import StandardScaler\n",
    "from sklearn.decomposition import PCA\n",
    "import matplotlib.pyplot as plt\n",
    "import seaborn as sns"
   ]
  },
  {
   "cell_type": "code",
   "execution_count": null,
   "id": "2530043f-3f9f-4bd5-b571-4467630f28ab",
   "metadata": {},
   "outputs": [],
   "source": [
    "train_idx = adata_combine.obs['tissue'].isin([\"CN\",\"SP\"])\n",
    "adata_train = adata_combine[train_idx]\n",
    "adata_test = adata_combine[~train_idx]"
   ]
  },
  {
   "cell_type": "code",
   "execution_count": null,
   "id": "5b00f6de-b5c2-49d6-ba38-22c05a9997a6",
   "metadata": {
    "tags": []
   },
   "outputs": [],
   "source": [
    "adata_train"
   ]
  },
  {
   "cell_type": "code",
   "execution_count": null,
   "id": "423678d5-10d4-4fdc-8a8c-1bf7b239ef1c",
   "metadata": {},
   "outputs": [],
   "source": [
    "adata_test"
   ]
  },
  {
   "cell_type": "code",
   "execution_count": null,
   "id": "43242d2d-5ea1-49ef-809e-424e4b2f9252",
   "metadata": {
    "tags": []
   },
   "outputs": [],
   "source": [
    "# external_spl, \n",
    "# mdata = mu.read(\"0605_mData_allCommon.h5mu\")\n",
    "# mdata['gex'].obs = mdata.obs\n",
    "# adata_gex = mdata['gex']\n",
    "# adata_gex = adata_gex[adata_gex.obs[\"manual_cell_type\"].isin([\"CD4+ T\"])]\n",
    "\n",
    "DF_train = adata_train.to_df()\n",
    "DF_all = adata_combine.to_df()"
   ]
  },
  {
   "cell_type": "code",
   "execution_count": null,
   "id": "6b7a5f49-9a92-43e2-bc67-fd2f3d63c29a",
   "metadata": {},
   "outputs": [],
   "source": [
    "%cd \"/ihome/ylee/yiz133/Code/Data processing/\""
   ]
  },
  {
   "cell_type": "code",
   "execution_count": null,
   "id": "385ce9c4-69f1-44cd-9f42-56355603a1f9",
   "metadata": {
    "tags": []
   },
   "outputs": [],
   "source": [
    "# Initialize StandardScaler\n",
    "import pandas as pd\n",
    "\n",
    "scaler = StandardScaler()\n",
    "# scaler =  MinMaxScaler()\n",
    "\n",
    "# # Fit and transform the data\n",
    "# # X_scaled will be a NumPy array\n",
    "# X_scaled_train = scaler.fit_transform(DF_train)\n",
    "# X_scaled_all = scaler.transform(DF_all)\n",
    "\n",
    "X_scaled_train = DF_train\n",
    "X_scaled_all = DF_all"
   ]
  },
  {
   "cell_type": "code",
   "execution_count": null,
   "id": "5ddfd59d-3bba-4671-af2e-8fce988d5f03",
   "metadata": {
    "tags": []
   },
   "outputs": [],
   "source": [
    "pca = PCA(n_components=50, svd_solver='randomized', random_state=42)\n",
    "pca.fit(X_scaled_train)\n",
    "\n",
    "X_pca_train = pca.transform(X_scaled_train)\n",
    "X_pca_all = pca.transform(X_scaled_all)\n",
    "\n",
    "# Convert the transformed data to a DataFrame for easier handling\n",
    "df_pca_all = pd.DataFrame(data=X_pca_all)\n",
    "\n",
    "df_pca_all.index = DF_all.index"
   ]
  },
  {
   "cell_type": "code",
   "execution_count": null,
   "id": "67fc573e-7b85-4729-9b84-37a15ade6e71",
   "metadata": {
    "tags": []
   },
   "outputs": [],
   "source": [
    "idx = len(X_scaled_train)\n",
    "X_pca_all_sub = X_pca_all[:idx]\n",
    "pca_diff = X_pca_train - X_pca_all_sub\n",
    "pca_diff.max()"
   ]
  },
  {
   "cell_type": "code",
   "execution_count": null,
   "id": "654fa80a-7c6e-4784-b497-dbc63caa637a",
   "metadata": {},
   "outputs": [],
   "source": [
    "DF_classes = adata_combine.obs\n",
    "DF_classes.index = DF_all.index\n",
    "DF_classes.head(3)"
   ]
  },
  {
   "cell_type": "code",
   "execution_count": null,
   "id": "a134f990-762a-4c43-ad95-5bc64a0d63e0",
   "metadata": {
    "tags": []
   },
   "outputs": [],
   "source": [
    "import matplotlib.pyplot as plt\n",
    "\n",
    "# Plot the first two PCA components\n",
    "fig, ax = plt.subplots(2,2, figsize=(8, 8))\n",
    "\n",
    "y = DF_classes['tissue'].unique()\n",
    "i = 0\n",
    "\n",
    "for category in y:\n",
    "    X_pca_sub = df_pca_all[DF_classes['tissue'] == category]\n",
    "    ax[int(i/2), i%2].scatter(\n",
    "        X_pca_sub.iloc[:,0], X_pca_sub.iloc[:, 1],\n",
    "        label=category,\n",
    "        alpha=0.8,\n",
    "        linewidths=0.0001,\n",
    "        marker='.'\n",
    "    )\n",
    "    ax[int(i/2), i%2].set_xlim(-10, 20)\n",
    "    ax[int(i/2), i%2].set_ylim(-10, 20)\n",
    "    i += 1\n",
    "\n",
    "\n",
    "# plt.title(\"UMAP\")\n",
    "# plt.legend(title ='tissue')\n",
    "# plt.show(block=False)\n",
    "\n",
    "\n",
    "for category in y:\n",
    "    X_pca_sub = df_pca_all[DF_classes['tissue'] == category]\n",
    "\n",
    "    # print(X_pca_sub.shape)\n",
    "    ax[1,1].scatter(\n",
    "        X_pca_sub.iloc[:,0], X_pca_sub.iloc[:, 1],\n",
    "        label=category,\n",
    "        alpha=0.8,\n",
    "        linewidths=0.0001,\n",
    "        marker='.'\n",
    "    )\n",
    "    plt.xlim(-10, 20)\n",
    "    plt.ylim(-10, 20)\n",
    "    \n",
    "plt.xlabel(\"PCA Component 1\")\n",
    "plt.ylabel(\"PCA Component 2\")\n",
    "plt.title(\"PCA - First Two Components\")\n",
    "plt.legend(title=\"Tissue\", loc='right')  # Add legend with title\n",
    "plt.grid(True)\n",
    "plt.tight_layout()\n",
    "plt.show()\n"
   ]
  },
  {
   "cell_type": "code",
   "execution_count": null,
   "id": "0e515bee-fe7d-4755-a8a4-247c1a35b470",
   "metadata": {},
   "outputs": [],
   "source": [
    "fig, ax = plt.subplots(2,2, figsize=(8, 8))\n",
    "\n",
    "y = DF_classes['tissue'].unique()\n",
    "pca_num = 4\n",
    "\n",
    "for i in range(pca_num):\n",
    "    for category in y:\n",
    "        X_pca_sub = df_pca_all[DF_classes['tissue'] == category]\n",
    "\n",
    "        ax[int(i/2), i%2].scatter(\n",
    "            X_pca_sub.iloc[:,0], X_pca_sub.iloc[:, i+1],\n",
    "            label=category,\n",
    "            alpha=0.8,\n",
    "            linewidths=0.0001,\n",
    "            marker='.'\n",
    "        )\n",
    "    \n",
    "plt.xlabel(\"PCA Component 1\")\n",
    "plt.ylabel(\"PCA Component 2\")\n",
    "plt.title(\"PCA - First Two Components\")\n",
    "plt.legend(title=\"Tissue\")  # Add legend with title\n",
    "plt.grid(True)\n",
    "plt.tight_layout()\n",
    "plt.show()"
   ]
  },
  {
   "cell_type": "markdown",
   "id": "71b2cd98-5275-4f5f-999c-46b6eb2a5d11",
   "metadata": {},
   "source": [
    "### umap"
   ]
  },
  {
   "cell_type": "code",
   "execution_count": null,
   "id": "138e77e7-6401-464c-b7bd-72fecea9e550",
   "metadata": {},
   "outputs": [],
   "source": [
    "import umap\n",
    "\n",
    "umap = umap.UMAP(n_components=2, n_neighbors=20, min_dist=0.5, spread = 2)\n",
    "X_umap_all = umap.fit_transform(df_pca_all)\n",
    "\n",
    "# Convert the transformed data to a DataFrame for easier handling\n",
    "df_umap_all = pd.DataFrame(data=X_umap_all)\n",
    "\n",
    "df_umap_all.index = DF_all.index"
   ]
  },
  {
   "cell_type": "code",
   "execution_count": null,
   "id": "e140ac37-43b6-4d05-8500-0cdb616fbd17",
   "metadata": {},
   "outputs": [],
   "source": [
    "fig, ax = plt.subplots(2,2, figsize=(12,12))\n",
    "i = 0\n",
    "\n",
    "for category in y:\n",
    "    X_pca_sub = df_umap_all[DF_classes['tissue'] == category]\n",
    "    \n",
    "    ax[int(i/2), i%2].scatter(\n",
    "        X_pca_sub.iloc[:,0], X_pca_sub.iloc[:, 1],\n",
    "        label=category,\n",
    "        alpha=0.8,\n",
    "        linewidths=0.0001,\n",
    "        marker='.'\n",
    "    )\n",
    "    i += 1\n",
    "\n",
    "for category in y:\n",
    "    X_pca_sub = df_umap_all[DF_classes['tissue'] == category]\n",
    "    ax[1,1].scatter(\n",
    "        X_pca_sub.iloc[:,0], X_pca_sub.iloc[:, 1],\n",
    "        label=category,\n",
    "        alpha=0.8,\n",
    "        linewidths=0.0001,\n",
    "        marker='.'\n",
    "    )\n",
    "        \n",
    "plt.title(\"UMAP\")\n",
    "plt.legend(title ='tissue')\n",
    "plt.show(block=False)"
   ]
  },
  {
   "cell_type": "code",
   "execution_count": null,
   "id": "a879faec-753f-42d8-9806-4cd9a95efb0d",
   "metadata": {},
   "outputs": [],
   "source": []
  },
  {
   "cell_type": "code",
   "execution_count": null,
   "id": "0ebcf044-b9cc-4674-b976-e61c80acbc79",
   "metadata": {},
   "outputs": [],
   "source": [
    "%cd \"/ihome/ylee/yiz133/Code/Data processing/\""
   ]
  },
  {
   "cell_type": "code",
   "execution_count": null,
   "id": "2d00e0ba-9495-4765-a4f1-fde44d26c620",
   "metadata": {
    "tags": []
   },
   "outputs": [],
   "source": [
    "df_pca_all.to_csv('features_PCA50.csv')\n",
    "DF_classes.to_csv('obs_classes.csv')\n",
    "# df_umap_all.to_csv('features_Umap2.csv')\n"
   ]
  },
  {
   "cell_type": "code",
   "execution_count": null,
   "id": "2a3ebe81-7887-4111-979c-089dcf56709b",
   "metadata": {},
   "outputs": [],
   "source": [
    "aaa"
   ]
  },
  {
   "cell_type": "markdown",
   "id": "319666c6-f9b1-4515-95ef-2b424338db99",
   "metadata": {
    "jp-MarkdownHeadingCollapsed": true,
    "tags": []
   },
   "source": [
    "## load Spleen GSE134157"
   ]
  },
  {
   "cell_type": "code",
   "execution_count": null,
   "id": "f52887fe-41aa-4e23-a0c9-e452cdaa84be",
   "metadata": {},
   "outputs": [],
   "source": [
    "### only external data set can be predicted"
   ]
  },
  {
   "cell_type": "code",
   "execution_count": null,
   "id": "bbff8926-b66d-4cf4-a59b-c7d3ade55dbf",
   "metadata": {},
   "outputs": [],
   "source": [
    "%cd \"/ihome/ylee/yiz133/Code/Data processing/data/External/Spleen GSE134157 one set\""
   ]
  },
  {
   "cell_type": "code",
   "execution_count": null,
   "id": "c0e376df-f615-4fce-989c-f1dbc380fc68",
   "metadata": {
    "tags": []
   },
   "outputs": [],
   "source": [
    "import pandas as pd\n",
    "EAE_feature = pd.read_csv('EAE_features.tsv', sep='\\t', header=None, usecols=[0, 1])\n",
    "data_dict = dict(zip(EAE_feature[0], EAE_feature[1]))\n",
    "# data_dict"
   ]
  },
  {
   "cell_type": "code",
   "execution_count": null,
   "id": "7324c038-3c5c-4d0c-bd71-1e9e3b60714f",
   "metadata": {
    "tags": []
   },
   "outputs": [],
   "source": [
    "external_spl = pd.read_csv('GSE134157_UMImatrix_NICD_protector.tsv', sep='\\t', header=0)\n",
    "external_spl = external_spl.set_index('Unnamed: 0')\n",
    "external_spl = external_spl.T\n",
    "external_spl.head(5)"
   ]
  },
  {
   "cell_type": "markdown",
   "id": "ad5b8cba-e5c9-4879-a180-2a5caf35108e",
   "metadata": {},
   "source": [
    "### change gene id to names"
   ]
  },
  {
   "cell_type": "code",
   "execution_count": null,
   "id": "550cc550-2c6c-4a58-bf64-b4c531911335",
   "metadata": {
    "tags": []
   },
   "outputs": [],
   "source": [
    "external_spl.columns = external_spl.columns.to_series().map(\n",
    "    lambda x: data_dict.get(x,x)\n",
    ")\n",
    "external_spl.head(5)"
   ]
  },
  {
   "cell_type": "code",
   "execution_count": null,
   "id": "a0084837-4889-4144-a03a-8d62deca4deb",
   "metadata": {
    "tags": []
   },
   "outputs": [],
   "source": [
    "ans = external_spl.columns.to_series().str.startswith('ENSMUSG')\n",
    "ans.value_counts()"
   ]
  },
  {
   "cell_type": "code",
   "execution_count": null,
   "id": "4465080b-3bfe-4941-837e-18aa5a3fb0bb",
   "metadata": {
    "tags": []
   },
   "outputs": [],
   "source": [
    "external_spl.columns.intersection(adata_SPL.var_names)"
   ]
  },
  {
   "cell_type": "code",
   "execution_count": null,
   "id": "69c37b61-e113-499f-bfdd-c7276bcec908",
   "metadata": {},
   "outputs": [],
   "source": [
    "import anndata as ad\n",
    "adata_ext = ad.AnnData(X=external_spl)\n",
    "# obs=pd.DataFrame(external_spl.index), var=pd.DataFrame(external_spl.columns)\n",
    "adata_ext = adata_ext[:-2]"
   ]
  },
  {
   "cell_type": "code",
   "execution_count": null,
   "id": "4edb668d-534a-4443-bf20-64ecf8de628a",
   "metadata": {},
   "outputs": [],
   "source": [
    "adata_ext.obs['tissue'] = 'SPL_ext'\n",
    "adata_ext.obs['tissue'] = adata_ext.obs['tissue'].astype('category')\n",
    "adata_ext.obs['tissue']"
   ]
  },
  {
   "cell_type": "code",
   "execution_count": null,
   "id": "897d860a-e0ba-40a3-870e-f7e39587b422",
   "metadata": {},
   "outputs": [],
   "source": [
    "adata_combine = ad.concat((adata_gex,adata_ext), join=\"outer\")"
   ]
  },
  {
   "cell_type": "code",
   "execution_count": null,
   "id": "48cfd36d-af0f-4603-bb95-d0d24474ab7f",
   "metadata": {},
   "outputs": [],
   "source": []
  },
  {
   "cell_type": "code",
   "execution_count": null,
   "id": "6f73388b-0e61-42a3-afac-ef18229fe290",
   "metadata": {},
   "outputs": [],
   "source": []
  },
  {
   "cell_type": "markdown",
   "id": "9ba81b7b-f47f-4813-8738-0dee28c982ff",
   "metadata": {
    "tags": []
   },
   "source": [
    "# end"
   ]
  },
  {
   "cell_type": "code",
   "execution_count": null,
   "id": "75f08242-74c1-4dff-aafc-14df4e6f3e52",
   "metadata": {},
   "outputs": [],
   "source": [
    "%pwd"
   ]
  },
  {
   "cell_type": "code",
   "execution_count": null,
   "id": "b96a18ba-4d0f-432e-a26b-d0e83be75f22",
   "metadata": {},
   "outputs": [],
   "source": [
    "pca.fit(X_scaled_train)\n",
    "\n",
    "X_pca_train = pca.transform(X_scaled_train)\n",
    "\n",
    "# Convert the transformed data to a DataFrame for easier handling\n",
    "df_pca_2 = pd.DataFrame(data=X_pca_train)\n",
    "df_pca_2.index = DF_train.index\n",
    "df_pca_2.to_csv('features_PCA50_train.csv')\n"
   ]
  },
  {
   "cell_type": "code",
   "execution_count": null,
   "id": "07029899-11b8-4ace-8532-3bebbb52485e",
   "metadata": {},
   "outputs": [],
   "source": []
  },
  {
   "cell_type": "code",
   "execution_count": null,
   "id": "96619037-21fe-42a1-82e5-2b0ab661b5c9",
   "metadata": {},
   "outputs": [],
   "source": []
  },
  {
   "cell_type": "code",
   "execution_count": null,
   "id": "00041492-0dd5-45ac-b91d-73e296f29ad0",
   "metadata": {},
   "outputs": [],
   "source": []
  }
 ],
 "metadata": {
  "kernelspec": {
   "display_name": "Python 3 (ipykernel)",
   "language": "python",
   "name": "python3"
  },
  "language_info": {
   "codemirror_mode": {
    "name": "ipython",
    "version": 3
   },
   "file_extension": ".py",
   "mimetype": "text/x-python",
   "name": "python",
   "nbconvert_exporter": "python",
   "pygments_lexer": "ipython3",
   "version": "3.13.5"
  }
 },
 "nbformat": 4,
 "nbformat_minor": 5
}
