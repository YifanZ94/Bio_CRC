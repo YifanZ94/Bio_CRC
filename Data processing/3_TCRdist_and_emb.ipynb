{
 "cells": [
  {
   "cell_type": "code",
   "execution_count": 1,
   "id": "f719fd77-b181-43b1-837f-daeb2887f841",
   "metadata": {},
   "outputs": [
    {
     "name": "stderr",
     "output_type": "stream",
     "text": [
      "2025-08-26 21:55:01.960353: I tensorflow/core/util/port.cc:153] oneDNN custom operations are on. You may see slightly different numerical results due to floating-point round-off errors from different computation orders. To turn them off, set the environment variable `TF_ENABLE_ONEDNN_OPTS=0`.\n",
      "2025-08-26 21:55:01.977855: E external/local_xla/xla/stream_executor/cuda/cuda_fft.cc:467] Unable to register cuFFT factory: Attempting to register factory for plugin cuFFT when one has already been registered\n",
      "WARNING: All log messages before absl::InitializeLog() is called are written to STDERR\n",
      "E0000 00:00:1756259701.995108 1860128 cuda_dnn.cc:8579] Unable to register cuDNN factory: Attempting to register factory for plugin cuDNN when one has already been registered\n",
      "E0000 00:00:1756259702.000396 1860128 cuda_blas.cc:1407] Unable to register cuBLAS factory: Attempting to register factory for plugin cuBLAS when one has already been registered\n",
      "W0000 00:00:1756259702.013477 1860128 computation_placer.cc:177] computation placer already registered. Please check linkage and avoid linking the same target more than once.\n",
      "W0000 00:00:1756259702.013492 1860128 computation_placer.cc:177] computation placer already registered. Please check linkage and avoid linking the same target more than once.\n",
      "W0000 00:00:1756259702.013494 1860128 computation_placer.cc:177] computation placer already registered. Please check linkage and avoid linking the same target more than once.\n",
      "W0000 00:00:1756259702.013495 1860128 computation_placer.cc:177] computation placer already registered. Please check linkage and avoid linking the same target more than once.\n",
      "2025-08-26 21:55:02.017853: I tensorflow/core/platform/cpu_feature_guard.cc:210] This TensorFlow binary is optimized to use available CPU instructions in performance-critical operations.\n",
      "To enable the following instructions: AVX2 AVX512F AVX512_VNNI FMA, in other operations, rebuild TensorFlow with the appropriate compiler flags.\n"
     ]
    }
   ],
   "source": [
    "import warnings\n",
    "warnings.filterwarnings(\"ignore\")\n",
    "\n",
    "import scanpy as sc\n",
    "import numpy as np\n",
    "import matplotlib.pyplot as plt\n",
    "from sklearn.cluster import KMeans\n",
    "import pandas as pd\n",
    "import muon as mu\n",
    "import scirpy as ir\n",
    "np.random.seed(42)\n",
    "import random\n",
    "random.seed(42)"
   ]
  },
  {
   "cell_type": "markdown",
   "id": "afbe5956-3d5f-4bf9-9415-2d7a2f7c12c0",
   "metadata": {
    "tags": []
   },
   "source": [
    "## load mdata"
   ]
  },
  {
   "cell_type": "code",
   "execution_count": 2,
   "id": "be933059-b159-4687-a7d7-27bb271243e1",
   "metadata": {
    "tags": []
   },
   "outputs": [],
   "source": [
    "mdata1 = mu.read('Tonly_CNS_DE2000.h5mu')\n",
    "state_1 = pd.concat([mdata1['gex'].obs['state'], mdata1['airr'].obs['clone_id_size']], axis = 1)\n",
    "\n",
    "mdata2 = mu.read('Tonly_SPL_DE2000.h5mu')\n",
    "state_2 = pd.concat([mdata2['gex'].obs['state'], mdata2['airr'].obs['clone_id_size']], axis = 1)\n",
    "\n",
    "df = pd.concat([state_1, state_2], axis= 0)\n",
    "# df.to_csv('T_states.csv')"
   ]
  },
  {
   "cell_type": "code",
   "execution_count": 3,
   "id": "fbdbb5e6-9f22-422e-abd9-b125f6d51b17",
   "metadata": {
    "tags": []
   },
   "outputs": [],
   "source": [
    "mdata = mu.read(\"/ix1/ylee/Yifan_Zhang/Code_data/data_EAE/anndata/all_Common_DEtop2000.h5mu\")"
   ]
  },
  {
   "cell_type": "code",
   "execution_count": 4,
   "id": "0d987e5a-f5bc-432b-9dca-3bf571fe0613",
   "metadata": {
    "tags": []
   },
   "outputs": [
    {
     "data": {
      "text/html": [
       "<pre>View of MuData object with n_obs × n_vars = 43562 × 2000\n",
       "  obs:\t&#x27;orig.ident&#x27;, &#x27;nCount_RNA&#x27;, &#x27;nFeature_RNA&#x27;, &#x27;nCount_HTO&#x27;, &#x27;nFeature_HTO&#x27;, &#x27;HTO_maxID&#x27;, &#x27;HTO_secondID&#x27;, &#x27;HTO_margin&#x27;, &#x27;HTO_classification&#x27;, &#x27;HTO_classification.global&#x27;, &#x27;hash.ID&#x27;, &#x27;percent.mt&#x27;, &#x27;integrated_nn_res.2&#x27;, &#x27;seurat_clusters&#x27;, &#x27;level_2_clusters&#x27;, &#x27;manual_cell_type&#x27;, &#x27;run_num&#x27;, &#x27;sample&#x27;, &#x27;mouse_BC&#x27;\n",
       "  2 modalities\n",
       "    gex:\t43562 x 2000\n",
       "      obs:\t&#x27;mouse_id&#x27;, &#x27;date&#x27;, &#x27;tissue&#x27;, &#x27;sample&#x27;, &#x27;n_genes_by_counts&#x27;, &#x27;log1p_n_genes_by_counts&#x27;, &#x27;total_counts&#x27;, &#x27;log1p_total_counts&#x27;, &#x27;pct_counts_in_top_50_genes&#x27;, &#x27;pct_counts_in_top_100_genes&#x27;, &#x27;pct_counts_in_top_200_genes&#x27;, &#x27;pct_counts_in_top_500_genes&#x27;, &#x27;total_counts_mt&#x27;, &#x27;log1p_total_counts_mt&#x27;, &#x27;pct_counts_mt&#x27;, &#x27;total_counts_ribo&#x27;, &#x27;log1p_total_counts_ribo&#x27;, &#x27;pct_counts_ribo&#x27;, &#x27;total_counts_hb&#x27;, &#x27;log1p_total_counts_hb&#x27;, &#x27;pct_counts_hb&#x27;, &#x27;n_genes&#x27;, &#x27;n_counts&#x27;, &#x27;mouse_BC&#x27;\n",
       "      var:\t&#x27;mt&#x27;, &#x27;ribo&#x27;, &#x27;hb&#x27;, &#x27;n_cells_by_counts&#x27;, &#x27;mean_counts&#x27;, &#x27;log1p_mean_counts&#x27;, &#x27;pct_dropout_by_counts&#x27;, &#x27;total_counts&#x27;, &#x27;log1p_total_counts&#x27;, &#x27;n_cells&#x27;, &#x27;highly_variable&#x27;, &#x27;means&#x27;, &#x27;dispersions&#x27;, &#x27;dispersions_norm&#x27;, &#x27;highly_variable_nbatches&#x27;, &#x27;highly_variable_intersection&#x27;\n",
       "      uns:\t&#x27;hvg&#x27;, &#x27;log1p&#x27;\n",
       "    airr:\t43562 x 0\n",
       "      obsm:\t&#x27;airr&#x27;</pre>"
      ],
      "text/plain": [
       "View of MuData object with n_obs × n_vars = 43562 × 2000\n",
       "  obs:\t'orig.ident', 'nCount_RNA', 'nFeature_RNA', 'nCount_HTO', 'nFeature_HTO', 'HTO_maxID', 'HTO_secondID', 'HTO_margin', 'HTO_classification', 'HTO_classification.global', 'hash.ID', 'percent.mt', 'integrated_nn_res.2', 'seurat_clusters', 'level_2_clusters', 'manual_cell_type', 'run_num', 'sample', 'mouse_BC'\n",
       "  2 modalities\n",
       "    gex:\t43562 x 2000\n",
       "      obs:\t'mouse_id', 'date', 'tissue', 'sample', 'n_genes_by_counts', 'log1p_n_genes_by_counts', 'total_counts', 'log1p_total_counts', 'pct_counts_in_top_50_genes', 'pct_counts_in_top_100_genes', 'pct_counts_in_top_200_genes', 'pct_counts_in_top_500_genes', 'total_counts_mt', 'log1p_total_counts_mt', 'pct_counts_mt', 'total_counts_ribo', 'log1p_total_counts_ribo', 'pct_counts_ribo', 'total_counts_hb', 'log1p_total_counts_hb', 'pct_counts_hb', 'n_genes', 'n_counts', 'mouse_BC'\n",
       "      var:\t'mt', 'ribo', 'hb', 'n_cells_by_counts', 'mean_counts', 'log1p_mean_counts', 'pct_dropout_by_counts', 'total_counts', 'log1p_total_counts', 'n_cells', 'highly_variable', 'means', 'dispersions', 'dispersions_norm', 'highly_variable_nbatches', 'highly_variable_intersection'\n",
       "      uns:\t'hvg', 'log1p'\n",
       "    airr:\t43562 x 0\n",
       "      obsm:\t'airr'"
      ]
     },
     "execution_count": 4,
     "metadata": {},
     "output_type": "execute_result"
    }
   ],
   "source": [
    "common_obs = mdata1.obs_names.intersection(mdata.obs_names).to_list() + mdata2.obs_names.intersection(mdata.obs_names).to_list()\n",
    "mdata = mdata[common_obs,:]\n",
    "mdata"
   ]
  },
  {
   "cell_type": "code",
   "execution_count": 5,
   "id": "8dd4703b-736e-43d3-a5f4-874bd4aec35c",
   "metadata": {
    "tags": []
   },
   "outputs": [
    {
     "name": "stdout",
     "output_type": "stream",
     "text": [
      "WARNING: No chain indices found under adata.obsm['chain_indices']. Running scirpy.pp.index_chains with default parameters. \n"
     ]
    },
    {
     "data": {
      "text/html": [
       "<pre>MuData object with n_obs × n_vars = 43448 × 2000\n",
       "  obs:\t&#x27;orig.ident&#x27;, &#x27;nCount_RNA&#x27;, &#x27;nFeature_RNA&#x27;, &#x27;nCount_HTO&#x27;, &#x27;nFeature_HTO&#x27;, &#x27;HTO_maxID&#x27;, &#x27;HTO_secondID&#x27;, &#x27;HTO_margin&#x27;, &#x27;HTO_classification&#x27;, &#x27;HTO_classification.global&#x27;, &#x27;hash.ID&#x27;, &#x27;percent.mt&#x27;, &#x27;integrated_nn_res.2&#x27;, &#x27;seurat_clusters&#x27;, &#x27;level_2_clusters&#x27;, &#x27;manual_cell_type&#x27;, &#x27;run_num&#x27;, &#x27;sample&#x27;, &#x27;mouse_BC&#x27;, &#x27;VJ_1_cdr3_aa&#x27;, &#x27;VJ_1_v_call&#x27;, &#x27;VJ_1_j_call&#x27;, &#x27;VDJ_1_cdr3_aa&#x27;, &#x27;VDJ_1_v_call&#x27;, &#x27;VDJ_1_j_call&#x27;\n",
       "  2 modalities\n",
       "    gex:\t43448 x 2000\n",
       "      obs:\t&#x27;mouse_id&#x27;, &#x27;date&#x27;, &#x27;tissue&#x27;, &#x27;sample&#x27;, &#x27;n_genes_by_counts&#x27;, &#x27;log1p_n_genes_by_counts&#x27;, &#x27;total_counts&#x27;, &#x27;log1p_total_counts&#x27;, &#x27;pct_counts_in_top_50_genes&#x27;, &#x27;pct_counts_in_top_100_genes&#x27;, &#x27;pct_counts_in_top_200_genes&#x27;, &#x27;pct_counts_in_top_500_genes&#x27;, &#x27;total_counts_mt&#x27;, &#x27;log1p_total_counts_mt&#x27;, &#x27;pct_counts_mt&#x27;, &#x27;total_counts_ribo&#x27;, &#x27;log1p_total_counts_ribo&#x27;, &#x27;pct_counts_ribo&#x27;, &#x27;total_counts_hb&#x27;, &#x27;log1p_total_counts_hb&#x27;, &#x27;pct_counts_hb&#x27;, &#x27;n_genes&#x27;, &#x27;n_counts&#x27;, &#x27;mouse_BC&#x27;\n",
       "      var:\t&#x27;mt&#x27;, &#x27;ribo&#x27;, &#x27;hb&#x27;, &#x27;n_cells_by_counts&#x27;, &#x27;mean_counts&#x27;, &#x27;log1p_mean_counts&#x27;, &#x27;pct_dropout_by_counts&#x27;, &#x27;total_counts&#x27;, &#x27;log1p_total_counts&#x27;, &#x27;n_cells&#x27;, &#x27;highly_variable&#x27;, &#x27;means&#x27;, &#x27;dispersions&#x27;, &#x27;dispersions_norm&#x27;, &#x27;highly_variable_nbatches&#x27;, &#x27;highly_variable_intersection&#x27;\n",
       "      uns:\t&#x27;hvg&#x27;, &#x27;log1p&#x27;\n",
       "    airr:\t43448 x 0\n",
       "      uns:\t&#x27;chain_indices&#x27;\n",
       "      obsm:\t&#x27;airr&#x27;, &#x27;chain_indices&#x27;</pre>"
      ],
      "text/plain": [
       "MuData object with n_obs × n_vars = 43448 × 2000\n",
       "  obs:\t'orig.ident', 'nCount_RNA', 'nFeature_RNA', 'nCount_HTO', 'nFeature_HTO', 'HTO_maxID', 'HTO_secondID', 'HTO_margin', 'HTO_classification', 'HTO_classification.global', 'hash.ID', 'percent.mt', 'integrated_nn_res.2', 'seurat_clusters', 'level_2_clusters', 'manual_cell_type', 'run_num', 'sample', 'mouse_BC', 'VJ_1_cdr3_aa', 'VJ_1_v_call', 'VJ_1_j_call', 'VDJ_1_cdr3_aa', 'VDJ_1_v_call', 'VDJ_1_j_call'\n",
       "  2 modalities\n",
       "    gex:\t43448 x 2000\n",
       "      obs:\t'mouse_id', 'date', 'tissue', 'sample', 'n_genes_by_counts', 'log1p_n_genes_by_counts', 'total_counts', 'log1p_total_counts', 'pct_counts_in_top_50_genes', 'pct_counts_in_top_100_genes', 'pct_counts_in_top_200_genes', 'pct_counts_in_top_500_genes', 'total_counts_mt', 'log1p_total_counts_mt', 'pct_counts_mt', 'total_counts_ribo', 'log1p_total_counts_ribo', 'pct_counts_ribo', 'total_counts_hb', 'log1p_total_counts_hb', 'pct_counts_hb', 'n_genes', 'n_counts', 'mouse_BC'\n",
       "      var:\t'mt', 'ribo', 'hb', 'n_cells_by_counts', 'mean_counts', 'log1p_mean_counts', 'pct_dropout_by_counts', 'total_counts', 'log1p_total_counts', 'n_cells', 'highly_variable', 'means', 'dispersions', 'dispersions_norm', 'highly_variable_nbatches', 'highly_variable_intersection'\n",
       "      uns:\t'hvg', 'log1p'\n",
       "    airr:\t43448 x 0\n",
       "      uns:\t'chain_indices'\n",
       "      obsm:\t'airr', 'chain_indices'"
      ]
     },
     "execution_count": 5,
     "metadata": {},
     "output_type": "execute_result"
    }
   ],
   "source": [
    "# exclude 2D2 transfer samples\n",
    "\n",
    "selected_samples_id = [\"CMO301\", \"CMO302\", \"CMO318\", \"CMO325\"]\n",
    "selected_date = [\"0516\"]\n",
    "selected_tissue = [\"CN\"]\n",
    "\n",
    "mdata = mdata[~ (mdata['gex'].obs[\"mouse_BC\"].isin(selected_samples_id) & mdata[\"gex\"].obs[\"date\"].isin(selected_date))]\n",
    "\n",
    "meta_airr = ir.get.airr(mdata['airr'], [\"cdr3_aa\", \"v_call\", \"j_call\"] ,  ('VJ_1', 'VDJ_1'))\n",
    "\n",
    "mdata.obs = mdata.obs.join(meta_airr)\n",
    "\n",
    "mdata"
   ]
  },
  {
   "cell_type": "markdown",
   "id": "7eaa2ee8-d4a3-4a84-8a59-35ea4ee4a5bb",
   "metadata": {},
   "source": [
    "## clonotype"
   ]
  },
  {
   "cell_type": "code",
   "execution_count": 6,
   "id": "a11da6d2-4096-4858-9aea-9dd41bd87e85",
   "metadata": {},
   "outputs": [],
   "source": [
    "ir.pp.index_chains(mdata)\n",
    "ir.tl.chain_qc(mdata)\n",
    "\n",
    "# by nucleotide acid seq\n",
    "ir.pp.ir_dist(mdata)\n",
    "ir.tl.define_clonotypes(mdata, receptor_arms=\"all\", dual_ir=\"primary_only\")\n",
    "ir.tl.clonotype_network(mdata, min_cells=10)\n",
    "\n",
    "# print(\"The num of clones is \" + mdata['airr'].obs['clone_id'][-1])"
   ]
  },
  {
   "cell_type": "code",
   "execution_count": 7,
   "id": "d9b33657-3b21-4444-bdf2-edd9ef74d3cd",
   "metadata": {
    "tags": []
   },
   "outputs": [
    {
     "data": {
      "text/plain": [
       "in_two_tissue\n",
       "False    40456\n",
       "True      2992\n",
       "Name: count, dtype: int64"
      ]
     },
     "execution_count": 7,
     "metadata": {},
     "output_type": "execute_result"
    }
   ],
   "source": [
    "# select cells appear in both CNS and SPL\n",
    "\n",
    "# thresh on clono size\n",
    "clone_thresh = 2\n",
    "mdata.obs['cloned'] = mdata['airr'].obs['clone_id_size'] >= clone_thresh\n",
    "\n",
    "# Check if appear in two tissues\n",
    "mdata_cloned = mdata[mdata.obs['cloned']]\n",
    "clone_tissue_df = mdata_cloned['airr'].obs[['clone_id']].join(mdata_cloned['gex'].obs['tissue'])\n",
    "clone_tissue_counts = clone_tissue_df.groupby('clone_id')['tissue'].nunique()\n",
    "multi_tissue_clones = clone_tissue_counts[clone_tissue_counts > 1].index\n",
    "mdata.obs['in_two_tissue'] = mdata['airr'].obs['clone_id'].isin(multi_tissue_clones)\n",
    "\n",
    "\n",
    "# Step 1: Extract clone_id and tissue info\n",
    "# clone_tissue_df = mdata['airr'].obs[['clone_id']].join(mdata['gex'].obs['tissue'])\n",
    "# # Step 2: Group by clone_id and count unique tissues\n",
    "# clone_tissue_counts = clone_tissue_df.groupby('clone_id')['tissue'].nunique()\n",
    "# # Step 3: Find clone_ids that appear in more than one tissue\n",
    "# multi_tissue_clones = clone_tissue_counts[clone_tissue_counts > 1].index\n",
    "# mdata.obs['in_two_tissue'] = mdata['airr'].obs['clone_id'].isin(multi_tissue_clones)\n",
    "\n",
    "mdata.obs['in_two_tissue'].value_counts()"
   ]
  },
  {
   "cell_type": "markdown",
   "id": "3036a0ff-32b2-4800-a4a5-ee44789aa69b",
   "metadata": {
    "tags": []
   },
   "source": [
    "## TCR dist"
   ]
  },
  {
   "cell_type": "code",
   "execution_count": 8,
   "id": "23a2baac-24d1-4f54-a588-439a0c8a130a",
   "metadata": {
    "tags": []
   },
   "outputs": [],
   "source": [
    "from tcrdist.repertoire import TCRrep\n",
    "# formating by tcrdist requirements\n",
    "ref_df = pd.read_csv('data/TCRdist/std_MOG_assays.csv')\n",
    "ref_df.rename(columns={'Chain 2 CDR3': 'cdr3_b_aa', 'Chain 2 V Gene':'v_b_gene', \n",
    "                   'Chain 2 J Gene':'j_b_gene', }, inplace=True)\n",
    "\n",
    "ref_df['v_b_gene'] = ref_df['v_b_gene'].apply(lambda x: str(x) if str(x).endswith('*01') else str(x) + '*01')\n",
    "ref_df['j_b_gene'] = ref_df['j_b_gene'].apply(lambda x: str(x) if str(x).endswith('*01') else str(x) + '*01')\n"
   ]
  },
  {
   "cell_type": "code",
   "execution_count": 9,
   "id": "cecf318f-1bd1-4da0-be7b-84d2ca9db14d",
   "metadata": {
    "tags": []
   },
   "outputs": [],
   "source": [
    "mdata_subset = mdata[mdata.obs['cloned'] & ~mdata.obs['in_two_tissue']]\n",
    "mdata_subset2 = mdata[mdata.obs['in_two_tissue']]\n",
    "mdata_subset3 = mdata[~mdata.obs['cloned']]     \n",
    "\n",
    "mdataSub_list = [mdata]"
   ]
  },
  {
   "cell_type": "code",
   "execution_count": 10,
   "id": "1bb6ab79-60c3-4765-9b1e-e8a0348f95c1",
   "metadata": {
    "tags": []
   },
   "outputs": [],
   "source": [
    "def mdata_TCR_formating(mdata_subset):\n",
    "    query_df = mdata_subset.obs[['VDJ_1_cdr3_aa', 'VDJ_1_v_call', 'VDJ_1_j_call']]\n",
    "    query_df['cell_id'] = query_df.index\n",
    "    query_df.dropna(subset = [\"VDJ_1_cdr3_aa\"])\n",
    "\n",
    "    query_df.rename(columns={'VDJ_1_cdr3_aa': 'cdr3_b_aa', 'VDJ_1_v_call':'v_b_gene', \n",
    "                       'VDJ_1_j_call':'j_b_gene', }, inplace=True)\n",
    "\n",
    "    # 'VDJ_1_consensus_count':'count'\n",
    "    # query_df['cdr3_b_aa'] = 'C' + query_df['cdr3_b_aa'] + 'F'\n",
    "\n",
    "    query_df['v_b_gene'] = query_df['v_b_gene'].str.split('+').str[0]\n",
    "    query_df['j_b_gene'] = query_df['j_b_gene'].str.split('+').str[0]\n",
    "\n",
    "    query_df['v_b_gene'] = query_df['v_b_gene'].apply(lambda x: str(x) if str(x).endswith('*01') else str(x) + '*01')\n",
    "    query_df['j_b_gene'] = query_df['j_b_gene'].apply(lambda x: str(x) if str(x).endswith('*01') else str(x) + '*01')\n",
    "\n",
    "    # query_df_clones = query_df_clones.drop(columns=[\"cell_id\"])\n",
    "    query_df_unique = query_df.drop_duplicates(['cdr3_b_aa'])\n",
    "    return query_df_unique\n"
   ]
  },
  {
   "cell_type": "code",
   "execution_count": 11,
   "id": "f7ed927b-8069-4abc-b7e2-8098a0bf239a",
   "metadata": {
    "tags": []
   },
   "outputs": [],
   "source": [
    "def TCRdist_to_ref(ref_df, query_df_unique):\n",
    "    tr_ref = TCRrep(cell_df = ref_df, \n",
    "                organism = 'mouse', \n",
    "                chains = ['beta'],\n",
    "                compute_distances = False,)\n",
    "\n",
    "    tr_q = TCRrep(cell_df = query_df_unique, \n",
    "                organism = 'mouse', \n",
    "                chains = ['beta'],\n",
    "                compute_distances = False,)\n",
    "\n",
    "    tr_ref.compute_rect_distances(tr_ref.clone_df,  tr_q.clone_df)\n",
    "    print(tr_ref.rw_beta.shape)\n",
    "    print(tr_ref.rw_beta)\n",
    "    return tr_ref, tr_q\n"
   ]
  },
  {
   "cell_type": "code",
   "execution_count": 12,
   "id": "de95065a-30d2-4abd-8c54-6ccb317cb3c9",
   "metadata": {
    "tags": []
   },
   "outputs": [
    {
     "name": "stdout",
     "output_type": "stream",
     "text": [
      "(25, 441)\n",
      "[[121 107  68 ... 135 126 114]\n",
      " [118 128  80 ... 135 108 138]\n",
      " [118 113  92 ... 117 126 138]\n",
      " ...\n",
      " [121 107  68 ... 138 126 102]\n",
      " [121 107  68 ... 138 126 114]\n",
      " [118 101  56 ... 135 102 114]]\n"
     ]
    }
   ],
   "source": [
    "import seaborn as sns\n",
    "import matplotlib.pyplot as plt\n",
    "\n",
    "dist_thres = 85\n",
    "tr_list = []\n",
    "# for m_sub in mdataSub_list:\n",
    "\n",
    "m_sub = mdata[mdata.obs['in_two_tissue']]\n",
    "# m_sub = mdata\n",
    "\n",
    "query_df = mdata_TCR_formating(m_sub)\n",
    "\n",
    "tr_out, tr_query = TCRdist_to_ref(ref_df, query_df)\n",
    "tr_list.append(tr_out)\n",
    "flat_arr = tr_out.rw_beta.min(axis=0).flatten()\n",
    "TCR_all = tr_query.clone_df\n",
    "TCR_all['TCRdist_MOG'] = flat_arr\n",
    "\n",
    "selected_clone_id = flat_arr < dist_thres\n",
    "TCR_selected = TCR_all[selected_clone_id]\n",
    "    \n",
    "# # Example 2D array\n",
    "# arr = tr.rw_beta.min(axis=0)\n",
    "\n",
    "# # Flatten to 1D\n",
    "# flat_arr = arr.flatten()"
   ]
  },
  {
   "cell_type": "code",
   "execution_count": 13,
   "id": "9f0fae7e-335f-4cee-b256-3fa03182c51a",
   "metadata": {
    "tags": []
   },
   "outputs": [
    {
     "data": {
      "text/html": [
       "<div>\n",
       "<style scoped>\n",
       "    .dataframe tbody tr th:only-of-type {\n",
       "        vertical-align: middle;\n",
       "    }\n",
       "\n",
       "    .dataframe tbody tr th {\n",
       "        vertical-align: top;\n",
       "    }\n",
       "\n",
       "    .dataframe thead th {\n",
       "        text-align: right;\n",
       "    }\n",
       "</style>\n",
       "<table border=\"1\" class=\"dataframe\">\n",
       "  <thead>\n",
       "    <tr style=\"text-align: right;\">\n",
       "      <th></th>\n",
       "      <th>cdr3_b_aa</th>\n",
       "      <th>v_b_gene</th>\n",
       "      <th>j_b_gene</th>\n",
       "      <th>cdr1_b_aa</th>\n",
       "      <th>cdr2_b_aa</th>\n",
       "      <th>pmhc_b_aa</th>\n",
       "      <th>count</th>\n",
       "      <th>clone_id</th>\n",
       "      <th>TCRdist_MOG</th>\n",
       "    </tr>\n",
       "  </thead>\n",
       "  <tbody>\n",
       "  </tbody>\n",
       "</table>\n",
       "</div>"
      ],
      "text/plain": [
       "Empty DataFrame\n",
       "Columns: [cdr3_b_aa, v_b_gene, j_b_gene, cdr1_b_aa, cdr2_b_aa, pmhc_b_aa, count, clone_id, TCRdist_MOG]\n",
       "Index: []"
      ]
     },
     "execution_count": 13,
     "metadata": {},
     "output_type": "execute_result"
    }
   ],
   "source": [
    "sub_2d2 = TCR_all[TCR_all['cdr3_b_aa']=='ASSLDCGANP']\n",
    "sub_2d2"
   ]
  },
  {
   "cell_type": "code",
   "execution_count": 14,
   "id": "2fc69d4b-e20b-4196-a105-db483d67a083",
   "metadata": {
    "tags": []
   },
   "outputs": [
    {
     "data": {
      "image/png": "[encoded data removed]",
      "text/plain": [
       "<Figure size 640x480 with 1 Axes>"
      ]
     },
     "metadata": {},
     "output_type": "display_data"
    }
   ],
   "source": [
    "# Plot KDE (Kernel Density Estimate)\n",
    "plt.hist(flat_arr, bins=50, density=True, alpha=0.4)\n",
    "plt.legend(['two tissue', 'one tissue'])\n",
    "plt.title(\"Histogram of 2D Array Elements\")\n",
    "plt.xlabel(\"Distance\")\n",
    "plt.ylabel(\"Density\")\n",
    "plt.show()"
   ]
  },
  {
   "cell_type": "code",
   "execution_count": 15,
   "id": "a3fc76ea-734a-465e-9f69-3f49b5251a2d",
   "metadata": {
    "tags": []
   },
   "outputs": [],
   "source": [
    "df2 = pd.read_csv('TCR_cloned_dist_2d2.csv')"
   ]
  },
  {
   "cell_type": "code",
   "execution_count": 16,
   "id": "6bdad840-ed5d-4e72-9983-fe5df76fbbf6",
   "metadata": {
    "tags": []
   },
   "outputs": [
    {
     "data": {
      "image/png": "[encoded data removed]",
      "text/plain": [
       "<Figure size 640x480 with 1 Axes>"
      ]
     },
     "metadata": {},
     "output_type": "display_data"
    }
   ],
   "source": [
    "dist_2d2 = df2['TCRdist_MOG'].to_numpy()\n",
    "plt.hist(flat_arr, bins=50, density=True, alpha=0.4)\n",
    "plt.hist(dist_2d2, bins=50, density=True, alpha=0.4)\n",
    "plt.legend(['MOG only', '2D2'])\n",
    "plt.title(\"Histogram of 2D Array Elements\")\n",
    "plt.xlabel(\"Distance\")\n",
    "plt.ylabel(\"Density\")\n",
    "plt.show()"
   ]
  },
  {
   "cell_type": "code",
   "execution_count": 17,
   "id": "86b0af38-8127-49ef-b6c9-0352374713aa",
   "metadata": {
    "tags": []
   },
   "outputs": [],
   "source": [
    "mdata_temp = mdata_subset2\n",
    "\n",
    "my_dict = dict(zip(mdata_temp.obs['VDJ_1_cdr3_aa'], mdata_temp['airr'].obs['clone_id_size']))\n",
    "# TCR_selected['cdr3_b_aa_trimed'] = TCR_selected['cdr3_b_aa'].str[1:-1]\n",
    "\n",
    "# TCR_selected['clone_size'] = TCR_selected['cdr3_b_aa_trimed'].map(my_dict)\n",
    "# TCR_selected"
   ]
  },
  {
   "cell_type": "code",
   "execution_count": 18,
   "id": "c8b2784e-7130-4fe7-b38b-b53fe038dcf3",
   "metadata": {
    "tags": []
   },
   "outputs": [],
   "source": [
    "# TCR_all.to_csv('TCRdist_MOG.csv')"
   ]
  },
  {
   "cell_type": "markdown",
   "id": "68309f60-0edb-43b5-bba2-dab18fae3ba3",
   "metadata": {
    "tags": []
   },
   "source": [
    "## DAE by chemokine"
   ]
  },
  {
   "cell_type": "code",
   "execution_count": 19,
   "id": "25813ed4-7789-4e11-841e-94c0996827f5",
   "metadata": {
    "tags": []
   },
   "outputs": [
    {
     "name": "stdout",
     "output_type": "stream",
     "text": [
      "/ihome/ylee/yiz133/Code/Data processing\n"
     ]
    }
   ],
   "source": [
    "%cd /ihome/ylee/yiz133/Code/Data processing"
   ]
  },
  {
   "cell_type": "code",
   "execution_count": 20,
   "id": "64e3e927-9bc4-4ee4-b110-86c0c88e42d4",
   "metadata": {
    "tags": []
   },
   "outputs": [
    {
     "data": {
      "text/html": [
       "<pre>MuData object with n_obs × n_vars = 0 × 2000\n",
       "  obs:\t&#x27;orig.ident&#x27;, &#x27;nCount_RNA&#x27;, &#x27;nFeature_RNA&#x27;, &#x27;nCount_HTO&#x27;, &#x27;nFeature_HTO&#x27;, &#x27;HTO_maxID&#x27;, &#x27;HTO_secondID&#x27;, &#x27;HTO_margin&#x27;, &#x27;HTO_classification&#x27;, &#x27;HTO_classification.global&#x27;, &#x27;hash.ID&#x27;, &#x27;percent.mt&#x27;, &#x27;integrated_nn_res.2&#x27;, &#x27;seurat_clusters&#x27;, &#x27;level_2_clusters&#x27;, &#x27;manual_cell_type&#x27;, &#x27;run_num&#x27;, &#x27;sample&#x27;, &#x27;mouse_BC&#x27;, &#x27;VJ_1_cdr3_aa&#x27;, &#x27;VJ_1_v_call&#x27;, &#x27;VJ_1_j_call&#x27;, &#x27;VDJ_1_cdr3_aa&#x27;, &#x27;VDJ_1_v_call&#x27;, &#x27;VDJ_1_j_call&#x27;, &#x27;cloned&#x27;, &#x27;in_two_tissue&#x27;, &#x27;sc_BC&#x27;, &#x27;cdr3_b_aa_trimed&#x27;, &#x27;TCRdist_MOG&#x27;\n",
       "  2 modalities\n",
       "    gex:\t0 x 2000\n",
       "      obs:\t&#x27;mouse_id&#x27;, &#x27;date&#x27;, &#x27;tissue&#x27;, &#x27;sample&#x27;, &#x27;n_genes_by_counts&#x27;, &#x27;log1p_n_genes_by_counts&#x27;, &#x27;total_counts&#x27;, &#x27;log1p_total_counts&#x27;, &#x27;pct_counts_in_top_50_genes&#x27;, &#x27;pct_counts_in_top_100_genes&#x27;, &#x27;pct_counts_in_top_200_genes&#x27;, &#x27;pct_counts_in_top_500_genes&#x27;, &#x27;total_counts_mt&#x27;, &#x27;log1p_total_counts_mt&#x27;, &#x27;pct_counts_mt&#x27;, &#x27;total_counts_ribo&#x27;, &#x27;log1p_total_counts_ribo&#x27;, &#x27;pct_counts_ribo&#x27;, &#x27;total_counts_hb&#x27;, &#x27;log1p_total_counts_hb&#x27;, &#x27;pct_counts_hb&#x27;, &#x27;n_genes&#x27;, &#x27;n_counts&#x27;, &#x27;mouse_BC&#x27;\n",
       "      var:\t&#x27;mt&#x27;, &#x27;ribo&#x27;, &#x27;hb&#x27;, &#x27;n_cells_by_counts&#x27;, &#x27;mean_counts&#x27;, &#x27;log1p_mean_counts&#x27;, &#x27;pct_dropout_by_counts&#x27;, &#x27;total_counts&#x27;, &#x27;log1p_total_counts&#x27;, &#x27;n_cells&#x27;, &#x27;highly_variable&#x27;, &#x27;means&#x27;, &#x27;dispersions&#x27;, &#x27;dispersions_norm&#x27;, &#x27;highly_variable_nbatches&#x27;, &#x27;highly_variable_intersection&#x27;\n",
       "      uns:\t&#x27;hvg&#x27;, &#x27;log1p&#x27;\n",
       "    airr:\t0 x 0\n",
       "      obs:\t&#x27;receptor_type&#x27;, &#x27;receptor_subtype&#x27;, &#x27;chain_pairing&#x27;, &#x27;clone_id&#x27;, &#x27;clone_id_size&#x27;\n",
       "      uns:\t&#x27;chain_indices&#x27;, &#x27;ir_dist_nt_identity&#x27;, &#x27;clone_id&#x27;, &#x27;clonotype_network&#x27;\n",
       "      obsm:\t&#x27;airr&#x27;, &#x27;chain_indices&#x27;, &#x27;X_clonotype_network&#x27;</pre>"
      ],
      "text/plain": [
       "MuData object with n_obs × n_vars = 0 × 2000\n",
       "  obs:\t'orig.ident', 'nCount_RNA', 'nFeature_RNA', 'nCount_HTO', 'nFeature_HTO', 'HTO_maxID', 'HTO_secondID', 'HTO_margin', 'HTO_classification', 'HTO_classification.global', 'hash.ID', 'percent.mt', 'integrated_nn_res.2', 'seurat_clusters', 'level_2_clusters', 'manual_cell_type', 'run_num', 'sample', 'mouse_BC', 'VJ_1_cdr3_aa', 'VJ_1_v_call', 'VJ_1_j_call', 'VDJ_1_cdr3_aa', 'VDJ_1_v_call', 'VDJ_1_j_call', 'cloned', 'in_two_tissue', 'sc_BC', 'cdr3_b_aa_trimed', 'TCRdist_MOG'\n",
       "  2 modalities\n",
       "    gex:\t0 x 2000\n",
       "      obs:\t'mouse_id', 'date', 'tissue', 'sample', 'n_genes_by_counts', 'log1p_n_genes_by_counts', 'total_counts', 'log1p_total_counts', 'pct_counts_in_top_50_genes', 'pct_counts_in_top_100_genes', 'pct_counts_in_top_200_genes', 'pct_counts_in_top_500_genes', 'total_counts_mt', 'log1p_total_counts_mt', 'pct_counts_mt', 'total_counts_ribo', 'log1p_total_counts_ribo', 'pct_counts_ribo', 'total_counts_hb', 'log1p_total_counts_hb', 'pct_counts_hb', 'n_genes', 'n_counts', 'mouse_BC'\n",
       "      var:\t'mt', 'ribo', 'hb', 'n_cells_by_counts', 'mean_counts', 'log1p_mean_counts', 'pct_dropout_by_counts', 'total_counts', 'log1p_total_counts', 'n_cells', 'highly_variable', 'means', 'dispersions', 'dispersions_norm', 'highly_variable_nbatches', 'highly_variable_intersection'\n",
       "      uns:\t'hvg', 'log1p'\n",
       "    airr:\t0 x 0\n",
       "      obs:\t'receptor_type', 'receptor_subtype', 'chain_pairing', 'clone_id', 'clone_id_size'\n",
       "      uns:\t'chain_indices', 'ir_dist_nt_identity', 'clone_id', 'clonotype_network'\n",
       "      obsm:\t'airr', 'chain_indices', 'X_clonotype_network'"
      ]
     },
     "execution_count": 20,
     "metadata": {},
     "output_type": "execute_result"
    }
   ],
   "source": [
    "## subset by TCR dist\n",
    "\n",
    "mdata_temp = mdata\n",
    "TCR_all['cdr3_b_aa_trimed'] = TCR_all['cdr3_b_aa'].str[1:-1].astype(str)\n",
    "\n",
    "TCR_df = TCR_all[['cdr3_b_aa_trimed', 'TCRdist_MOG']]\n",
    "\n",
    "mdata_temp = mdata_temp[mdata.obs['VDJ_1_cdr3_aa'].isin(TCR_all['cdr3_b_aa_trimed'])]\n",
    "mdata_temp.obs['sc_BC'] = mdata_temp['gex'].obs.index\n",
    "\n",
    "mdata_temp.obs = mdata_temp.obs.merge(TCR_df, how='left', left_on='VDJ_1_cdr3_aa', right_on='cdr3_b_aa_trimed')\n",
    "mdata_temp.obs.set_index(mdata_temp.obs['sc_BC'], inplace=True)\n",
    "\n",
    "mdata_temp\n"
   ]
  },
  {
   "cell_type": "code",
   "execution_count": 21,
   "id": "0e5bfaf0-c801-4f5b-8521-8cbaee8d589f",
   "metadata": {
    "tags": []
   },
   "outputs": [
    {
     "ename": "ValueError",
     "evalue": "Found array with 0 sample(s) (shape=(0, 2000)) while a minimum of 1 is required.",
     "output_type": "error",
     "traceback": [
      "\u001b[0;31m---------------------------------------------------------------------------\u001b[0m",
      "\u001b[0;31mValueError\u001b[0m                                Traceback (most recent call last)",
      "Cell \u001b[0;32mIn[21], line 2\u001b[0m\n\u001b[1;32m      1\u001b[0m \u001b[38;5;66;03m# mdata_subset = mdata\u001b[39;00m\n\u001b[0;32m----> 2\u001b[0m sc\u001b[38;5;241m.\u001b[39mpp\u001b[38;5;241m.\u001b[39mpca(mdata_temp[\u001b[38;5;124m\"\u001b[39m\u001b[38;5;124mgex\u001b[39m\u001b[38;5;124m\"\u001b[39m], svd_solver\u001b[38;5;241m=\u001b[39m\u001b[38;5;124m\"\u001b[39m\u001b[38;5;124marpack\u001b[39m\u001b[38;5;124m\"\u001b[39m, n_comps\u001b[38;5;241m=\u001b[39m\u001b[38;5;241m10\u001b[39m)\n\u001b[1;32m      3\u001b[0m sc\u001b[38;5;241m.\u001b[39mpp\u001b[38;5;241m.\u001b[39mneighbors(mdata_temp[\u001b[38;5;124m\"\u001b[39m\u001b[38;5;124mgex\u001b[39m\u001b[38;5;124m\"\u001b[39m], use_rep\u001b[38;5;241m=\u001b[39m\u001b[38;5;124m'\u001b[39m\u001b[38;5;124mX_pca\u001b[39m\u001b[38;5;124m'\u001b[39m, n_neighbors \u001b[38;5;241m=\u001b[39m \u001b[38;5;241m10\u001b[39m)\n\u001b[1;32m      4\u001b[0m sc\u001b[38;5;241m.\u001b[39mtl\u001b[38;5;241m.\u001b[39mumap(mdata_temp[\u001b[38;5;124m\"\u001b[39m\u001b[38;5;124mgex\u001b[39m\u001b[38;5;124m\"\u001b[39m], min_dist\u001b[38;5;241m=\u001b[39m\u001b[38;5;241m0.5\u001b[39m, spread\u001b[38;5;241m=\u001b[39m\u001b[38;5;241m1.0\u001b[39m)\n",
      "File \u001b[0;32m~/.local/lib/python3.11/site-packages/scanpy/preprocessing/_pca/__init__.py:316\u001b[0m, in \u001b[0;36mpca\u001b[0;34m(***failed resolving arguments***)\u001b[0m\n\u001b[1;32m    311\u001b[0m         msg \u001b[38;5;241m=\u001b[39m (\n\u001b[1;32m    312\u001b[0m             \u001b[38;5;124mf\u001b[39m\u001b[38;5;124m\"\u001b[39m\u001b[38;5;132;01m{\u001b[39;00msvd_solver\u001b[38;5;132;01m=}\u001b[39;00m\u001b[38;5;124m for sparse relies on legacy code and will not be supported in the future. \u001b[39m\u001b[38;5;124m\"\u001b[39m\n\u001b[1;32m    313\u001b[0m             \u001b[38;5;124m\"\u001b[39m\u001b[38;5;124mAlso the lobpcg solver has been observed to be inaccurate. Please use \u001b[39m\u001b[38;5;124m'\u001b[39m\u001b[38;5;124marpack\u001b[39m\u001b[38;5;124m'\u001b[39m\u001b[38;5;124m instead.\u001b[39m\u001b[38;5;124m\"\u001b[39m\n\u001b[1;32m    314\u001b[0m         )\n\u001b[1;32m    315\u001b[0m         warnings\u001b[38;5;241m.\u001b[39mwarn(msg, \u001b[38;5;167;01mFutureWarning\u001b[39;00m, stacklevel\u001b[38;5;241m=\u001b[39m\u001b[38;5;241m2\u001b[39m)\n\u001b[0;32m--> 316\u001b[0m     X_pca, pca_ \u001b[38;5;241m=\u001b[39m _pca_compat_sparse(\n\u001b[1;32m    317\u001b[0m         X, n_comps, solver\u001b[38;5;241m=\u001b[39msvd_solver, random_state\u001b[38;5;241m=\u001b[39mrandom_state\n\u001b[1;32m    318\u001b[0m     )\n\u001b[1;32m    319\u001b[0m \u001b[38;5;28;01melse\u001b[39;00m:\n\u001b[1;32m    320\u001b[0m     \u001b[38;5;28;01mif\u001b[39;00m \u001b[38;5;129;01mnot\u001b[39;00m \u001b[38;5;28misinstance\u001b[39m(X, DaskArray):\n",
      "File \u001b[0;32m~/.local/lib/python3.11/site-packages/scanpy/preprocessing/_pca/_compat.py:36\u001b[0m, in \u001b[0;36m_pca_compat_sparse\u001b[0;34m(x, n_pcs, solver, mu, random_state)\u001b[0m\n\u001b[1;32m     34\u001b[0m np\u001b[38;5;241m.\u001b[39mrandom\u001b[38;5;241m.\u001b[39mset_state(random_state\u001b[38;5;241m.\u001b[39mget_state())\n\u001b[1;32m     35\u001b[0m random_init \u001b[38;5;241m=\u001b[39m np\u001b[38;5;241m.\u001b[39mrandom\u001b[38;5;241m.\u001b[39mrand(np\u001b[38;5;241m.\u001b[39mmin(x\u001b[38;5;241m.\u001b[39mshape))\n\u001b[0;32m---> 36\u001b[0m x \u001b[38;5;241m=\u001b[39m check_array(x, accept_sparse\u001b[38;5;241m=\u001b[39m[\u001b[38;5;124m\"\u001b[39m\u001b[38;5;124mcsr\u001b[39m\u001b[38;5;124m\"\u001b[39m, \u001b[38;5;124m\"\u001b[39m\u001b[38;5;124mcsc\u001b[39m\u001b[38;5;124m\"\u001b[39m])\n\u001b[1;32m     38\u001b[0m \u001b[38;5;28;01mif\u001b[39;00m mu \u001b[38;5;129;01mis\u001b[39;00m \u001b[38;5;28;01mNone\u001b[39;00m:\n\u001b[1;32m     39\u001b[0m     mu \u001b[38;5;241m=\u001b[39m np\u001b[38;5;241m.\u001b[39masarray(x\u001b[38;5;241m.\u001b[39mmean(\u001b[38;5;241m0\u001b[39m))\u001b[38;5;241m.\u001b[39mflatten()[\u001b[38;5;28;01mNone\u001b[39;00m, :]\n",
      "File \u001b[0;32m/software/rhel9/manual/install/python/ondemand-jupyter-python3.11-2023.09/lib/python3.11/site-packages/sklearn/utils/validation.py:969\u001b[0m, in \u001b[0;36mcheck_array\u001b[0;34m(array, accept_sparse, accept_large_sparse, dtype, order, copy, force_all_finite, ensure_2d, allow_nd, ensure_min_samples, ensure_min_features, estimator, input_name)\u001b[0m\n\u001b[1;32m    967\u001b[0m     n_samples \u001b[38;5;241m=\u001b[39m _num_samples(array)\n\u001b[1;32m    968\u001b[0m     \u001b[38;5;28;01mif\u001b[39;00m n_samples \u001b[38;5;241m<\u001b[39m ensure_min_samples:\n\u001b[0;32m--> 969\u001b[0m         \u001b[38;5;28;01mraise\u001b[39;00m \u001b[38;5;167;01mValueError\u001b[39;00m(\n\u001b[1;32m    970\u001b[0m             \u001b[38;5;124m\"\u001b[39m\u001b[38;5;124mFound array with \u001b[39m\u001b[38;5;132;01m%d\u001b[39;00m\u001b[38;5;124m sample(s) (shape=\u001b[39m\u001b[38;5;132;01m%s\u001b[39;00m\u001b[38;5;124m) while a\u001b[39m\u001b[38;5;124m\"\u001b[39m\n\u001b[1;32m    971\u001b[0m             \u001b[38;5;124m\"\u001b[39m\u001b[38;5;124m minimum of \u001b[39m\u001b[38;5;132;01m%d\u001b[39;00m\u001b[38;5;124m is required\u001b[39m\u001b[38;5;132;01m%s\u001b[39;00m\u001b[38;5;124m.\u001b[39m\u001b[38;5;124m\"\u001b[39m\n\u001b[1;32m    972\u001b[0m             \u001b[38;5;241m%\u001b[39m (n_samples, array\u001b[38;5;241m.\u001b[39mshape, ensure_min_samples, context)\n\u001b[1;32m    973\u001b[0m         )\n\u001b[1;32m    975\u001b[0m \u001b[38;5;28;01mif\u001b[39;00m ensure_min_features \u001b[38;5;241m>\u001b[39m \u001b[38;5;241m0\u001b[39m \u001b[38;5;129;01mand\u001b[39;00m array\u001b[38;5;241m.\u001b[39mndim \u001b[38;5;241m==\u001b[39m \u001b[38;5;241m2\u001b[39m:\n\u001b[1;32m    976\u001b[0m     n_features \u001b[38;5;241m=\u001b[39m array\u001b[38;5;241m.\u001b[39mshape[\u001b[38;5;241m1\u001b[39m]\n",
      "\u001b[0;31mValueError\u001b[0m: Found array with 0 sample(s) (shape=(0, 2000)) while a minimum of 1 is required."
     ]
    }
   ],
   "source": [
    "# mdata_subset = mdata\n",
    "sc.pp.pca(mdata_temp[\"gex\"], svd_solver=\"arpack\", n_comps=10)\n",
    "sc.pp.neighbors(mdata_temp[\"gex\"], use_rep='X_pca', n_neighbors = 10)\n",
    "sc.tl.umap(mdata_temp[\"gex\"], min_dist=0.5, spread=1.0)\n",
    "sc.tl.leiden(mdata_temp[\"gex\"], resolution = 0.5, n_iterations=2, flavor = 'igraph')\n",
    "sc.pl.umap(mdata_temp[\"gex\"], color=[\"tissue\"])"
   ]
  },
  {
   "cell_type": "code",
   "execution_count": null,
   "id": "14aaa9c2-bab0-4510-bc7f-bbc660b280ef",
   "metadata": {
    "tags": []
   },
   "outputs": [],
   "source": [
    "mdata_temp.obs['manual_cell_type'] = mdata_temp.obs['manual_cell_type'].cat.remove_unused_categories()\n",
    "mu.pl.embedding(mdata_temp, basis=\"gex:umap\", color= ['manual_cell_type', 'gex:mouse_id'], wspace = 0.2, ncols=2, vmin=0)"
   ]
  },
  {
   "cell_type": "code",
   "execution_count": null,
   "id": "af5127a3-d782-4d8a-852d-dead83db5c18",
   "metadata": {
    "tags": []
   },
   "outputs": [],
   "source": [
    "chemokine_all = [g for g in mdata_temp[\"gex\"].var_names if g.startswith((\"Cc\", \"Cxc\", \"Cx3c\"))]\n",
    "\n",
    "# markers_in = []\n",
    "# for i in chemokine:\n",
    "#     if i in mdata_subset[\"gex\"].var_names:\n",
    "#         markers_in.append(i) "
   ]
  },
  {
   "cell_type": "code",
   "execution_count": null,
   "id": "6082e4c5-9402-4ae6-bdc7-8cc9d1ef3aae",
   "metadata": {
    "tags": []
   },
   "outputs": [],
   "source": [
    "sc.tl.rank_genes_groups(mdata_temp[\"gex\"], groupby =\"tissue\",  method=\"wilcoxon\")\n",
    "# mask_var = chemokine_all,\n",
    "\n",
    "# sc.pl.rank_genes_groups_heatmap(mdata_subset[\"gex\"], groupby = \"tissue\", gene_symbols= chemokine_all,\n",
    "#                                  cmap='bwr',)"
   ]
  },
  {
   "cell_type": "code",
   "execution_count": null,
   "id": "02e697e3-b7a8-4b86-8df3-83a488eced89",
   "metadata": {},
   "outputs": [],
   "source": [
    "# Get results as DataFrame\n",
    "df = sc.get.rank_genes_groups_df(mdata_temp[\"gex\"], group=\"CN\")\n",
    "\n",
    "# Filter to certain genes\n",
    "df_filtered = df[df[\"names\"].isin(chemokine_all)]\n",
    "\n",
    "print(df_filtered)"
   ]
  },
  {
   "cell_type": "code",
   "execution_count": null,
   "id": "9e065e39-24f6-4e35-927c-0df935d9a7ad",
   "metadata": {
    "tags": []
   },
   "outputs": [],
   "source": [
    "chemokine_topDE = df_filtered['names'].head(10)\n",
    "\n",
    "mu.pl.embedding(mdata_temp, basis=\"gex:umap\", color= chemokine_topDE[:4], ncols=2, vmin=0)"
   ]
  },
  {
   "cell_type": "code",
   "execution_count": null,
   "id": "80f5b523-c056-4d57-8b15-aa3aee1d3bdc",
   "metadata": {
    "tags": []
   },
   "outputs": [],
   "source": [
    "expr_chemokine = mdata['gex'][:, chemokine_topDE.values].to_df()\n",
    "expr_chemokine"
   ]
  },
  {
   "cell_type": "code",
   "execution_count": null,
   "id": "846d41da-e5ce-480f-ab67-872769a67fe7",
   "metadata": {
    "tags": []
   },
   "outputs": [],
   "source": [
    "# expr_chemokine.to_csv('top10_chemok.csv')"
   ]
  },
  {
   "cell_type": "code",
   "execution_count": null,
   "id": "61f5883e-4d53-49a1-bff8-4207ce2c08ab",
   "metadata": {
    "tags": []
   },
   "outputs": [],
   "source": [
    "cellType_markers = ['Cd4', 'Cd8a','Cd8b1','Nkg7','Foxp3', 'Ikzf2', 'Ctla4', 'Il2ra','Ccr6', 'Il22']\n",
    "cellState_markers = ['Isg15', 'Gbp2', 'Ifih1', 'Icos', 'Cd69', 'Cd28', 'Pdcd1', 'Lag3', 'Havcr2', 'Ccr7', 'Sell', 'Cd27']\n",
    "\n",
    "markers_in = []\n",
    "for i in cellType_markers:\n",
    "    if i in mdata[\"gex\"].var_names:\n",
    "        markers_in.append(i) \n",
    "markers_in\n",
    "expr_markers = mdata['gex'][:, markers_in].to_df()\n",
    "expr_markers.to_csv('marker_genes_for_training.csv')"
   ]
  },
  {
   "cell_type": "code",
   "execution_count": null,
   "id": "cc8309b4-f0a8-4f48-ac2a-cd129e911a4e",
   "metadata": {
    "tags": []
   },
   "outputs": [],
   "source": [
    "sc.pl.rank_genes_groups_dotplot(mdata_temp[\"gex\"],  groupby=\"tissue\", \n",
    "                                   var_names=chemokine_topDE[:10], cmap='Blues')\n"
   ]
  },
  {
   "cell_type": "code",
   "execution_count": null,
   "id": "57a08910-a8e3-4b28-8d38-a982d63b7f66",
   "metadata": {
    "tags": []
   },
   "outputs": [],
   "source": [
    "vars_target_df = pd.read_csv('top10_chemok.csv')\n",
    "sc.pl.rank_genes_groups_dotplot(mdata_temp[\"gex\"],  groupby=\"tissue\", \n",
    "                                   var_names=vars_target_df.columns[1:], cmap='Purples')    # 'Greens', 'Reds', 'Purples'\n"
   ]
  },
  {
   "cell_type": "markdown",
   "id": "6c534500-5d7f-419a-b13d-3c3de28321c2",
   "metadata": {
    "tags": []
   },
   "source": [
    "## DAE by MOG dist"
   ]
  },
  {
   "cell_type": "code",
   "execution_count": null,
   "id": "787a3cb0-43b2-45bf-b88c-33f5a6ee308c",
   "metadata": {
    "tags": []
   },
   "outputs": [],
   "source": [
    "# merge df col to mdata obs\n",
    "mdata.obs['sc_BC'] = mdata.obs.index\n",
    "mdata.obs['TCRdist_short'] = True\n",
    "mdata_DF = mdata.obs[['VDJ_1_cdr3_aa', 'TCRdist_short']]\n",
    "mdata_DF.dropna(inplace=True)\n",
    "mdata_DF.set_index('VDJ_1_cdr3_aa', inplace=True)\n",
    "\n",
    "TCR_all['cdr3_b_aa_trimed'] = TCR_all['cdr3_b_aa'].str[1:-1]\n",
    "merged_obs = mdata_DF.merge(TCR_all, how='left', left_on='VDJ_1_cdr3_aa', right_on='cdr3_b_aa_trimed')\n",
    "\n",
    "mdata_DF"
   ]
  },
  {
   "cell_type": "code",
   "execution_count": null,
   "id": "43fad082-990c-4f54-9e75-9694960f214c",
   "metadata": {
    "tags": []
   },
   "outputs": [],
   "source": [
    "mdata.obs['VDJ_1_cdr3_aa']"
   ]
  },
  {
   "cell_type": "code",
   "execution_count": null,
   "id": "7994ae48-0f12-44eb-953a-894def532459",
   "metadata": {},
   "outputs": [],
   "source": []
  },
  {
   "cell_type": "code",
   "execution_count": null,
   "id": "a71c68e5-9b43-4e1f-915c-45d47472cb3e",
   "metadata": {},
   "outputs": [],
   "source": []
  },
  {
   "cell_type": "code",
   "execution_count": null,
   "id": "0777a96e-4130-4934-b574-f3ffe2c78bc6",
   "metadata": {},
   "outputs": [],
   "source": []
  },
  {
   "cell_type": "markdown",
   "id": "c1573d52-c3df-44b7-b25b-ba52530eed08",
   "metadata": {
    "tags": []
   },
   "source": [
    "## GIANA embedings"
   ]
  },
  {
   "cell_type": "code",
   "execution_count": null,
   "id": "db4114e7-8a4c-4e3b-827d-85a902687eb9",
   "metadata": {
    "tags": []
   },
   "outputs": [],
   "source": [
    "%cd /ihome/ylee/yiz133/Code/deepTCR/GIANA_output/"
   ]
  },
  {
   "cell_type": "code",
   "execution_count": null,
   "id": "5f9fef6b-a567-4100-a87d-d93c632aa381",
   "metadata": {},
   "outputs": [],
   "source": [
    "# Create a sample 2D matrix\n",
    "matrix = pd.read_csv('cdr3_id--RotationEncodingBL62.txt_EncodingMatrix.txt', sep = '\\t', header = None)\n",
    "\n",
    "matrix.rename(columns={0:'cdr3_b_aa', 1: 'BC'}, inplace=True)\n",
    "\n",
    "# for i in range(len(matrix)):\n",
    "#     matrix['BC'] = matrix.iloc[i,2].split('_')[-1]"
   ]
  },
  {
   "cell_type": "code",
   "execution_count": null,
   "id": "d6c8403d-e28c-4bce-8c31-ccd39fb8a00c",
   "metadata": {
    "tags": []
   },
   "outputs": [],
   "source": [
    "matrix = pd.merge(matrix, cell_type, left_on='BC', right_index=True, how='inner')\n",
    "matrix.set_index('BC', inplace=True)\n",
    "matrix"
   ]
  },
  {
   "cell_type": "code",
   "execution_count": null,
   "id": "91b75379-b576-4ab2-b374-18e2a5503dee",
   "metadata": {
    "tags": []
   },
   "outputs": [],
   "source": [
    "matrix.isnull().values.any()"
   ]
  },
  {
   "cell_type": "markdown",
   "id": "af628920-ef37-44c7-b322-d6f1786419da",
   "metadata": {
    "tags": []
   },
   "source": [
    "### Merge dist with GIANA embedings"
   ]
  },
  {
   "cell_type": "code",
   "execution_count": null,
   "id": "c24e5eb5-7e77-44b3-8339-146e30242b5a",
   "metadata": {
    "tags": []
   },
   "outputs": [],
   "source": [
    "TCR_matched = matrix[matrix['cdr3_b_aa'].isin(TCR_selected['cdr3_b_aa'])]\n",
    "TCR_matched"
   ]
  },
  {
   "cell_type": "code",
   "execution_count": null,
   "id": "d80c89c6-ac31-41b1-8787-c772e927ae50",
   "metadata": {
    "tags": []
   },
   "outputs": [],
   "source": [
    "TCR_matched['manual_cell_type'].value_counts()"
   ]
  },
  {
   "cell_type": "code",
   "execution_count": null,
   "id": "5e38287c-83e3-4527-ad71-19a95fc47685",
   "metadata": {
    "tags": []
   },
   "outputs": [],
   "source": [
    "TCR_matched['sample'].value_counts()"
   ]
  },
  {
   "cell_type": "markdown",
   "id": "47bbc21c-fb2d-4bd5-a1e4-e666537d8190",
   "metadata": {
    "tags": []
   },
   "source": [
    "## sklearn KNN clustering"
   ]
  },
  {
   "cell_type": "code",
   "execution_count": null,
   "id": "28f8e483-1086-4673-9fb6-227095c64f87",
   "metadata": {
    "tags": []
   },
   "outputs": [],
   "source": [
    "from sklearn.cluster import KMeans\n",
    "from sklearn.preprocessing import StandardScaler\n",
    "\n",
    "EM_dim = 97\n",
    "# max = 97\n",
    "EM_matrix = TCR_matched.iloc[:,1:EM_dim]\n",
    "\n",
    "\n",
    "scaler = StandardScaler()\n",
    "X_scaled = scaler.fit_transform(EM_matrix)\n",
    "\n",
    "k = 10  # Number of clusters\n",
    "kmeans = KMeans(n_clusters=k, random_state=42, copy_x=False)\n",
    "clusters = kmeans.fit_predict(X_scaled)"
   ]
  },
  {
   "cell_type": "code",
   "execution_count": null,
   "id": "20a758ad-19a5-458b-a0b7-d3aca1504755",
   "metadata": {
    "tags": []
   },
   "outputs": [],
   "source": [
    "from sklearn.decomposition import PCA\n",
    "pca = PCA(n_components=20, svd_solver='randomized', random_state=42)\n",
    "X_pca_GIANA = pca.fit_transform(X_scaled)\n",
    "\n",
    "import umap\n",
    "umap = umap.UMAP(n_components=2, random_state=42, n_neighbors = 20, min_dist = 0.5)\n",
    "# umap = umap.UMAP(n_components=2, random_state=42)\n",
    "\n",
    "X_r = umap.fit_transform(X_pca_GIANA)"
   ]
  },
  {
   "cell_type": "code",
   "execution_count": null,
   "id": "351c1690-cd69-4567-9f03-88b9a391e74d",
   "metadata": {
    "tags": []
   },
   "outputs": [],
   "source": [
    "# plot\n",
    "import seaborn as sns\n",
    "\n",
    "fig, axes = plt.subplots(2,2, figsize=(10,10))\n",
    "\n",
    "# Create DataFrame\n",
    "df = pd.DataFrame({\n",
    "    'x': X_r[:, 0],\n",
    "    'y': X_r[:, 1],\n",
    "    'label': TCR_matched['sample']\n",
    "})\n",
    "sns.scatterplot(data=df, x='x', y='y', hue='label', s=10, ax = axes[0][0])\n",
    "\n",
    "df2 = pd.DataFrame({\n",
    "    'x': X_r[:, 0],\n",
    "    'y': X_r[:, 1],\n",
    "    'label': TCR_matched['manual_cell_type']\n",
    "})\n",
    "sns.scatterplot(data=df2, x='x', y='y', hue='label', s=10, ax = axes[0][1])\n",
    "\n",
    "df3 = pd.DataFrame({\n",
    "    'x': X_r[:, 0],\n",
    "    'y': X_r[:, 1],\n",
    "    'label': clusters\n",
    "})\n",
    "sns.scatterplot(data=df3, x='x', y='y', hue='label', s=10, palette=\"deep\", ax = axes[1][0])\n"
   ]
  },
  {
   "cell_type": "code",
   "execution_count": null,
   "id": "028d0ffa-6d30-4337-9246-44163ea2e898",
   "metadata": {},
   "outputs": [],
   "source": [
    "aa"
   ]
  },
  {
   "cell_type": "markdown",
   "id": "4b6d82bd-c0b0-484b-b46b-37f2552b3585",
   "metadata": {
    "tags": []
   },
   "source": [
    "## deepTCR embeddings"
   ]
  },
  {
   "cell_type": "code",
   "execution_count": null,
   "id": "7c986f3c-8345-43df-b8ca-e625d864ea96",
   "metadata": {
    "tags": []
   },
   "outputs": [],
   "source": [
    "%cd /ihome/ylee/yiz133/Code/deepTCR/unSupervised_cluster"
   ]
  },
  {
   "cell_type": "code",
   "execution_count": null,
   "id": "188a9311-ce55-46ec-b588-db27c3b0598e",
   "metadata": {},
   "outputs": [],
   "source": [
    "# Create a sample 2D matrix\n",
    "matrix = pd.read_csv('DTCRU_extracted_features_96_0605.csv', sep = ',')\n",
    "matrix.drop(columns={'Label'}, inplace=True)\n",
    "\n",
    "matrix['CDR3_Beta'] = matrix['CDR3_Beta'].str[1:-1]\n",
    "\n",
    "matrix = pd.merge(matrix, TCR_selected, left_on='CDR3_Beta', right_on='cdr3_b_aa', how='inner')"
   ]
  },
  {
   "cell_type": "code",
   "execution_count": null,
   "id": "6a92c9f8-fa82-44a7-9330-9f009c85ed16",
   "metadata": {
    "tags": []
   },
   "outputs": [],
   "source": [
    "m_right = mdata.obs[['VDJ_1_cdr3_aa','manual_cell_type','sample']]\n",
    "m_right['BC'] = mdata.obs.index\n",
    "deepTCR_matrix = pd.merge(matrix, m_right, left_on='CDR3_Beta', right_on = 'VDJ_1_cdr3_aa', how='inner')\n",
    "deepTCR_matrix"
   ]
  },
  {
   "cell_type": "code",
   "execution_count": null,
   "id": "829be21e-272c-4ffe-99c6-89e36d2fb007",
   "metadata": {
    "tags": []
   },
   "outputs": [],
   "source": [
    "deepTCR_matrix['manual_cell_type'].value_counts()"
   ]
  },
  {
   "cell_type": "code",
   "execution_count": null,
   "id": "4c2b30ab-f0c9-4370-8b6d-feda9502df7b",
   "metadata": {
    "tags": []
   },
   "outputs": [],
   "source": [
    "deepTCR_matrix['sample'].value_counts()"
   ]
  },
  {
   "cell_type": "code",
   "execution_count": null,
   "id": "26b1067b-d439-43fe-ba7a-851174cf65ec",
   "metadata": {
    "tags": []
   },
   "outputs": [],
   "source": [
    "EM_dim = 97\n",
    "EM_matrix_deepTCR = deepTCR_matrix.iloc[:,3:EM_dim]\n",
    "\n",
    "scaler = StandardScaler()\n",
    "X_scaled = scaler.fit_transform(EM_matrix_deepTCR)\n",
    "\n",
    "k = 10  # Number of clusters\n",
    "kmeans = KMeans(n_clusters=k, random_state=42, copy_x=False)\n",
    "clusters = kmeans.fit_predict(X_scaled)"
   ]
  },
  {
   "cell_type": "code",
   "execution_count": null,
   "id": "1f90c082-f253-43b4-a40f-1bfd16c0c917",
   "metadata": {
    "tags": []
   },
   "outputs": [],
   "source": [
    "from sklearn.decomposition import PCA\n",
    "pca = PCA(n_components=20, svd_solver='randomized', random_state=42)\n",
    "\n",
    "from sklearn.decomposition import KernelPCA\n",
    "kpca = KernelPCA(n_components=30, kernel='rbf', gamma=0.1)\n",
    "\n",
    "# generate features\n",
    "# from sklearn.preprocessing import PolynomialFeatures\n",
    "# poly = PolynomialFeatures(degree=2, include_bias=False)\n",
    "# EM_matrix_deepTCR = poly.fit_transform(EM_matrix_deepTCR)\n",
    "\n",
    "import umap\n",
    "umap = umap.UMAP(n_components=2, random_state=42, n_neighbors = 20, min_dist = 0.5)\n",
    "# umap = umap.UMAP(n_components=2, random_state=42)\n",
    "\n",
    "# transform\n",
    "X_pca_deepTCR = kpca.fit_transform(EM_matrix_deepTCR)\n",
    "X_r = umap.fit_transform(X_pca_deepTCR)\n"
   ]
  },
  {
   "cell_type": "code",
   "execution_count": null,
   "id": "674427f5-037f-4469-a2cd-162584bc5635",
   "metadata": {
    "tags": []
   },
   "outputs": [],
   "source": [
    "fig, axes = plt.subplots(1,2, figsize=(12,5))\n",
    "\n",
    "# Create DataFrame\n",
    "df = pd.DataFrame({\n",
    "    'x': X_r[:, 0],\n",
    "    'y': X_r[:, 1],\n",
    "    'label': deepTCR_matrix['sample']\n",
    "})\n",
    "sns.scatterplot(data=df, x='x', y='y', hue='label', s=30, ax = axes[0])\n",
    "\n",
    "df2 = pd.DataFrame({\n",
    "    'x': X_r[:, 0],\n",
    "    'y': X_r[:, 1],\n",
    "    'label': deepTCR_matrix['manual_cell_type']\n",
    "})\n",
    "sns.scatterplot(data=df2, x='x', y='y', hue='label', s=20, ax = axes[1])\n"
   ]
  },
  {
   "cell_type": "markdown",
   "id": "777f04f7-4540-415a-b48e-c6a10a19e058",
   "metadata": {},
   "source": [
    "##  Diff in TCR embedings between clusters"
   ]
  },
  {
   "cell_type": "code",
   "execution_count": null,
   "id": "fd78d125-9c1f-495d-b95f-0cd3abd59f5c",
   "metadata": {
    "tags": []
   },
   "outputs": [],
   "source": [
    "# GIANA emb\n",
    "# M = matrix.copy()\n",
    "\n",
    "# deepTCR emb\n",
    "M = deepTCR_matrix.copy()\n",
    "M_embs = M.iloc[:,3:99]\n",
    "M_obs = M.drop(M.columns[3:99], axis=1)\n",
    "\n",
    "kpca = KernelPCA(n_components=30, kernel='rbf', gamma=0.1)\n",
    "M_embs = kpca.fit_transform(M_embs)\n",
    "\n",
    "M_obs['tissue'] = M_obs['sample'].str[:3]"
   ]
  },
  {
   "cell_type": "code",
   "execution_count": null,
   "id": "0eb86679-ef71-4d06-8bac-06393ae05504",
   "metadata": {
    "tags": []
   },
   "outputs": [],
   "source": [
    "import anndata as ad\n",
    "\n",
    "adata_embs = ad.AnnData(M_embs)\n",
    "adata_embs.obs = M_obs\n",
    "\n",
    "adata_embs"
   ]
  },
  {
   "cell_type": "code",
   "execution_count": null,
   "id": "69946a23-203d-4aeb-8f65-816030b403f5",
   "metadata": {
    "tags": []
   },
   "outputs": [],
   "source": [
    "sc.tl.rank_genes_groups(adata_embs, groupby = \"tissue\", reference = 'SPL')\n",
    "    \n",
    "sc.pl.rank_genes_groups_violin(adata_embs,  n_genes=5)"
   ]
  },
  {
   "cell_type": "code",
   "execution_count": null,
   "id": "a92dd31c-1401-4976-9016-a1c7d2308fd7",
   "metadata": {},
   "outputs": [],
   "source": []
  },
  {
   "cell_type": "code",
   "execution_count": null,
   "id": "d33454ab-c9cc-40d3-988f-26a18b0efc52",
   "metadata": {},
   "outputs": [],
   "source": []
  },
  {
   "cell_type": "markdown",
   "id": "839aaa4d-e4ca-4876-845a-f410ca9b61fb",
   "metadata": {
    "tags": []
   },
   "source": [
    "# END"
   ]
  },
  {
   "cell_type": "code",
   "execution_count": null,
   "id": "df92f181-4b72-4fe7-9b03-74250a6d7fd5",
   "metadata": {},
   "outputs": [],
   "source": [
    "aaa"
   ]
  },
  {
   "cell_type": "markdown",
   "id": "fa614d36-2a7a-4440-9157-d68f4dbd37b4",
   "metadata": {
    "jp-MarkdownHeadingCollapsed": true,
    "tags": []
   },
   "source": [
    "## Merge with deepTCR MOG classified TCR (Not used)"
   ]
  },
  {
   "cell_type": "code",
   "execution_count": null,
   "id": "c79f6655-3325-4bc3-9314-967c1798319d",
   "metadata": {
    "tags": []
   },
   "outputs": [],
   "source": [
    "# %cd \"/ihome/ylee/yiz133/Code/Data processing/data/deepTCR_pred\""
   ]
  },
  {
   "cell_type": "code",
   "execution_count": null,
   "id": "aab8e400-949d-45c6-903f-10153178a4b3",
   "metadata": {
    "tags": []
   },
   "outputs": [],
   "source": [
    "# deepTC_pred = pd.read_csv('MOG_specifi_prob.csv')\n",
    "# thres = 0.6\n",
    "# deepTC_pred = deepTC_pred[deepTC_pred['0'] > thres]\n",
    "# deepTC_pred.set_index('cell_id', inplace = True)\n",
    "# deepTC_pred\n",
    "\n",
    "# merge_DF = pd.merge(mdata.obs, deepTC_pred,  left_index=True, right_index=True, how='outer')\n",
    "# MOG_speficy_DF = merge_DF.dropna()\n",
    "\n",
    "# ind_mask = mdata.obs.index.isin(deepTC_pred.index)\n",
    "\n",
    "# MOG_speficy_DF['manual_cell_type'].value_counts()"
   ]
  },
  {
   "cell_type": "markdown",
   "id": "f38101ee-43e5-4195-af8b-5aa8dd1f2fbf",
   "metadata": {
    "tags": []
   },
   "source": [
    "## with PCA and neighbor"
   ]
  },
  {
   "cell_type": "code",
   "execution_count": null,
   "id": "1e6deb00-5928-4533-aef0-d950bf90feed",
   "metadata": {},
   "outputs": [],
   "source": [
    "from sklearn.decomposition import PCA\n",
    "import umap\n",
    "import igraph as ig\n",
    "import leidenalg\n",
    "\n",
    "pca = PCA(n_components=25, random_state=42)\n",
    "X_pca = pca.fit_transform(X_scaled)\n",
    "\n",
    "umap_model = umap.UMAP(n_neighbors=15, min_dist=0.1, n_components=2, random_state=42)\n",
    "X_umap = umap_model.fit_transform(X_pca)"
   ]
  },
  {
   "cell_type": "code",
   "execution_count": null,
   "id": "0e1edc0f-7b43-483a-9835-bf7b2f22bd10",
   "metadata": {
    "tags": []
   },
   "outputs": [],
   "source": [
    "from sklearn.neighbors import NearestNeighbors\n",
    "\n",
    "# Compute the k-nearest neighbors\n",
    "knn = NearestNeighbors(n_neighbors=15)\n",
    "knn.fit(X_pca)\n",
    "adj_matrix = knn.kneighbors_graph(X_pca, mode='connectivity')"
   ]
  },
  {
   "cell_type": "code",
   "execution_count": null,
   "id": "36401bd5-f528-496a-a06e-e7660cbebc86",
   "metadata": {
    "tags": []
   },
   "outputs": [],
   "source": [
    "# Convert the adjacency matrix to a CSR format if it's not already\n",
    "adj_csr = adj_matrix.tocsr()\n",
    "\n",
    "# Create an igraph graph from the adjacency matrix\n",
    "sources, targets = adj_csr.nonzero()\n",
    "edges = list(zip(sources, targets))\n",
    "g = ig.Graph(edges=edges, directed=False)\n"
   ]
  },
  {
   "cell_type": "code",
   "execution_count": null,
   "id": "55dba59d-fa09-4469-82b3-9ebe356afdd5",
   "metadata": {
    "tags": []
   },
   "outputs": [],
   "source": [
    "partition = leidenalg.find_partition(g, leidenalg.ModularityVertexPartition)\n",
    "labels = np.array(partition.membership)\n"
   ]
  },
  {
   "cell_type": "code",
   "execution_count": null,
   "id": "712efdc4-73d8-4432-8602-530379908e7f",
   "metadata": {},
   "outputs": [],
   "source": [
    "plt.figure(figsize=(10, 8))\n",
    "scatter = plt.scatter(X_umap[:, 0], X_umap[:, 1], c=labels, cmap='tab10', s=10)\n",
    "plt.title('UMAP Projection with Leiden Clustering')\n",
    "plt.xlabel('UMAP 1')\n",
    "plt.ylabel('UMAP 2')\n",
    "plt.colorbar(scatter, label='Cluster')\n",
    "plt.show()\n"
   ]
  },
  {
   "cell_type": "code",
   "execution_count": null,
   "id": "08774812-6b62-49b7-8c1e-278232fc24e0",
   "metadata": {},
   "outputs": [],
   "source": [
    "import anndata as ad\n",
    "import scanpy as sc\n",
    "\n",
    "EM_matrix = EM_matrix.dropna()\n",
    "adata = ad.AnnData(EM_matrix)\n",
    "# adata.obs['cluster'] = clusters\n",
    "adata.obs['tissue'] = tissue\n",
    "adata.obs['AA_seq'] = matrix.iloc[:,1]\n",
    "adata\n"
   ]
  },
  {
   "cell_type": "code",
   "execution_count": null,
   "id": "6df9bd03-3492-4a1d-9c83-26992281fc78",
   "metadata": {},
   "outputs": [],
   "source": [
    "sc.pp.normalize_total(adata)\n",
    "sc.pp.log1p(adata)\n"
   ]
  },
  {
   "cell_type": "code",
   "execution_count": null,
   "id": "f9f060db-f86d-4f7c-99ef-8dafc216cda6",
   "metadata": {
    "tags": []
   },
   "outputs": [],
   "source": [
    "np.isnan(adata.X).any()"
   ]
  },
  {
   "cell_type": "code",
   "execution_count": null,
   "id": "d1b0ee03-4f69-4502-8325-da038274b607",
   "metadata": {
    "tags": []
   },
   "outputs": [],
   "source": [
    "nan_indices = np.argwhere(np.isnan(adata.X))\n",
    "nan_indices"
   ]
  },
  {
   "cell_type": "code",
   "execution_count": null,
   "id": "00d6e0f2-e4af-4119-8048-e190db893e27",
   "metadata": {
    "tags": []
   },
   "outputs": [],
   "source": [
    "sc.pp.pca(adata, svd_solver=\"arpack\", n_comps=20)\n",
    "sc.pp.neighbors(mdata[\"gex\"], n_neighbors = 20)\n",
    "sc.tl.umap(mdata[\"gex\"], min_dist=0.5, spread=1.0)\n",
    "sc.tl.leiden(mdata[\"gex\"], resolution = 0.5, n_iterations=2, flavor = 'igraph')\n",
    "sc.pl.umap(mdata[\"gex\"], color=[\"leiden\"])\n"
   ]
  },
  {
   "cell_type": "code",
   "execution_count": null,
   "id": "7d33e577-9400-4a2f-982e-da99a4c4dcad",
   "metadata": {},
   "outputs": [],
   "source": [
    "# adata.write('TCRemb_2cluster.h5ad')"
   ]
  }
 ],
 "metadata": {
  "kernelspec": {
   "display_name": "Python 3 (ipykernel)",
   "language": "python",
   "name": "python3"
  },
  "language_info": {
   "codemirror_mode": {
    "name": "ipython",
    "version": 3
   },
   "file_extension": ".py",
   "mimetype": "text/x-python",
   "name": "python",
   "nbconvert_exporter": "python",
   "pygments_lexer": "ipython3",
   "version": "3.11.5"
  }
 },
 "nbformat": 4,
 "nbformat_minor": 5
}
