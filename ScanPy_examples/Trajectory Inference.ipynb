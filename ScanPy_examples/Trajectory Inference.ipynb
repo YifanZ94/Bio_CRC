{
 "cells": [
  {
   "cell_type": "code",
   "execution_count": null,
   "id": "81736d58-bd5b-415a-ab4a-0fb085fec4f1",
   "metadata": {
    "tags": []
   },
   "outputs": [],
   "source": [
    "import numpy as np\n",
    "import matplotlib.pyplot as pl\n",
    "import scanpy as sc\n",
    "sc.settings.verbosity = 3 # verbosity: errors (0), warnings (1), info (2), hints (3)\n",
    "# low dpi (dots per inch) yields small inline figures\n",
    "sc.settings.set_figure_params(dpi=80, frameon=False, figsize=(3, 3), facecolor=\"white\")\n",
    "adata = sc.datasets.paul15()\n",
    "adata"
   ]
  },
  {
   "cell_type": "code",
   "execution_count": null,
   "id": "4084092b-cefe-49a1-8244-da3589dc0672",
   "metadata": {
    "tags": []
   },
   "outputs": [],
   "source": [
    "# preprocessing\n",
    "sc.pp.recipe_zheng17(adata)\n",
    "sc.tl.pca(adata, svd_solver=\"arpack\")\n",
    "sc.pp.neighbors(adata, n_neighbors=4, n_pcs=20)\n",
    "sc.tl.draw_graph(adata)\n",
    "sc.pl.draw_graph(adata, color=\"paul15_clusters\", legend_loc=\"on data\")"
   ]
  },
  {
   "cell_type": "code",
   "execution_count": null,
   "id": "8081f857-e0d6-44c2-90bf-e6be112a5d74",
   "metadata": {
    "tags": []
   },
   "outputs": [],
   "source": [
    "adata"
   ]
  },
  {
   "cell_type": "markdown",
   "id": "d7f4551b-58a3-4962-be5b-0c66eecd9721",
   "metadata": {},
   "source": [
    "## optional: denoise"
   ]
  },
  {
   "cell_type": "code",
   "execution_count": null,
   "id": "5b8c249a-d3aa-48a3-8f54-13b6effe1bfe",
   "metadata": {
    "tags": []
   },
   "outputs": [],
   "source": [
    "# represent it in diffusion map space (and not in PCA space) for denoise\n",
    "sc.tl.diffmap(adata)\n",
    "sc.pp.neighbors(adata, n_neighbors=10, use_rep=\"X_diffmap\")\n",
    "sc.tl.draw_graph(adata)\n",
    "sc.pl.draw_graph(adata, color=\"paul15_clusters\", legend_loc=\"on data\")"
   ]
  },
  {
   "cell_type": "markdown",
   "id": "92354cbf-b3fb-4322-9a34-a0cc91206686",
   "metadata": {
    "jupyter": {
     "outputs_hidden": true
    },
    "tags": []
   },
   "source": [
    "## Clustering and PAGA"
   ]
  },
  {
   "cell_type": "code",
   "execution_count": null,
   "id": "89dabbe7-806d-4b04-8e8c-16d318d073ba",
   "metadata": {
    "tags": []
   },
   "outputs": [],
   "source": [
    "sc.tl.leiden(adata)"
   ]
  },
  {
   "cell_type": "code",
   "execution_count": null,
   "id": "85b9c4f4-7934-4740-be71-a1ce6865600c",
   "metadata": {
    "tags": []
   },
   "outputs": [],
   "source": [
    "sc.tl.paga(adata, groups=\"leiden\")\n",
    "adata"
   ]
  },
  {
   "cell_type": "code",
   "execution_count": null,
   "id": "dc4d0018-51dd-4a4d-b7ec-3e6fcecd6568",
   "metadata": {
    "tags": []
   },
   "outputs": [],
   "source": [
    "adata.obs"
   ]
  },
  {
   "cell_type": "code",
   "execution_count": null,
   "id": "45f2ddb1-d4d7-458b-9b4c-4b08e51e9fbf",
   "metadata": {
    "tags": []
   },
   "outputs": [],
   "source": [
    "sc.pl.paga(adata, color=[\"leiden\", \"Hba-a2\", \"Elane\", \"Irf8\"])"
   ]
  },
  {
   "cell_type": "code",
   "execution_count": null,
   "id": "ae4679fd-969d-48b5-8c34-388540e9b20a",
   "metadata": {
    "tags": []
   },
   "outputs": [],
   "source": [
    "adata.obs[\"leiden\"].cat.categories"
   ]
  },
  {
   "cell_type": "code",
   "execution_count": null,
   "id": "4cce6d5b-d8b5-47bb-93ab-55050d5e7aeb",
   "metadata": {
    "tags": []
   },
   "outputs": [],
   "source": [
    "adata.obs[\"leiden_anno\"] = adata.obs[\"leiden\"]\n",
    "adata.obs[\"leiden_anno\"]"
   ]
  },
  {
   "cell_type": "code",
   "execution_count": null,
   "id": "82652251-aac1-4687-8eef-2d5103059bd6",
   "metadata": {
    "tags": []
   },
   "outputs": [],
   "source": [
    "adata.obs[\"leiden_anno\"].cat.rename_categories = [\n",
    "    *[\"0\", \"1\", \"2\", \"3\", \"4\", \"5\", \"6\", \"7\", \"8\", \"9\"],\n",
    "    *[\"10/Ery\", \"11\", \"12\", \"13\", \"14\", \"15\"],\n",
    "    *[\"16/Stem\", \"17\", \"18\"],\n",
    "    *[\n",
    "        \"19/Neu\",\n",
    "        \"20/Mk\",\n",
    "        \"21\",\n",
    "    ],\n",
    "    *[\"22/Baso\", \"23\", \"24/Mo\"],\n",
    "]\n",
    "\n",
    "sc.tl.paga(adata, groups=\"leiden_anno\")\n",
    "sc.pl.paga(adata, threshold=0.03)"
   ]
  },
  {
   "cell_type": "markdown",
   "id": "1b3d1d88-a2bd-4424-8597-89d4ca743178",
   "metadata": {
    "tags": []
   },
   "source": [
    "## Recomputing the embedding using PAGA-initialization"
   ]
  },
  {
   "cell_type": "code",
   "execution_count": null,
   "id": "74676949-6749-41b5-a77c-f5a80b3a106a",
   "metadata": {
    "tags": []
   },
   "outputs": [],
   "source": [
    "sc.tl.draw_graph(adata, init_pos=\"paga\")\n",
    "sc.pl.draw_graph(\n",
    "    adata, color=[\"leiden\", \"Itga2b\", \"Prss34\", \"Cma1\"], legend_loc=\"on data\"\n",
    ")\n",
    "\n",
    "## 'fa2' do not support py 3.9+"
   ]
  },
  {
   "cell_type": "code",
   "execution_count": null,
   "id": "8f08bc05-c70d-4581-ab9c-1ed3b8f86878",
   "metadata": {
    "tags": []
   },
   "outputs": [],
   "source": [
    "adata"
   ]
  },
  {
   "cell_type": "code",
   "execution_count": null,
   "id": "0956c218-30f6-464f-b2db-486c019b3b3f",
   "metadata": {},
   "outputs": [],
   "source": []
  }
 ],
 "metadata": {
  "kernelspec": {
   "display_name": "Python 3 (ipykernel)",
   "language": "python",
   "name": "python3"
  },
  "language_info": {
   "codemirror_mode": {
    "name": "ipython",
    "version": 3
   },
   "file_extension": ".py",
   "mimetype": "text/x-python",
   "name": "python",
   "nbconvert_exporter": "python",
   "pygments_lexer": "ipython3",
   "version": "3.11.5"
  }
 },
 "nbformat": 4,
 "nbformat_minor": 5
}
