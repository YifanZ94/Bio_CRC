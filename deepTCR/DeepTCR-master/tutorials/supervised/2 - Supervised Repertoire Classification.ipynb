{
 "cells": [
  {
   "cell_type": "markdown",
   "metadata": {},
   "source": [
    "# Supervised Repertoire Classification"
   ]
  },
  {
   "cell_type": "markdown",
   "metadata": {},
   "source": [
    "While solving a sequence classification can be useful in the cases where the label applies to every sequence in a sample (such as in tetramer-sorted T-cells), there are times where the label may truly only apply to a set of sequences. For example, in the case where one may sequence tumor-infiltrating lymphocytes (TIL) and  there is a label at the repertoire/sample level such as which therapy the sample received. In this case, there may be a structural signature within a set of sequences that is predictive but not every single sequence has that signature. This is a case where we want to learn what is the structural signature buried in a set of sequenes and which sequences carry this signature."
   ]
  },
  {
   "cell_type": "markdown",
   "metadata": {},
   "source": [
    "To demo this utility of a repertoire/sample level classifier, we will first upload dat from the Rudqvist dataseet. In this dataset, 20 mice with implanted tumors were treated with 4 modes of therapy (Control, 9H10, RT, or Combo). We want to know whether the TCRrepertoire from their tumors is predictive of the therapy they received."
   ]
  },
  {
   "cell_type": "code",
   "execution_count": 1,
   "metadata": {
    "tags": []
   },
   "outputs": [
    {
     "data": {
      "text/plain": [
       "<module 'DeepTCR' from '/ihome/ylee/yiz133/.local/lib/python3.8/site-packages/DeepTCR/__init__.py'>"
      ]
     },
     "execution_count": 1,
     "metadata": {},
     "output_type": "execute_result"
    }
   ],
   "source": [
    "import DeepTCR as Module\n",
    "Module"
   ]
  },
  {
   "cell_type": "code",
   "execution_count": 2,
   "metadata": {
    "tags": []
   },
   "outputs": [
    {
     "name": "stdout",
     "output_type": "stream",
     "text": [
      "Name: DeepTCR\n",
      "Version: 2.1.27\n",
      "Summary: Deep Learning Methods for Parsing T-Cell Receptor Sequencing (TCRSeq) Data\n",
      "Home-page: https://github.com/sidhomj/DeepTCR\n",
      "Author: John-William Sidhom\n",
      "Author-email: jsidhom1@jhmi.edu\n",
      "License: LICENSE\n",
      "Location: /ihome/ylee/yiz133/.local/lib/python3.8/site-packages\n",
      "Requires: logomaker, Keras-Preprocessing, twine, bleach, certifi, rsa, wrapt, Markdown, seaborn, keyring, packaging, numba, grpcio, tensorboard, importlib-metadata, tensorboard-plugin-wit, pytz, pandas, h5py, requests, termcolor, protobuf, requests-toolbelt, cycler, psutil, six, numpy, readme-renderer, oauthlib, Pygments, python-dateutil, rfc3986, pyasn1, webencodings, colorama, astunparse, chardet, distinctipy, umap-learn, opt-einsum, docutils, flatbuffers, pkginfo, tensorboard-data-server, zipp, scikit-learn, gast, requests-oauthlib, pyparsing, tqdm, Werkzeug, google-pasta, Pillow, cachetools, typing-extensions, google-auth-oauthlib, llvmlite, scipy, kiwisolver, threadpoolctl, pyasn1-modules, sklearn, tensorflow-io-gcs-filesystem, google-auth, absl-py, matplotlib, tensorflow, joblib, tensorflow-estimator, idna, biopython, urllib3, libclang, keras\n",
      "Required-by: \n"
     ]
    }
   ],
   "source": [
    "!pip show DeepTCR"
   ]
  },
  {
   "cell_type": "code",
   "execution_count": 3,
   "metadata": {},
   "outputs": [
    {
     "name": "stderr",
     "output_type": "stream",
     "text": [
      "Matplotlib is building the font cache; this may take a moment.\n"
     ]
    },
    {
     "name": "stdout",
     "output_type": "stream",
     "text": [
      "Loading Data...\n",
      "Embedding Sequences...\n",
      "Data Loaded\n"
     ]
    }
   ],
   "source": [
    "import sys\n",
    "sys.path.append('../../')\n",
    "from DeepTCR.DeepTCR import DeepTCR_WF\n",
    "\n",
    "# Instantiate training object\n",
    "DTCR_WF = DeepTCR_WF('Tutorial')\n",
    "\n",
    "#Load Data from directories\n",
    "DTCR_WF.Get_Data(directory='../../Data/Rudqvist',Load_Prev_Data=False,aggregate_by_aa=True,\n",
    "               aa_column_beta=1,count_column=2,v_beta_column=7,d_beta_column=14,j_beta_column=21)"
   ]
  },
  {
   "cell_type": "markdown",
   "metadata": {},
   "source": [
    "Following loading the data, we will split our data into test/train and then train the model."
   ]
  },
  {
   "cell_type": "code",
   "execution_count": 4,
   "metadata": {},
   "outputs": [
    {
     "name": "stderr",
     "output_type": "stream",
     "text": [
      "/ihome/ylee/yiz133/.local/lib/python3.8/site-packages/DeepTCR/functions/Layers.py:105: UserWarning: `tf.layers.conv2d` is deprecated and will be removed in a future version. Please Use `tf.keras.layers.Conv2D` instead.\n",
      "  conv = tf.compat.v1.layers.conv2d(inputs, units[ii], (1, kernel), 1, padding='same',\n",
      "/ihome/ylee/yiz133/.local/lib/python3.8/site-packages/keras/legacy_tf_layers/convolutional.py:563: UserWarning: `layer.apply` is deprecated and will be removed in a future version. Please use `layer.__call__` method instead.\n",
      "  return layer.apply(inputs)\n",
      "/ihome/ylee/yiz133/.local/lib/python3.8/site-packages/DeepTCR/functions/Layers.py:107: UserWarning: `tf.layers.flatten` is deprecated and will be removed in a future version. Please use `tf.keras.layers.Flatten` instead.\n",
      "  conv_out = tf.compat.v1.layers.flatten(tf.reduce_max(input_tensor=conv, axis=2))\n",
      "/ihome/ylee/yiz133/.local/lib/python3.8/site-packages/keras/legacy_tf_layers/core.py:523: UserWarning: `layer.apply` is deprecated and will be removed in a future version. Please use `layer.__call__` method instead.\n",
      "  return layer.apply(inputs)\n",
      "/ihome/ylee/yiz133/.local/lib/python3.8/site-packages/DeepTCR/functions/Layers.py:110: UserWarning: `tf.layers.dropout` is deprecated and will be removed in a future version. Please use `tf.keras.layers.Dropout` instead.\n",
      "  conv = tf.compat.v1.layers.dropout(conv, prob)\n",
      "/ihome/ylee/yiz133/.local/lib/python3.8/site-packages/keras/legacy_tf_layers/core.py:401: UserWarning: `layer.apply` is deprecated and will be removed in a future version. Please use `layer.__call__` method instead.\n",
      "  return layer.apply(inputs, training=training)\n",
      "/ihome/ylee/yiz133/.local/lib/python3.8/site-packages/DeepTCR/functions/Layers.py:113: UserWarning: `tf.layers.conv2d` is deprecated and will be removed in a future version. Please Use `tf.keras.layers.Conv2D` instead.\n",
      "  conv = tf.compat.v1.layers.conv2d(conv, units[ii], (1, kernel), (1, kernel), padding='same',\n",
      "/ihome/ylee/yiz133/.local/lib/python3.8/site-packages/DeepTCR/functions/Layers.py:116: UserWarning: `tf.layers.dropout` is deprecated and will be removed in a future version. Please use `tf.keras.layers.Dropout` instead.\n",
      "  conv = tf.compat.v1.layers.dropout(conv, prob)\n",
      "/ihome/ylee/yiz133/.local/lib/python3.8/site-packages/DeepTCR/functions/Layers.py:119: UserWarning: `tf.layers.flatten` is deprecated and will be removed in a future version. Please use `tf.keras.layers.Flatten` instead.\n",
      "  conv_3_out = tf.compat.v1.layers.flatten(tf.reduce_max(input_tensor=conv_3,axis=2))\n",
      "/ihome/ylee/yiz133/.local/lib/python3.8/site-packages/DeepTCR/DeepTCR.py:4069: UserWarning: `tf.layers.dense` is deprecated and will be removed in a future version. Please use `tf.keras.layers.Dense` instead.\n",
      "  Features = tf.compat.v1.layers.dense(GO.Features, num_concepts, lambda x: isru(x, l=0, h=1, a=0, b=0),\n",
      "/ihome/ylee/yiz133/.local/lib/python3.8/site-packages/keras/legacy_tf_layers/core.py:255: UserWarning: `layer.apply` is deprecated and will be removed in a future version. Please use `layer.__call__` method instead.\n",
      "  return layer.apply(inputs)\n",
      "/ihome/ylee/yiz133/.local/lib/python3.8/site-packages/DeepTCR/DeepTCR.py:4103: UserWarning: `tf.layers.dense` is deprecated and will be removed in a future version. Please use `tf.keras.layers.Dense` instead.\n",
      "  GO.logits = tf.compat.v1.layers.dense(GO.Features_Agg, self.Y.shape[1])\n"
     ]
    },
    {
     "name": "stdout",
     "output_type": "stream",
     "text": [
      "\n",
      "Training_Statistics: \n",
      " Epoch: 0 Training loss: 1.64612 Validation loss: 1.61825 Testing loss: 1.63831 Training Accuracy: 0.25 Validation Accuracy: 0.25 Testing Accuracy: 0.25 Testing AUC: 0.58333\n",
      "Training_Statistics: \n",
      " Epoch: 1 Training loss: 1.61600 Validation loss: 1.59232 Testing loss: 1.61305 Training Accuracy: 0.25 Validation Accuracy: 0.25 Testing Accuracy: 0.25 Testing AUC: 0.58333\n",
      "Training_Statistics: \n",
      " Epoch: 2 Training loss: 1.58710 Validation loss: 1.56599 Testing loss: 1.58745 Training Accuracy: 0.25 Validation Accuracy: 0.25 Testing Accuracy: 0.25 Testing AUC: 0.58333\n",
      "Training_Statistics: \n",
      " Epoch: 3 Training loss: 1.55789 Validation loss: 1.53821 Testing loss: 1.56025 Training Accuracy: 0.25 Validation Accuracy: 0.25 Testing Accuracy: 0.25 Testing AUC: 0.58333\n",
      "Training_Statistics: \n",
      " Epoch: 4 Training loss: 1.52736 Validation loss: 1.50866 Testing loss: 1.53099 Training Accuracy: 0.25 Validation Accuracy: 0.25 Testing Accuracy: 0.25 Testing AUC: 0.58333\n",
      "Training_Statistics: \n",
      " Epoch: 5 Training loss: 1.49512 Validation loss: 1.47863 Testing loss: 1.50100 Training Accuracy: 0.25 Validation Accuracy: 0.25 Testing Accuracy: 0.25 Testing AUC: 0.58333\n",
      "Training_Statistics: \n",
      " Epoch: 6 Training loss: 1.46267 Validation loss: 1.44973 Testing loss: 1.47184 Training Accuracy: 0.25 Validation Accuracy: 0.25 Testing Accuracy: 0.25 Testing AUC: 0.58333\n",
      "Training_Statistics: \n",
      " Epoch: 7 Training loss: 1.43187 Validation loss: 1.42424 Testing loss: 1.44520 Training Accuracy: 0.25 Validation Accuracy: 0.25 Testing Accuracy: 0.25 Testing AUC: 0.58333\n",
      "Training_Statistics: \n",
      " Epoch: 8 Training loss: 1.40495 Validation loss: 1.40388 Testing loss: 1.42288 Training Accuracy: 0.25 Validation Accuracy: 0.25 Testing Accuracy: 0.25 Testing AUC: 0.58333\n",
      "Training_Statistics: \n",
      " Epoch: 9 Training loss: 1.38385 Validation loss: 1.38930 Testing loss: 1.40621 Training Accuracy: 0.25 Validation Accuracy: 0.25 Testing Accuracy: 0.25 Testing AUC: 0.58333\n",
      "Training_Statistics: \n",
      " Epoch: 10 Training loss: 1.36938 Validation loss: 1.37989 Testing loss: 1.39478 Training Accuracy: 0.25 Validation Accuracy: 0.25 Testing Accuracy: 0.25 Testing AUC: 0.58333\n",
      "Training_Statistics: \n",
      " Epoch: 11 Training loss: 1.36050 Validation loss: 1.37513 Testing loss: 1.38872 Training Accuracy: 0.25 Validation Accuracy: 0.0 Testing Accuracy: 0.25 Testing AUC: 0.58333\n",
      "Training_Statistics: \n",
      " Epoch: 12 Training loss: 1.35654 Validation loss: 1.37463 Testing loss: 1.38756 Training Accuracy: 0.33333 Validation Accuracy: 0.5 Testing Accuracy: 0.25 Testing AUC: 0.58333\n",
      "Training_Statistics: \n",
      " Epoch: 13 Training loss: 1.35661 Validation loss: 1.37636 Testing loss: 1.38923 Training Accuracy: 0.58333 Validation Accuracy: 0.25 Testing Accuracy: 0.25 Testing AUC: 0.58333\n",
      "Training_Statistics: \n",
      " Epoch: 14 Training loss: 1.35819 Validation loss: 1.37760 Testing loss: 1.39095 Training Accuracy: 0.25 Validation Accuracy: 0.25 Testing Accuracy: 0.25 Testing AUC: 0.58333\n",
      "Training_Statistics: \n",
      " Epoch: 15 Training loss: 1.35823 Validation loss: 1.37704 Testing loss: 1.39137 Training Accuracy: 0.25 Validation Accuracy: 0.25 Testing Accuracy: 0.25 Testing AUC: 0.58333\n",
      "Training_Statistics: \n",
      " Epoch: 16 Training loss: 1.35553 Validation loss: 1.37469 Testing loss: 1.39020 Training Accuracy: 0.25 Validation Accuracy: 0.25 Testing Accuracy: 0.25 Testing AUC: 0.58333\n",
      "Training_Statistics: \n",
      " Epoch: 17 Training loss: 1.35029 Validation loss: 1.37125 Testing loss: 1.38831 Training Accuracy: 0.25 Validation Accuracy: 0.25 Testing Accuracy: 0.25 Testing AUC: 0.58333\n",
      "Training_Statistics: \n",
      " Epoch: 18 Training loss: 1.34347 Validation loss: 1.36788 Testing loss: 1.38710 Training Accuracy: 0.25 Validation Accuracy: 0.25 Testing Accuracy: 0.25 Testing AUC: 0.58333\n",
      "Training_Statistics: \n",
      " Epoch: 19 Training loss: 1.33622 Validation loss: 1.36500 Testing loss: 1.38666 Training Accuracy: 0.33333 Validation Accuracy: 0.5 Testing Accuracy: 0.25 Testing AUC: 0.58333\n",
      "Training_Statistics: \n",
      " Epoch: 20 Training loss: 1.32906 Validation loss: 1.36250 Testing loss: 1.38686 Training Accuracy: 0.75 Validation Accuracy: 0.5 Testing Accuracy: 0.0 Testing AUC: 0.58333\n",
      "Training_Statistics: \n",
      " Epoch: 21 Training loss: 1.32198 Validation loss: 1.36013 Testing loss: 1.38743 Training Accuracy: 0.58333 Validation Accuracy: 0.25 Testing Accuracy: 0.25 Testing AUC: 0.58333\n",
      "Training_Statistics: \n",
      " Epoch: 22 Training loss: 1.31492 Validation loss: 1.35781 Testing loss: 1.38826 Training Accuracy: 0.5 Validation Accuracy: 0.25 Testing Accuracy: 0.25 Testing AUC: 0.58333\n",
      "Training_Statistics: \n",
      " Epoch: 23 Training loss: 1.30791 Validation loss: 1.35554 Testing loss: 1.38928 Training Accuracy: 0.5 Validation Accuracy: 0.25 Testing Accuracy: 0.5 Testing AUC: 0.58333\n",
      "Training_Statistics: \n",
      " Epoch: 24 Training loss: 1.30076 Validation loss: 1.35337 Testing loss: 1.39053 Training Accuracy: 0.58333 Validation Accuracy: 0.25 Testing Accuracy: 0.5 Testing AUC: 0.58333\n",
      "Training_Statistics: \n",
      " Epoch: 25 Training loss: 1.29341 Validation loss: 1.35145 Testing loss: 1.39197 Training Accuracy: 0.58333 Validation Accuracy: 0.25 Testing Accuracy: 0.25 Testing AUC: 0.58333\n",
      "Training_Statistics: \n",
      " Epoch: 26 Training loss: 1.28581 Validation loss: 1.34978 Testing loss: 1.39376 Training Accuracy: 0.5 Validation Accuracy: 0.25 Testing Accuracy: 0.25 Testing AUC: 0.58333\n",
      "Training_Statistics: \n",
      " Epoch: 27 Training loss: 1.27805 Validation loss: 1.34843 Testing loss: 1.39588 Training Accuracy: 0.5 Validation Accuracy: 0.25 Testing Accuracy: 0.25 Testing AUC: 0.58333\n",
      "Training_Statistics: \n",
      " Epoch: 28 Training loss: 1.26999 Validation loss: 1.34721 Testing loss: 1.39808 Training Accuracy: 0.5 Validation Accuracy: 0.25 Testing Accuracy: 0.25 Testing AUC: 0.58333\n",
      "INFO:tensorflow:Tutorial/models/model_0/model.ckpt is not in all_model_checkpoint_paths. Manually adding it.\n",
      "Done Training\n"
     ]
    }
   ],
   "source": [
    "DTCR_WF.Get_Train_Valid_Test(test_size=0.25)\n",
    "DTCR_WF.Train()"
   ]
  },
  {
   "cell_type": "markdown",
   "metadata": {},
   "source": [
    "Following training, we can view the performance through plotting the ROC curves."
   ]
  },
  {
   "cell_type": "code",
   "execution_count": 5,
   "metadata": {},
   "outputs": [
    {
     "data": {
      "image/png": "[encoded data removed]",
      "text/plain": [
       "<Figure size 432x288 with 1 Axes>"
      ]
     },
     "metadata": {
      "needs_background": "light"
     },
     "output_type": "display_data"
    }
   ],
   "source": [
    "DTCR_WF.AUC_Curve()"
   ]
  },
  {
   "cell_type": "markdown",
   "metadata": {},
   "source": [
    "You might notice that given how small this dataset is, doing one training split does not give us a good assesment for how predictive the TCR signature may be. In this case, we would want to use a K-fold cross validation to train on 16 of the samples and test on 4 and iterate until we've covered the entire cohort. When calling the K-fold cross validation command, one can provide the number of folds or if none is provided, it assumes a leave-one-out strategy. Therefore, we will set the folds to 5 where each fold will contain 4 samples. Here, we will also utilize an option for training where we apply a hinge loss to the training data where the per-sample loss is only used to penalize the model if it is above a certain threshold. This prevents over-fitting of the neural network. The idea here is that once a sample has been called correctly, there is no additional benefit to get it 'more right'. This is a particularly good training strategy when we are working with small datasets such as this one. We will also set the combine_train_valid parameter to True to combine what was originally the train and validation sets into one training set while leaving the test set for assessing performance. Otherwise, this method normally applies an early stopping criterion on the validation set. Since we have combined our train and validation sets together, we need to apply a stopping criterion on this training data. We will set the minimum loss before stopping training on the training data to 0.1. This means that when the average training loss hits 0.1, the neural network will stop training.\n",
    "\n",
    "Here, we will also introduce other hyper-parameters we can modify including changing the size of the network. The size of the network parameter chooses the number of nodes for the 3 convolutional layers. Here, we will switch the size of the network to 'small' which use 12,32,64 nodes respectively for the 3 conv layers. We will also leave out 4 samples for testing while we use 16 for training. Finally, we will also train our model with 64 concepts, a hyper-parameter of the multiple-instance learning (MIL) algorithm that we can change depending on the level of heterogeneity we expect in our data."
   ]
  },
  {
   "cell_type": "code",
   "execution_count": 6,
   "metadata": {},
   "outputs": [
    {
     "name": "stdout",
     "output_type": "stream",
     "text": [
      "INFO:tensorflow:Tutorial/models/model_0/model.ckpt is not in all_model_checkpoint_paths. Manually adding it.\n",
      "INFO:tensorflow:Tutorial/models/model_1/model.ckpt is not in all_model_checkpoint_paths. Manually adding it.\n",
      "INFO:tensorflow:Tutorial/models/model_2/model.ckpt is not in all_model_checkpoint_paths. Manually adding it.\n",
      "INFO:tensorflow:Tutorial/models/model_3/model.ckpt is not in all_model_checkpoint_paths. Manually adding it.\n",
      "INFO:tensorflow:Tutorial/models/model_4/model.ckpt is not in all_model_checkpoint_paths. Manually adding it.\n"
     ]
    }
   ],
   "source": [
    "%%capture\n",
    "folds = 5\n",
    "size_of_net = 'small'\n",
    "num_concepts=64\n",
    "hinge_loss_t = 0.1\n",
    "train_loss_min=0.1\n",
    "DTCR_WF.K_Fold_CrossVal(combine_train_valid=True, hinge_loss_t = hinge_loss_t,train_loss_min = train_loss_min,folds=folds,\n",
    "                       num_concepts=num_concepts, size_of_net=size_of_net)"
   ]
  },
  {
   "cell_type": "markdown",
   "metadata": {},
   "source": [
    "We can then assess the performance once again through plotting the ROC curves."
   ]
  },
  {
   "cell_type": "code",
   "execution_count": 7,
   "metadata": {},
   "outputs": [
    {
     "data": {
      "image/png": "[encoded data removed]",
      "text/plain": [
       "<Figure size 432x288 with 1 Axes>"
      ]
     },
     "metadata": {
      "needs_background": "light"
     },
     "output_type": "display_data"
    }
   ],
   "source": [
    "DTCR_WF.AUC_Curve()"
   ]
  },
  {
   "cell_type": "markdown",
   "metadata": {},
   "source": [
    "We can also train our model in a Monte-Carlo fashion where we perform N number of monte-carlo simulation, randomly sampling train/test sets to train our model and assess predictive signature in our data in a more granular way."
   ]
  },
  {
   "cell_type": "code",
   "execution_count": 8,
   "metadata": {},
   "outputs": [
    {
     "name": "stdout",
     "output_type": "stream",
     "text": [
      "INFO:tensorflow:Tutorial/models/model_0/model.ckpt is not in all_model_checkpoint_paths. Manually adding it.\n",
      "INFO:tensorflow:Tutorial/models/model_1/model.ckpt is not in all_model_checkpoint_paths. Manually adding it.\n",
      "INFO:tensorflow:Tutorial/models/model_2/model.ckpt is not in all_model_checkpoint_paths. Manually adding it.\n",
      "INFO:tensorflow:Tutorial/models/model_3/model.ckpt is not in all_model_checkpoint_paths. Manually adding it.\n",
      "INFO:tensorflow:Tutorial/models/model_4/model.ckpt is not in all_model_checkpoint_paths. Manually adding it.\n",
      "INFO:tensorflow:Tutorial/models/model_5/model.ckpt is not in all_model_checkpoint_paths. Manually adding it.\n",
      "INFO:tensorflow:Tutorial/models/model_6/model.ckpt is not in all_model_checkpoint_paths. Manually adding it.\n",
      "INFO:tensorflow:Tutorial/models/model_7/model.ckpt is not in all_model_checkpoint_paths. Manually adding it.\n",
      "INFO:tensorflow:Tutorial/models/model_8/model.ckpt is not in all_model_checkpoint_paths. Manually adding it.\n",
      "INFO:tensorflow:Tutorial/models/model_9/model.ckpt is not in all_model_checkpoint_paths. Manually adding it.\n",
      "INFO:tensorflow:Tutorial/models/model_10/model.ckpt is not in all_model_checkpoint_paths. Manually adding it.\n",
      "INFO:tensorflow:Tutorial/models/model_11/model.ckpt is not in all_model_checkpoint_paths. Manually adding it.\n",
      "INFO:tensorflow:Tutorial/models/model_12/model.ckpt is not in all_model_checkpoint_paths. Manually adding it.\n",
      "INFO:tensorflow:Tutorial/models/model_13/model.ckpt is not in all_model_checkpoint_paths. Manually adding it.\n",
      "INFO:tensorflow:Tutorial/models/model_14/model.ckpt is not in all_model_checkpoint_paths. Manually adding it.\n"
     ]
    },
    {
     "ename": "KeyboardInterrupt",
     "evalue": "",
     "output_type": "error",
     "traceback": [
      "\u001b[0;31m---------------------------------------------------------------------------\u001b[0m",
      "\u001b[0;31mKeyboardInterrupt\u001b[0m                         Traceback (most recent call last)",
      "\u001b[0;32m<ipython-input-8-dad6ff5b6db3>\u001b[0m in \u001b[0;36m<module>\u001b[0;34m\u001b[0m\n\u001b[1;32m      7\u001b[0m \u001b[0mtrain_loss_min\u001b[0m\u001b[0;34m=\u001b[0m\u001b[0;36m0.1\u001b[0m\u001b[0;34m\u001b[0m\u001b[0;34m\u001b[0m\u001b[0m\n\u001b[1;32m      8\u001b[0m \u001b[0;34m\u001b[0m\u001b[0m\n\u001b[0;32m----> 9\u001b[0;31m DTCR_WF.Monte_Carlo_CrossVal(folds=folds,LOO=LOO,epochs_min=epochs_min,num_concepts=num_concepts,size_of_net=size_of_net,\n\u001b[0m\u001b[1;32m     10\u001b[0m                              train_loss_min=train_loss_min,hinge_loss_t=hinge_loss_t,combine_train_valid=True)\n",
      "\u001b[0;32m~/.local/lib/python3.8/site-packages/DeepTCR/DeepTCR.py\u001b[0m in \u001b[0;36mMonte_Carlo_CrossVal\u001b[0;34m(self, folds, test_size, LOO, combine_train_valid, random_perm, seeds, kernel, num_concepts, trainable_embedding, embedding_dim_aa, embedding_dim_genes, embedding_dim_hla, num_fc_layers, units_fc, weight_by_class, class_weights, use_only_seq, use_only_gene, use_only_hla, size_of_net, graph_seed, qualitative_agg, quantitative_agg, num_agg_layers, units_agg, drop_out_rate, multisample_dropout, multisample_dropout_rate, multisample_dropout_num_masks, batch_size, batch_size_update, epochs_min, stop_criterion, stop_criterion_window, accuracy_min, train_loss_min, hinge_loss_t, convergence, learning_rate, suppress_output, loss_criteria, l2_reg, batch_seed, subsample, subsample_by_freq, subsample_valid_test)\u001b[0m\n\u001b[1;32m   4610\u001b[0m             self.Get_Train_Valid_Test(test_size=test_size, LOO=LOO,combine_train_valid=combine_train_valid,\n\u001b[1;32m   4611\u001b[0m                                       random_perm=random_perm)\n\u001b[0;32m-> 4612\u001b[0;31m             self._train(write=True,batch_seed=batch_seed,iteration=i,\n\u001b[0m\u001b[1;32m   4613\u001b[0m                         subsample=subsample,subsample_by_freq=subsample_by_freq,subsample_valid_test=subsample_valid_test)\n\u001b[1;32m   4614\u001b[0m \u001b[0;34m\u001b[0m\u001b[0m\n",
      "\u001b[0;32m~/.local/lib/python3.8/site-packages/DeepTCR/DeepTCR.py\u001b[0m in \u001b[0;36m_train\u001b[0;34m(self, write, batch_seed, iteration, subsample, subsample_by_freq, subsample_valid_test)\u001b[0m\n\u001b[1;32m   4206\u001b[0m                     \u001b[0mnp\u001b[0m\u001b[0;34m.\u001b[0m\u001b[0mrandom\u001b[0m\u001b[0;34m.\u001b[0m\u001b[0mseed\u001b[0m\u001b[0;34m(\u001b[0m\u001b[0mbatch_seed\u001b[0m\u001b[0;34m)\u001b[0m\u001b[0;34m\u001b[0m\u001b[0;34m\u001b[0m\u001b[0m\n\u001b[1;32m   4207\u001b[0m                 \u001b[0mtrain_loss\u001b[0m\u001b[0;34m,\u001b[0m \u001b[0mtrain_accuracy\u001b[0m\u001b[0;34m,\u001b[0m \u001b[0mtrain_predicted\u001b[0m\u001b[0;34m,\u001b[0m\u001b[0mtrain_auc\u001b[0m \u001b[0;34m=\u001b[0m\u001b[0;31m \u001b[0m\u001b[0;31m\\\u001b[0m\u001b[0;34m\u001b[0m\u001b[0;34m\u001b[0m\u001b[0m\n\u001b[0;32m-> 4208\u001b[0;31m                     Run_Graph_WF(self.train,sess,self,GO,batch_size,batch_size_update,random=True,train=True,\n\u001b[0m\u001b[1;32m   4209\u001b[0m                                  \u001b[0mdrop_out_rate\u001b[0m\u001b[0;34m=\u001b[0m\u001b[0mdrop_out_rate\u001b[0m\u001b[0;34m,\u001b[0m\u001b[0mmultisample_dropout_rate\u001b[0m\u001b[0;34m=\u001b[0m\u001b[0mmultisample_dropout_rate\u001b[0m\u001b[0;34m,\u001b[0m\u001b[0;34m\u001b[0m\u001b[0;34m\u001b[0m\u001b[0m\n\u001b[1;32m   4210\u001b[0m                                  subsample=subsample,subsample_by_freq=subsample_by_freq)\n",
      "\u001b[0;32m~/.local/lib/python3.8/site-packages/DeepTCR/functions/utils_s.py\u001b[0m in \u001b[0;36mRun_Graph_WF\u001b[0;34m(set, sess, self, GO, batch_size, batch_size_update, random, train, drop_out_rate, multisample_dropout_rate, subsample, subsample_by_freq)\u001b[0m\n\u001b[1;32m    758\u001b[0m                 \u001b[0mw\u001b[0m \u001b[0;34m=\u001b[0m \u001b[0;34m[\u001b[0m\u001b[0;34m]\u001b[0m\u001b[0;34m\u001b[0m\u001b[0;34m\u001b[0m\u001b[0m\n\u001b[1;32m    759\u001b[0m         \u001b[0;32melif\u001b[0m \u001b[0mtrain\u001b[0m\u001b[0;34m:\u001b[0m\u001b[0;34m\u001b[0m\u001b[0;34m\u001b[0m\u001b[0m\n\u001b[0;32m--> 760\u001b[0;31m             loss_i, accuracy_i, _, predicted_i = sess.run([GO.loss, GO.accuracy, GO.opt, GO.predicted],\n\u001b[0m\u001b[1;32m    761\u001b[0m                                                           feed_dict=feed_dict)\n\u001b[1;32m    762\u001b[0m         \u001b[0;32melse\u001b[0m\u001b[0;34m:\u001b[0m\u001b[0;34m\u001b[0m\u001b[0;34m\u001b[0m\u001b[0m\n",
      "\u001b[0;32m~/.local/lib/python3.8/site-packages/tensorflow/python/client/session.py\u001b[0m in \u001b[0;36mrun\u001b[0;34m(self, fetches, feed_dict, options, run_metadata)\u001b[0m\n\u001b[1;32m    968\u001b[0m \u001b[0;34m\u001b[0m\u001b[0m\n\u001b[1;32m    969\u001b[0m     \u001b[0;32mtry\u001b[0m\u001b[0;34m:\u001b[0m\u001b[0;34m\u001b[0m\u001b[0;34m\u001b[0m\u001b[0m\n\u001b[0;32m--> 970\u001b[0;31m       result = self._run(None, fetches, feed_dict, options_ptr,\n\u001b[0m\u001b[1;32m    971\u001b[0m                          run_metadata_ptr)\n\u001b[1;32m    972\u001b[0m       \u001b[0;32mif\u001b[0m \u001b[0mrun_metadata\u001b[0m\u001b[0;34m:\u001b[0m\u001b[0;34m\u001b[0m\u001b[0;34m\u001b[0m\u001b[0m\n",
      "\u001b[0;32m~/.local/lib/python3.8/site-packages/tensorflow/python/client/session.py\u001b[0m in \u001b[0;36m_run\u001b[0;34m(self, handle, fetches, feed_dict, options, run_metadata)\u001b[0m\n\u001b[1;32m   1191\u001b[0m     \u001b[0;31m# or if the call is a partial run that specifies feeds.\u001b[0m\u001b[0;34m\u001b[0m\u001b[0;34m\u001b[0m\u001b[0;34m\u001b[0m\u001b[0m\n\u001b[1;32m   1192\u001b[0m     \u001b[0;32mif\u001b[0m \u001b[0mfinal_fetches\u001b[0m \u001b[0;32mor\u001b[0m \u001b[0mfinal_targets\u001b[0m \u001b[0;32mor\u001b[0m \u001b[0;34m(\u001b[0m\u001b[0mhandle\u001b[0m \u001b[0;32mand\u001b[0m \u001b[0mfeed_dict_tensor\u001b[0m\u001b[0;34m)\u001b[0m\u001b[0;34m:\u001b[0m\u001b[0;34m\u001b[0m\u001b[0;34m\u001b[0m\u001b[0m\n\u001b[0;32m-> 1193\u001b[0;31m       results = self._do_run(handle, final_targets, final_fetches,\n\u001b[0m\u001b[1;32m   1194\u001b[0m                              feed_dict_tensor, options, run_metadata)\n\u001b[1;32m   1195\u001b[0m     \u001b[0;32melse\u001b[0m\u001b[0;34m:\u001b[0m\u001b[0;34m\u001b[0m\u001b[0;34m\u001b[0m\u001b[0m\n",
      "\u001b[0;32m~/.local/lib/python3.8/site-packages/tensorflow/python/client/session.py\u001b[0m in \u001b[0;36m_do_run\u001b[0;34m(self, handle, target_list, fetch_list, feed_dict, options, run_metadata)\u001b[0m\n\u001b[1;32m   1371\u001b[0m \u001b[0;34m\u001b[0m\u001b[0m\n\u001b[1;32m   1372\u001b[0m     \u001b[0;32mif\u001b[0m \u001b[0mhandle\u001b[0m \u001b[0;32mis\u001b[0m \u001b[0;32mNone\u001b[0m\u001b[0;34m:\u001b[0m\u001b[0;34m\u001b[0m\u001b[0;34m\u001b[0m\u001b[0m\n\u001b[0;32m-> 1373\u001b[0;31m       return self._do_call(_run_fn, feeds, fetches, targets, options,\n\u001b[0m\u001b[1;32m   1374\u001b[0m                            run_metadata)\n\u001b[1;32m   1375\u001b[0m     \u001b[0;32melse\u001b[0m\u001b[0;34m:\u001b[0m\u001b[0;34m\u001b[0m\u001b[0;34m\u001b[0m\u001b[0m\n",
      "\u001b[0;32m~/.local/lib/python3.8/site-packages/tensorflow/python/client/session.py\u001b[0m in \u001b[0;36m_do_call\u001b[0;34m(self, fn, *args)\u001b[0m\n\u001b[1;32m   1378\u001b[0m   \u001b[0;32mdef\u001b[0m \u001b[0m_do_call\u001b[0m\u001b[0;34m(\u001b[0m\u001b[0mself\u001b[0m\u001b[0;34m,\u001b[0m \u001b[0mfn\u001b[0m\u001b[0;34m,\u001b[0m \u001b[0;34m*\u001b[0m\u001b[0margs\u001b[0m\u001b[0;34m)\u001b[0m\u001b[0;34m:\u001b[0m\u001b[0;34m\u001b[0m\u001b[0;34m\u001b[0m\u001b[0m\n\u001b[1;32m   1379\u001b[0m     \u001b[0;32mtry\u001b[0m\u001b[0;34m:\u001b[0m\u001b[0;34m\u001b[0m\u001b[0;34m\u001b[0m\u001b[0m\n\u001b[0;32m-> 1380\u001b[0;31m       \u001b[0;32mreturn\u001b[0m \u001b[0mfn\u001b[0m\u001b[0;34m(\u001b[0m\u001b[0;34m*\u001b[0m\u001b[0margs\u001b[0m\u001b[0;34m)\u001b[0m\u001b[0;34m\u001b[0m\u001b[0;34m\u001b[0m\u001b[0m\n\u001b[0m\u001b[1;32m   1381\u001b[0m     \u001b[0;32mexcept\u001b[0m \u001b[0merrors\u001b[0m\u001b[0;34m.\u001b[0m\u001b[0mOpError\u001b[0m \u001b[0;32mas\u001b[0m \u001b[0me\u001b[0m\u001b[0;34m:\u001b[0m\u001b[0;34m\u001b[0m\u001b[0;34m\u001b[0m\u001b[0m\n\u001b[1;32m   1382\u001b[0m       \u001b[0mmessage\u001b[0m \u001b[0;34m=\u001b[0m \u001b[0mcompat\u001b[0m\u001b[0;34m.\u001b[0m\u001b[0mas_text\u001b[0m\u001b[0;34m(\u001b[0m\u001b[0me\u001b[0m\u001b[0;34m.\u001b[0m\u001b[0mmessage\u001b[0m\u001b[0;34m)\u001b[0m\u001b[0;34m\u001b[0m\u001b[0;34m\u001b[0m\u001b[0m\n",
      "\u001b[0;32m~/.local/lib/python3.8/site-packages/tensorflow/python/client/session.py\u001b[0m in \u001b[0;36m_run_fn\u001b[0;34m(feed_dict, fetch_list, target_list, options, run_metadata)\u001b[0m\n\u001b[1;32m   1361\u001b[0m       \u001b[0;31m# Ensure any changes to the graph are reflected in the runtime.\u001b[0m\u001b[0;34m\u001b[0m\u001b[0;34m\u001b[0m\u001b[0;34m\u001b[0m\u001b[0m\n\u001b[1;32m   1362\u001b[0m       \u001b[0mself\u001b[0m\u001b[0;34m.\u001b[0m\u001b[0m_extend_graph\u001b[0m\u001b[0;34m(\u001b[0m\u001b[0;34m)\u001b[0m\u001b[0;34m\u001b[0m\u001b[0;34m\u001b[0m\u001b[0m\n\u001b[0;32m-> 1363\u001b[0;31m       return self._call_tf_sessionrun(options, feed_dict, fetch_list,\n\u001b[0m\u001b[1;32m   1364\u001b[0m                                       target_list, run_metadata)\n\u001b[1;32m   1365\u001b[0m \u001b[0;34m\u001b[0m\u001b[0m\n",
      "\u001b[0;32m~/.local/lib/python3.8/site-packages/tensorflow/python/client/session.py\u001b[0m in \u001b[0;36m_call_tf_sessionrun\u001b[0;34m(self, options, feed_dict, fetch_list, target_list, run_metadata)\u001b[0m\n\u001b[1;32m   1454\u001b[0m   def _call_tf_sessionrun(self, options, feed_dict, fetch_list, target_list,\n\u001b[1;32m   1455\u001b[0m                           run_metadata):\n\u001b[0;32m-> 1456\u001b[0;31m     return tf_session.TF_SessionRun_wrapper(self._session, options, feed_dict,\n\u001b[0m\u001b[1;32m   1457\u001b[0m                                             \u001b[0mfetch_list\u001b[0m\u001b[0;34m,\u001b[0m \u001b[0mtarget_list\u001b[0m\u001b[0;34m,\u001b[0m\u001b[0;34m\u001b[0m\u001b[0;34m\u001b[0m\u001b[0m\n\u001b[1;32m   1458\u001b[0m                                             run_metadata)\n",
      "\u001b[0;31mKeyboardInterrupt\u001b[0m: "
     ]
    }
   ],
   "source": [
    "%%capture\n",
    "folds = 25\n",
    "LOO = 4\n",
    "epochs_min = 10\n",
    "size_of_net = 'small'\n",
    "num_concepts=64\n",
    "hinge_loss_t = 0.1\n",
    "train_loss_min=0.1\n",
    "\n",
    "DTCR_WF.Monte_Carlo_CrossVal(folds=folds,LOO=LOO,epochs_min=epochs_min,num_concepts=num_concepts,size_of_net=size_of_net,\n",
    "                             train_loss_min=train_loss_min,hinge_loss_t=hinge_loss_t,combine_train_valid=True)"
   ]
  },
  {
   "cell_type": "markdown",
   "metadata": {},
   "source": [
    "Once again, we can look at the performance via a ROC curve."
   ]
  },
  {
   "cell_type": "code",
   "execution_count": 9,
   "metadata": {},
   "outputs": [
    {
     "name": "stderr",
     "output_type": "stream",
     "text": [
      "No handles with labels found to put in legend.\n"
     ]
    },
    {
     "data": {
      "image/png": "[encoded data removed]",
      "text/plain": [
       "<Figure size 432x288 with 1 Axes>"
      ]
     },
     "metadata": {
      "needs_background": "light"
     },
     "output_type": "display_data"
    }
   ],
   "source": [
    "DTCR_WF.AUC_Curve()"
   ]
  },
  {
   "cell_type": "markdown",
   "metadata": {},
   "source": [
    "Once our algorithm has been trained, we may want to see which sequences are the most strongly predicted for each label. To do this we will run the following command. The output of the command is a dictionary of dataframes within the object we can view. Additionally, these dataframes can be found in the results folder underneath the subdirectory 'Rep_Sequences'."
   ]
  },
  {
   "cell_type": "code",
   "execution_count": 10,
   "metadata": {},
   "outputs": [],
   "source": [
    "DTCR_WF.Representative_Sequences()"
   ]
  },
  {
   "cell_type": "code",
   "execution_count": 11,
   "metadata": {},
   "outputs": [
    {
     "name": "stdout",
     "output_type": "stream",
     "text": [
      "      alpha            beta v_alpha j_alpha      v_beta      d_beta  \\\n",
      "15796  None   CASSLGGRDEQYF    None    None  TCRBV03-01  TCBDD02-01   \n",
      "15795  None    CASGAWGYEQYF    None    None  TCRBV13-02  unresolved   \n",
      "17064  None  CASSLWDSSNEQYF    None    None  TCRBV24-01  TCBDD01-01   \n",
      "16657  None  CASGLQMGKYEQYF    None    None  TCRBV13-02  unresolved   \n",
      "15797  None  CASSLWDSSYEQYF    None    None  TCRBV24-01  TCBDD01-01   \n",
      "15964  None   CASSLGGGDEQYF    None    None  TCRBV03-01  TCBDD02-01   \n",
      "15800  None  CASGLQMGQYEQYF    None    None  TCRBV13-02  TCBDD01-01   \n",
      "17055  None   CASSLGLYAEQFF    None    None  TCRBV13-01  unresolved   \n",
      "16538  None  CDSSLGRSSYEQYF    None    None  TCRBV03-01  TCBDD01-01   \n",
      "15798  None   CASSIGLYAEQFF    None    None  TCRBV13-01  unresolved   \n",
      "\n",
      "           j_beta    Class         Sample      Freq  Counts           HLA  \\\n",
      "15796  TCRBJ02-07  Control  CONTROL-1.tsv  0.044028     101  [N, o, n, e]   \n",
      "15795  TCRBJ02-07  Control  CONTROL-1.tsv  0.057541     132  [N, o, n, e]   \n",
      "17064  TCRBJ02-07  Control  CONTROL-1.tsv  0.000436       1  [N, o, n, e]   \n",
      "16657  TCRBJ02-07  Control  CONTROL-1.tsv  0.000436       1  [N, o, n, e]   \n",
      "15797  TCRBJ02-07  Control  CONTROL-1.tsv  0.025283      58  [N, o, n, e]   \n",
      "15964  TCRBJ02-07  Control  CONTROL-1.tsv  0.000872       2  [N, o, n, e]   \n",
      "15800  TCRBJ02-07  Control  CONTROL-1.tsv  0.013514      31  [N, o, n, e]   \n",
      "17055  TCRBJ02-01  Control  CONTROL-1.tsv  0.000436       1  [N, o, n, e]   \n",
      "16538  TCRBJ02-07  Control  CONTROL-1.tsv  0.000436       1  [N, o, n, e]   \n",
      "15798  TCRBJ02-01  Control  CONTROL-1.tsv  0.022232      51  [N, o, n, e]   \n",
      "\n",
      "           9H10     Combo   Control        RT  \n",
      "15796  0.001094  0.000845  3.997671  0.000390  \n",
      "15795  0.000742  0.001097  3.997664  0.000497  \n",
      "17064  0.000900  0.001027  3.997657  0.000417  \n",
      "16657  0.000956  0.000947  3.997625  0.000472  \n",
      "15797  0.001065  0.000988  3.997567  0.000380  \n",
      "15964  0.001159  0.000869  3.997561  0.000412  \n",
      "15800  0.000867  0.001016  3.997539  0.000578  \n",
      "17055  0.000905  0.001136  3.997437  0.000521  \n",
      "16538  0.001084  0.001051  3.997424  0.000441  \n",
      "15798  0.001082  0.001153  3.997331  0.000433  \n"
     ]
    }
   ],
   "source": [
    "print(DTCR_WF.Rep_Seq['Control'])"
   ]
  },
  {
   "cell_type": "markdown",
   "metadata": {},
   "source": [
    "Furthermore, we may want to know which learned motifs are associated with a given label. To do this, we can run the following command with the label we want to know the predictive motifs for."
   ]
  },
  {
   "cell_type": "code",
   "execution_count": 12,
   "metadata": {},
   "outputs": [
    {
     "name": "stdout",
     "output_type": "stream",
     "text": [
      "Motif Identification Completed\n"
     ]
    }
   ],
   "source": [
    "DTCR_WF.Motif_Identification('Control')"
   ]
  },
  {
   "cell_type": "markdown",
   "metadata": {},
   "source": [
    "The motifs can then be found in fasta files in the results folder underneath (label)(alpha/beta)Motifs. These fasta fiels can then be used with \"https://weblogo.berkeley.edu/logo.cgi\" for motif visualization."
   ]
  },
  {
   "cell_type": "code",
   "execution_count": null,
   "metadata": {},
   "outputs": [],
   "source": []
  }
 ],
 "metadata": {
  "kernelspec": {
   "display_name": "Python 3",
   "language": "python",
   "name": "python3"
  },
  "language_info": {
   "codemirror_mode": {
    "name": "ipython",
    "version": 3
   },
   "file_extension": ".py",
   "mimetype": "text/x-python",
   "name": "python",
   "nbconvert_exporter": "python",
   "pygments_lexer": "ipython3",
   "version": "3.8.8"
  }
 },
 "nbformat": 4,
 "nbformat_minor": 4
}
