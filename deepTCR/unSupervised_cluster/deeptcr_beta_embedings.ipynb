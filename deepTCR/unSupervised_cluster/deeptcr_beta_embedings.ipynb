{
 "cells": [
  {
   "cell_type": "markdown",
   "id": "727c5ec3-ff16-4310-96b3-0b02b18b8fd6",
   "metadata": {},
   "source": [
    "# Load muData"
   ]
  },
  {
   "cell_type": "code",
   "execution_count": 1,
   "id": "05d68b7b-87bd-460c-ae3a-6ec4e75e8c30",
   "metadata": {
    "tags": []
   },
   "outputs": [],
   "source": [
    "import warnings\n",
    "warnings.filterwarnings(\"ignore\")\n",
    "import numpy as np\n",
    "import scanpy as sc\n",
    "import scirpy as ir\n",
    "import pandas as pd\n",
    "from mudata import MuData\n",
    "import muon as mu"
   ]
  },
  {
   "cell_type": "code",
   "execution_count": 2,
   "id": "3fd5a2dc-7237-482e-8149-61f40962f715",
   "metadata": {},
   "outputs": [
    {
     "name": "stdout",
     "output_type": "stream",
     "text": [
      "/ihome/ylee/yiz133/Code/data_EAE/anndata\n"
     ]
    }
   ],
   "source": [
    "%cd /ihome/ylee/yiz133/Code/data_EAE/anndata/"
   ]
  },
  {
   "cell_type": "code",
   "execution_count": 22,
   "id": "307de841-7db9-42b6-94e4-e951ca0cb60c",
   "metadata": {},
   "outputs": [
    {
     "name": "stdout",
     "output_type": "stream",
     "text": [
      "WARNING: No chain indices found under adata.obsm['chain_indices']. Running scirpy.pp.index_chains with default parameters. \n"
     ]
    },
    {
     "data": {
      "text/html": [
       "<pre>MuData object with n_obs × n_vars = 77660 × 33708\n",
       "  obs:\t&#x27;orig.ident&#x27;, &#x27;nCount_RNA&#x27;, &#x27;nFeature_RNA&#x27;, &#x27;nCount_HTO&#x27;, &#x27;nFeature_HTO&#x27;, &#x27;HTO_maxID&#x27;, &#x27;HTO_secondID&#x27;, &#x27;HTO_margin&#x27;, &#x27;HTO_classification&#x27;, &#x27;HTO_classification.global&#x27;, &#x27;hash.ID&#x27;, &#x27;percent.mt&#x27;, &#x27;integrated_nn_res.2&#x27;, &#x27;seurat_clusters&#x27;, &#x27;level_2_clusters&#x27;, &#x27;manual_cell_type&#x27;, &#x27;run_num&#x27;, &#x27;sample&#x27;, &#x27;VDJ_1_cdr3_aa&#x27;, &#x27;VDJ_1_umi_count&#x27;, &#x27;VDJ_1_v_call&#x27;, &#x27;VDJ_1_j_call&#x27;, &#x27;VJ_1_cdr3_aa&#x27;, &#x27;VJ_1_umi_count&#x27;, &#x27;VJ_1_v_call&#x27;, &#x27;VJ_1_j_call&#x27;\n",
       "  2 modalities\n",
       "    gex:\t77660 x 33708\n",
       "      obs:\t&#x27;mouse_id&#x27;, &#x27;date&#x27;, &#x27;tissue&#x27;, &#x27;sample&#x27;, &#x27;mouse_BC&#x27;\n",
       "    airr:\t77660 x 0\n",
       "      uns:\t&#x27;chain_indices&#x27;\n",
       "      obsm:\t&#x27;airr&#x27;, &#x27;chain_indices&#x27;</pre>"
      ],
      "text/plain": [
       "MuData object with n_obs × n_vars = 77660 × 33708\n",
       "  obs:\t'orig.ident', 'nCount_RNA', 'nFeature_RNA', 'nCount_HTO', 'nFeature_HTO', 'HTO_maxID', 'HTO_secondID', 'HTO_margin', 'HTO_classification', 'HTO_classification.global', 'hash.ID', 'percent.mt', 'integrated_nn_res.2', 'seurat_clusters', 'level_2_clusters', 'manual_cell_type', 'run_num', 'sample', 'VDJ_1_cdr3_aa', 'VDJ_1_umi_count', 'VDJ_1_v_call', 'VDJ_1_j_call', 'VJ_1_cdr3_aa', 'VJ_1_umi_count', 'VJ_1_v_call', 'VJ_1_j_call'\n",
       "  2 modalities\n",
       "    gex:\t77660 x 33708\n",
       "      obs:\t'mouse_id', 'date', 'tissue', 'sample', 'mouse_BC'\n",
       "    airr:\t77660 x 0\n",
       "      uns:\t'chain_indices'\n",
       "      obsm:\t'airr', 'chain_indices'"
      ]
     },
     "execution_count": 22,
     "metadata": {},
     "output_type": "execute_result"
    }
   ],
   "source": [
    "mdata = mu.read(\"all_Common.h5mu\")\n",
    "\n",
    "airr_DF = ir.get.airr(mdata['airr'], [\"cdr3_aa\", \"umi_count\", \"v_call\", \"j_call\"] ,  ('VDJ_1', 'VJ_1'))\n",
    "mdata.obs = mdata.obs.join(airr_DF)\n",
    "# 'VDJ_1'\n",
    "mdata"
   ]
  },
  {
   "cell_type": "code",
   "execution_count": 28,
   "id": "adf6f288-83d1-4603-a121-6f530d30f7b2",
   "metadata": {},
   "outputs": [],
   "source": [
    "airr_beta = airr_DF.iloc[:5,:4]"
   ]
  },
  {
   "cell_type": "markdown",
   "id": "04b060f8-04d0-43ef-9a48-a4c11523424b",
   "metadata": {
    "tags": []
   },
   "source": [
    "### Analysis"
   ]
  },
  {
   "cell_type": "code",
   "execution_count": 29,
   "id": "870c1012-4f4b-4b11-8620-add2064a37f5",
   "metadata": {},
   "outputs": [
    {
     "ename": "ModuleNotFoundError",
     "evalue": "No module named 'tensorflow'",
     "output_type": "error",
     "traceback": [
      "\u001b[0;31m---------------------------------------------------------------------------\u001b[0m",
      "\u001b[0;31mModuleNotFoundError\u001b[0m                       Traceback (most recent call last)",
      "Cell \u001b[0;32mIn[29], line 1\u001b[0m\n\u001b[0;32m----> 1\u001b[0m \u001b[38;5;28;01mfrom\u001b[39;00m\u001b[38;5;250m \u001b[39m\u001b[38;5;21;01mDeepTCR\u001b[39;00m\u001b[38;5;21;01m.\u001b[39;00m\u001b[38;5;21;01mDeepTCR\u001b[39;00m\u001b[38;5;250m \u001b[39m\u001b[38;5;28;01mimport\u001b[39;00m DeepTCR_U\n",
      "File \u001b[0;32m~/Code/deepTCR/unSupervised_cluster/DeepTCR/DeepTCR.py:3\u001b[0m\n\u001b[1;32m      1\u001b[0m \u001b[38;5;28;01mimport\u001b[39;00m\u001b[38;5;250m \u001b[39m\u001b[38;5;21;01msys\u001b[39;00m\n\u001b[1;32m      2\u001b[0m sys\u001b[38;5;241m.\u001b[39mpath\u001b[38;5;241m.\u001b[39mappend(\u001b[38;5;124m'\u001b[39m\u001b[38;5;124m../\u001b[39m\u001b[38;5;124m'\u001b[39m)\n\u001b[0;32m----> 3\u001b[0m \u001b[38;5;28;01mfrom\u001b[39;00m\u001b[38;5;250m \u001b[39m\u001b[38;5;21;01mDeepTCR\u001b[39;00m\u001b[38;5;21;01m.\u001b[39;00m\u001b[38;5;21;01mfunctions\u001b[39;00m\u001b[38;5;21;01m.\u001b[39;00m\u001b[38;5;21;01mLayers\u001b[39;00m\u001b[38;5;250m \u001b[39m\u001b[38;5;28;01mimport\u001b[39;00m \u001b[38;5;241m*\u001b[39m\n\u001b[1;32m      4\u001b[0m \u001b[38;5;28;01mfrom\u001b[39;00m\u001b[38;5;250m \u001b[39m\u001b[38;5;21;01mDeepTCR\u001b[39;00m\u001b[38;5;21;01m.\u001b[39;00m\u001b[38;5;21;01mfunctions\u001b[39;00m\u001b[38;5;21;01m.\u001b[39;00m\u001b[38;5;21;01mutils_u\u001b[39;00m\u001b[38;5;250m \u001b[39m\u001b[38;5;28;01mimport\u001b[39;00m \u001b[38;5;241m*\u001b[39m\n\u001b[1;32m      5\u001b[0m \u001b[38;5;28;01mfrom\u001b[39;00m\u001b[38;5;250m \u001b[39m\u001b[38;5;21;01mDeepTCR\u001b[39;00m\u001b[38;5;21;01m.\u001b[39;00m\u001b[38;5;21;01mfunctions\u001b[39;00m\u001b[38;5;21;01m.\u001b[39;00m\u001b[38;5;21;01mutils_s\u001b[39;00m\u001b[38;5;250m \u001b[39m\u001b[38;5;28;01mimport\u001b[39;00m \u001b[38;5;241m*\u001b[39m\n",
      "File \u001b[0;32m~/Code/deepTCR/unSupervised_cluster/DeepTCR/functions/Layers.py:1\u001b[0m\n\u001b[0;32m----> 1\u001b[0m \u001b[38;5;28;01mimport\u001b[39;00m\u001b[38;5;250m \u001b[39m\u001b[38;5;21;01mtensorflow\u001b[39;00m\u001b[38;5;250m \u001b[39m\u001b[38;5;28;01mas\u001b[39;00m\u001b[38;5;250m \u001b[39m\u001b[38;5;21;01mtf\u001b[39;00m\n\u001b[1;32m      3\u001b[0m \u001b[38;5;28;01mclass\u001b[39;00m\u001b[38;5;250m \u001b[39m\u001b[38;5;21;01mgraph_object\u001b[39;00m(\u001b[38;5;28mobject\u001b[39m):\n\u001b[1;32m      4\u001b[0m     \u001b[38;5;28;01mdef\u001b[39;00m\u001b[38;5;250m \u001b[39m\u001b[38;5;21m__init__\u001b[39m(\u001b[38;5;28mself\u001b[39m):\n",
      "\u001b[0;31mModuleNotFoundError\u001b[0m: No module named 'tensorflow'"
     ]
    }
   ],
   "source": [
    "from DeepTCR.DeepTCR import DeepTCR_U"
   ]
  },
  {
   "cell_type": "code",
   "execution_count": null,
   "id": "ed98bba1-97d6-4b04-9a6a-5fef2b796332",
   "metadata": {},
   "outputs": [],
   "source": [
    "\n",
    "# Instantiate training object\n",
    "DTCRU = DeepTCR_U('TCR_Analysis')\n",
    "\n",
    "# Path to your dataset\n",
    "# data_directory = r\"E:\\Python code\\Machine learning\\JupyterNote\\Bio\\deepTCR\\DeepTCR_input\"\n",
    "\n",
    "# Load Data from CNS & Spleen directories\n",
    "DTCRU.Get_Data(directory=airr_beta, Load_Prev_Data=False, aggregate_by_aa=True,\n",
    "               aa_column_beta=0, count_column=1, v_beta_column=2, j_beta_column=3)\n",
    "\n",
    "print(\"Data loaded successfully into DeepTCR!\")\n"
   ]
  },
  {
   "cell_type": "code",
   "execution_count": null,
   "id": "8d75c32c-ee68-4a49-88e9-17f7861c62c3",
   "metadata": {
    "scrolled": true
   },
   "outputs": [],
   "source": [
    "# Train Variational Autoencoder (VAE) with adjusted parameters\n",
    "DTCRU.Train_VAE(\n",
    "    latent_dim=96,          # Reduce latent dimension to prevent overfitting on 20K sequences\n",
    "    batch_size=5000,         # Reduce batch size to prevent memory overload\n",
    "    epochs_min=5,            # Ensure at least 5 training epochs\n",
    "    stop_criterion_window=30, # Increase patience for stopping\n",
    "    learning_rate=0.001,    # Slightly slower learning rate for better stability\n",
    "    Load_Prev_Data=False     # Ensure fresh training\n",
    ")\n",
    "\n",
    "print(\"DeepTCR VAE training completed!\")\n"
   ]
  },
  {
   "cell_type": "code",
   "execution_count": null,
   "id": "fc604e47-2d51-4b13-8fde-0c9b01a14a6e",
   "metadata": {},
   "outputs": [],
   "source": [
    "import pandas as pd\n",
    "\n",
    "def extract_features_from_DTCRU(DTCRU):\n",
    "    \"\"\"\n",
    "    Extracts latent features along with CDR3 sequences, V-beta, J-beta, and labels into a DataFrame.\n",
    "\n",
    "    Args:\n",
    "        DTCRU: The feature_analytics_class instance.\n",
    "\n",
    "    Returns:\n",
    "        Pandas DataFrame containing:\n",
    "        - Features (latent embeddings)\n",
    "        - CDR3 Beta Sequences\n",
    "        - V_beta, J_beta\n",
    "        - Labels (Sample/Cluster ID)\n",
    "    \"\"\"\n",
    "\n",
    "    # Convert latent features to DataFrame\n",
    "    feature_df = pd.DataFrame(DTCRU.features)\n",
    "\n",
    "    # Convert sequence data to DataFrame\n",
    "    metadata_df = pd.DataFrame({\n",
    "        \"CDR3_Beta\": DTCRU.beta_sequences,\n",
    "        \"V_Beta\": DTCRU.v_beta,\n",
    "        \"J_Beta\": DTCRU.j_beta,\n",
    "        \"Label\": DTCRU.sample_id  # Use sample_id as labels\n",
    "    })\n",
    "\n",
    "    # Merge latent features with metadata\n",
    "    full_df = pd.concat([metadata_df, feature_df], axis=1)\n",
    "\n",
    "    return full_df\n",
    "\n",
    "# Usage:\n",
    "features_df = extract_features_from_DTCRU(DTCRU)\n",
    "\n",
    "# Save to CSV if needed\n",
    "features_df.to_csv(\"DTCRU_extracted_features_96.csv\", index=False)\n",
    "\n",
    "#features_df "
   ]
  },
  {
   "cell_type": "markdown",
   "id": "21bd0ac8-ad75-4857-87f7-f76e39f6fc10",
   "metadata": {},
   "source": [
    "# Saved embs"
   ]
  },
  {
   "cell_type": "code",
   "execution_count": null,
   "id": "f68e6b7a-98a8-461c-a337-9f81caa63daf",
   "metadata": {},
   "outputs": [],
   "source": [
    "# # Reduce clusters by lowering PhenoGraph resolution (t)\n",
    "# DTCRU.Cluster(\n",
    "#     clustering_method='phenograph',  # Keep PhenoGraph clustering\n",
    "#     t=5,                     # Lower resolution (default ~30); reduce for fewer clusters\n",
    "#     n_jobs=4                 # Use multiple threads for efficiency\n",
    "# )\n",
    "DTCRU.Cluster(\n",
    "    set='all', \n",
    "    clustering_method='dbscan',  # Use DBSCAN\n",
    "    t=6,  # Higher values merge clusters (default is auto-tuned)\n",
    "    n_jobs=4\n",
    ")"
   ]
  },
  {
   "cell_type": "code",
   "execution_count": null,
   "id": "a30ef2d4-b6b5-4c0d-b2f5-a341455919ec",
   "metadata": {},
   "outputs": [],
   "source": [
    "DFs = DTCRU.Cluster_DFs\n",
    "len(DFs)"
   ]
  },
  {
   "cell_type": "code",
   "execution_count": null,
   "id": "a3fc862c-45c2-48e0-be8b-5a0aced452ce",
   "metadata": {},
   "outputs": [],
   "source": [
    "print(DFs[2])"
   ]
  },
  {
   "cell_type": "code",
   "execution_count": null,
   "id": "08acd275-2071-4ed9-a0ac-860c5dda16cf",
   "metadata": {},
   "outputs": [],
   "source": [
    "# import matplotlib.pyplot as plt\n",
    "\n",
    "# # Initialize lists to store cluster indices and weighted CNS proportions\n",
    "# cluster_ids = []\n",
    "# cns_proportions = []\n",
    "\n",
    "# # Iterate through clusters and compute weighted CNS proportions\n",
    "# for i, df in enumerate(DFs):\n",
    "#     total_freq = df[\"Frequency\"].sum()  # Sum of frequencies in cluster\n",
    "#     cns_freq = df.loc[df[\"Labels\"] == \"CNS\", \"Frequency\"].sum()  # Sum of CNS frequencies\n",
    "    \n",
    "#     # Avoid division by zero\n",
    "#     cns_ratio = cns_freq #/ total_freq if total_freq > 0 else 0\n",
    "    \n",
    "#     cluster_ids.append(i + 1)  # Cluster numbers start from 1\n",
    "#     cns_proportions.append(cns_ratio)\n",
    "\n",
    "# # Plot CNS proportion per cluster\n",
    "# plt.figure(figsize=(12, 6))\n",
    "# plt.bar(cluster_ids, cns_proportions, color=\"dodgerblue\")\n",
    "\n",
    "# plt.xlabel(\"Cluster\")\n",
    "# plt.ylabel(\"CNS Proportion (Weighted by Frequency)\")\n",
    "# plt.title(\"Weighted Proportion of CNS Sequences in Each Cluster\")\n",
    "# #plt.ylim(0, 1)  # Set proportion range between 0 and 1\n",
    "# plt.xticks(rotation=90)  # Rotate x-axis labels if needed\n",
    "# plt.show()\n",
    "# import matplotlib.pyplot as plt\n",
    "\n",
    "# # Initialize lists to store cluster indices and weighted CNS proportions\n",
    "# cluster_ids = []\n",
    "# cns_proportions = []\n",
    "\n",
    "# # Iterate through clusters and compute weighted CNS proportions\n",
    "# for i, df in enumerate(DFs):\n",
    "#     total_freq = df[\"Frequency\"].sum()  # Sum of frequencies in cluster\n",
    "#     cns_freq = df.loc[df[\"Labels\"] == \"Spleen\", \"Frequency\"].sum()  # Sum of CNS frequencies\n",
    "    \n",
    "#     # Avoid division by zero\n",
    "#     cns_ratio = cns_freq #/ total_freq if total_freq > 0 else 0\n",
    "    \n",
    "#     cluster_ids.append(i + 1)  # Cluster numbers start from 1\n",
    "#     cns_proportions.append(cns_ratio)\n",
    "\n",
    "# # Plot CNS proportion per cluster\n",
    "# plt.figure(figsize=(12, 6))\n",
    "# plt.bar(cluster_ids, cns_proportions, color=\"dodgerblue\")\n",
    "\n",
    "# plt.xlabel(\"Cluster\")\n",
    "# plt.ylabel(\"Spleen Proportion (Weighted by Frequency)\")\n",
    "# plt.title(\"Weighted Proportion of CNS Sequences in Each Cluster\")\n",
    "# #plt.ylim(0, 1)  # Set proportion range between 0 and 1\n",
    "# plt.xticks(rotation=90)  # Rotate x-axis labels if needed\n",
    "# plt.show()"
   ]
  },
  {
   "cell_type": "code",
   "execution_count": null,
   "id": "644d014e-6ff9-4cfc-8bc7-3db4d3f3c03a",
   "metadata": {},
   "outputs": [],
   "source": [
    "DTCRU.HeatMap_Sequences()"
   ]
  },
  {
   "cell_type": "code",
   "execution_count": null,
   "id": "ac8b6496-5730-44d1-972a-ac9e9db51408",
   "metadata": {},
   "outputs": [],
   "source": []
  },
  {
   "cell_type": "code",
   "execution_count": null,
   "id": "e05da1a3-772a-43f5-a6e7-9bef1ab9dc0f",
   "metadata": {},
   "outputs": [],
   "source": [
    "DTCRU.Structural_Diversity()"
   ]
  },
  {
   "cell_type": "code",
   "execution_count": null,
   "id": "6d83188d-93a5-4205-a724-6574d8a4880a",
   "metadata": {
    "scrolled": true
   },
   "outputs": [],
   "source": [
    "DTCRU.Structural_Diversity_DF"
   ]
  },
  {
   "cell_type": "code",
   "execution_count": null,
   "id": "a50103f6-4e32-4d89-9918-6295cc836f71",
   "metadata": {},
   "outputs": [],
   "source": [
    "# Extract normalized frequency and sample IDs from DeepTCR\n",
    "import numpy as np\n",
    "\n",
    "normalized_freq = np.array(DTCRU.freq)  # Already normalized per sample\n",
    "sample_ids = np.array(DTCRU.sample_id)\n",
    "\n",
    "# Count the number of sequences in CNS and Spleen\n",
    "num_cns = np.sum(sample_ids == \"CNS.tsv\")\n",
    "num_spleen = np.sum(sample_ids == \"Spleen.tsv\")\n",
    "\n",
    "# Compute rescaling factor: adjust Spleen frequencies to match CNS scale\n",
    "scale_factor = num_spleen / num_cns\n",
    "\n",
    "# Rescale the Spleen frequencies only\n",
    "adjusted_freq = np.where(sample_ids == \"Spleen.tsv\", normalized_freq * scale_factor, normalized_freq)\n",
    "DTCRU.freq = adjusted_freq"
   ]
  },
  {
   "cell_type": "code",
   "execution_count": null,
   "id": "23616594-c5b5-4351-926b-12e7e044bf39",
   "metadata": {},
   "outputs": [],
   "source": [
    "DTCRU.freq"
   ]
  },
  {
   "cell_type": "code",
   "execution_count": null,
   "id": "31560a6b-6cf1-4fbe-8b05-5cc44e67d888",
   "metadata": {},
   "outputs": [],
   "source": [
    "scale_factor"
   ]
  },
  {
   "cell_type": "code",
   "execution_count": null,
   "id": "a2ee3809-8231-49ef-a5b5-af1043477c60",
   "metadata": {},
   "outputs": [],
   "source": [
    "num_cns"
   ]
  },
  {
   "cell_type": "code",
   "execution_count": null,
   "id": "db841214-d43a-473d-b4c1-8324e652b4b8",
   "metadata": {},
   "outputs": [],
   "source": [
    "num_spleen"
   ]
  },
  {
   "cell_type": "code",
   "execution_count": null,
   "id": "e5537372-4ab0-4c62-b9c3-aa8e314a21fb",
   "metadata": {},
   "outputs": [],
   "source": [
    "DTCRU.freq"
   ]
  },
  {
   "cell_type": "code",
   "execution_count": null,
   "id": "7b1b24f3-4409-4db1-b4b3-54ae622d7c58",
   "metadata": {},
   "outputs": [],
   "source": [
    "DTCRU.UMAP_Plot(Load_Prev_Data=True,by_sample=True, show_legend=True,freq_weight=True,scale=10000) #by_cluster=True,by_cluster=True,freq_weight=True"
   ]
  },
  {
   "cell_type": "code",
   "execution_count": null,
   "id": "21ae6ef7-1b87-4c11-a4f7-e56f125062a4",
   "metadata": {},
   "outputs": [],
   "source": [
    "DTCRU.UMAP_Plot(Load_Prev_Data=True,by_cluster=True, show_legend=False,freq_weight=True,scale=5000)"
   ]
  },
  {
   "cell_type": "markdown",
   "id": "f91c1da0-c6a8-407e-843f-9266ac48e769",
   "metadata": {},
   "source": [
    "### Comparison between GIANA embeddings and DeepTCR embeddings"
   ]
  },
  {
   "cell_type": "code",
   "execution_count": null,
   "id": "7d3159b4-38a7-4e69-81af-be05f49592f4",
   "metadata": {},
   "outputs": [],
   "source": [
    "import pandas as pd"
   ]
  },
  {
   "cell_type": "code",
   "execution_count": null,
   "id": "c0dd7b14-a73d-4776-bd6f-76a30d0b6942",
   "metadata": {},
   "outputs": [],
   "source": [
    "DTCRU_features_df = pd.read_csv(r\"E:\\Python code\\Machine learning\\JupyterNote\\Bio\\deepTCR\\DTCRU_extracted_features_96.csv\")"
   ]
  },
  {
   "cell_type": "code",
   "execution_count": null,
   "id": "9d38ab9e-1153-4389-83cf-5c52a8a46f0c",
   "metadata": {},
   "outputs": [],
   "source": [
    "DTCRU_features_df"
   ]
  },
  {
   "cell_type": "code",
   "execution_count": null,
   "id": "88ae9aac-f997-4e01-9ba2-507f91950fcb",
   "metadata": {},
   "outputs": [],
   "source": [
    "# File paths\n",
    "embedding_path = r\"E:\\Python code\\Machine learning\\JupyterNote\\Bio\\GIANA\\LEE_data\\cdr3_only\\cdr3_id--RotationEncodingBL62_EncodingMatrix_CFadded.txt\"\n",
    "\n",
    "# Load GIANA embeddings\n",
    "GIANA_features_df = pd.read_csv(embedding_path, sep=\"\\t\", header=None)\n",
    "GIANA_features_df = GIANA_features_df.iloc[:,1:]\n",
    "GIANA_features_df = GIANA_features_df.drop(columns=GIANA_features_df.columns[1])\n",
    "GIANA_features_df = GIANA_features_df.rename(columns={1: 0})\n",
    "GIANA_features_df"
   ]
  },
  {
   "cell_type": "code",
   "execution_count": null,
   "id": "165d8991-3a50-4872-ba31-a1c0ad638d9c",
   "metadata": {},
   "outputs": [],
   "source": [
    "# for i in range(len(GIANA_features_df)):\n",
    "#     GIANA_features_df.iloc[i,0] = \"C\" + GIANA_features_df.iloc[i,0] + \"F\"\n",
    "\n",
    "# GIANA_features_df.to_csv('cdr3_id--RotationEncodingBL62_EncodingMatrix_CFadded.csv', header = None, sep=\"\\t\")"
   ]
  },
  {
   "cell_type": "code",
   "execution_count": null,
   "id": "30855484-a2f2-440f-9fb4-ca4642d88f44",
   "metadata": {},
   "outputs": [],
   "source": [
    "import numpy as np\n",
    "DTCRU_features_df = DTCRU_features_df.iloc[:, np.r_[0, 4:DTCRU_features_df.shape[1]]]\n",
    "# GIANA_features_df = GIANA_features_df.iloc[:, np.r_[0, 2:GIANA_features_df.shape[1]]]"
   ]
  },
  {
   "cell_type": "code",
   "execution_count": null,
   "id": "99bb8571-0012-4040-bae0-ffabcc265e16",
   "metadata": {},
   "outputs": [],
   "source": [
    "import pandas as pd\n",
    "import numpy as np\n",
    "from scipy.spatial.distance import pdist, squareform\n",
    "\n",
    "# Step 1: Ensure unique CDR3_Beta sequences by averaging embeddings if duplicated\n",
    "DTCRU_unique = DTCRU_features_df.groupby(\"CDR3_Beta\").mean().reset_index()\n",
    "GIANA_unique = GIANA_features_df.groupby(0).mean().reset_index()  # Column 0 contains CDR3_Beta in GIANA\n",
    "\n",
    "# Step 2: Find the common CDR3 sequences among all three datasets\n",
    "common_cdr3 = set(DTCRU_unique[\"CDR3_Beta\"]).intersection(GIANA_unique[0])\n",
    "\n",
    "# Step 3: Keep only common sequences and sort them\n",
    "DTCRU_matched = DTCRU_unique[DTCRU_unique[\"CDR3_Beta\"].isin(common_cdr3)].sort_values(\"CDR3_Beta\").reset_index(drop=True)\n",
    "GIANA_matched = GIANA_unique[GIANA_unique[0].isin(common_cdr3)].sort_values(by=0).reset_index(drop=True)\n",
    "\n",
    "# Step 4: Extract embeddings\n",
    "DTCRU_embeddings = DTCRU_matched.iloc[:, 1:].values  # Exclude CDR3_Beta (first column)\n",
    "GIANA_embeddings = GIANA_matched.iloc[:, 1:].values  # Exclude CDR3_Beta (first column)\n",
    "\n",
    "# Step 5: Compute pairwise distances within each embedding space\n",
    "DTCRU_distances = squareform(pdist(DTCRU_embeddings, metric=\"euclidean\"))\n",
    "GIANA_distances = squareform(pdist(GIANA_embeddings, metric=\"euclidean\"))\n",
    "\n",
    "# Step 6: Flatten upper triangle of the distance matrices for correlation analysis\n",
    "DTCRU_distances_flat = DTCRU_distances[np.triu_indices_from(DTCRU_distances, k=1)]\n",
    "GIANA_distances_flat = GIANA_distances[np.triu_indices_from(GIANA_distances, k=1)]\n",
    "\n"
   ]
  },
  {
   "cell_type": "code",
   "execution_count": null,
   "id": "930d4cbb-2540-468c-90e6-79aa90cd7948",
   "metadata": {},
   "outputs": [],
   "source": [
    "import numpy as np\n",
    "from scipy.stats import spearmanr\n",
    "\n",
    "# Randomly subsample 100,000 pairs for faster correlation\n",
    "sample_size = min(100000, len(DTCRU_distances_flat))  # Adjust sample size if needed\n",
    "indices = np.random.choice(len(DTCRU_distances_flat), size=sample_size, replace=False)\n",
    "\n",
    "# Compute Spearman on subsampled data\n",
    "spearman_DG, p_DG = spearmanr(DTCRU_distances_flat[indices], GIANA_distances_flat[indices])\n",
    "\n",
    "results = pd.DataFrame({\n",
    "    \"Comparison\": [\"DTCRU vs GIANA\"],\n",
    "    \"Spearman Correlation\": [spearman_DG],\n",
    "    \"p-value\": [p_DG]\n",
    "})\n",
    "results "
   ]
  },
  {
   "cell_type": "code",
   "execution_count": null,
   "id": "b8252ef4-9c81-4ac7-b942-17bdfb17bd88",
   "metadata": {},
   "outputs": [],
   "source": [
    "DTCRU_features_df.shape"
   ]
  },
  {
   "cell_type": "code",
   "execution_count": null,
   "id": "0c36f10b-8594-4494-a1b9-83be8ab82311",
   "metadata": {},
   "outputs": [],
   "source": [
    "from sklearn.cluster import KMeans\n",
    "from sklearn.metrics import adjusted_rand_score, normalized_mutual_info_score, homogeneity_completeness_v_measure\n",
    "import pandas as pd\n",
    "\n",
    "# Perform K-Means clustering for all three datasets\n",
    "DTCRU_clusters = KMeans(n_clusters=10, random_state=1, n_init=10).fit_predict(DTCRU_embeddings)\n",
    "GIANA_clusters = KMeans(n_clusters=10, random_state=1, n_init=10).fit_predict(GIANA_embeddings)\n",
    "\n",
    "# Compute clustering similarity scores for all pairs\n",
    "ari_DG = adjusted_rand_score(DTCRU_clusters, GIANA_clusters)  # DTCRU vs GIANA\n",
    "\n",
    "nmi_DG = normalized_mutual_info_score(DTCRU_clusters, GIANA_clusters)\n",
    "\n",
    "hom_DG, comp_DG, v_DG = homogeneity_completeness_v_measure(DTCRU_clusters, GIANA_clusters)\n",
    "\n",
    "# Organize results in a DataFrame\n",
    "clustering_results = pd.DataFrame({\n",
    "    \"Comparison\": [\"DTCRU vs GIANA\"],\n",
    "    \"ARI\": [ari_DG],\n",
    "    \"NMI\": [nmi_DG],\n",
    "    \"Homogeneity\": [hom_DG],\n",
    "    \"Completeness\": [comp_DG],\n",
    "    \"V-Measure\": [v_DG]\n",
    "})\n",
    "\n",
    "clustering_results\n"
   ]
  },
  {
   "cell_type": "code",
   "execution_count": null,
   "id": "54a2c702-1a98-4f2d-95cb-c3e244c8d6fb",
   "metadata": {},
   "outputs": [],
   "source": [
    "import umap\n",
    "import seaborn as sns\n",
    "import matplotlib.pyplot as plt\n",
    "import pandas as pd\n",
    "\n",
    "# Reduce dimensionality using only GIANA embeddings\n",
    "umap_giana = umap.UMAP(n_components=2).fit_transform(GIANA_embeddings)\n",
    "\n",
    "# Create dataframe for UMAP representation\n",
    "df_umap = pd.DataFrame(umap_giana, columns=[\"UMAP1\", \"UMAP2\"])\n",
    "df_umap[\"DTCRU_Cluster\"] = pd.Categorical(DTCRU_clusters)  # DTCRU clusters\n",
    "df_umap[\"GIANA_Cluster\"] = pd.Categorical(GIANA_clusters)  # GIANA clusters\n",
    "\n",
    "# Set up a 3x1 subplot (3 plots)\n",
    "fig, axes = plt.subplots(2, 1, figsize=(6, 15))\n",
    "titles = [\"DTCRU Clusters (UMAP GIANA)\", \"GIANA Clusters (UMAP GIANA)\"]\n",
    "\n",
    "# Define color palettes\n",
    "dtcru_palette = sns.color_palette(\"tab10\", len(df_umap[\"DTCRU_Cluster\"].unique()))\n",
    "giana_palette = sns.color_palette(\"tab10\", len(df_umap[\"GIANA_Cluster\"].unique()))\n",
    "\n",
    "# Plot 1: DTCRU Clusters using GIANA UMAP\n",
    "sns.scatterplot(data=df_umap, x=\"UMAP1\", y=\"UMAP2\", hue=\"DTCRU_Cluster\", palette=dtcru_palette, alpha=0.6, s=5, ax=axes[0])\n",
    "axes[0].set_title(titles[0])\n",
    "axes[0].legend_.remove()\n",
    "\n",
    "# Plot 2: GIANA Clusters using GIANA UMAP\n",
    "sns.scatterplot(data=df_umap, x=\"UMAP1\", y=\"UMAP2\", hue=\"GIANA_Cluster\", palette=giana_palette, alpha=0.6, s=5, ax=axes[1])\n",
    "axes[1].set_title(titles[1])\n",
    "axes[1].legend_.remove()\n",
    "\n",
    "plt.tight_layout()\n",
    "plt.show()\n",
    "\n"
   ]
  },
  {
   "cell_type": "code",
   "execution_count": null,
   "id": "f18aefa8-52ff-496c-bc14-39e2f29adadb",
   "metadata": {},
   "outputs": [],
   "source": [
    "import pandas as pd\n",
    "import seaborn as sns\n",
    "import matplotlib.pyplot as plt\n",
    "\n",
    "# Create pairwise contingency tables\n",
    "contingency_DG = pd.crosstab(DTCRU_clusters, GIANA_clusters)\n",
    "\n",
    "# Function to plot heatmap\n",
    "def plot_heatmap(contingency_table, xlabel, ylabel, title):\n",
    "    plt.figure(figsize=(6, 5))\n",
    "    sns.heatmap(contingency_table, annot=True, fmt=\"d\", cmap=\"Blues\", linewidths=0.5)\n",
    "    plt.xlabel(xlabel)\n",
    "    plt.ylabel(ylabel)\n",
    "    plt.title(title)\n",
    "    plt.show()\n",
    "\n",
    "# Plot each heatmap\n",
    "plot_heatmap(contingency_DG, \"GIANA Clusters\", \"DeepTCR Clusters\", \"DeepTCR vs GIANA Clusters\")\n"
   ]
  },
  {
   "cell_type": "code",
   "execution_count": null,
   "id": "d39c2fd9-575b-4913-bfe0-1c1a6e6b8b26",
   "metadata": {},
   "outputs": [],
   "source": []
  }
 ],
 "metadata": {
  "kernelspec": {
   "display_name": "Python 3 (ipykernel)",
   "language": "python",
   "name": "python3"
  },
  "language_info": {
   "codemirror_mode": {
    "name": "ipython",
    "version": 3
   },
   "file_extension": ".py",
   "mimetype": "text/x-python",
   "name": "python",
   "nbconvert_exporter": "python",
   "pygments_lexer": "ipython3",
   "version": "3.13.5"
  }
 },
 "nbformat": 4,
 "nbformat_minor": 5
}
