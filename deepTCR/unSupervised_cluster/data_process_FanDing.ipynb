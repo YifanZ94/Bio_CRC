{
 "cells": [
  {
   "cell_type": "markdown",
   "id": "3770d8ac-35b5-4c84-9e1d-c92e722b16dd",
   "metadata": {},
   "source": [
    "## data process"
   ]
  },
  {
   "cell_type": "code",
   "execution_count": 23,
   "id": "44e3cebd-5052-49c6-aee9-8bad749732d7",
   "metadata": {
    "tags": []
   },
   "outputs": [],
   "source": [
    "import pandas as pd\n",
    "import os\n",
    "\n",
    "base_path = \"/ihome/ylee/yiz133/Code/Scirpy/scripy/data\"\n",
    "cns_path = f\"{base_path}/0516_CNS_filtered_contig_annotations.csv\"\n",
    "spleen_path= f\"{base_path}/0516_SPL_filtered_contig_annotations.csv\"\n",
    "\n",
    "# Strict filtering for the TCRs based on scirpy analysis\n",
    "filtered_meta = pd.read_csv(f\"{base_path}/strict_filtered_meta.csv\")\n",
    "barcodes_set = set(filtered_meta.iloc[:,0])\n",
    "cns_0605_ids = {b.split(\"_\")[0] for b in barcodes_set if \"CNS\" in b}\n",
    "spleen_0605_ids = {b.split(\"_\")[0] for b in barcodes_set if \"SPL\" in b}\n",
    "\n",
    "\n",
    "# Define output directories\n",
    "output_dir = \"/ihome/ylee/yiz133/Code/deepTCR/unSupervised_cluster/processed_data_0516\"\n",
    "cns_dir = os.path.join(output_dir, \"CNS\")\n",
    "spleen_dir = os.path.join(output_dir, \"Spleen\")\n",
    "\n",
    "# Create folders if they don't exist\n",
    "os.makedirs(cns_dir, exist_ok=True)\n",
    "os.makedirs(spleen_dir, exist_ok=True)\n",
    "\n",
    "# Function to filter for high-confidence, productive TCR Beta (TRB) chains\n",
    "def strict_filter_tcr_beta(df, ids, sample):\n",
    "    df[\"barcode\"] = df[\"barcode\"] + sample\n",
    "    df = df[\n",
    "        (df[\"high_confidence\"] == True) &\n",
    "        (df[\"productive\"] == True) &\n",
    "        (df[\"chain\"] == \"TRB\")\n",
    "    ][[\"cdr3\", \"v_gene\",\"j_gene\", \"barcode\"]].dropna()\n",
    "\n",
    "    # Remove multiple V-Beta/J-Beta notations (keep only the first one if multiple exist)\n",
    "    df[\"v_gene\"] = df[\"v_gene\"].apply(lambda x: x.split(\"+\")[0] if \"+\" in x else x)\n",
    "    df[\"j_gene\"] = df[\"j_gene\"].apply(lambda x: x.split(\"+\")[0] if \"+\" in x else x)\n",
    "\n",
    "    return df\n",
    "\n",
    "# Apply filtering\n",
    "cns_filtered = strict_filter_tcr_beta(pd.read_csv(cns_path), cns_0605_ids, '_0605_CNS')\n",
    "spleen_filtered = strict_filter_tcr_beta(pd.read_csv(spleen_path), spleen_0605_ids, '_0605_SPL')"
   ]
  },
  {
   "cell_type": "code",
   "execution_count": 24,
   "id": "143ee26f-24f6-4a6a-9750-9968a5812b25",
   "metadata": {
    "tags": []
   },
   "outputs": [
    {
     "name": "stderr",
     "output_type": "stream",
     "text": [
      "/scratch/slurm-6011815/ipykernel_30046/1037160698.py:13: DeprecationWarning: DataFrameGroupBy.apply operated on the grouping columns. This behavior is deprecated, and in a future version of pandas the grouping columns will be excluded from the operation. Either pass `include_groups=False` to exclude the groupings or explicitly select the grouping columns after groupby to silence this warning.\n",
      "  cns_final = cns_filtered.groupby(\"cdr3\").apply(resolve_vj_conflicts).reset_index()\n"
     ]
    },
    {
     "name": "stdout",
     "output_type": "stream",
     "text": [
      "Saved CNS sequences to: /ihome/ylee/yiz133/Code/deepTCR/unSupervised_cluster/processed_data_0516/CNS/CNS.tsv\n",
      "Saved Spleen sequences to: /ihome/ylee/yiz133/Code/deepTCR/unSupervised_cluster/processed_data_0516/Spleen/Spleen.tsv\n"
     ]
    },
    {
     "name": "stderr",
     "output_type": "stream",
     "text": [
      "/scratch/slurm-6011815/ipykernel_30046/1037160698.py:14: DeprecationWarning: DataFrameGroupBy.apply operated on the grouping columns. This behavior is deprecated, and in a future version of pandas the grouping columns will be excluded from the operation. Either pass `include_groups=False` to exclude the groupings or explicitly select the grouping columns after groupby to silence this warning.\n",
      "  spleen_final = spleen_filtered.groupby(\"cdr3\").apply(resolve_vj_conflicts).reset_index()\n"
     ]
    }
   ],
   "source": [
    "# Add count column (each row initially counts as 1)\n",
    "cns_filtered[\"count\"] = 1\n",
    "spleen_filtered[\"count\"] = 1\n",
    "\n",
    "# Resolve V-Beta/J-Beta conflicts by selecting the most common one per CDR3\n",
    "def resolve_vj_conflicts(group):\n",
    "    v_gene = group[\"v_gene\"].value_counts().idxmax() if len(group[\"v_gene\"].unique()) > 1 else group[\"v_gene\"].iloc[0]\n",
    "    j_gene = group[\"j_gene\"].value_counts().idxmax() if len(group[\"j_gene\"].unique()) > 1 else group[\"j_gene\"].iloc[0]\n",
    "    count = group[\"count\"].sum()  # Sum counts for duplicate CDR3s\n",
    "    return pd.Series([count, v_gene, j_gene], index=[\"count\", \"v_gene\", \"j_gene\"])\n",
    "\n",
    "# Process CNS and Spleen separately\n",
    "cns_final = cns_filtered.groupby(\"cdr3\").apply(resolve_vj_conflicts).reset_index()\n",
    "spleen_final = spleen_filtered.groupby(\"cdr3\").apply(resolve_vj_conflicts).reset_index()\n",
    "\n",
    "# Reorder columns to match format: beta, counts, v_beta, j_beta\n",
    "cns_final = cns_final[[\"cdr3\", \"count\", \"v_gene\", \"j_gene\"]]\n",
    "spleen_final = spleen_final[[\"cdr3\", \"count\", \"v_gene\", \"j_gene\"]]\n",
    "\n",
    "# Save CNS and Spleen data separately\n",
    "cns_output_file = os.path.join(cns_dir, \"CNS.tsv\")\n",
    "spleen_output_file = os.path.join(spleen_dir, \"Spleen.tsv\")\n",
    "\n",
    "# Ensure headers are included\n",
    "cns_final.to_csv(cns_output_file, sep=\"\\t\", index=False, header=[\"beta\", \"counts\", \"v_beta\", \"j_beta\"])\n",
    "spleen_final.to_csv(spleen_output_file, sep=\"\\t\", index=False, header=[\"beta\", \"counts\", \"v_beta\", \"j_beta\"])\n",
    "\n",
    "print(f\"Saved CNS sequences to: {cns_output_file}\")\n",
    "print(f\"Saved Spleen sequences to: {spleen_output_file}\")"
   ]
  },
  {
   "cell_type": "markdown",
   "id": "5ad9a57c-7875-4ab0-a954-7e13eccb48c7",
   "metadata": {},
   "source": [
    "# 0516"
   ]
  },
  {
   "cell_type": "code",
   "execution_count": 25,
   "id": "b26485cf-885c-4ac5-8782-ad94b79fbd35",
   "metadata": {
    "tags": []
   },
   "outputs": [],
   "source": [
    "import pandas as pd\n",
    "import os\n",
    "\n",
    "base_path = \"/ihome/ylee/yiz133/Code/Scirpy/scripy/data\"\n",
    "cns_path = f\"{base_path}/0516_CNS_filtered_contig_annotations.csv\"\n",
    "spleen_path= f\"{base_path}/0516_SPL_filtered_contig_annotations.csv\"\n",
    "\n",
    "cns_raw = pd.read_csv(cns_path)\n",
    "spl_raw = pd.read_csv(spleen_path)"
   ]
  },
  {
   "cell_type": "code",
   "execution_count": 26,
   "id": "ceb87f61-637b-42f9-8b68-612ff0a830a3",
   "metadata": {
    "tags": []
   },
   "outputs": [],
   "source": [
    "# Define output directories\n",
    "output_dir = \"/ihome/ylee/yiz133/Code/deepTCR/unSupervised_cluster/processed_data_0516\"\n",
    "cns_dir = os.path.join(output_dir, \"CNS\")\n",
    "spleen_dir = os.path.join(output_dir, \"Spleen\")\n",
    "\n",
    "# Create folders if they don't exist\n",
    "os.makedirs(cns_dir, exist_ok=True)\n",
    "os.makedirs(spleen_dir, exist_ok=True)\n",
    "\n",
    "# Function to filter for high-confidence, productive TCR Beta (TRB) chains\n",
    "def strict_filter_tcr_beta(df, sample):\n",
    "    df[\"barcode\"] = df[\"barcode\"] + sample\n",
    "    df = df[\n",
    "        (df[\"high_confidence\"] == True) &\n",
    "        (df[\"productive\"] == True) &\n",
    "        (df[\"chain\"] == \"TRB\")\n",
    "    ][[\"cdr3\", \"v_gene\",\"j_gene\", \"barcode\"]].dropna()\n",
    "\n",
    "    # Remove multiple V-Beta/J-Beta notations (keep only the first one if multiple exist)\n",
    "    df[\"v_gene\"] = df[\"v_gene\"].apply(lambda x: x.split(\"+\")[0] if \"+\" in x else x)\n",
    "    df[\"j_gene\"] = df[\"j_gene\"].apply(lambda x: x.split(\"+\")[0] if \"+\" in x else x)\n",
    "\n",
    "    return df\n",
    "\n",
    "# Apply filtering\n",
    "cns_filtered = strict_filter_tcr_beta(cns_raw, \"_0516_CNS\")\n",
    "spleen_filtered = strict_filter_tcr_beta(spl_raw, \"_0516_SPL\")"
   ]
  },
  {
   "cell_type": "code",
   "execution_count": 27,
   "id": "25a581c2-dab5-4b4d-9dc4-863d6b0615fb",
   "metadata": {
    "tags": []
   },
   "outputs": [
    {
     "name": "stderr",
     "output_type": "stream",
     "text": [
      "/scratch/slurm-6011815/ipykernel_30046/2008921118.py:13: DeprecationWarning: DataFrameGroupBy.apply operated on the grouping columns. This behavior is deprecated, and in a future version of pandas the grouping columns will be excluded from the operation. Either pass `include_groups=False` to exclude the groupings or explicitly select the grouping columns after groupby to silence this warning.\n",
      "  cns_final = cns_filtered.groupby(\"cdr3\").apply(resolve_vj_conflicts).reset_index()\n",
      "/scratch/slurm-6011815/ipykernel_30046/2008921118.py:14: DeprecationWarning: DataFrameGroupBy.apply operated on the grouping columns. This behavior is deprecated, and in a future version of pandas the grouping columns will be excluded from the operation. Either pass `include_groups=False` to exclude the groupings or explicitly select the grouping columns after groupby to silence this warning.\n",
      "  spleen_final = spleen_filtered.groupby(\"cdr3\").apply(resolve_vj_conflicts).reset_index()\n"
     ]
    }
   ],
   "source": [
    "# Add count column (each row initially counts as 1)\n",
    "cns_filtered[\"count\"] = 1\n",
    "spleen_filtered[\"count\"] = 1\n",
    "\n",
    "# Resolve V-Beta/J-Beta conflicts by selecting the most common one per CDR3\n",
    "def resolve_vj_conflicts(group):\n",
    "    v_gene = group[\"v_gene\"].value_counts().idxmax() if len(group[\"v_gene\"].unique()) > 1 else group[\"v_gene\"].iloc[0]\n",
    "    j_gene = group[\"j_gene\"].value_counts().idxmax() if len(group[\"j_gene\"].unique()) > 1 else group[\"j_gene\"].iloc[0]\n",
    "    count = group[\"count\"].sum()  # Sum counts for duplicate CDR3s\n",
    "    return pd.Series([count, v_gene, j_gene], index=[\"count\", \"v_gene\", \"j_gene\"])\n",
    "\n",
    "# Process CNS and Spleen separately\n",
    "cns_final = cns_filtered.groupby(\"cdr3\").apply(resolve_vj_conflicts).reset_index()\n",
    "spleen_final = spleen_filtered.groupby(\"cdr3\").apply(resolve_vj_conflicts).reset_index()"
   ]
  },
  {
   "cell_type": "code",
   "execution_count": 28,
   "id": "fd0bc9b7-de40-451b-83a8-af09aefdd2eb",
   "metadata": {
    "tags": []
   },
   "outputs": [
    {
     "name": "stdout",
     "output_type": "stream",
     "text": [
      "Saved CNS sequences to: /ihome/ylee/yiz133/Code/deepTCR/unSupervised_cluster/processed_data_0516/CNS/CNS.tsv\n",
      "Saved Spleen sequences to: /ihome/ylee/yiz133/Code/deepTCR/unSupervised_cluster/processed_data_0516/Spleen/Spleen.tsv\n"
     ]
    }
   ],
   "source": [
    "# Reorder columns to match format: beta, counts, v_beta, j_beta\n",
    "cns_final = cns_final[[\"cdr3\", \"count\", \"v_gene\", \"j_gene\"]]\n",
    "spleen_final = spleen_final[[\"cdr3\", \"count\", \"v_gene\", \"j_gene\"]]\n",
    "\n",
    "# Save CNS and Spleen data separately\n",
    "cns_output_file = os.path.join(cns_dir, \"CNS.tsv\")\n",
    "spleen_output_file = os.path.join(spleen_dir, \"Spleen.tsv\")\n",
    "\n",
    "# Ensure headers are included\n",
    "cns_final.to_csv(cns_output_file, sep=\"\\t\", index=False, header=[\"beta\", \"counts\", \"v_beta\", \"j_beta\"])\n",
    "spleen_final.to_csv(spleen_output_file, sep=\"\\t\", index=False, header=[\"beta\", \"counts\", \"v_beta\", \"j_beta\"])\n",
    "\n",
    "print(f\"Saved CNS sequences to: {cns_output_file}\")\n",
    "print(f\"Saved Spleen sequences to: {spleen_output_file}\")"
   ]
  },
  {
   "cell_type": "code",
   "execution_count": null,
   "id": "7c3f1fe2-fd40-47ab-a7f3-c153236bedf8",
   "metadata": {},
   "outputs": [],
   "source": []
  }
 ],
 "metadata": {
  "kernelspec": {
   "display_name": "Python 3 (ipykernel)",
   "language": "python",
   "name": "python3"
  },
  "language_info": {
   "codemirror_mode": {
    "name": "ipython",
    "version": 3
   },
   "file_extension": ".py",
   "mimetype": "text/x-python",
   "name": "python",
   "nbconvert_exporter": "python",
   "pygments_lexer": "ipython3",
   "version": "3.11.5"
  }
 },
 "nbformat": 4,
 "nbformat_minor": 5
}
